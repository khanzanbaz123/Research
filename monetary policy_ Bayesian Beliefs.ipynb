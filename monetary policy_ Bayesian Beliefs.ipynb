{
 "cells": [
  {
   "cell_type": "code",
   "execution_count": 1,
   "id": "91ec28b9",
   "metadata": {},
   "outputs": [],
   "source": [
    "import numpy as np\n",
    "import pandas as pd\n",
    "%matplotlib inline\n",
    "import matplotlib\n",
    "import matplotlib.pyplot as plt\n"
   ]
  },
  {
   "cell_type": "code",
   "execution_count": 2,
   "id": "4aa29753",
   "metadata": {},
   "outputs": [
    {
     "data": {
      "text/html": [
       "<div>\n",
       "<style scoped>\n",
       "    .dataframe tbody tr th:only-of-type {\n",
       "        vertical-align: middle;\n",
       "    }\n",
       "\n",
       "    .dataframe tbody tr th {\n",
       "        vertical-align: top;\n",
       "    }\n",
       "\n",
       "    .dataframe thead th {\n",
       "        text-align: right;\n",
       "    }\n",
       "</style>\n",
       "<table border=\"1\" class=\"dataframe\">\n",
       "  <thead>\n",
       "    <tr style=\"text-align: right;\">\n",
       "      <th></th>\n",
       "      <th>Weighted average call rate</th>\n",
       "      <th>Bank credit</th>\n",
       "      <th>policy rate</th>\n",
       "      <th>real ER</th>\n",
       "      <th>asset price</th>\n",
       "      <th>GPR</th>\n",
       "      <th>CPI</th>\n",
       "      <th>gdp</th>\n",
       "      <th>investment</th>\n",
       "      <th>net export</th>\n",
       "    </tr>\n",
       "    <tr>\n",
       "      <th>Date</th>\n",
       "      <th></th>\n",
       "      <th></th>\n",
       "      <th></th>\n",
       "      <th></th>\n",
       "      <th></th>\n",
       "      <th></th>\n",
       "      <th></th>\n",
       "      <th></th>\n",
       "      <th></th>\n",
       "      <th></th>\n",
       "    </tr>\n",
       "  </thead>\n",
       "  <tbody>\n",
       "    <tr>\n",
       "      <th>2014-01-01</th>\n",
       "      <td>NaN</td>\n",
       "      <td>5.845459e+06</td>\n",
       "      <td>NaN</td>\n",
       "      <td>85.08</td>\n",
       "      <td>20943.422609</td>\n",
       "      <td>77.915970</td>\n",
       "      <td>NaN</td>\n",
       "      <td>2.358104e+06</td>\n",
       "      <td>2.229723e+06</td>\n",
       "      <td>-58691.2899</td>\n",
       "    </tr>\n",
       "    <tr>\n",
       "      <th>2014-02-01</th>\n",
       "      <td>NaN</td>\n",
       "      <td>5.933025e+06</td>\n",
       "      <td>NaN</td>\n",
       "      <td>84.60</td>\n",
       "      <td>20521.340526</td>\n",
       "      <td>69.003525</td>\n",
       "      <td>NaN</td>\n",
       "      <td>2.367629e+06</td>\n",
       "      <td>2.237513e+06</td>\n",
       "      <td>-51726.1980</td>\n",
       "    </tr>\n",
       "    <tr>\n",
       "      <th>2014-03-01</th>\n",
       "      <td>NaN</td>\n",
       "      <td>5.994096e+06</td>\n",
       "      <td>NaN</td>\n",
       "      <td>86.50</td>\n",
       "      <td>21815.714762</td>\n",
       "      <td>119.838554</td>\n",
       "      <td>NaN</td>\n",
       "      <td>2.377154e+06</td>\n",
       "      <td>2.212821e+06</td>\n",
       "      <td>-66830.9011</td>\n",
       "    </tr>\n",
       "    <tr>\n",
       "      <th>2014-04-01</th>\n",
       "      <td>NaN</td>\n",
       "      <td>6.013472e+06</td>\n",
       "      <td>NaN</td>\n",
       "      <td>87.80</td>\n",
       "      <td>22569.499444</td>\n",
       "      <td>93.221542</td>\n",
       "      <td>NaN</td>\n",
       "      <td>2.377888e+06</td>\n",
       "      <td>2.265301e+06</td>\n",
       "      <td>-60164.0505</td>\n",
       "    </tr>\n",
       "    <tr>\n",
       "      <th>2014-05-01</th>\n",
       "      <td>NaN</td>\n",
       "      <td>6.041520e+06</td>\n",
       "      <td>NaN</td>\n",
       "      <td>89.63</td>\n",
       "      <td>23745.902857</td>\n",
       "      <td>83.428856</td>\n",
       "      <td>NaN</td>\n",
       "      <td>2.378622e+06</td>\n",
       "      <td>2.292490e+06</td>\n",
       "      <td>-65470.4493</td>\n",
       "    </tr>\n",
       "  </tbody>\n",
       "</table>\n",
       "</div>"
      ],
      "text/plain": [
       "            Weighted average call rate   Bank credit  policy rate  real ER  \\\n",
       "Date                                                                         \n",
       "2014-01-01                         NaN  5.845459e+06          NaN    85.08   \n",
       "2014-02-01                         NaN  5.933025e+06          NaN    84.60   \n",
       "2014-03-01                         NaN  5.994096e+06          NaN    86.50   \n",
       "2014-04-01                         NaN  6.013472e+06          NaN    87.80   \n",
       "2014-05-01                         NaN  6.041520e+06          NaN    89.63   \n",
       "\n",
       "             asset price         GPR  CPI           gdp    investment  \\\n",
       "Date                                                                    \n",
       "2014-01-01  20943.422609   77.915970  NaN  2.358104e+06  2.229723e+06   \n",
       "2014-02-01  20521.340526   69.003525  NaN  2.367629e+06  2.237513e+06   \n",
       "2014-03-01  21815.714762  119.838554  NaN  2.377154e+06  2.212821e+06   \n",
       "2014-04-01  22569.499444   93.221542  NaN  2.377888e+06  2.265301e+06   \n",
       "2014-05-01  23745.902857   83.428856  NaN  2.378622e+06  2.292490e+06   \n",
       "\n",
       "            net export  \n",
       "Date                    \n",
       "2014-01-01 -58691.2899  \n",
       "2014-02-01 -51726.1980  \n",
       "2014-03-01 -66830.9011  \n",
       "2014-04-01 -60164.0505  \n",
       "2014-05-01 -65470.4493  "
      ]
     },
     "execution_count": 2,
     "metadata": {},
     "output_type": "execute_result"
    }
   ],
   "source": [
    "df = pd.read_excel('nayasa.xlsx', parse_dates=['Date'], index_col='Date')\n",
    "df.head()"
   ]
  },
  {
   "cell_type": "code",
   "execution_count": 3,
   "id": "df5d9d6d",
   "metadata": {},
   "outputs": [
    {
     "data": {
      "text/html": [
       "<div>\n",
       "<style scoped>\n",
       "    .dataframe tbody tr th:only-of-type {\n",
       "        vertical-align: middle;\n",
       "    }\n",
       "\n",
       "    .dataframe tbody tr th {\n",
       "        vertical-align: top;\n",
       "    }\n",
       "\n",
       "    .dataframe thead th {\n",
       "        text-align: right;\n",
       "    }\n",
       "</style>\n",
       "<table border=\"1\" class=\"dataframe\">\n",
       "  <thead>\n",
       "    <tr style=\"text-align: right;\">\n",
       "      <th></th>\n",
       "      <th>Weighted average call rate</th>\n",
       "      <th>Bank credit</th>\n",
       "      <th>policy rate</th>\n",
       "      <th>real ER</th>\n",
       "      <th>asset price</th>\n",
       "      <th>GPR</th>\n",
       "      <th>CPI</th>\n",
       "      <th>gdp</th>\n",
       "      <th>investment</th>\n",
       "      <th>net export</th>\n",
       "    </tr>\n",
       "    <tr>\n",
       "      <th>Date</th>\n",
       "      <th></th>\n",
       "      <th></th>\n",
       "      <th></th>\n",
       "      <th></th>\n",
       "      <th></th>\n",
       "      <th></th>\n",
       "      <th></th>\n",
       "      <th></th>\n",
       "      <th></th>\n",
       "      <th></th>\n",
       "    </tr>\n",
       "  </thead>\n",
       "  <tbody>\n",
       "    <tr>\n",
       "      <th>2014-01-01</th>\n",
       "      <td>NaN</td>\n",
       "      <td>5.845459e+06</td>\n",
       "      <td>NaN</td>\n",
       "      <td>85.08</td>\n",
       "      <td>20943.422609</td>\n",
       "      <td>77.915970</td>\n",
       "      <td>NaN</td>\n",
       "      <td>2.358104e+06</td>\n",
       "      <td>2.229723e+06</td>\n",
       "      <td>-58691.2899</td>\n",
       "    </tr>\n",
       "    <tr>\n",
       "      <th>2014-02-01</th>\n",
       "      <td>NaN</td>\n",
       "      <td>5.933025e+06</td>\n",
       "      <td>NaN</td>\n",
       "      <td>84.60</td>\n",
       "      <td>20521.340526</td>\n",
       "      <td>69.003525</td>\n",
       "      <td>NaN</td>\n",
       "      <td>2.367629e+06</td>\n",
       "      <td>2.237513e+06</td>\n",
       "      <td>-51726.1980</td>\n",
       "    </tr>\n",
       "    <tr>\n",
       "      <th>2014-03-01</th>\n",
       "      <td>NaN</td>\n",
       "      <td>5.994096e+06</td>\n",
       "      <td>NaN</td>\n",
       "      <td>86.50</td>\n",
       "      <td>21815.714762</td>\n",
       "      <td>119.838554</td>\n",
       "      <td>NaN</td>\n",
       "      <td>2.377154e+06</td>\n",
       "      <td>2.212821e+06</td>\n",
       "      <td>-66830.9011</td>\n",
       "    </tr>\n",
       "    <tr>\n",
       "      <th>2014-04-01</th>\n",
       "      <td>NaN</td>\n",
       "      <td>6.013472e+06</td>\n",
       "      <td>NaN</td>\n",
       "      <td>87.80</td>\n",
       "      <td>22569.499444</td>\n",
       "      <td>93.221542</td>\n",
       "      <td>NaN</td>\n",
       "      <td>2.377888e+06</td>\n",
       "      <td>2.265301e+06</td>\n",
       "      <td>-60164.0505</td>\n",
       "    </tr>\n",
       "    <tr>\n",
       "      <th>2014-05-01</th>\n",
       "      <td>NaN</td>\n",
       "      <td>6.041520e+06</td>\n",
       "      <td>NaN</td>\n",
       "      <td>89.63</td>\n",
       "      <td>23745.902857</td>\n",
       "      <td>83.428856</td>\n",
       "      <td>NaN</td>\n",
       "      <td>2.378622e+06</td>\n",
       "      <td>2.292490e+06</td>\n",
       "      <td>-65470.4493</td>\n",
       "    </tr>\n",
       "  </tbody>\n",
       "</table>\n",
       "</div>"
      ],
      "text/plain": [
       "            Weighted average call rate   Bank credit  policy rate  real ER  \\\n",
       "Date                                                                         \n",
       "2014-01-01                         NaN  5.845459e+06          NaN    85.08   \n",
       "2014-02-01                         NaN  5.933025e+06          NaN    84.60   \n",
       "2014-03-01                         NaN  5.994096e+06          NaN    86.50   \n",
       "2014-04-01                         NaN  6.013472e+06          NaN    87.80   \n",
       "2014-05-01                         NaN  6.041520e+06          NaN    89.63   \n",
       "\n",
       "             asset price         GPR  CPI           gdp    investment  \\\n",
       "Date                                                                    \n",
       "2014-01-01  20943.422609   77.915970  NaN  2.358104e+06  2.229723e+06   \n",
       "2014-02-01  20521.340526   69.003525  NaN  2.367629e+06  2.237513e+06   \n",
       "2014-03-01  21815.714762  119.838554  NaN  2.377154e+06  2.212821e+06   \n",
       "2014-04-01  22569.499444   93.221542  NaN  2.377888e+06  2.265301e+06   \n",
       "2014-05-01  23745.902857   83.428856  NaN  2.378622e+06  2.292490e+06   \n",
       "\n",
       "            net export  \n",
       "Date                    \n",
       "2014-01-01 -58691.2899  \n",
       "2014-02-01 -51726.1980  \n",
       "2014-03-01 -66830.9011  \n",
       "2014-04-01 -60164.0505  \n",
       "2014-05-01 -65470.4493  "
      ]
     },
     "execution_count": 3,
     "metadata": {},
     "output_type": "execute_result"
    }
   ],
   "source": [
    "df1 = pd.read_excel('nayasa.xlsx',  parse_dates=['Date'], index_col='Date')\n",
    "df1.head()\n"
   ]
  },
  {
   "cell_type": "code",
   "execution_count": 4,
   "id": "1a498c6a",
   "metadata": {},
   "outputs": [],
   "source": [
    "df['creditgrowth'] = df['Bank credit'].pct_change(periods=12)*100\n",
    "df['assetgrowth'] = df['asset price'].pct_change(periods=12)*100\n",
    "df['gdpRate'] = df['gdp'].pct_change(periods=12)*100\n",
    "df['investmentRate'] = df['investment'].pct_change(periods=12)*100\n",
    "df['netexportRate'] = df['net export'].pct_change(periods=12)*100\n",
    "df['realErRate'] = df['real ER'].pct_change(periods=12)*100\n",
    "df['GPrRate'] = df['GPR'].pct_change(periods=12)*100\n"
   ]
  },
  {
   "cell_type": "code",
   "execution_count": 5,
   "id": "8d0804f4",
   "metadata": {},
   "outputs": [
    {
     "data": {
      "text/html": [
       "<div>\n",
       "<style scoped>\n",
       "    .dataframe tbody tr th:only-of-type {\n",
       "        vertical-align: middle;\n",
       "    }\n",
       "\n",
       "    .dataframe tbody tr th {\n",
       "        vertical-align: top;\n",
       "    }\n",
       "\n",
       "    .dataframe thead th {\n",
       "        text-align: right;\n",
       "    }\n",
       "</style>\n",
       "<table border=\"1\" class=\"dataframe\">\n",
       "  <thead>\n",
       "    <tr style=\"text-align: right;\">\n",
       "      <th></th>\n",
       "      <th>Weighted average call rate</th>\n",
       "      <th>Bank credit</th>\n",
       "      <th>policy rate</th>\n",
       "      <th>real ER</th>\n",
       "      <th>asset price</th>\n",
       "      <th>GPR</th>\n",
       "      <th>CPI</th>\n",
       "      <th>gdp</th>\n",
       "      <th>investment</th>\n",
       "      <th>net export</th>\n",
       "      <th>creditgrowth</th>\n",
       "      <th>assetgrowth</th>\n",
       "      <th>gdpRate</th>\n",
       "      <th>investmentRate</th>\n",
       "      <th>netexportRate</th>\n",
       "      <th>realErRate</th>\n",
       "      <th>GPrRate</th>\n",
       "    </tr>\n",
       "    <tr>\n",
       "      <th>Date</th>\n",
       "      <th></th>\n",
       "      <th></th>\n",
       "      <th></th>\n",
       "      <th></th>\n",
       "      <th></th>\n",
       "      <th></th>\n",
       "      <th></th>\n",
       "      <th></th>\n",
       "      <th></th>\n",
       "      <th></th>\n",
       "      <th></th>\n",
       "      <th></th>\n",
       "      <th></th>\n",
       "      <th></th>\n",
       "      <th></th>\n",
       "      <th></th>\n",
       "      <th></th>\n",
       "    </tr>\n",
       "  </thead>\n",
       "  <tbody>\n",
       "    <tr>\n",
       "      <th>2014-01-01</th>\n",
       "      <td>NaN</td>\n",
       "      <td>5.845459e+06</td>\n",
       "      <td>NaN</td>\n",
       "      <td>85.08</td>\n",
       "      <td>20943.422609</td>\n",
       "      <td>77.915970</td>\n",
       "      <td>NaN</td>\n",
       "      <td>2.358104e+06</td>\n",
       "      <td>2.229723e+06</td>\n",
       "      <td>-58691.2899</td>\n",
       "      <td>NaN</td>\n",
       "      <td>NaN</td>\n",
       "      <td>NaN</td>\n",
       "      <td>NaN</td>\n",
       "      <td>NaN</td>\n",
       "      <td>NaN</td>\n",
       "      <td>NaN</td>\n",
       "    </tr>\n",
       "    <tr>\n",
       "      <th>2014-02-01</th>\n",
       "      <td>NaN</td>\n",
       "      <td>5.933025e+06</td>\n",
       "      <td>NaN</td>\n",
       "      <td>84.60</td>\n",
       "      <td>20521.340526</td>\n",
       "      <td>69.003525</td>\n",
       "      <td>NaN</td>\n",
       "      <td>2.367629e+06</td>\n",
       "      <td>2.237513e+06</td>\n",
       "      <td>-51726.1980</td>\n",
       "      <td>NaN</td>\n",
       "      <td>NaN</td>\n",
       "      <td>NaN</td>\n",
       "      <td>NaN</td>\n",
       "      <td>NaN</td>\n",
       "      <td>NaN</td>\n",
       "      <td>NaN</td>\n",
       "    </tr>\n",
       "    <tr>\n",
       "      <th>2014-03-01</th>\n",
       "      <td>NaN</td>\n",
       "      <td>5.994096e+06</td>\n",
       "      <td>NaN</td>\n",
       "      <td>86.50</td>\n",
       "      <td>21815.714762</td>\n",
       "      <td>119.838554</td>\n",
       "      <td>NaN</td>\n",
       "      <td>2.377154e+06</td>\n",
       "      <td>2.212821e+06</td>\n",
       "      <td>-66830.9011</td>\n",
       "      <td>NaN</td>\n",
       "      <td>NaN</td>\n",
       "      <td>NaN</td>\n",
       "      <td>NaN</td>\n",
       "      <td>NaN</td>\n",
       "      <td>NaN</td>\n",
       "      <td>NaN</td>\n",
       "    </tr>\n",
       "    <tr>\n",
       "      <th>2014-04-01</th>\n",
       "      <td>NaN</td>\n",
       "      <td>6.013472e+06</td>\n",
       "      <td>NaN</td>\n",
       "      <td>87.80</td>\n",
       "      <td>22569.499444</td>\n",
       "      <td>93.221542</td>\n",
       "      <td>NaN</td>\n",
       "      <td>2.377888e+06</td>\n",
       "      <td>2.265301e+06</td>\n",
       "      <td>-60164.0505</td>\n",
       "      <td>NaN</td>\n",
       "      <td>NaN</td>\n",
       "      <td>NaN</td>\n",
       "      <td>NaN</td>\n",
       "      <td>NaN</td>\n",
       "      <td>NaN</td>\n",
       "      <td>NaN</td>\n",
       "    </tr>\n",
       "    <tr>\n",
       "      <th>2014-05-01</th>\n",
       "      <td>NaN</td>\n",
       "      <td>6.041520e+06</td>\n",
       "      <td>NaN</td>\n",
       "      <td>89.63</td>\n",
       "      <td>23745.902857</td>\n",
       "      <td>83.428856</td>\n",
       "      <td>NaN</td>\n",
       "      <td>2.378622e+06</td>\n",
       "      <td>2.292490e+06</td>\n",
       "      <td>-65470.4493</td>\n",
       "      <td>NaN</td>\n",
       "      <td>NaN</td>\n",
       "      <td>NaN</td>\n",
       "      <td>NaN</td>\n",
       "      <td>NaN</td>\n",
       "      <td>NaN</td>\n",
       "      <td>NaN</td>\n",
       "    </tr>\n",
       "    <tr>\n",
       "      <th>...</th>\n",
       "      <td>...</td>\n",
       "      <td>...</td>\n",
       "      <td>...</td>\n",
       "      <td>...</td>\n",
       "      <td>...</td>\n",
       "      <td>...</td>\n",
       "      <td>...</td>\n",
       "      <td>...</td>\n",
       "      <td>...</td>\n",
       "      <td>...</td>\n",
       "      <td>...</td>\n",
       "      <td>...</td>\n",
       "      <td>...</td>\n",
       "      <td>...</td>\n",
       "      <td>...</td>\n",
       "      <td>...</td>\n",
       "      <td>...</td>\n",
       "    </tr>\n",
       "    <tr>\n",
       "      <th>2022-05-01</th>\n",
       "      <td>4.09</td>\n",
       "      <td>1.206273e+07</td>\n",
       "      <td>4.0</td>\n",
       "      <td>101.92</td>\n",
       "      <td>54436.664286</td>\n",
       "      <td>144.668686</td>\n",
       "      <td>7.00</td>\n",
       "      <td>3.545392e+06</td>\n",
       "      <td>4.830428e+06</td>\n",
       "      <td>-171060.7172</td>\n",
       "      <td>11.434577</td>\n",
       "      <td>9.260339</td>\n",
       "      <td>7.556655</td>\n",
       "      <td>5.953723</td>\n",
       "      <td>257.230231</td>\n",
       "      <td>2.154956</td>\n",
       "      <td>53.870849</td>\n",
       "    </tr>\n",
       "    <tr>\n",
       "      <th>2022-06-01</th>\n",
       "      <td>4.61</td>\n",
       "      <td>1.219043e+07</td>\n",
       "      <td>4.4</td>\n",
       "      <td>100.98</td>\n",
       "      <td>53478.910455</td>\n",
       "      <td>134.895386</td>\n",
       "      <td>7.00</td>\n",
       "      <td>3.566493e+06</td>\n",
       "      <td>4.887253e+06</td>\n",
       "      <td>-172974.6498</td>\n",
       "      <td>12.252593</td>\n",
       "      <td>2.059575</td>\n",
       "      <td>5.476540</td>\n",
       "      <td>6.218518</td>\n",
       "      <td>144.816840</td>\n",
       "      <td>1.212789</td>\n",
       "      <td>78.489217</td>\n",
       "    </tr>\n",
       "    <tr>\n",
       "      <th>2022-07-01</th>\n",
       "      <td>5.04</td>\n",
       "      <td>1.236935e+07</td>\n",
       "      <td>4.9</td>\n",
       "      <td>100.88</td>\n",
       "      <td>54684.799524</td>\n",
       "      <td>118.993240</td>\n",
       "      <td>6.70</td>\n",
       "      <td>3.616686e+06</td>\n",
       "      <td>5.014297e+06</td>\n",
       "      <td>-202223.5373</td>\n",
       "      <td>13.370371</td>\n",
       "      <td>3.777542</td>\n",
       "      <td>5.175652</td>\n",
       "      <td>7.969297</td>\n",
       "      <td>155.161415</td>\n",
       "      <td>0.799361</td>\n",
       "      <td>96.353160</td>\n",
       "    </tr>\n",
       "    <tr>\n",
       "      <th>2022-08-01</th>\n",
       "      <td>5.10</td>\n",
       "      <td>1.245866e+07</td>\n",
       "      <td>4.9</td>\n",
       "      <td>101.44</td>\n",
       "      <td>58990.511500</td>\n",
       "      <td>135.054550</td>\n",
       "      <td>7.00</td>\n",
       "      <td>3.666880e+06</td>\n",
       "      <td>5.067259e+06</td>\n",
       "      <td>-197886.9510</td>\n",
       "      <td>14.324775</td>\n",
       "      <td>6.810562</td>\n",
       "      <td>4.884643</td>\n",
       "      <td>10.318976</td>\n",
       "      <td>127.754769</td>\n",
       "      <td>0.624938</td>\n",
       "      <td>49.053229</td>\n",
       "    </tr>\n",
       "    <tr>\n",
       "      <th>2022-09-01</th>\n",
       "      <td>5.52</td>\n",
       "      <td>1.304179e+07</td>\n",
       "      <td>5.4</td>\n",
       "      <td>103.03</td>\n",
       "      <td>58843.428636</td>\n",
       "      <td>133.977829</td>\n",
       "      <td>7.41</td>\n",
       "      <td>3.717073e+06</td>\n",
       "      <td>5.070727e+06</td>\n",
       "      <td>-224972.2142</td>\n",
       "      <td>19.029013</td>\n",
       "      <td>0.106287</td>\n",
       "      <td>4.603035</td>\n",
       "      <td>8.736452</td>\n",
       "      <td>36.090877</td>\n",
       "      <td>1.687722</td>\n",
       "      <td>64.119406</td>\n",
       "    </tr>\n",
       "  </tbody>\n",
       "</table>\n",
       "<p>105 rows × 17 columns</p>\n",
       "</div>"
      ],
      "text/plain": [
       "            Weighted average call rate   Bank credit  policy rate  real ER  \\\n",
       "Date                                                                         \n",
       "2014-01-01                         NaN  5.845459e+06          NaN    85.08   \n",
       "2014-02-01                         NaN  5.933025e+06          NaN    84.60   \n",
       "2014-03-01                         NaN  5.994096e+06          NaN    86.50   \n",
       "2014-04-01                         NaN  6.013472e+06          NaN    87.80   \n",
       "2014-05-01                         NaN  6.041520e+06          NaN    89.63   \n",
       "...                                ...           ...          ...      ...   \n",
       "2022-05-01                        4.09  1.206273e+07          4.0   101.92   \n",
       "2022-06-01                        4.61  1.219043e+07          4.4   100.98   \n",
       "2022-07-01                        5.04  1.236935e+07          4.9   100.88   \n",
       "2022-08-01                        5.10  1.245866e+07          4.9   101.44   \n",
       "2022-09-01                        5.52  1.304179e+07          5.4   103.03   \n",
       "\n",
       "             asset price         GPR   CPI           gdp    investment  \\\n",
       "Date                                                                     \n",
       "2014-01-01  20943.422609   77.915970   NaN  2.358104e+06  2.229723e+06   \n",
       "2014-02-01  20521.340526   69.003525   NaN  2.367629e+06  2.237513e+06   \n",
       "2014-03-01  21815.714762  119.838554   NaN  2.377154e+06  2.212821e+06   \n",
       "2014-04-01  22569.499444   93.221542   NaN  2.377888e+06  2.265301e+06   \n",
       "2014-05-01  23745.902857   83.428856   NaN  2.378622e+06  2.292490e+06   \n",
       "...                  ...         ...   ...           ...           ...   \n",
       "2022-05-01  54436.664286  144.668686  7.00  3.545392e+06  4.830428e+06   \n",
       "2022-06-01  53478.910455  134.895386  7.00  3.566493e+06  4.887253e+06   \n",
       "2022-07-01  54684.799524  118.993240  6.70  3.616686e+06  5.014297e+06   \n",
       "2022-08-01  58990.511500  135.054550  7.00  3.666880e+06  5.067259e+06   \n",
       "2022-09-01  58843.428636  133.977829  7.41  3.717073e+06  5.070727e+06   \n",
       "\n",
       "             net export  creditgrowth  assetgrowth   gdpRate  investmentRate  \\\n",
       "Date                                                                           \n",
       "2014-01-01  -58691.2899           NaN          NaN       NaN             NaN   \n",
       "2014-02-01  -51726.1980           NaN          NaN       NaN             NaN   \n",
       "2014-03-01  -66830.9011           NaN          NaN       NaN             NaN   \n",
       "2014-04-01  -60164.0505           NaN          NaN       NaN             NaN   \n",
       "2014-05-01  -65470.4493           NaN          NaN       NaN             NaN   \n",
       "...                 ...           ...          ...       ...             ...   \n",
       "2022-05-01 -171060.7172     11.434577     9.260339  7.556655        5.953723   \n",
       "2022-06-01 -172974.6498     12.252593     2.059575  5.476540        6.218518   \n",
       "2022-07-01 -202223.5373     13.370371     3.777542  5.175652        7.969297   \n",
       "2022-08-01 -197886.9510     14.324775     6.810562  4.884643       10.318976   \n",
       "2022-09-01 -224972.2142     19.029013     0.106287  4.603035        8.736452   \n",
       "\n",
       "            netexportRate  realErRate    GPrRate  \n",
       "Date                                              \n",
       "2014-01-01            NaN         NaN        NaN  \n",
       "2014-02-01            NaN         NaN        NaN  \n",
       "2014-03-01            NaN         NaN        NaN  \n",
       "2014-04-01            NaN         NaN        NaN  \n",
       "2014-05-01            NaN         NaN        NaN  \n",
       "...                   ...         ...        ...  \n",
       "2022-05-01     257.230231    2.154956  53.870849  \n",
       "2022-06-01     144.816840    1.212789  78.489217  \n",
       "2022-07-01     155.161415    0.799361  96.353160  \n",
       "2022-08-01     127.754769    0.624938  49.053229  \n",
       "2022-09-01      36.090877    1.687722  64.119406  \n",
       "\n",
       "[105 rows x 17 columns]"
      ]
     },
     "execution_count": 5,
     "metadata": {},
     "output_type": "execute_result"
    }
   ],
   "source": [
    "df"
   ]
  },
  {
   "cell_type": "code",
   "execution_count": 6,
   "id": "b6e184e9",
   "metadata": {},
   "outputs": [
    {
     "data": {
      "text/plain": [
       "DatetimeIndex(['2014-01-01', '2014-02-01', '2014-03-01', '2014-04-01',\n",
       "               '2014-05-01', '2014-06-01', '2014-07-01', '2014-08-01',\n",
       "               '2014-09-01', '2014-10-01', '2014-11-01', '2014-12-01'],\n",
       "              dtype='datetime64[ns]', name='Date', freq=None)"
      ]
     },
     "execution_count": 6,
     "metadata": {},
     "output_type": "execute_result"
    }
   ],
   "source": [
    "df.index[0:12]"
   ]
  },
  {
   "cell_type": "code",
   "execution_count": 7,
   "id": "8e9f5043",
   "metadata": {},
   "outputs": [],
   "source": [
    "df = df.drop(df.index[0:12])"
   ]
  },
  {
   "cell_type": "code",
   "execution_count": 8,
   "id": "b90a8281",
   "metadata": {},
   "outputs": [
    {
     "data": {
      "text/html": [
       "<div>\n",
       "<style scoped>\n",
       "    .dataframe tbody tr th:only-of-type {\n",
       "        vertical-align: middle;\n",
       "    }\n",
       "\n",
       "    .dataframe tbody tr th {\n",
       "        vertical-align: top;\n",
       "    }\n",
       "\n",
       "    .dataframe thead th {\n",
       "        text-align: right;\n",
       "    }\n",
       "</style>\n",
       "<table border=\"1\" class=\"dataframe\">\n",
       "  <thead>\n",
       "    <tr style=\"text-align: right;\">\n",
       "      <th></th>\n",
       "      <th>Weighted average call rate</th>\n",
       "      <th>Bank credit</th>\n",
       "      <th>policy rate</th>\n",
       "      <th>real ER</th>\n",
       "      <th>asset price</th>\n",
       "      <th>GPR</th>\n",
       "      <th>CPI</th>\n",
       "      <th>gdp</th>\n",
       "      <th>investment</th>\n",
       "      <th>net export</th>\n",
       "      <th>creditgrowth</th>\n",
       "      <th>assetgrowth</th>\n",
       "      <th>gdpRate</th>\n",
       "      <th>investmentRate</th>\n",
       "      <th>netexportRate</th>\n",
       "      <th>realErRate</th>\n",
       "      <th>GPrRate</th>\n",
       "    </tr>\n",
       "    <tr>\n",
       "      <th>Date</th>\n",
       "      <th></th>\n",
       "      <th></th>\n",
       "      <th></th>\n",
       "      <th></th>\n",
       "      <th></th>\n",
       "      <th></th>\n",
       "      <th></th>\n",
       "      <th></th>\n",
       "      <th></th>\n",
       "      <th></th>\n",
       "      <th></th>\n",
       "      <th></th>\n",
       "      <th></th>\n",
       "      <th></th>\n",
       "      <th></th>\n",
       "      <th></th>\n",
       "      <th></th>\n",
       "    </tr>\n",
       "  </thead>\n",
       "  <tbody>\n",
       "    <tr>\n",
       "      <th>2015-01-01</th>\n",
       "      <td>7.89</td>\n",
       "      <td>6.386975e+06</td>\n",
       "      <td>7.75</td>\n",
       "      <td>95.19</td>\n",
       "      <td>28220.840000</td>\n",
       "      <td>111.985695</td>\n",
       "      <td>5.19</td>\n",
       "      <td>2.519138e+06</td>\n",
       "      <td>2.517254e+06</td>\n",
       "      <td>-48848.5864</td>\n",
       "      <td>9.263881</td>\n",
       "      <td>34.747985</td>\n",
       "      <td>6.828965</td>\n",
       "      <td>12.895370</td>\n",
       "      <td>-16.770297</td>\n",
       "      <td>11.882934</td>\n",
       "      <td>43.726241</td>\n",
       "    </tr>\n",
       "    <tr>\n",
       "      <th>2015-02-01</th>\n",
       "      <td>7.69</td>\n",
       "      <td>6.459716e+06</td>\n",
       "      <td>7.75</td>\n",
       "      <td>95.83</td>\n",
       "      <td>28952.860000</td>\n",
       "      <td>111.924698</td>\n",
       "      <td>5.37</td>\n",
       "      <td>2.539665e+06</td>\n",
       "      <td>2.531919e+06</td>\n",
       "      <td>-41672.7243</td>\n",
       "      <td>8.877285</td>\n",
       "      <td>41.086592</td>\n",
       "      <td>7.266157</td>\n",
       "      <td>13.157726</td>\n",
       "      <td>-19.435942</td>\n",
       "      <td>13.274232</td>\n",
       "      <td>62.201421</td>\n",
       "    </tr>\n",
       "    <tr>\n",
       "      <th>2015-03-01</th>\n",
       "      <td>7.58</td>\n",
       "      <td>6.536420e+06</td>\n",
       "      <td>7.50</td>\n",
       "      <td>96.65</td>\n",
       "      <td>28541.530000</td>\n",
       "      <td>104.235268</td>\n",
       "      <td>5.25</td>\n",
       "      <td>2.560191e+06</td>\n",
       "      <td>2.491825e+06</td>\n",
       "      <td>-71158.6891</td>\n",
       "      <td>9.047648</td>\n",
       "      <td>30.830139</td>\n",
       "      <td>7.699845</td>\n",
       "      <td>12.608527</td>\n",
       "      <td>6.475729</td>\n",
       "      <td>11.734104</td>\n",
       "      <td>-13.020256</td>\n",
       "    </tr>\n",
       "    <tr>\n",
       "      <th>2015-04-01</th>\n",
       "      <td>7.44</td>\n",
       "      <td>6.573263e+06</td>\n",
       "      <td>7.50</td>\n",
       "      <td>95.98</td>\n",
       "      <td>28112.723684</td>\n",
       "      <td>102.190491</td>\n",
       "      <td>4.87</td>\n",
       "      <td>2.566202e+06</td>\n",
       "      <td>2.567846e+06</td>\n",
       "      <td>-71345.9417</td>\n",
       "      <td>9.308951</td>\n",
       "      <td>24.560688</td>\n",
       "      <td>7.919402</td>\n",
       "      <td>13.355643</td>\n",
       "      <td>18.585669</td>\n",
       "      <td>9.316629</td>\n",
       "      <td>9.621111</td>\n",
       "    </tr>\n",
       "    <tr>\n",
       "      <th>2015-05-01</th>\n",
       "      <td>7.47</td>\n",
       "      <td>6.606344e+06</td>\n",
       "      <td>7.50</td>\n",
       "      <td>94.11</td>\n",
       "      <td>27426.526500</td>\n",
       "      <td>76.262329</td>\n",
       "      <td>5.01</td>\n",
       "      <td>2.572214e+06</td>\n",
       "      <td>2.610405e+06</td>\n",
       "      <td>-65769.6688</td>\n",
       "      <td>9.349022</td>\n",
       "      <td>15.500037</td>\n",
       "      <td>8.138824</td>\n",
       "      <td>13.867700</td>\n",
       "      <td>0.457030</td>\n",
       "      <td>4.998326</td>\n",
       "      <td>-8.589986</td>\n",
       "    </tr>\n",
       "    <tr>\n",
       "      <th>...</th>\n",
       "      <td>...</td>\n",
       "      <td>...</td>\n",
       "      <td>...</td>\n",
       "      <td>...</td>\n",
       "      <td>...</td>\n",
       "      <td>...</td>\n",
       "      <td>...</td>\n",
       "      <td>...</td>\n",
       "      <td>...</td>\n",
       "      <td>...</td>\n",
       "      <td>...</td>\n",
       "      <td>...</td>\n",
       "      <td>...</td>\n",
       "      <td>...</td>\n",
       "      <td>...</td>\n",
       "      <td>...</td>\n",
       "      <td>...</td>\n",
       "    </tr>\n",
       "    <tr>\n",
       "      <th>2022-05-01</th>\n",
       "      <td>4.09</td>\n",
       "      <td>1.206273e+07</td>\n",
       "      <td>4.00</td>\n",
       "      <td>101.92</td>\n",
       "      <td>54436.664286</td>\n",
       "      <td>144.668686</td>\n",
       "      <td>7.00</td>\n",
       "      <td>3.545392e+06</td>\n",
       "      <td>4.830428e+06</td>\n",
       "      <td>-171060.7172</td>\n",
       "      <td>11.434577</td>\n",
       "      <td>9.260339</td>\n",
       "      <td>7.556655</td>\n",
       "      <td>5.953723</td>\n",
       "      <td>257.230231</td>\n",
       "      <td>2.154956</td>\n",
       "      <td>53.870849</td>\n",
       "    </tr>\n",
       "    <tr>\n",
       "      <th>2022-06-01</th>\n",
       "      <td>4.61</td>\n",
       "      <td>1.219043e+07</td>\n",
       "      <td>4.40</td>\n",
       "      <td>100.98</td>\n",
       "      <td>53478.910455</td>\n",
       "      <td>134.895386</td>\n",
       "      <td>7.00</td>\n",
       "      <td>3.566493e+06</td>\n",
       "      <td>4.887253e+06</td>\n",
       "      <td>-172974.6498</td>\n",
       "      <td>12.252593</td>\n",
       "      <td>2.059575</td>\n",
       "      <td>5.476540</td>\n",
       "      <td>6.218518</td>\n",
       "      <td>144.816840</td>\n",
       "      <td>1.212789</td>\n",
       "      <td>78.489217</td>\n",
       "    </tr>\n",
       "    <tr>\n",
       "      <th>2022-07-01</th>\n",
       "      <td>5.04</td>\n",
       "      <td>1.236935e+07</td>\n",
       "      <td>4.90</td>\n",
       "      <td>100.88</td>\n",
       "      <td>54684.799524</td>\n",
       "      <td>118.993240</td>\n",
       "      <td>6.70</td>\n",
       "      <td>3.616686e+06</td>\n",
       "      <td>5.014297e+06</td>\n",
       "      <td>-202223.5373</td>\n",
       "      <td>13.370371</td>\n",
       "      <td>3.777542</td>\n",
       "      <td>5.175652</td>\n",
       "      <td>7.969297</td>\n",
       "      <td>155.161415</td>\n",
       "      <td>0.799361</td>\n",
       "      <td>96.353160</td>\n",
       "    </tr>\n",
       "    <tr>\n",
       "      <th>2022-08-01</th>\n",
       "      <td>5.10</td>\n",
       "      <td>1.245866e+07</td>\n",
       "      <td>4.90</td>\n",
       "      <td>101.44</td>\n",
       "      <td>58990.511500</td>\n",
       "      <td>135.054550</td>\n",
       "      <td>7.00</td>\n",
       "      <td>3.666880e+06</td>\n",
       "      <td>5.067259e+06</td>\n",
       "      <td>-197886.9510</td>\n",
       "      <td>14.324775</td>\n",
       "      <td>6.810562</td>\n",
       "      <td>4.884643</td>\n",
       "      <td>10.318976</td>\n",
       "      <td>127.754769</td>\n",
       "      <td>0.624938</td>\n",
       "      <td>49.053229</td>\n",
       "    </tr>\n",
       "    <tr>\n",
       "      <th>2022-09-01</th>\n",
       "      <td>5.52</td>\n",
       "      <td>1.304179e+07</td>\n",
       "      <td>5.40</td>\n",
       "      <td>103.03</td>\n",
       "      <td>58843.428636</td>\n",
       "      <td>133.977829</td>\n",
       "      <td>7.41</td>\n",
       "      <td>3.717073e+06</td>\n",
       "      <td>5.070727e+06</td>\n",
       "      <td>-224972.2142</td>\n",
       "      <td>19.029013</td>\n",
       "      <td>0.106287</td>\n",
       "      <td>4.603035</td>\n",
       "      <td>8.736452</td>\n",
       "      <td>36.090877</td>\n",
       "      <td>1.687722</td>\n",
       "      <td>64.119406</td>\n",
       "    </tr>\n",
       "  </tbody>\n",
       "</table>\n",
       "<p>93 rows × 17 columns</p>\n",
       "</div>"
      ],
      "text/plain": [
       "            Weighted average call rate   Bank credit  policy rate  real ER  \\\n",
       "Date                                                                         \n",
       "2015-01-01                        7.89  6.386975e+06         7.75    95.19   \n",
       "2015-02-01                        7.69  6.459716e+06         7.75    95.83   \n",
       "2015-03-01                        7.58  6.536420e+06         7.50    96.65   \n",
       "2015-04-01                        7.44  6.573263e+06         7.50    95.98   \n",
       "2015-05-01                        7.47  6.606344e+06         7.50    94.11   \n",
       "...                                ...           ...          ...      ...   \n",
       "2022-05-01                        4.09  1.206273e+07         4.00   101.92   \n",
       "2022-06-01                        4.61  1.219043e+07         4.40   100.98   \n",
       "2022-07-01                        5.04  1.236935e+07         4.90   100.88   \n",
       "2022-08-01                        5.10  1.245866e+07         4.90   101.44   \n",
       "2022-09-01                        5.52  1.304179e+07         5.40   103.03   \n",
       "\n",
       "             asset price         GPR   CPI           gdp    investment  \\\n",
       "Date                                                                     \n",
       "2015-01-01  28220.840000  111.985695  5.19  2.519138e+06  2.517254e+06   \n",
       "2015-02-01  28952.860000  111.924698  5.37  2.539665e+06  2.531919e+06   \n",
       "2015-03-01  28541.530000  104.235268  5.25  2.560191e+06  2.491825e+06   \n",
       "2015-04-01  28112.723684  102.190491  4.87  2.566202e+06  2.567846e+06   \n",
       "2015-05-01  27426.526500   76.262329  5.01  2.572214e+06  2.610405e+06   \n",
       "...                  ...         ...   ...           ...           ...   \n",
       "2022-05-01  54436.664286  144.668686  7.00  3.545392e+06  4.830428e+06   \n",
       "2022-06-01  53478.910455  134.895386  7.00  3.566493e+06  4.887253e+06   \n",
       "2022-07-01  54684.799524  118.993240  6.70  3.616686e+06  5.014297e+06   \n",
       "2022-08-01  58990.511500  135.054550  7.00  3.666880e+06  5.067259e+06   \n",
       "2022-09-01  58843.428636  133.977829  7.41  3.717073e+06  5.070727e+06   \n",
       "\n",
       "             net export  creditgrowth  assetgrowth   gdpRate  investmentRate  \\\n",
       "Date                                                                           \n",
       "2015-01-01  -48848.5864      9.263881    34.747985  6.828965       12.895370   \n",
       "2015-02-01  -41672.7243      8.877285    41.086592  7.266157       13.157726   \n",
       "2015-03-01  -71158.6891      9.047648    30.830139  7.699845       12.608527   \n",
       "2015-04-01  -71345.9417      9.308951    24.560688  7.919402       13.355643   \n",
       "2015-05-01  -65769.6688      9.349022    15.500037  8.138824       13.867700   \n",
       "...                 ...           ...          ...       ...             ...   \n",
       "2022-05-01 -171060.7172     11.434577     9.260339  7.556655        5.953723   \n",
       "2022-06-01 -172974.6498     12.252593     2.059575  5.476540        6.218518   \n",
       "2022-07-01 -202223.5373     13.370371     3.777542  5.175652        7.969297   \n",
       "2022-08-01 -197886.9510     14.324775     6.810562  4.884643       10.318976   \n",
       "2022-09-01 -224972.2142     19.029013     0.106287  4.603035        8.736452   \n",
       "\n",
       "            netexportRate  realErRate    GPrRate  \n",
       "Date                                              \n",
       "2015-01-01     -16.770297   11.882934  43.726241  \n",
       "2015-02-01     -19.435942   13.274232  62.201421  \n",
       "2015-03-01       6.475729   11.734104 -13.020256  \n",
       "2015-04-01      18.585669    9.316629   9.621111  \n",
       "2015-05-01       0.457030    4.998326  -8.589986  \n",
       "...                   ...         ...        ...  \n",
       "2022-05-01     257.230231    2.154956  53.870849  \n",
       "2022-06-01     144.816840    1.212789  78.489217  \n",
       "2022-07-01     155.161415    0.799361  96.353160  \n",
       "2022-08-01     127.754769    0.624938  49.053229  \n",
       "2022-09-01      36.090877    1.687722  64.119406  \n",
       "\n",
       "[93 rows x 17 columns]"
      ]
     },
     "execution_count": 8,
     "metadata": {},
     "output_type": "execute_result"
    }
   ],
   "source": [
    "df"
   ]
  },
  {
   "cell_type": "code",
   "execution_count": 9,
   "id": "c3c0dcd0",
   "metadata": {},
   "outputs": [],
   "source": [
    "df1['creditgrowth'] = df1['Bank credit'].pct_change(periods=12)*100\n",
    "df1['assetgrowth'] = df1['asset price'].pct_change(periods=12)*100\n",
    "df1['gdpRate'] = df1['gdp'].pct_change(periods=12)*100\n",
    "df1['investmentRate'] = df1['investment'].pct_change(periods=12)*100\n",
    "df1['netexportRate'] = df1['net export'].pct_change(periods=12)*100\n",
    "df1['netexportRate'] = df1['net export'].pct_change(periods=12)*100\n",
    "df1['real ER growth'] = df1['real ER'].pct_change(periods=12)*100\n",
    "df1['GPrRate'] = df1['GPR'].pct_change(periods=12)*100"
   ]
  },
  {
   "cell_type": "code",
   "execution_count": 10,
   "id": "00cb79f8",
   "metadata": {},
   "outputs": [
    {
     "data": {
      "text/html": [
       "<div>\n",
       "<style scoped>\n",
       "    .dataframe tbody tr th:only-of-type {\n",
       "        vertical-align: middle;\n",
       "    }\n",
       "\n",
       "    .dataframe tbody tr th {\n",
       "        vertical-align: top;\n",
       "    }\n",
       "\n",
       "    .dataframe thead th {\n",
       "        text-align: right;\n",
       "    }\n",
       "</style>\n",
       "<table border=\"1\" class=\"dataframe\">\n",
       "  <thead>\n",
       "    <tr style=\"text-align: right;\">\n",
       "      <th></th>\n",
       "      <th>Weighted average call rate</th>\n",
       "      <th>Bank credit</th>\n",
       "      <th>policy rate</th>\n",
       "      <th>real ER</th>\n",
       "      <th>asset price</th>\n",
       "      <th>GPR</th>\n",
       "      <th>CPI</th>\n",
       "      <th>gdp</th>\n",
       "      <th>investment</th>\n",
       "      <th>net export</th>\n",
       "      <th>creditgrowth</th>\n",
       "      <th>assetgrowth</th>\n",
       "      <th>gdpRate</th>\n",
       "      <th>investmentRate</th>\n",
       "      <th>netexportRate</th>\n",
       "      <th>real ER growth</th>\n",
       "      <th>GPrRate</th>\n",
       "    </tr>\n",
       "    <tr>\n",
       "      <th>Date</th>\n",
       "      <th></th>\n",
       "      <th></th>\n",
       "      <th></th>\n",
       "      <th></th>\n",
       "      <th></th>\n",
       "      <th></th>\n",
       "      <th></th>\n",
       "      <th></th>\n",
       "      <th></th>\n",
       "      <th></th>\n",
       "      <th></th>\n",
       "      <th></th>\n",
       "      <th></th>\n",
       "      <th></th>\n",
       "      <th></th>\n",
       "      <th></th>\n",
       "      <th></th>\n",
       "    </tr>\n",
       "  </thead>\n",
       "  <tbody>\n",
       "    <tr>\n",
       "      <th>2015-01-01</th>\n",
       "      <td>7.89</td>\n",
       "      <td>6.386975e+06</td>\n",
       "      <td>7.75</td>\n",
       "      <td>95.19</td>\n",
       "      <td>28220.840000</td>\n",
       "      <td>111.985695</td>\n",
       "      <td>5.19</td>\n",
       "      <td>2.519138e+06</td>\n",
       "      <td>2.517254e+06</td>\n",
       "      <td>-48848.5864</td>\n",
       "      <td>9.263881</td>\n",
       "      <td>34.747985</td>\n",
       "      <td>6.828965</td>\n",
       "      <td>12.895370</td>\n",
       "      <td>-16.770297</td>\n",
       "      <td>11.882934</td>\n",
       "      <td>43.726241</td>\n",
       "    </tr>\n",
       "    <tr>\n",
       "      <th>2015-02-01</th>\n",
       "      <td>7.69</td>\n",
       "      <td>6.459716e+06</td>\n",
       "      <td>7.75</td>\n",
       "      <td>95.83</td>\n",
       "      <td>28952.860000</td>\n",
       "      <td>111.924698</td>\n",
       "      <td>5.37</td>\n",
       "      <td>2.539665e+06</td>\n",
       "      <td>2.531919e+06</td>\n",
       "      <td>-41672.7243</td>\n",
       "      <td>8.877285</td>\n",
       "      <td>41.086592</td>\n",
       "      <td>7.266157</td>\n",
       "      <td>13.157726</td>\n",
       "      <td>-19.435942</td>\n",
       "      <td>13.274232</td>\n",
       "      <td>62.201421</td>\n",
       "    </tr>\n",
       "    <tr>\n",
       "      <th>2015-03-01</th>\n",
       "      <td>7.58</td>\n",
       "      <td>6.536420e+06</td>\n",
       "      <td>7.50</td>\n",
       "      <td>96.65</td>\n",
       "      <td>28541.530000</td>\n",
       "      <td>104.235268</td>\n",
       "      <td>5.25</td>\n",
       "      <td>2.560191e+06</td>\n",
       "      <td>2.491825e+06</td>\n",
       "      <td>-71158.6891</td>\n",
       "      <td>9.047648</td>\n",
       "      <td>30.830139</td>\n",
       "      <td>7.699845</td>\n",
       "      <td>12.608527</td>\n",
       "      <td>6.475729</td>\n",
       "      <td>11.734104</td>\n",
       "      <td>-13.020256</td>\n",
       "    </tr>\n",
       "    <tr>\n",
       "      <th>2015-04-01</th>\n",
       "      <td>7.44</td>\n",
       "      <td>6.573263e+06</td>\n",
       "      <td>7.50</td>\n",
       "      <td>95.98</td>\n",
       "      <td>28112.723684</td>\n",
       "      <td>102.190491</td>\n",
       "      <td>4.87</td>\n",
       "      <td>2.566202e+06</td>\n",
       "      <td>2.567846e+06</td>\n",
       "      <td>-71345.9417</td>\n",
       "      <td>9.308951</td>\n",
       "      <td>24.560688</td>\n",
       "      <td>7.919402</td>\n",
       "      <td>13.355643</td>\n",
       "      <td>18.585669</td>\n",
       "      <td>9.316629</td>\n",
       "      <td>9.621111</td>\n",
       "    </tr>\n",
       "    <tr>\n",
       "      <th>2015-05-01</th>\n",
       "      <td>7.47</td>\n",
       "      <td>6.606344e+06</td>\n",
       "      <td>7.50</td>\n",
       "      <td>94.11</td>\n",
       "      <td>27426.526500</td>\n",
       "      <td>76.262329</td>\n",
       "      <td>5.01</td>\n",
       "      <td>2.572214e+06</td>\n",
       "      <td>2.610405e+06</td>\n",
       "      <td>-65769.6688</td>\n",
       "      <td>9.349022</td>\n",
       "      <td>15.500037</td>\n",
       "      <td>8.138824</td>\n",
       "      <td>13.867700</td>\n",
       "      <td>0.457030</td>\n",
       "      <td>4.998326</td>\n",
       "      <td>-8.589986</td>\n",
       "    </tr>\n",
       "    <tr>\n",
       "      <th>...</th>\n",
       "      <td>...</td>\n",
       "      <td>...</td>\n",
       "      <td>...</td>\n",
       "      <td>...</td>\n",
       "      <td>...</td>\n",
       "      <td>...</td>\n",
       "      <td>...</td>\n",
       "      <td>...</td>\n",
       "      <td>...</td>\n",
       "      <td>...</td>\n",
       "      <td>...</td>\n",
       "      <td>...</td>\n",
       "      <td>...</td>\n",
       "      <td>...</td>\n",
       "      <td>...</td>\n",
       "      <td>...</td>\n",
       "      <td>...</td>\n",
       "    </tr>\n",
       "    <tr>\n",
       "      <th>2022-05-01</th>\n",
       "      <td>4.09</td>\n",
       "      <td>1.206273e+07</td>\n",
       "      <td>4.00</td>\n",
       "      <td>101.92</td>\n",
       "      <td>54436.664286</td>\n",
       "      <td>144.668686</td>\n",
       "      <td>7.00</td>\n",
       "      <td>3.545392e+06</td>\n",
       "      <td>4.830428e+06</td>\n",
       "      <td>-171060.7172</td>\n",
       "      <td>11.434577</td>\n",
       "      <td>9.260339</td>\n",
       "      <td>7.556655</td>\n",
       "      <td>5.953723</td>\n",
       "      <td>257.230231</td>\n",
       "      <td>2.154956</td>\n",
       "      <td>53.870849</td>\n",
       "    </tr>\n",
       "    <tr>\n",
       "      <th>2022-06-01</th>\n",
       "      <td>4.61</td>\n",
       "      <td>1.219043e+07</td>\n",
       "      <td>4.40</td>\n",
       "      <td>100.98</td>\n",
       "      <td>53478.910455</td>\n",
       "      <td>134.895386</td>\n",
       "      <td>7.00</td>\n",
       "      <td>3.566493e+06</td>\n",
       "      <td>4.887253e+06</td>\n",
       "      <td>-172974.6498</td>\n",
       "      <td>12.252593</td>\n",
       "      <td>2.059575</td>\n",
       "      <td>5.476540</td>\n",
       "      <td>6.218518</td>\n",
       "      <td>144.816840</td>\n",
       "      <td>1.212789</td>\n",
       "      <td>78.489217</td>\n",
       "    </tr>\n",
       "    <tr>\n",
       "      <th>2022-07-01</th>\n",
       "      <td>5.04</td>\n",
       "      <td>1.236935e+07</td>\n",
       "      <td>4.90</td>\n",
       "      <td>100.88</td>\n",
       "      <td>54684.799524</td>\n",
       "      <td>118.993240</td>\n",
       "      <td>6.70</td>\n",
       "      <td>3.616686e+06</td>\n",
       "      <td>5.014297e+06</td>\n",
       "      <td>-202223.5373</td>\n",
       "      <td>13.370371</td>\n",
       "      <td>3.777542</td>\n",
       "      <td>5.175652</td>\n",
       "      <td>7.969297</td>\n",
       "      <td>155.161415</td>\n",
       "      <td>0.799361</td>\n",
       "      <td>96.353160</td>\n",
       "    </tr>\n",
       "    <tr>\n",
       "      <th>2022-08-01</th>\n",
       "      <td>5.10</td>\n",
       "      <td>1.245866e+07</td>\n",
       "      <td>4.90</td>\n",
       "      <td>101.44</td>\n",
       "      <td>58990.511500</td>\n",
       "      <td>135.054550</td>\n",
       "      <td>7.00</td>\n",
       "      <td>3.666880e+06</td>\n",
       "      <td>5.067259e+06</td>\n",
       "      <td>-197886.9510</td>\n",
       "      <td>14.324775</td>\n",
       "      <td>6.810562</td>\n",
       "      <td>4.884643</td>\n",
       "      <td>10.318976</td>\n",
       "      <td>127.754769</td>\n",
       "      <td>0.624938</td>\n",
       "      <td>49.053229</td>\n",
       "    </tr>\n",
       "    <tr>\n",
       "      <th>2022-09-01</th>\n",
       "      <td>5.52</td>\n",
       "      <td>1.304179e+07</td>\n",
       "      <td>5.40</td>\n",
       "      <td>103.03</td>\n",
       "      <td>58843.428636</td>\n",
       "      <td>133.977829</td>\n",
       "      <td>7.41</td>\n",
       "      <td>3.717073e+06</td>\n",
       "      <td>5.070727e+06</td>\n",
       "      <td>-224972.2142</td>\n",
       "      <td>19.029013</td>\n",
       "      <td>0.106287</td>\n",
       "      <td>4.603035</td>\n",
       "      <td>8.736452</td>\n",
       "      <td>36.090877</td>\n",
       "      <td>1.687722</td>\n",
       "      <td>64.119406</td>\n",
       "    </tr>\n",
       "  </tbody>\n",
       "</table>\n",
       "<p>93 rows × 17 columns</p>\n",
       "</div>"
      ],
      "text/plain": [
       "            Weighted average call rate   Bank credit  policy rate  real ER  \\\n",
       "Date                                                                         \n",
       "2015-01-01                        7.89  6.386975e+06         7.75    95.19   \n",
       "2015-02-01                        7.69  6.459716e+06         7.75    95.83   \n",
       "2015-03-01                        7.58  6.536420e+06         7.50    96.65   \n",
       "2015-04-01                        7.44  6.573263e+06         7.50    95.98   \n",
       "2015-05-01                        7.47  6.606344e+06         7.50    94.11   \n",
       "...                                ...           ...          ...      ...   \n",
       "2022-05-01                        4.09  1.206273e+07         4.00   101.92   \n",
       "2022-06-01                        4.61  1.219043e+07         4.40   100.98   \n",
       "2022-07-01                        5.04  1.236935e+07         4.90   100.88   \n",
       "2022-08-01                        5.10  1.245866e+07         4.90   101.44   \n",
       "2022-09-01                        5.52  1.304179e+07         5.40   103.03   \n",
       "\n",
       "             asset price         GPR   CPI           gdp    investment  \\\n",
       "Date                                                                     \n",
       "2015-01-01  28220.840000  111.985695  5.19  2.519138e+06  2.517254e+06   \n",
       "2015-02-01  28952.860000  111.924698  5.37  2.539665e+06  2.531919e+06   \n",
       "2015-03-01  28541.530000  104.235268  5.25  2.560191e+06  2.491825e+06   \n",
       "2015-04-01  28112.723684  102.190491  4.87  2.566202e+06  2.567846e+06   \n",
       "2015-05-01  27426.526500   76.262329  5.01  2.572214e+06  2.610405e+06   \n",
       "...                  ...         ...   ...           ...           ...   \n",
       "2022-05-01  54436.664286  144.668686  7.00  3.545392e+06  4.830428e+06   \n",
       "2022-06-01  53478.910455  134.895386  7.00  3.566493e+06  4.887253e+06   \n",
       "2022-07-01  54684.799524  118.993240  6.70  3.616686e+06  5.014297e+06   \n",
       "2022-08-01  58990.511500  135.054550  7.00  3.666880e+06  5.067259e+06   \n",
       "2022-09-01  58843.428636  133.977829  7.41  3.717073e+06  5.070727e+06   \n",
       "\n",
       "             net export  creditgrowth  assetgrowth   gdpRate  investmentRate  \\\n",
       "Date                                                                           \n",
       "2015-01-01  -48848.5864      9.263881    34.747985  6.828965       12.895370   \n",
       "2015-02-01  -41672.7243      8.877285    41.086592  7.266157       13.157726   \n",
       "2015-03-01  -71158.6891      9.047648    30.830139  7.699845       12.608527   \n",
       "2015-04-01  -71345.9417      9.308951    24.560688  7.919402       13.355643   \n",
       "2015-05-01  -65769.6688      9.349022    15.500037  8.138824       13.867700   \n",
       "...                 ...           ...          ...       ...             ...   \n",
       "2022-05-01 -171060.7172     11.434577     9.260339  7.556655        5.953723   \n",
       "2022-06-01 -172974.6498     12.252593     2.059575  5.476540        6.218518   \n",
       "2022-07-01 -202223.5373     13.370371     3.777542  5.175652        7.969297   \n",
       "2022-08-01 -197886.9510     14.324775     6.810562  4.884643       10.318976   \n",
       "2022-09-01 -224972.2142     19.029013     0.106287  4.603035        8.736452   \n",
       "\n",
       "            netexportRate  real ER growth    GPrRate  \n",
       "Date                                                  \n",
       "2015-01-01     -16.770297       11.882934  43.726241  \n",
       "2015-02-01     -19.435942       13.274232  62.201421  \n",
       "2015-03-01       6.475729       11.734104 -13.020256  \n",
       "2015-04-01      18.585669        9.316629   9.621111  \n",
       "2015-05-01       0.457030        4.998326  -8.589986  \n",
       "...                   ...             ...        ...  \n",
       "2022-05-01     257.230231        2.154956  53.870849  \n",
       "2022-06-01     144.816840        1.212789  78.489217  \n",
       "2022-07-01     155.161415        0.799361  96.353160  \n",
       "2022-08-01     127.754769        0.624938  49.053229  \n",
       "2022-09-01      36.090877        1.687722  64.119406  \n",
       "\n",
       "[93 rows x 17 columns]"
      ]
     },
     "execution_count": 10,
     "metadata": {},
     "output_type": "execute_result"
    }
   ],
   "source": [
    "df1 = df1.drop(df1.index[0:12])\n",
    "df1"
   ]
  },
  {
   "cell_type": "code",
   "execution_count": 11,
   "id": "d0fc3401",
   "metadata": {},
   "outputs": [],
   "source": [
    "df.drop([ 'Bank credit' , 'asset price', 'gdp', 'investment', 'net export', 'real ER' ,'GPR'], axis = 1, inplace = True)"
   ]
  },
  {
   "cell_type": "code",
   "execution_count": 12,
   "id": "4745e122",
   "metadata": {},
   "outputs": [
    {
     "data": {
      "text/html": [
       "<div>\n",
       "<style scoped>\n",
       "    .dataframe tbody tr th:only-of-type {\n",
       "        vertical-align: middle;\n",
       "    }\n",
       "\n",
       "    .dataframe tbody tr th {\n",
       "        vertical-align: top;\n",
       "    }\n",
       "\n",
       "    .dataframe thead th {\n",
       "        text-align: right;\n",
       "    }\n",
       "</style>\n",
       "<table border=\"1\" class=\"dataframe\">\n",
       "  <thead>\n",
       "    <tr style=\"text-align: right;\">\n",
       "      <th></th>\n",
       "      <th>Weighted average call rate</th>\n",
       "      <th>policy rate</th>\n",
       "      <th>CPI</th>\n",
       "      <th>creditgrowth</th>\n",
       "      <th>assetgrowth</th>\n",
       "      <th>gdpRate</th>\n",
       "      <th>investmentRate</th>\n",
       "      <th>netexportRate</th>\n",
       "      <th>realErRate</th>\n",
       "      <th>GPrRate</th>\n",
       "    </tr>\n",
       "    <tr>\n",
       "      <th>Date</th>\n",
       "      <th></th>\n",
       "      <th></th>\n",
       "      <th></th>\n",
       "      <th></th>\n",
       "      <th></th>\n",
       "      <th></th>\n",
       "      <th></th>\n",
       "      <th></th>\n",
       "      <th></th>\n",
       "      <th></th>\n",
       "    </tr>\n",
       "  </thead>\n",
       "  <tbody>\n",
       "    <tr>\n",
       "      <th>2015-01-01</th>\n",
       "      <td>7.89</td>\n",
       "      <td>7.75</td>\n",
       "      <td>5.19</td>\n",
       "      <td>9.263881</td>\n",
       "      <td>34.747985</td>\n",
       "      <td>6.828965</td>\n",
       "      <td>12.895370</td>\n",
       "      <td>-16.770297</td>\n",
       "      <td>11.882934</td>\n",
       "      <td>43.726241</td>\n",
       "    </tr>\n",
       "    <tr>\n",
       "      <th>2015-02-01</th>\n",
       "      <td>7.69</td>\n",
       "      <td>7.75</td>\n",
       "      <td>5.37</td>\n",
       "      <td>8.877285</td>\n",
       "      <td>41.086592</td>\n",
       "      <td>7.266157</td>\n",
       "      <td>13.157726</td>\n",
       "      <td>-19.435942</td>\n",
       "      <td>13.274232</td>\n",
       "      <td>62.201421</td>\n",
       "    </tr>\n",
       "    <tr>\n",
       "      <th>2015-03-01</th>\n",
       "      <td>7.58</td>\n",
       "      <td>7.50</td>\n",
       "      <td>5.25</td>\n",
       "      <td>9.047648</td>\n",
       "      <td>30.830139</td>\n",
       "      <td>7.699845</td>\n",
       "      <td>12.608527</td>\n",
       "      <td>6.475729</td>\n",
       "      <td>11.734104</td>\n",
       "      <td>-13.020256</td>\n",
       "    </tr>\n",
       "    <tr>\n",
       "      <th>2015-04-01</th>\n",
       "      <td>7.44</td>\n",
       "      <td>7.50</td>\n",
       "      <td>4.87</td>\n",
       "      <td>9.308951</td>\n",
       "      <td>24.560688</td>\n",
       "      <td>7.919402</td>\n",
       "      <td>13.355643</td>\n",
       "      <td>18.585669</td>\n",
       "      <td>9.316629</td>\n",
       "      <td>9.621111</td>\n",
       "    </tr>\n",
       "    <tr>\n",
       "      <th>2015-05-01</th>\n",
       "      <td>7.47</td>\n",
       "      <td>7.50</td>\n",
       "      <td>5.01</td>\n",
       "      <td>9.349022</td>\n",
       "      <td>15.500037</td>\n",
       "      <td>8.138824</td>\n",
       "      <td>13.867700</td>\n",
       "      <td>0.457030</td>\n",
       "      <td>4.998326</td>\n",
       "      <td>-8.589986</td>\n",
       "    </tr>\n",
       "    <tr>\n",
       "      <th>...</th>\n",
       "      <td>...</td>\n",
       "      <td>...</td>\n",
       "      <td>...</td>\n",
       "      <td>...</td>\n",
       "      <td>...</td>\n",
       "      <td>...</td>\n",
       "      <td>...</td>\n",
       "      <td>...</td>\n",
       "      <td>...</td>\n",
       "      <td>...</td>\n",
       "    </tr>\n",
       "    <tr>\n",
       "      <th>2022-05-01</th>\n",
       "      <td>4.09</td>\n",
       "      <td>4.00</td>\n",
       "      <td>7.00</td>\n",
       "      <td>11.434577</td>\n",
       "      <td>9.260339</td>\n",
       "      <td>7.556655</td>\n",
       "      <td>5.953723</td>\n",
       "      <td>257.230231</td>\n",
       "      <td>2.154956</td>\n",
       "      <td>53.870849</td>\n",
       "    </tr>\n",
       "    <tr>\n",
       "      <th>2022-06-01</th>\n",
       "      <td>4.61</td>\n",
       "      <td>4.40</td>\n",
       "      <td>7.00</td>\n",
       "      <td>12.252593</td>\n",
       "      <td>2.059575</td>\n",
       "      <td>5.476540</td>\n",
       "      <td>6.218518</td>\n",
       "      <td>144.816840</td>\n",
       "      <td>1.212789</td>\n",
       "      <td>78.489217</td>\n",
       "    </tr>\n",
       "    <tr>\n",
       "      <th>2022-07-01</th>\n",
       "      <td>5.04</td>\n",
       "      <td>4.90</td>\n",
       "      <td>6.70</td>\n",
       "      <td>13.370371</td>\n",
       "      <td>3.777542</td>\n",
       "      <td>5.175652</td>\n",
       "      <td>7.969297</td>\n",
       "      <td>155.161415</td>\n",
       "      <td>0.799361</td>\n",
       "      <td>96.353160</td>\n",
       "    </tr>\n",
       "    <tr>\n",
       "      <th>2022-08-01</th>\n",
       "      <td>5.10</td>\n",
       "      <td>4.90</td>\n",
       "      <td>7.00</td>\n",
       "      <td>14.324775</td>\n",
       "      <td>6.810562</td>\n",
       "      <td>4.884643</td>\n",
       "      <td>10.318976</td>\n",
       "      <td>127.754769</td>\n",
       "      <td>0.624938</td>\n",
       "      <td>49.053229</td>\n",
       "    </tr>\n",
       "    <tr>\n",
       "      <th>2022-09-01</th>\n",
       "      <td>5.52</td>\n",
       "      <td>5.40</td>\n",
       "      <td>7.41</td>\n",
       "      <td>19.029013</td>\n",
       "      <td>0.106287</td>\n",
       "      <td>4.603035</td>\n",
       "      <td>8.736452</td>\n",
       "      <td>36.090877</td>\n",
       "      <td>1.687722</td>\n",
       "      <td>64.119406</td>\n",
       "    </tr>\n",
       "  </tbody>\n",
       "</table>\n",
       "<p>93 rows × 10 columns</p>\n",
       "</div>"
      ],
      "text/plain": [
       "            Weighted average call rate  policy rate   CPI  creditgrowth  \\\n",
       "Date                                                                      \n",
       "2015-01-01                        7.89         7.75  5.19      9.263881   \n",
       "2015-02-01                        7.69         7.75  5.37      8.877285   \n",
       "2015-03-01                        7.58         7.50  5.25      9.047648   \n",
       "2015-04-01                        7.44         7.50  4.87      9.308951   \n",
       "2015-05-01                        7.47         7.50  5.01      9.349022   \n",
       "...                                ...          ...   ...           ...   \n",
       "2022-05-01                        4.09         4.00  7.00     11.434577   \n",
       "2022-06-01                        4.61         4.40  7.00     12.252593   \n",
       "2022-07-01                        5.04         4.90  6.70     13.370371   \n",
       "2022-08-01                        5.10         4.90  7.00     14.324775   \n",
       "2022-09-01                        5.52         5.40  7.41     19.029013   \n",
       "\n",
       "            assetgrowth   gdpRate  investmentRate  netexportRate  realErRate  \\\n",
       "Date                                                                           \n",
       "2015-01-01    34.747985  6.828965       12.895370     -16.770297   11.882934   \n",
       "2015-02-01    41.086592  7.266157       13.157726     -19.435942   13.274232   \n",
       "2015-03-01    30.830139  7.699845       12.608527       6.475729   11.734104   \n",
       "2015-04-01    24.560688  7.919402       13.355643      18.585669    9.316629   \n",
       "2015-05-01    15.500037  8.138824       13.867700       0.457030    4.998326   \n",
       "...                 ...       ...             ...            ...         ...   \n",
       "2022-05-01     9.260339  7.556655        5.953723     257.230231    2.154956   \n",
       "2022-06-01     2.059575  5.476540        6.218518     144.816840    1.212789   \n",
       "2022-07-01     3.777542  5.175652        7.969297     155.161415    0.799361   \n",
       "2022-08-01     6.810562  4.884643       10.318976     127.754769    0.624938   \n",
       "2022-09-01     0.106287  4.603035        8.736452      36.090877    1.687722   \n",
       "\n",
       "              GPrRate  \n",
       "Date                   \n",
       "2015-01-01  43.726241  \n",
       "2015-02-01  62.201421  \n",
       "2015-03-01 -13.020256  \n",
       "2015-04-01   9.621111  \n",
       "2015-05-01  -8.589986  \n",
       "...               ...  \n",
       "2022-05-01  53.870849  \n",
       "2022-06-01  78.489217  \n",
       "2022-07-01  96.353160  \n",
       "2022-08-01  49.053229  \n",
       "2022-09-01  64.119406  \n",
       "\n",
       "[93 rows x 10 columns]"
      ]
     },
     "execution_count": 12,
     "metadata": {},
     "output_type": "execute_result"
    }
   ],
   "source": [
    "df"
   ]
  },
  {
   "cell_type": "code",
   "execution_count": 13,
   "id": "f8334ee2",
   "metadata": {},
   "outputs": [],
   "source": [
    "df['pr']=df['policy rate'].apply(lambda x: '<=4' if x<=4 else '4.0 to 4.5' if 4<x<=4.5 else '4.5 to 5.0' if 4.5<x<=5.0\n",
    "                                 else '5.0 to 5.5' if 5.0<x<=5.5 else '5.5 to 6.0' if 5.5<x<=6.0\n",
    "                                 else '6 to 6.5' if 6.0<x<=6.5 else '6.5 to 7.0' if 6.5<x<=7.0\n",
    "                                 else '7.0 to 7.5' if 7.0<x<=7.5else '7.5 to 8.0' if 7.5<x<=8.0 else '>8.0')"
   ]
  },
  {
   "cell_type": "raw",
   "id": "5b600c5e",
   "metadata": {},
   "source": [
    "df['pr']=df['policy rate'].apply(lambda x: '<4.0' if x<=4.0 else '<4.0x<6.0' if 4.0<x<6.0 else '>6.0')"
   ]
  },
  {
   "cell_type": "code",
   "execution_count": 14,
   "id": "936cec74",
   "metadata": {},
   "outputs": [],
   "source": [
    "df['wacr']=df['Weighted average call rate'].apply(lambda x: '<5' if x<=5 else '5 to 5.30' if 5.0<x<=5.30\n",
    "                                                  else '5.30 to 5.60' if 5.30<x<=5.60 else '5.60 to 5.90' if 5.60<x<=5.90\n",
    "                                                  else '5.90 to 6.20' if 5.90<x<=6.20 else '6.20 to 6.50' if 6.20<x<=6.50\n",
    "                                                  else '6.50 to 6.80' if 6.80<x<=7.10 else '>7.10' )"
   ]
  },
  {
   "cell_type": "raw",
   "id": "12e0a062",
   "metadata": {},
   "source": [
    "df['wacr']=df['Weighted average call rate'].apply(lambda x: '<4.0' if x<4.0 else '<4.0x<6.0' if 4.0<x<6.0 else '>6.0')"
   ]
  },
  {
   "cell_type": "code",
   "execution_count": 15,
   "id": "003b6431",
   "metadata": {},
   "outputs": [],
   "source": [
    "df['rer']=df['realErRate'].apply(lambda x: '<=0' if x<=0 else '0 to 2' if 0<x<=2 else '2 to 4' if 2<x<=4\n",
    "                             else '>4') "
   ]
  },
  {
   "cell_type": "code",
   "execution_count": 16,
   "id": "6f84fd7a",
   "metadata": {},
   "outputs": [],
   "source": [
    "df['gpr']=df['GPrRate'].apply(lambda x: '<0' if x<=0 else '0 to 10' if 0<x<=15 else '>15') "
   ]
  },
  {
   "cell_type": "raw",
   "id": "06234be5",
   "metadata": {},
   "source": [
    "df['cpi']=df['CPI'].apply(lambda x: '<2' if x<=2.0 else '2 to 3' if 2<x<=3.0 else  '3 to 4' if 3<x<=4.0 else '4 to 5' if 4<x<=5.0 else '5 to 6' if 5<x<=6.0\n",
    "                          else '>6'  ) "
   ]
  },
  {
   "cell_type": "code",
   "execution_count": 17,
   "id": "64b84239",
   "metadata": {},
   "outputs": [],
   "source": [
    "df['cpi']=df['CPI'].apply(lambda x: '<2' if x<=2.0 else '2 to 6' if 2<x<=6.0 else '>6' ) "
   ]
  },
  {
   "cell_type": "code",
   "execution_count": 18,
   "id": "0859b1f6",
   "metadata": {},
   "outputs": [],
   "source": [
    "df['cgr']=df['creditgrowth'].apply(lambda x: '<6.5' if x<=6.5 else '6.5 to 9' if 6<x<=9 else '>9')"
   ]
  },
  {
   "cell_type": "code",
   "execution_count": 19,
   "id": "1cc08aca",
   "metadata": {},
   "outputs": [],
   "source": [
    "df['astgr']=df['assetgrowth'].apply(lambda x: '<2' if x<=2 else '2 to 10' if 2<x<=10 else '>10') "
   ]
  },
  {
   "cell_type": "code",
   "execution_count": 20,
   "id": "e3a5eb94",
   "metadata": {},
   "outputs": [],
   "source": [
    "df['gdpgr']=df['gdpRate'].apply(lambda x: '<=0' if x<=0 else '0 to 2' if 0<x<=2 else '2 to 4' if 2<x<=4\n",
    "                                else '4 to 4.5' if 4<x<=4.5 else '4.5 to 5' if 4.5<x<=5 else '5 to 5.5' if 5<x<=5.5\n",
    "                                else '5.5 to 6' if 5.5<x<=6 else '6 to 6.5' if 6<x<=6.5 else '6.5 to 7' if 6.5<x<=7\n",
    "                                else '7 to 7.5' if 7<x<=7.5 else '7.5 to 8' if 7.5<x<=8 else '8 to 8.5' if 8<x<=8.5\n",
    "                                else '8.5 to 9' if 8.5<x<=9 else '>9')  "
   ]
  },
  {
   "cell_type": "code",
   "execution_count": 21,
   "id": "7f5f8011",
   "metadata": {},
   "outputs": [],
   "source": [
    "df['invgr'] = df['investmentRate'].apply(lambda x: '<=5' if x<=5 else '5 to 10' if 5<x<=10 else '>10') "
   ]
  },
  {
   "cell_type": "code",
   "execution_count": 22,
   "id": "e31dad29",
   "metadata": {},
   "outputs": [],
   "source": [
    "df['nxpgr'] = df['netexportRate'].apply(lambda x: '<=0' if x<=0 else '0 to 12' if 0<x<=12 else '12 to 40' if 12<x<=40\n",
    "                                    else '>40') "
   ]
  },
  {
   "cell_type": "code",
   "execution_count": 23,
   "id": "e343b881",
   "metadata": {},
   "outputs": [
    {
     "data": {
      "text/html": [
       "<div>\n",
       "<style scoped>\n",
       "    .dataframe tbody tr th:only-of-type {\n",
       "        vertical-align: middle;\n",
       "    }\n",
       "\n",
       "    .dataframe tbody tr th {\n",
       "        vertical-align: top;\n",
       "    }\n",
       "\n",
       "    .dataframe thead th {\n",
       "        text-align: right;\n",
       "    }\n",
       "</style>\n",
       "<table border=\"1\" class=\"dataframe\">\n",
       "  <thead>\n",
       "    <tr style=\"text-align: right;\">\n",
       "      <th></th>\n",
       "      <th>Weighted average call rate</th>\n",
       "      <th>policy rate</th>\n",
       "      <th>CPI</th>\n",
       "      <th>creditgrowth</th>\n",
       "      <th>assetgrowth</th>\n",
       "      <th>gdpRate</th>\n",
       "      <th>investmentRate</th>\n",
       "      <th>netexportRate</th>\n",
       "      <th>realErRate</th>\n",
       "      <th>GPrRate</th>\n",
       "      <th>pr</th>\n",
       "      <th>wacr</th>\n",
       "      <th>rer</th>\n",
       "      <th>gpr</th>\n",
       "      <th>cpi</th>\n",
       "      <th>cgr</th>\n",
       "      <th>astgr</th>\n",
       "      <th>gdpgr</th>\n",
       "      <th>invgr</th>\n",
       "      <th>nxpgr</th>\n",
       "    </tr>\n",
       "    <tr>\n",
       "      <th>Date</th>\n",
       "      <th></th>\n",
       "      <th></th>\n",
       "      <th></th>\n",
       "      <th></th>\n",
       "      <th></th>\n",
       "      <th></th>\n",
       "      <th></th>\n",
       "      <th></th>\n",
       "      <th></th>\n",
       "      <th></th>\n",
       "      <th></th>\n",
       "      <th></th>\n",
       "      <th></th>\n",
       "      <th></th>\n",
       "      <th></th>\n",
       "      <th></th>\n",
       "      <th></th>\n",
       "      <th></th>\n",
       "      <th></th>\n",
       "      <th></th>\n",
       "    </tr>\n",
       "  </thead>\n",
       "  <tbody>\n",
       "    <tr>\n",
       "      <th>2015-01-01</th>\n",
       "      <td>7.89</td>\n",
       "      <td>7.75</td>\n",
       "      <td>5.19</td>\n",
       "      <td>9.263881</td>\n",
       "      <td>34.747985</td>\n",
       "      <td>6.828965</td>\n",
       "      <td>12.895370</td>\n",
       "      <td>-16.770297</td>\n",
       "      <td>11.882934</td>\n",
       "      <td>43.726241</td>\n",
       "      <td>7.5 to 8.0</td>\n",
       "      <td>&gt;7.10</td>\n",
       "      <td>&gt;4</td>\n",
       "      <td>&gt;15</td>\n",
       "      <td>2 to 6</td>\n",
       "      <td>&gt;9</td>\n",
       "      <td>&gt;10</td>\n",
       "      <td>6.5 to 7</td>\n",
       "      <td>&gt;10</td>\n",
       "      <td>&lt;=0</td>\n",
       "    </tr>\n",
       "    <tr>\n",
       "      <th>2015-02-01</th>\n",
       "      <td>7.69</td>\n",
       "      <td>7.75</td>\n",
       "      <td>5.37</td>\n",
       "      <td>8.877285</td>\n",
       "      <td>41.086592</td>\n",
       "      <td>7.266157</td>\n",
       "      <td>13.157726</td>\n",
       "      <td>-19.435942</td>\n",
       "      <td>13.274232</td>\n",
       "      <td>62.201421</td>\n",
       "      <td>7.5 to 8.0</td>\n",
       "      <td>&gt;7.10</td>\n",
       "      <td>&gt;4</td>\n",
       "      <td>&gt;15</td>\n",
       "      <td>2 to 6</td>\n",
       "      <td>6.5 to 9</td>\n",
       "      <td>&gt;10</td>\n",
       "      <td>7 to 7.5</td>\n",
       "      <td>&gt;10</td>\n",
       "      <td>&lt;=0</td>\n",
       "    </tr>\n",
       "    <tr>\n",
       "      <th>2015-03-01</th>\n",
       "      <td>7.58</td>\n",
       "      <td>7.50</td>\n",
       "      <td>5.25</td>\n",
       "      <td>9.047648</td>\n",
       "      <td>30.830139</td>\n",
       "      <td>7.699845</td>\n",
       "      <td>12.608527</td>\n",
       "      <td>6.475729</td>\n",
       "      <td>11.734104</td>\n",
       "      <td>-13.020256</td>\n",
       "      <td>7.0 to 7.5</td>\n",
       "      <td>&gt;7.10</td>\n",
       "      <td>&gt;4</td>\n",
       "      <td>&lt;0</td>\n",
       "      <td>2 to 6</td>\n",
       "      <td>&gt;9</td>\n",
       "      <td>&gt;10</td>\n",
       "      <td>7.5 to 8</td>\n",
       "      <td>&gt;10</td>\n",
       "      <td>0 to 12</td>\n",
       "    </tr>\n",
       "    <tr>\n",
       "      <th>2015-04-01</th>\n",
       "      <td>7.44</td>\n",
       "      <td>7.50</td>\n",
       "      <td>4.87</td>\n",
       "      <td>9.308951</td>\n",
       "      <td>24.560688</td>\n",
       "      <td>7.919402</td>\n",
       "      <td>13.355643</td>\n",
       "      <td>18.585669</td>\n",
       "      <td>9.316629</td>\n",
       "      <td>9.621111</td>\n",
       "      <td>7.0 to 7.5</td>\n",
       "      <td>&gt;7.10</td>\n",
       "      <td>&gt;4</td>\n",
       "      <td>0 to 10</td>\n",
       "      <td>2 to 6</td>\n",
       "      <td>&gt;9</td>\n",
       "      <td>&gt;10</td>\n",
       "      <td>7.5 to 8</td>\n",
       "      <td>&gt;10</td>\n",
       "      <td>12 to 40</td>\n",
       "    </tr>\n",
       "    <tr>\n",
       "      <th>2015-05-01</th>\n",
       "      <td>7.47</td>\n",
       "      <td>7.50</td>\n",
       "      <td>5.01</td>\n",
       "      <td>9.349022</td>\n",
       "      <td>15.500037</td>\n",
       "      <td>8.138824</td>\n",
       "      <td>13.867700</td>\n",
       "      <td>0.457030</td>\n",
       "      <td>4.998326</td>\n",
       "      <td>-8.589986</td>\n",
       "      <td>7.0 to 7.5</td>\n",
       "      <td>&gt;7.10</td>\n",
       "      <td>&gt;4</td>\n",
       "      <td>&lt;0</td>\n",
       "      <td>2 to 6</td>\n",
       "      <td>&gt;9</td>\n",
       "      <td>&gt;10</td>\n",
       "      <td>8 to 8.5</td>\n",
       "      <td>&gt;10</td>\n",
       "      <td>0 to 12</td>\n",
       "    </tr>\n",
       "    <tr>\n",
       "      <th>...</th>\n",
       "      <td>...</td>\n",
       "      <td>...</td>\n",
       "      <td>...</td>\n",
       "      <td>...</td>\n",
       "      <td>...</td>\n",
       "      <td>...</td>\n",
       "      <td>...</td>\n",
       "      <td>...</td>\n",
       "      <td>...</td>\n",
       "      <td>...</td>\n",
       "      <td>...</td>\n",
       "      <td>...</td>\n",
       "      <td>...</td>\n",
       "      <td>...</td>\n",
       "      <td>...</td>\n",
       "      <td>...</td>\n",
       "      <td>...</td>\n",
       "      <td>...</td>\n",
       "      <td>...</td>\n",
       "      <td>...</td>\n",
       "    </tr>\n",
       "    <tr>\n",
       "      <th>2022-05-01</th>\n",
       "      <td>4.09</td>\n",
       "      <td>4.00</td>\n",
       "      <td>7.00</td>\n",
       "      <td>11.434577</td>\n",
       "      <td>9.260339</td>\n",
       "      <td>7.556655</td>\n",
       "      <td>5.953723</td>\n",
       "      <td>257.230231</td>\n",
       "      <td>2.154956</td>\n",
       "      <td>53.870849</td>\n",
       "      <td>&lt;=4</td>\n",
       "      <td>&lt;5</td>\n",
       "      <td>2 to 4</td>\n",
       "      <td>&gt;15</td>\n",
       "      <td>&gt;6</td>\n",
       "      <td>&gt;9</td>\n",
       "      <td>2 to 10</td>\n",
       "      <td>7.5 to 8</td>\n",
       "      <td>5 to 10</td>\n",
       "      <td>&gt;40</td>\n",
       "    </tr>\n",
       "    <tr>\n",
       "      <th>2022-06-01</th>\n",
       "      <td>4.61</td>\n",
       "      <td>4.40</td>\n",
       "      <td>7.00</td>\n",
       "      <td>12.252593</td>\n",
       "      <td>2.059575</td>\n",
       "      <td>5.476540</td>\n",
       "      <td>6.218518</td>\n",
       "      <td>144.816840</td>\n",
       "      <td>1.212789</td>\n",
       "      <td>78.489217</td>\n",
       "      <td>4.0 to 4.5</td>\n",
       "      <td>&lt;5</td>\n",
       "      <td>0 to 2</td>\n",
       "      <td>&gt;15</td>\n",
       "      <td>&gt;6</td>\n",
       "      <td>&gt;9</td>\n",
       "      <td>2 to 10</td>\n",
       "      <td>5 to 5.5</td>\n",
       "      <td>5 to 10</td>\n",
       "      <td>&gt;40</td>\n",
       "    </tr>\n",
       "    <tr>\n",
       "      <th>2022-07-01</th>\n",
       "      <td>5.04</td>\n",
       "      <td>4.90</td>\n",
       "      <td>6.70</td>\n",
       "      <td>13.370371</td>\n",
       "      <td>3.777542</td>\n",
       "      <td>5.175652</td>\n",
       "      <td>7.969297</td>\n",
       "      <td>155.161415</td>\n",
       "      <td>0.799361</td>\n",
       "      <td>96.353160</td>\n",
       "      <td>4.5 to 5.0</td>\n",
       "      <td>5 to 5.30</td>\n",
       "      <td>0 to 2</td>\n",
       "      <td>&gt;15</td>\n",
       "      <td>&gt;6</td>\n",
       "      <td>&gt;9</td>\n",
       "      <td>2 to 10</td>\n",
       "      <td>5 to 5.5</td>\n",
       "      <td>5 to 10</td>\n",
       "      <td>&gt;40</td>\n",
       "    </tr>\n",
       "    <tr>\n",
       "      <th>2022-08-01</th>\n",
       "      <td>5.10</td>\n",
       "      <td>4.90</td>\n",
       "      <td>7.00</td>\n",
       "      <td>14.324775</td>\n",
       "      <td>6.810562</td>\n",
       "      <td>4.884643</td>\n",
       "      <td>10.318976</td>\n",
       "      <td>127.754769</td>\n",
       "      <td>0.624938</td>\n",
       "      <td>49.053229</td>\n",
       "      <td>4.5 to 5.0</td>\n",
       "      <td>5 to 5.30</td>\n",
       "      <td>0 to 2</td>\n",
       "      <td>&gt;15</td>\n",
       "      <td>&gt;6</td>\n",
       "      <td>&gt;9</td>\n",
       "      <td>2 to 10</td>\n",
       "      <td>4.5 to 5</td>\n",
       "      <td>&gt;10</td>\n",
       "      <td>&gt;40</td>\n",
       "    </tr>\n",
       "    <tr>\n",
       "      <th>2022-09-01</th>\n",
       "      <td>5.52</td>\n",
       "      <td>5.40</td>\n",
       "      <td>7.41</td>\n",
       "      <td>19.029013</td>\n",
       "      <td>0.106287</td>\n",
       "      <td>4.603035</td>\n",
       "      <td>8.736452</td>\n",
       "      <td>36.090877</td>\n",
       "      <td>1.687722</td>\n",
       "      <td>64.119406</td>\n",
       "      <td>5.0 to 5.5</td>\n",
       "      <td>5.30 to 5.60</td>\n",
       "      <td>0 to 2</td>\n",
       "      <td>&gt;15</td>\n",
       "      <td>&gt;6</td>\n",
       "      <td>&gt;9</td>\n",
       "      <td>&lt;2</td>\n",
       "      <td>4.5 to 5</td>\n",
       "      <td>5 to 10</td>\n",
       "      <td>12 to 40</td>\n",
       "    </tr>\n",
       "  </tbody>\n",
       "</table>\n",
       "<p>93 rows × 20 columns</p>\n",
       "</div>"
      ],
      "text/plain": [
       "            Weighted average call rate  policy rate   CPI  creditgrowth  \\\n",
       "Date                                                                      \n",
       "2015-01-01                        7.89         7.75  5.19      9.263881   \n",
       "2015-02-01                        7.69         7.75  5.37      8.877285   \n",
       "2015-03-01                        7.58         7.50  5.25      9.047648   \n",
       "2015-04-01                        7.44         7.50  4.87      9.308951   \n",
       "2015-05-01                        7.47         7.50  5.01      9.349022   \n",
       "...                                ...          ...   ...           ...   \n",
       "2022-05-01                        4.09         4.00  7.00     11.434577   \n",
       "2022-06-01                        4.61         4.40  7.00     12.252593   \n",
       "2022-07-01                        5.04         4.90  6.70     13.370371   \n",
       "2022-08-01                        5.10         4.90  7.00     14.324775   \n",
       "2022-09-01                        5.52         5.40  7.41     19.029013   \n",
       "\n",
       "            assetgrowth   gdpRate  investmentRate  netexportRate  realErRate  \\\n",
       "Date                                                                           \n",
       "2015-01-01    34.747985  6.828965       12.895370     -16.770297   11.882934   \n",
       "2015-02-01    41.086592  7.266157       13.157726     -19.435942   13.274232   \n",
       "2015-03-01    30.830139  7.699845       12.608527       6.475729   11.734104   \n",
       "2015-04-01    24.560688  7.919402       13.355643      18.585669    9.316629   \n",
       "2015-05-01    15.500037  8.138824       13.867700       0.457030    4.998326   \n",
       "...                 ...       ...             ...            ...         ...   \n",
       "2022-05-01     9.260339  7.556655        5.953723     257.230231    2.154956   \n",
       "2022-06-01     2.059575  5.476540        6.218518     144.816840    1.212789   \n",
       "2022-07-01     3.777542  5.175652        7.969297     155.161415    0.799361   \n",
       "2022-08-01     6.810562  4.884643       10.318976     127.754769    0.624938   \n",
       "2022-09-01     0.106287  4.603035        8.736452      36.090877    1.687722   \n",
       "\n",
       "              GPrRate          pr          wacr     rer      gpr     cpi  \\\n",
       "Date                                                                       \n",
       "2015-01-01  43.726241  7.5 to 8.0         >7.10      >4      >15  2 to 6   \n",
       "2015-02-01  62.201421  7.5 to 8.0         >7.10      >4      >15  2 to 6   \n",
       "2015-03-01 -13.020256  7.0 to 7.5         >7.10      >4       <0  2 to 6   \n",
       "2015-04-01   9.621111  7.0 to 7.5         >7.10      >4  0 to 10  2 to 6   \n",
       "2015-05-01  -8.589986  7.0 to 7.5         >7.10      >4       <0  2 to 6   \n",
       "...               ...         ...           ...     ...      ...     ...   \n",
       "2022-05-01  53.870849         <=4            <5  2 to 4      >15      >6   \n",
       "2022-06-01  78.489217  4.0 to 4.5            <5  0 to 2      >15      >6   \n",
       "2022-07-01  96.353160  4.5 to 5.0     5 to 5.30  0 to 2      >15      >6   \n",
       "2022-08-01  49.053229  4.5 to 5.0     5 to 5.30  0 to 2      >15      >6   \n",
       "2022-09-01  64.119406  5.0 to 5.5  5.30 to 5.60  0 to 2      >15      >6   \n",
       "\n",
       "                 cgr    astgr     gdpgr    invgr     nxpgr  \n",
       "Date                                                        \n",
       "2015-01-01        >9      >10  6.5 to 7      >10       <=0  \n",
       "2015-02-01  6.5 to 9      >10  7 to 7.5      >10       <=0  \n",
       "2015-03-01        >9      >10  7.5 to 8      >10   0 to 12  \n",
       "2015-04-01        >9      >10  7.5 to 8      >10  12 to 40  \n",
       "2015-05-01        >9      >10  8 to 8.5      >10   0 to 12  \n",
       "...              ...      ...       ...      ...       ...  \n",
       "2022-05-01        >9  2 to 10  7.5 to 8  5 to 10       >40  \n",
       "2022-06-01        >9  2 to 10  5 to 5.5  5 to 10       >40  \n",
       "2022-07-01        >9  2 to 10  5 to 5.5  5 to 10       >40  \n",
       "2022-08-01        >9  2 to 10  4.5 to 5      >10       >40  \n",
       "2022-09-01        >9       <2  4.5 to 5  5 to 10  12 to 40  \n",
       "\n",
       "[93 rows x 20 columns]"
      ]
     },
     "execution_count": 23,
     "metadata": {},
     "output_type": "execute_result"
    }
   ],
   "source": [
    "df"
   ]
  },
  {
   "cell_type": "code",
   "execution_count": 24,
   "id": "eeb21627",
   "metadata": {},
   "outputs": [],
   "source": [
    "df.drop(['Weighted average call rate', 'policy rate',  'CPI', 'creditgrowth', 'assetgrowth', 'gdpRate', 'investmentRate', 'netexportRate',\n",
    "         'realErRate', 'GPrRate'] , axis = 1, inplace = True)"
   ]
  },
  {
   "cell_type": "code",
   "execution_count": 25,
   "id": "2c932533",
   "metadata": {},
   "outputs": [
    {
     "data": {
      "text/html": [
       "<div>\n",
       "<style scoped>\n",
       "    .dataframe tbody tr th:only-of-type {\n",
       "        vertical-align: middle;\n",
       "    }\n",
       "\n",
       "    .dataframe tbody tr th {\n",
       "        vertical-align: top;\n",
       "    }\n",
       "\n",
       "    .dataframe thead th {\n",
       "        text-align: right;\n",
       "    }\n",
       "</style>\n",
       "<table border=\"1\" class=\"dataframe\">\n",
       "  <thead>\n",
       "    <tr style=\"text-align: right;\">\n",
       "      <th></th>\n",
       "      <th>pr</th>\n",
       "      <th>wacr</th>\n",
       "      <th>rer</th>\n",
       "      <th>gpr</th>\n",
       "      <th>cpi</th>\n",
       "      <th>cgr</th>\n",
       "      <th>astgr</th>\n",
       "      <th>gdpgr</th>\n",
       "      <th>invgr</th>\n",
       "      <th>nxpgr</th>\n",
       "    </tr>\n",
       "    <tr>\n",
       "      <th>Date</th>\n",
       "      <th></th>\n",
       "      <th></th>\n",
       "      <th></th>\n",
       "      <th></th>\n",
       "      <th></th>\n",
       "      <th></th>\n",
       "      <th></th>\n",
       "      <th></th>\n",
       "      <th></th>\n",
       "      <th></th>\n",
       "    </tr>\n",
       "  </thead>\n",
       "  <tbody>\n",
       "    <tr>\n",
       "      <th>2015-01-01</th>\n",
       "      <td>7.5 to 8.0</td>\n",
       "      <td>&gt;7.10</td>\n",
       "      <td>&gt;4</td>\n",
       "      <td>&gt;15</td>\n",
       "      <td>2 to 6</td>\n",
       "      <td>&gt;9</td>\n",
       "      <td>&gt;10</td>\n",
       "      <td>6.5 to 7</td>\n",
       "      <td>&gt;10</td>\n",
       "      <td>&lt;=0</td>\n",
       "    </tr>\n",
       "    <tr>\n",
       "      <th>2015-02-01</th>\n",
       "      <td>7.5 to 8.0</td>\n",
       "      <td>&gt;7.10</td>\n",
       "      <td>&gt;4</td>\n",
       "      <td>&gt;15</td>\n",
       "      <td>2 to 6</td>\n",
       "      <td>6.5 to 9</td>\n",
       "      <td>&gt;10</td>\n",
       "      <td>7 to 7.5</td>\n",
       "      <td>&gt;10</td>\n",
       "      <td>&lt;=0</td>\n",
       "    </tr>\n",
       "    <tr>\n",
       "      <th>2015-03-01</th>\n",
       "      <td>7.0 to 7.5</td>\n",
       "      <td>&gt;7.10</td>\n",
       "      <td>&gt;4</td>\n",
       "      <td>&lt;0</td>\n",
       "      <td>2 to 6</td>\n",
       "      <td>&gt;9</td>\n",
       "      <td>&gt;10</td>\n",
       "      <td>7.5 to 8</td>\n",
       "      <td>&gt;10</td>\n",
       "      <td>0 to 12</td>\n",
       "    </tr>\n",
       "    <tr>\n",
       "      <th>2015-04-01</th>\n",
       "      <td>7.0 to 7.5</td>\n",
       "      <td>&gt;7.10</td>\n",
       "      <td>&gt;4</td>\n",
       "      <td>0 to 10</td>\n",
       "      <td>2 to 6</td>\n",
       "      <td>&gt;9</td>\n",
       "      <td>&gt;10</td>\n",
       "      <td>7.5 to 8</td>\n",
       "      <td>&gt;10</td>\n",
       "      <td>12 to 40</td>\n",
       "    </tr>\n",
       "    <tr>\n",
       "      <th>2015-05-01</th>\n",
       "      <td>7.0 to 7.5</td>\n",
       "      <td>&gt;7.10</td>\n",
       "      <td>&gt;4</td>\n",
       "      <td>&lt;0</td>\n",
       "      <td>2 to 6</td>\n",
       "      <td>&gt;9</td>\n",
       "      <td>&gt;10</td>\n",
       "      <td>8 to 8.5</td>\n",
       "      <td>&gt;10</td>\n",
       "      <td>0 to 12</td>\n",
       "    </tr>\n",
       "    <tr>\n",
       "      <th>...</th>\n",
       "      <td>...</td>\n",
       "      <td>...</td>\n",
       "      <td>...</td>\n",
       "      <td>...</td>\n",
       "      <td>...</td>\n",
       "      <td>...</td>\n",
       "      <td>...</td>\n",
       "      <td>...</td>\n",
       "      <td>...</td>\n",
       "      <td>...</td>\n",
       "    </tr>\n",
       "    <tr>\n",
       "      <th>2022-05-01</th>\n",
       "      <td>&lt;=4</td>\n",
       "      <td>&lt;5</td>\n",
       "      <td>2 to 4</td>\n",
       "      <td>&gt;15</td>\n",
       "      <td>&gt;6</td>\n",
       "      <td>&gt;9</td>\n",
       "      <td>2 to 10</td>\n",
       "      <td>7.5 to 8</td>\n",
       "      <td>5 to 10</td>\n",
       "      <td>&gt;40</td>\n",
       "    </tr>\n",
       "    <tr>\n",
       "      <th>2022-06-01</th>\n",
       "      <td>4.0 to 4.5</td>\n",
       "      <td>&lt;5</td>\n",
       "      <td>0 to 2</td>\n",
       "      <td>&gt;15</td>\n",
       "      <td>&gt;6</td>\n",
       "      <td>&gt;9</td>\n",
       "      <td>2 to 10</td>\n",
       "      <td>5 to 5.5</td>\n",
       "      <td>5 to 10</td>\n",
       "      <td>&gt;40</td>\n",
       "    </tr>\n",
       "    <tr>\n",
       "      <th>2022-07-01</th>\n",
       "      <td>4.5 to 5.0</td>\n",
       "      <td>5 to 5.30</td>\n",
       "      <td>0 to 2</td>\n",
       "      <td>&gt;15</td>\n",
       "      <td>&gt;6</td>\n",
       "      <td>&gt;9</td>\n",
       "      <td>2 to 10</td>\n",
       "      <td>5 to 5.5</td>\n",
       "      <td>5 to 10</td>\n",
       "      <td>&gt;40</td>\n",
       "    </tr>\n",
       "    <tr>\n",
       "      <th>2022-08-01</th>\n",
       "      <td>4.5 to 5.0</td>\n",
       "      <td>5 to 5.30</td>\n",
       "      <td>0 to 2</td>\n",
       "      <td>&gt;15</td>\n",
       "      <td>&gt;6</td>\n",
       "      <td>&gt;9</td>\n",
       "      <td>2 to 10</td>\n",
       "      <td>4.5 to 5</td>\n",
       "      <td>&gt;10</td>\n",
       "      <td>&gt;40</td>\n",
       "    </tr>\n",
       "    <tr>\n",
       "      <th>2022-09-01</th>\n",
       "      <td>5.0 to 5.5</td>\n",
       "      <td>5.30 to 5.60</td>\n",
       "      <td>0 to 2</td>\n",
       "      <td>&gt;15</td>\n",
       "      <td>&gt;6</td>\n",
       "      <td>&gt;9</td>\n",
       "      <td>&lt;2</td>\n",
       "      <td>4.5 to 5</td>\n",
       "      <td>5 to 10</td>\n",
       "      <td>12 to 40</td>\n",
       "    </tr>\n",
       "  </tbody>\n",
       "</table>\n",
       "<p>93 rows × 10 columns</p>\n",
       "</div>"
      ],
      "text/plain": [
       "                    pr          wacr     rer      gpr     cpi       cgr  \\\n",
       "Date                                                                      \n",
       "2015-01-01  7.5 to 8.0         >7.10      >4      >15  2 to 6        >9   \n",
       "2015-02-01  7.5 to 8.0         >7.10      >4      >15  2 to 6  6.5 to 9   \n",
       "2015-03-01  7.0 to 7.5         >7.10      >4       <0  2 to 6        >9   \n",
       "2015-04-01  7.0 to 7.5         >7.10      >4  0 to 10  2 to 6        >9   \n",
       "2015-05-01  7.0 to 7.5         >7.10      >4       <0  2 to 6        >9   \n",
       "...                ...           ...     ...      ...     ...       ...   \n",
       "2022-05-01         <=4            <5  2 to 4      >15      >6        >9   \n",
       "2022-06-01  4.0 to 4.5            <5  0 to 2      >15      >6        >9   \n",
       "2022-07-01  4.5 to 5.0     5 to 5.30  0 to 2      >15      >6        >9   \n",
       "2022-08-01  4.5 to 5.0     5 to 5.30  0 to 2      >15      >6        >9   \n",
       "2022-09-01  5.0 to 5.5  5.30 to 5.60  0 to 2      >15      >6        >9   \n",
       "\n",
       "              astgr     gdpgr    invgr     nxpgr  \n",
       "Date                                              \n",
       "2015-01-01      >10  6.5 to 7      >10       <=0  \n",
       "2015-02-01      >10  7 to 7.5      >10       <=0  \n",
       "2015-03-01      >10  7.5 to 8      >10   0 to 12  \n",
       "2015-04-01      >10  7.5 to 8      >10  12 to 40  \n",
       "2015-05-01      >10  8 to 8.5      >10   0 to 12  \n",
       "...             ...       ...      ...       ...  \n",
       "2022-05-01  2 to 10  7.5 to 8  5 to 10       >40  \n",
       "2022-06-01  2 to 10  5 to 5.5  5 to 10       >40  \n",
       "2022-07-01  2 to 10  5 to 5.5  5 to 10       >40  \n",
       "2022-08-01  2 to 10  4.5 to 5      >10       >40  \n",
       "2022-09-01       <2  4.5 to 5  5 to 10  12 to 40  \n",
       "\n",
       "[93 rows x 10 columns]"
      ]
     },
     "execution_count": 25,
     "metadata": {},
     "output_type": "execute_result"
    }
   ],
   "source": [
    "df"
   ]
  },
  {
   "cell_type": "code",
   "execution_count": 26,
   "id": "a21a644b",
   "metadata": {},
   "outputs": [
    {
     "name": "stderr",
     "output_type": "stream",
     "text": [
      "C:\\Users\\NIYAZ AHMED\\anaconda3\\lib\\site-packages\\pgmpy\\models\\BayesianModel.py:8: FutureWarning: BayesianModel has been renamed to BayesianNetwork. Please use BayesianNetwork class, BayesianModel will be removed in future.\n",
      "  warnings.warn(\n"
     ]
    }
   ],
   "source": [
    "from pgmpy.models import BayesianModel\n",
    "\n",
    "model = BayesianModel([('pr', 'wacr'),   ('wacr', 'invgr'),   ('invgr', 'gdpgr'),\n",
    "                       ('gdpgr', 'cpi'), ('pr', 'rer'), ('rer', 'nxpgr'), ('nxpgr', 'gdpgr'), ('pr', 'cgr'), ('cgr', 'gdpgr'),\n",
    "                       ('cgr', 'cpi'),('wacr', 'astgr'), ('astgr', 'gdpgr'), ('cgr', 'astgr'), ('rer', 'cpi'), ('rer', 'astgr'),\n",
    "                       ('rer', 'cgr'),  ('wacr', 'rer'), ('wacr', 'cpi'),('gpr', 'cpi'), ('astgr', 'cpi')])"
   ]
  },
  {
   "cell_type": "code",
   "execution_count": 27,
   "id": "99f9ea70",
   "metadata": {},
   "outputs": [],
   "source": [
    "from pgmpy.models import BayesianModel\n",
    "\n",
    "model_complex = BayesianModel([('pr', 'wacr'),   ('wacr', 'invgr'),   ('invgr', 'gdpgr'),\n",
    "                       ('gdpgr', 'cpi'), ('wacr', 'rer'), ('rer', 'nxpgr'), ('nxpgr', 'gdpgr'), ('wacr', 'cgr'), ('cgr', 'gdpgr'),\n",
    "                       ('wacr', 'astgr'), ('astgr', 'gdpgr')])"
   ]
  },
  {
   "cell_type": "code",
   "execution_count": 28,
   "id": "7d9dbf67",
   "metadata": {},
   "outputs": [],
   "source": [
    "model_int  = BayesianModel([('pr', 'wacr'),   ('wacr', 'invgr'),   ('invgr', 'gdpgr'),\n",
    "                       ('gdpgr', 'cpi')])"
   ]
  },
  {
   "cell_type": "code",
   "execution_count": 29,
   "id": "f67a0c5c",
   "metadata": {},
   "outputs": [],
   "source": [
    "model_ex =  BayesianModel([('pr', 'wacr'), ('wacr', 'rer'), ('rer', 'nxpgr'), ('nxpgr', 'gdpgr'),('gdpgr', 'cpi')])"
   ]
  },
  {
   "cell_type": "code",
   "execution_count": 30,
   "id": "a502a4c7",
   "metadata": {},
   "outputs": [],
   "source": [
    "model_crdt = BayesianModel([('pr', 'wacr'), ('wacr', 'cgr'), ('cgr', 'gdpgr'),('gdpgr', 'cpi')])"
   ]
  },
  {
   "cell_type": "code",
   "execution_count": 31,
   "id": "52f97926",
   "metadata": {},
   "outputs": [],
   "source": [
    "model_astgr = BayesianModel([('pr', 'wacr'), ('wacr', 'astgr'), ('astgr', 'gdpgr'),('gdpgr', 'cpi')])"
   ]
  },
  {
   "cell_type": "code",
   "execution_count": 32,
   "id": "d3cc3fac",
   "metadata": {},
   "outputs": [],
   "source": [
    "df_int = df[['pr', 'wacr', 'invgr', 'gdpgr', 'cpi']]\n",
    "df_ex = df[['pr', 'wacr', 'rer', 'nxpgr', 'gdpgr', 'cpi']]\n",
    "df_crdt = df[['pr', 'wacr', 'cgr', 'gdpgr', 'cpi']]\n",
    "df_astgr = df[['pr', 'wacr', 'astgr', 'gdpgr', 'cpi']]"
   ]
  },
  {
   "cell_type": "code",
   "execution_count": 33,
   "id": "9e15d9a2",
   "metadata": {},
   "outputs": [
    {
     "data": {
      "text/html": [
       "<style>div.output_area pre {white-space: pre;}</style>"
      ],
      "text/plain": [
       "<IPython.core.display.HTML object>"
      ]
     },
     "metadata": {},
     "output_type": "display_data"
    },
    {
     "name": "stdout",
     "output_type": "stream",
     "text": [
      "Check model: True\n",
      "\n",
      "CPT of pr:\n",
      "+----------------+-----------+\n",
      "| pr(4.0 to 4.5) | 0.0362812 |\n",
      "+----------------+-----------+\n",
      "| pr(4.5 to 5.0) | 0.0260771 |\n",
      "+----------------+-----------+\n",
      "| pr(5.0 to 5.5) | 0.0873016 |\n",
      "+----------------+-----------+\n",
      "| pr(5.5 to 6.0) | 0.148526  |\n",
      "+----------------+-----------+\n",
      "| pr(6 to 6.5)   | 0.270975  |\n",
      "+----------------+-----------+\n",
      "| pr(6.5 to 7.0) | 0.0668934 |\n",
      "+----------------+-----------+\n",
      "| pr(7.0 to 7.5) | 0.0770975 |\n",
      "+----------------+-----------+\n",
      "| pr(7.5 to 8.0) | 0.0260771 |\n",
      "+----------------+-----------+\n",
      "| pr(<=4)        | 0.260771  |\n",
      "+----------------+-----------+ \n",
      "\n",
      "CPT of wacr:\n",
      "+--------------------+----------------+-----+---------------------+-----------------------+\n",
      "| pr                 | pr(4.0 to 4.5) | ... | pr(7.5 to 8.0)      | pr(<=4)               |\n",
      "+--------------------+----------------+-----+---------------------+-----------------------+\n",
      "| wacr(5 to 5.30)    | 0.01953125     | ... | 0.02717391304347826 | 0.0027173913043478264 |\n",
      "+--------------------+----------------+-----+---------------------+-----------------------+\n",
      "| wacr(5.30 to 5.60) | 0.01953125     | ... | 0.02717391304347826 | 0.0027173913043478264 |\n",
      "+--------------------+----------------+-----+---------------------+-----------------------+\n",
      "| wacr(5.60 to 5.90) | 0.01953125     | ... | 0.02717391304347826 | 0.0027173913043478264 |\n",
      "+--------------------+----------------+-----+---------------------+-----------------------+\n",
      "| wacr(5.90 to 6.20) | 0.01953125     | ... | 0.02717391304347826 | 0.0027173913043478264 |\n",
      "+--------------------+----------------+-----+---------------------+-----------------------+\n",
      "| wacr(6.20 to 6.50) | 0.01953125     | ... | 0.02717391304347826 | 0.0027173913043478264 |\n",
      "+--------------------+----------------+-----+---------------------+-----------------------+\n",
      "| wacr(6.50 to 6.80) | 0.01953125     | ... | 0.02717391304347826 | 0.0027173913043478264 |\n",
      "+--------------------+----------------+-----+---------------------+-----------------------+\n",
      "| wacr(<5)           | 0.86328125     | ... | 0.02717391304347826 | 0.9809782608695652    |\n",
      "+--------------------+----------------+-----+---------------------+-----------------------+\n",
      "| wacr(>7.10)        | 0.01953125     | ... | 0.8097826086956522  | 0.0027173913043478264 |\n",
      "+--------------------+----------------+-----+---------------------+-----------------------+ \n",
      "\n",
      "CPT of invgr:\n",
      "+----------------+---------------------+-----+---------------------+----------------------+\n",
      "| wacr           | wacr(5 to 5.30)     | ... | wacr(<5)            | wacr(>7.10)          |\n",
      "+----------------+---------------------+-----+---------------------+----------------------+\n",
      "| invgr(5 to 10) | 0.4774774774774775  | ... | 0.25955204216073785 | 0.1039426523297491   |\n",
      "+----------------+---------------------+-----+---------------------+----------------------+\n",
      "| invgr(<=5)     | 0.04504504504504505 | ... | 0.16469038208168643 | 0.017921146953405017 |\n",
      "+----------------+---------------------+-----+---------------------+----------------------+\n",
      "| invgr(>10)     | 0.4774774774774775  | ... | 0.5757575757575757  | 0.878136200716846    |\n",
      "+----------------+---------------------+-----+---------------------+----------------------+ \n",
      "\n",
      "CPT of gdpgr:\n",
      "+-----------------+---------------------+-----+----------------------+---------------------+\n",
      "| astgr           | astgr(2 to 10)      | ... | astgr(>10)           | astgr(>10)          |\n",
      "+-----------------+---------------------+-----+----------------------+---------------------+\n",
      "| cgr             | cgr(6.5 to 9)       | ... | cgr(>9)              | cgr(>9)             |\n",
      "+-----------------+---------------------+-----+----------------------+---------------------+\n",
      "| invgr           | invgr(5 to 10)      | ... | invgr(>10)           | invgr(>10)          |\n",
      "+-----------------+---------------------+-----+----------------------+---------------------+\n",
      "| nxpgr           | nxpgr(0 to 12)      | ... | nxpgr(<=0)           | nxpgr(>40)          |\n",
      "+-----------------+---------------------+-----+----------------------+---------------------+\n",
      "| gdpgr(0 to 2)   | 0.07142857142857142 | ... | 0.003160556257901389 | 0.07142857142857142 |\n",
      "+-----------------+---------------------+-----+----------------------+---------------------+\n",
      "| gdpgr(2 to 4)   | 0.07142857142857142 | ... | 0.003160556257901389 | 0.07142857142857142 |\n",
      "+-----------------+---------------------+-----+----------------------+---------------------+\n",
      "| gdpgr(4 to 4.5) | 0.07142857142857142 | ... | 0.003160556257901389 | 0.07142857142857142 |\n",
      "+-----------------+---------------------+-----+----------------------+---------------------+\n",
      "| gdpgr(4.5 to 5) | 0.07142857142857142 | ... | 0.003160556257901389 | 0.07142857142857142 |\n",
      "+-----------------+---------------------+-----+----------------------+---------------------+\n",
      "| gdpgr(5 to 5.5) | 0.07142857142857142 | ... | 0.003160556257901389 | 0.07142857142857142 |\n",
      "+-----------------+---------------------+-----+----------------------+---------------------+\n",
      "| gdpgr(5.5 to 6) | 0.07142857142857142 | ... | 0.003160556257901389 | 0.07142857142857142 |\n",
      "+-----------------+---------------------+-----+----------------------+---------------------+\n",
      "| gdpgr(6 to 6.5) | 0.07142857142857142 | ... | 0.003160556257901389 | 0.07142857142857142 |\n",
      "+-----------------+---------------------+-----+----------------------+---------------------+\n",
      "| gdpgr(6.5 to 7) | 0.07142857142857142 | ... | 0.9589127686472816   | 0.07142857142857142 |\n",
      "+-----------------+---------------------+-----+----------------------+---------------------+\n",
      "| gdpgr(7 to 7.5) | 0.07142857142857142 | ... | 0.003160556257901389 | 0.07142857142857142 |\n",
      "+-----------------+---------------------+-----+----------------------+---------------------+\n",
      "| gdpgr(7.5 to 8) | 0.07142857142857142 | ... | 0.003160556257901389 | 0.07142857142857142 |\n",
      "+-----------------+---------------------+-----+----------------------+---------------------+\n",
      "| gdpgr(8 to 8.5) | 0.07142857142857142 | ... | 0.003160556257901389 | 0.07142857142857142 |\n",
      "+-----------------+---------------------+-----+----------------------+---------------------+\n",
      "| gdpgr(8.5 to 9) | 0.07142857142857142 | ... | 0.003160556257901389 | 0.07142857142857142 |\n",
      "+-----------------+---------------------+-----+----------------------+---------------------+\n",
      "| gdpgr(<=0)      | 0.07142857142857142 | ... | 0.003160556257901389 | 0.07142857142857142 |\n",
      "+-----------------+---------------------+-----+----------------------+---------------------+\n",
      "| gdpgr(>9)       | 0.07142857142857142 | ... | 0.003160556257901389 | 0.07142857142857142 |\n",
      "+-----------------+---------------------+-----+----------------------+---------------------+ \n",
      "\n",
      "CPT of cpi:\n",
      "+-------------+--------------------+--------------------+-----+--------------------+--------------------+\n",
      "| astgr       | astgr(2 to 10)     | astgr(2 to 10)     | ... | astgr(>10)         | astgr(>10)         |\n",
      "+-------------+--------------------+--------------------+-----+--------------------+--------------------+\n",
      "| cgr         | cgr(6.5 to 9)      | cgr(6.5 to 9)      | ... | cgr(>9)            | cgr(>9)            |\n",
      "+-------------+--------------------+--------------------+-----+--------------------+--------------------+\n",
      "| gdpgr       | gdpgr(0 to 2)      | gdpgr(0 to 2)      | ... | gdpgr(>9)          | gdpgr(>9)          |\n",
      "+-------------+--------------------+--------------------+-----+--------------------+--------------------+\n",
      "| gpr         | gpr(0 to 10)       | gpr(0 to 10)       | ... | gpr(>15)           | gpr(>15)           |\n",
      "+-------------+--------------------+--------------------+-----+--------------------+--------------------+\n",
      "| rer         | rer(0 to 2)        | rer(0 to 2)        | ... | rer(>4)            | rer(>4)            |\n",
      "+-------------+--------------------+--------------------+-----+--------------------+--------------------+\n",
      "| wacr        | wacr(5 to 5.30)    | wacr(5.30 to 5.60) | ... | wacr(<5)           | wacr(>7.10)        |\n",
      "+-------------+--------------------+--------------------+-----+--------------------+--------------------+\n",
      "| cpi(2 to 6) | 0.3333333333333333 | 0.3333333333333333 | ... | 0.3333333333333333 | 0.3333333333333333 |\n",
      "+-------------+--------------------+--------------------+-----+--------------------+--------------------+\n",
      "| cpi(<2)     | 0.3333333333333333 | 0.3333333333333333 | ... | 0.3333333333333333 | 0.3333333333333333 |\n",
      "+-------------+--------------------+--------------------+-----+--------------------+--------------------+\n",
      "| cpi(>6)     | 0.3333333333333333 | 0.3333333333333333 | ... | 0.3333333333333333 | 0.3333333333333333 |\n",
      "+-------------+--------------------+--------------------+-----+--------------------+--------------------+ \n",
      "\n",
      "CPT of rer:\n",
      "+-------------+-----------------+--------------------+-----+-----------------------+-------------+\n",
      "| pr          | pr(4.0 to 4.5)  | pr(4.0 to 4.5)     | ... | pr(<=4)               | pr(<=4)     |\n",
      "+-------------+-----------------+--------------------+-----+-----------------------+-------------+\n",
      "| wacr        | wacr(5 to 5.30) | wacr(5.30 to 5.60) | ... | wacr(<5)              | wacr(>7.10) |\n",
      "+-------------+-----------------+--------------------+-----+-----------------------+-------------+\n",
      "| rer(0 to 2) | 0.25            | 0.25               | ... | 0.43947368421052635   | 0.25        |\n",
      "+-------------+-----------------+--------------------+-----+-----------------------+-------------+\n",
      "| rer(2 to 4) | 0.25            | 0.25               | ... | 0.16024930747922436   | 0.25        |\n",
      "+-------------+-----------------+--------------------+-----+-----------------------+-------------+\n",
      "| rer(<=0)    | 0.25            | 0.25               | ... | 0.39958448753462605   | 0.25        |\n",
      "+-------------+-----------------+--------------------+-----+-----------------------+-------------+\n",
      "| rer(>4)     | 0.25            | 0.25               | ... | 0.0006925207756232688 | 0.25        |\n",
      "+-------------+-----------------+--------------------+-----+-----------------------+-------------+ \n",
      "\n",
      "CPT of nxpgr:\n",
      "+-----------------+----------------------+---------------------+---------------------+---------------------+\n",
      "| rer             | rer(0 to 2)          | rer(2 to 4)         | rer(<=0)            | rer(>4)             |\n",
      "+-----------------+----------------------+---------------------+---------------------+---------------------+\n",
      "| nxpgr(0 to 12)  | 0.011467889908256881 | 0.19202898550724637 | 0.15825688073394495 | 0.16428571428571428 |\n",
      "+-----------------+----------------------+---------------------+---------------------+---------------------+\n",
      "| nxpgr(12 to 40) | 0.231651376146789    | 0.36594202898550726 | 0.30504587155963303 | 0.1261904761904762  |\n",
      "+-----------------+----------------------+---------------------+---------------------+---------------------+\n",
      "| nxpgr(<=0)      | 0.4151376146788991   | 0.3079710144927536  | 0.30504587155963303 | 0.430952380952381   |\n",
      "+-----------------+----------------------+---------------------+---------------------+---------------------+\n",
      "| nxpgr(>40)      | 0.34174311926605505  | 0.13405797101449277 | 0.231651376146789   | 0.2785714285714286  |\n",
      "+-----------------+----------------------+---------------------+---------------------+---------------------+ \n",
      "\n",
      "CPT of cgr:\n",
      "+---------------+--------------------+-----+--------------------+--------------------+\n",
      "| pr            | pr(4.0 to 4.5)     | ... | pr(<=4)            | pr(<=4)            |\n",
      "+---------------+--------------------+-----+--------------------+--------------------+\n",
      "| rer           | rer(0 to 2)        | ... | rer(<=0)           | rer(>4)            |\n",
      "+---------------+--------------------+-----+--------------------+--------------------+\n",
      "| cgr(6.5 to 9) | 0.3333333333333333 | ... | 0.3004566210045662 | 0.3333333333333333 |\n",
      "+---------------+--------------------+-----+--------------------+--------------------+\n",
      "| cgr(<6.5)     | 0.3333333333333333 | ... | 0.6949771689497717 | 0.3333333333333333 |\n",
      "+---------------+--------------------+-----+--------------------+--------------------+\n",
      "| cgr(>9)       | 0.3333333333333333 | ... | 0.0045662100456621 | 0.3333333333333333 |\n",
      "+---------------+--------------------+-----+--------------------+--------------------+ \n",
      "\n",
      "CPT of astgr:\n",
      "+----------------+--------------------+-----+--------------------+----------------------+\n",
      "| cgr            | cgr(6.5 to 9)      | ... | cgr(>9)            | cgr(>9)              |\n",
      "+----------------+--------------------+-----+--------------------+----------------------+\n",
      "| rer            | rer(0 to 2)        | ... | rer(>4)            | rer(>4)              |\n",
      "+----------------+--------------------+-----+--------------------+----------------------+\n",
      "| wacr           | wacr(5 to 5.30)    | ... | wacr(<5)           | wacr(>7.10)          |\n",
      "+----------------+--------------------+-----+--------------------+----------------------+\n",
      "| astgr(2 to 10) | 0.3333333333333333 | ... | 0.3333333333333333 | 0.002868617326448652 |\n",
      "+----------------+--------------------+-----+--------------------+----------------------+\n",
      "| astgr(<2)      | 0.3333333333333333 | ... | 0.3333333333333333 | 0.33333333333333337  |\n",
      "+----------------+--------------------+-----+--------------------+----------------------+\n",
      "| astgr(>10)     | 0.3333333333333333 | ... | 0.3333333333333333 | 0.663798049340218    |\n",
      "+----------------+--------------------+-----+--------------------+----------------------+ \n",
      "\n",
      "CPT of gpr:\n",
      "+--------------+----------+\n",
      "| gpr(0 to 10) | 0.221088 |\n",
      "+--------------+----------+\n",
      "| gpr(<0)      | 0.465986 |\n",
      "+--------------+----------+\n",
      "| gpr(>15)     | 0.312925 |\n",
      "+--------------+----------+ \n",
      "\n"
     ]
    }
   ],
   "source": [
    "from pgmpy.estimators import BayesianEstimator, MaximumLikelihoodEstimator\n",
    "from IPython.core.display import display, HTML\n",
    "\n",
    "# disable text wrapping in output cell\n",
    "display(HTML(\"<style>div.output_area pre {white-space: pre;}</style>\"))\n",
    "\n",
    "model.cpds = []\n",
    "model.fit(data=df,\n",
    "          estimator=BayesianEstimator,\n",
    "          prior_type=\"BDeu\")\n",
    "\n",
    "print(f'Check model: {model.check_model()}\\n')\n",
    "for cpd in model.get_cpds():\n",
    "    print(f'CPT of {cpd.variable}:')\n",
    "    print(cpd, '\\n')"
   ]
  },
  {
   "cell_type": "code",
   "execution_count": 34,
   "id": "d2338b3d",
   "metadata": {},
   "outputs": [
    {
     "data": {
      "text/plain": [
       "NodeView(('pr', 'wacr', 'invgr', 'gdpgr', 'cpi', 'rer', 'nxpgr', 'cgr', 'astgr', 'gpr'))"
      ]
     },
     "execution_count": 34,
     "metadata": {},
     "output_type": "execute_result"
    }
   ],
   "source": [
    "model.nodes"
   ]
  },
  {
   "cell_type": "code",
   "execution_count": 35,
   "id": "2764b480",
   "metadata": {},
   "outputs": [
    {
     "data": {
      "text/plain": [
       "OutEdgeView([('pr', 'wacr'), ('pr', 'rer'), ('pr', 'cgr'), ('wacr', 'invgr'), ('wacr', 'astgr'), ('wacr', 'rer'), ('wacr', 'cpi'), ('invgr', 'gdpgr'), ('gdpgr', 'cpi'), ('rer', 'nxpgr'), ('rer', 'cpi'), ('rer', 'astgr'), ('rer', 'cgr'), ('nxpgr', 'gdpgr'), ('cgr', 'gdpgr'), ('cgr', 'cpi'), ('cgr', 'astgr'), ('astgr', 'gdpgr'), ('astgr', 'cpi'), ('gpr', 'cpi')])"
      ]
     },
     "execution_count": 35,
     "metadata": {},
     "output_type": "execute_result"
    }
   ],
   "source": [
    "model.edges"
   ]
  },
  {
   "cell_type": "code",
   "execution_count": 36,
   "id": "66bed58a",
   "metadata": {},
   "outputs": [
    {
     "data": {
      "image/png": "[encoded data removed]",
      "text/plain": [
       "<Figure size 432x288 with 1 Axes>"
      ]
     },
     "metadata": {},
     "output_type": "display_data"
    },
    {
     "data": {
      "text/plain": [
       "<Figure size 6000x4000 with 0 Axes>"
      ]
     },
     "metadata": {},
     "output_type": "display_data"
    }
   ],
   "source": [
    "import networkx as nx\n",
    "import matplotlib.pyplot as plt\n",
    "\n",
    "# Create a directed graph object\n",
    "graph = nx.DiGraph()\n",
    "\n",
    "# Add nodes to the graph\n",
    "graph.add_nodes_from(['policy rate', 'credit growth', 'call rate', 'real exch.rate', 'asset growth',\n",
    "                      'Pol.uncertainty', 'inflation', 'GDP', 'investment', 'net export'])\n",
    "\n",
    "# Add edges to the graph\n",
    "graph.add_edges_from([('policy rate', 'call rate'),   ('call rate', 'investment'),   ('investment', 'GDP'),\n",
    "                       ('GDP', 'inflation'), ('policy rate', 'real exch.rate'), ('real exch.rate', 'net export')\n",
    "                      ,('net export', 'GDP') ,('policy rate', 'credit growth'), ('credit growth', 'GDP'),\n",
    "                       ('credit growth', 'inflation'),('call rate', 'asset growth'), ('asset growth', 'GDP')\n",
    "                      , ('credit growth', 'asset growth'), ('real exch.rate', 'inflation'), ('real exch.rate', 'asset growth'),\n",
    "                       ('real exch.rate', 'credit growth'),  ('call rate', 'real exch.rate'), ('call rate', 'inflation')\n",
    "                      ,('Pol.uncertainty', 'inflation'), ('asset growth', 'inflation')])\n",
    "\n",
    "# Set options for graph looks\n",
    "options = {\n",
    "    \"font_size\": 8,\n",
    "    \"node_size\": 2000,\n",
    "    \"node_color\": \"white\",\n",
    "    \"edgecolors\": \"red\",\n",
    "    \"linewidths\": 3,\n",
    "    \"width\": 3}\n",
    "\n",
    "\n",
    "# Draw the graph\n",
    "pos = {'policy rate': (0, 10), 'credit growth' : (5, 3), 'call rate': (0, 3), 'real exch.rate': (8, 7), 'asset growth':(10,-3)\n",
    "       , 'Pol.uncertainty':(-4,4), 'inflation':(2,-12), 'investment':(2.5,-1.8), 'net export':(8,-9), 'GDP':(-3,-5)}\n",
    "nx.draw(graph, with_labels=True, font_weight='bold', pos = pos,   **options)\n",
    "plt.title('Directed Acyclic Graph')\n",
    "plt.figure( dpi = 1000)\n",
    "plt.show()\n"
   ]
  },
  {
   "cell_type": "raw",
   "id": "98ba3f4e",
   "metadata": {},
   "source": [
    "import networkx as nx\n",
    "import matplotlib.pyplot as plt\n",
    "\n",
    "# Create a directed graph object\n",
    "graph = nx.DiGraph()\n",
    "\n",
    "# Add nodes to the graph\n",
    "graph.add_nodes_from(['policy rate', 'credit growth', 'call rate', 'real exch.rate', 'asset growth',\n",
    "                      'Pol.uncertainty', 'inflation', 'GDP', 'investment', 'net export'])\n",
    "\n",
    "# Add edges to the graph\n",
    "graph.add_edges_from([('policy rate', 'call rate'),   ('call rate', 'investment'),   ('investment', 'GDP'),\n",
    "                       ('GDP', 'inflation'),  ('real exch.rate', 'net export')\n",
    "                      ,('net export', 'GDP') ,('policy rate', 'credit growth'), ('credit growth', 'GDP'),\n",
    "                       ('credit growth', 'inflation'),('call rate', 'asset growth'), ('asset growth', 'GDP')\n",
    "                      , ('credit growth', 'asset growth'), ('real exch.rate', 'inflation'), ('real exch.rate', 'asset growth'),\n",
    "                       ('real exch.rate', 'credit growth'),  ('call rate', 'real exch.rate'), ('call rate', 'inflation')\n",
    "                      ,('Pol.uncertainty', 'inflation'), ('asset growth', 'inflation')])\n",
    "\n",
    "# Set options for graph looks\n",
    "options = {\n",
    "    \"font_size\": 8,\n",
    "    \"node_size\": 2000,\n",
    "    \"node_color\": \"white\",\n",
    "    \"edgecolors\": \"red\",\n",
    "    \"linewidths\": 3,\n",
    "    \"width\": 3}\n",
    "\n",
    "\n",
    "# Draw the graph\n",
    "pos = {'policy rate': (0, 10), 'credit growth' : (5, 3), 'call rate': (0, 3), 'real exch.rate': (8, 7), 'asset growth':(10,-3)\n",
    "       , 'Pol.uncertainty':(-4,4), 'inflation':(2,-12), 'investment':(2.5,-1.8), 'net export':(8,-9), 'GDP':(-3,-5)}\n",
    "nx.draw(graph, with_labels=True, font_weight='bold', pos = pos,   **options)\n",
    "plt.title('Directed Acyclic Graph')\n",
    "plt.figure( dpi = 1000)\n",
    "plt.show()\n"
   ]
  },
  {
   "cell_type": "code",
   "execution_count": 37,
   "id": "1667de56",
   "metadata": {},
   "outputs": [
    {
     "data": {
      "text/plain": [
       "Index(['pr', 'wacr', 'rer', 'gpr', 'cpi', 'cgr', 'astgr', 'gdpgr', 'invgr',\n",
       "       'nxpgr'],\n",
       "      dtype='object')"
      ]
     },
     "execution_count": 37,
     "metadata": {},
     "output_type": "execute_result"
    }
   ],
   "source": [
    "df.columns"
   ]
  },
  {
   "cell_type": "code",
   "execution_count": 38,
   "id": "81790ed8",
   "metadata": {},
   "outputs": [
    {
     "data": {
      "text/plain": [
       ">10        44\n",
       "5 to 10    25\n",
       "<=5        24\n",
       "Name: invgr, dtype: int64"
      ]
     },
     "execution_count": 38,
     "metadata": {},
     "output_type": "execute_result"
    }
   ],
   "source": [
    "df.invgr.value_counts()"
   ]
  },
  {
   "cell_type": "code",
   "execution_count": 39,
   "id": "c92cf954",
   "metadata": {},
   "outputs": [
    {
     "data": {
      "text/plain": [
       "<5              31\n",
       "5.90 to 6.20    17\n",
       "6.20 to 6.50    15\n",
       ">7.10           11\n",
       "5.60 to 5.90     8\n",
       "6.50 to 6.80     4\n",
       "5 to 5.30        4\n",
       "5.30 to 5.60     3\n",
       "Name: wacr, dtype: int64"
      ]
     },
     "execution_count": 39,
     "metadata": {},
     "output_type": "execute_result"
    }
   ],
   "source": [
    "df.wacr.value_counts()"
   ]
  },
  {
   "cell_type": "code",
   "execution_count": 40,
   "id": "2a0291f1",
   "metadata": {},
   "outputs": [
    {
     "data": {
      "text/plain": [
       ">10        44\n",
       "5 to 10    25\n",
       "<=5        24\n",
       "Name: invgr, dtype: int64"
      ]
     },
     "execution_count": 40,
     "metadata": {},
     "output_type": "execute_result"
    }
   ],
   "source": [
    "df.invgr.value_counts()"
   ]
  },
  {
   "cell_type": "code",
   "execution_count": 41,
   "id": "d53ae62c",
   "metadata": {},
   "outputs": [
    {
     "data": {
      "text/plain": [
       "6 to 6.5      26\n",
       "<=4           25\n",
       "5.5 to 6.0    14\n",
       "5.0 to 5.5     8\n",
       "7.0 to 7.5     7\n",
       "6.5 to 7.0     6\n",
       "4.0 to 4.5     3\n",
       "4.5 to 5.0     2\n",
       "7.5 to 8.0     2\n",
       "Name: pr, dtype: int64"
      ]
     },
     "execution_count": 41,
     "metadata": {},
     "output_type": "execute_result"
    }
   ],
   "source": [
    "df.pr.value_counts()"
   ]
  },
  {
   "cell_type": "code",
   "execution_count": 42,
   "id": "e7ec1003",
   "metadata": {},
   "outputs": [],
   "source": [
    "from pgmpy.inference import VariableElimination\n",
    "infer = VariableElimination(model)"
   ]
  },
  {
   "cell_type": "markdown",
   "id": "b40c6c0b",
   "metadata": {},
   "source": [
    "##### Tell me the probability distribution of cpi?"
   ]
  },
  {
   "cell_type": "raw",
   "id": "8b6443da",
   "metadata": {},
   "source": [
    "# Import pandas package\n",
    "import pandas as pd\n",
    "\n",
    "# Define a dictionary containing ICC rankings\n",
    "rankings = {'test': ['India', 'South Africa', 'England',\n",
    "\t\t\t\t\t\t\t'New Zealand', 'Australia'],\n",
    "\t\t\t'odi': ['England', 'India', 'New Zealand',\n",
    "\t\t\t\t\t\t\t'South Africa', 'Pakistan'],\n",
    "\t\t\t't20': ['Pakistan', 'India', 'Australia',\n",
    "\t\t\t\t\t\t\t'England', 'New Zealand']}\n",
    "\n",
    "# Convert the dictionary into DataFrame\n",
    "rankings_pd = pd.DataFrame(rankings)\n",
    "\n",
    "# Before renaming the columns\n",
    "print(rankings_pd.columns)\n",
    "\n",
    "rankings_pd.rename(columns = {'test':'TEST', 'odi':'ODI',\n",
    "\t\t\t\t\t\t\t't20':'T20'}, inplace = True)\n",
    "\n",
    "# After renaming the columns\n",
    "print(rankings_pd.columns)\n"
   ]
  },
  {
   "cell_type": "code",
   "execution_count": null,
   "id": "059479a3",
   "metadata": {},
   "outputs": [],
   "source": []
  },
  {
   "cell_type": "code",
   "execution_count": null,
   "id": "ba2ea106",
   "metadata": {},
   "outputs": [],
   "source": []
  },
  {
   "cell_type": "code",
   "execution_count": null,
   "id": "bf42633b",
   "metadata": {},
   "outputs": [],
   "source": []
  },
  {
   "cell_type": "code",
   "execution_count": null,
   "id": "9919d7d2",
   "metadata": {},
   "outputs": [],
   "source": []
  },
  {
   "cell_type": "code",
   "execution_count": null,
   "id": "6b3eed9a",
   "metadata": {},
   "outputs": [],
   "source": []
  },
  {
   "cell_type": "code",
   "execution_count": 43,
   "id": "6112815d",
   "metadata": {},
   "outputs": [],
   "source": [
    "#nx.DiGraph.add_nodes_from??"
   ]
  },
  {
   "cell_type": "code",
   "execution_count": 44,
   "id": "7b7ec505",
   "metadata": {},
   "outputs": [],
   "source": [
    "#dir(nx.DiGraph)"
   ]
  },
  {
   "cell_type": "markdown",
   "id": "fd5a06b0",
   "metadata": {},
   "source": [
    "# The Interest Rate Channel"
   ]
  },
  {
   "cell_type": "code",
   "execution_count": 45,
   "id": "820f93d7",
   "metadata": {},
   "outputs": [
    {
     "data": {
      "image/png": "[encoded data removed]",
      "text/plain": [
       "<Figure size 432x288 with 1 Axes>"
      ]
     },
     "metadata": {},
     "output_type": "display_data"
    },
    {
     "data": {
      "text/plain": [
       "<Figure size 6000x4000 with 0 Axes>"
      ]
     },
     "metadata": {},
     "output_type": "display_data"
    }
   ],
   "source": [
    "import networkx as nx\n",
    "import matplotlib.pyplot as plt\n",
    "\n",
    "# Create a directed graph object\n",
    "graph = nx.DiGraph()\n",
    "\n",
    "# Add nodes to the graph\n",
    "graph.add_nodes_from(['policy rate', 'call rate', 'inflation', 'GDP', 'investment', ])\n",
    "\n",
    "# Add edges to the graph\n",
    "graph.add_edges_from([('policy rate', 'call rate'),   ('call rate', 'investment'),   ('investment', 'GDP'),\n",
    "                       ('GDP', 'inflation')])\n",
    "# Set options for graph looks\n",
    "options = {\n",
    "    \"font_size\": 8,\n",
    "    \"node_size\": 2000,\n",
    "    \"node_color\": \"white\",\n",
    "    \"edgecolors\": \"red\",\n",
    "    \"linewidths\": 3,\n",
    "    \"width\": 3}\n",
    "\n",
    "\n",
    "# Draw the graph\n",
    "\n",
    "# Draw the graph\n",
    "\n",
    "nx.draw(graph, with_labels=True, font_weight='bold', pos = pos,   **options)\n",
    "plt.title('Directed Acyclic Graph')\n",
    "plt.figure( dpi = 1000)\n",
    "plt.show()\n",
    "\n"
   ]
  },
  {
   "cell_type": "code",
   "execution_count": 46,
   "id": "5f2cd967",
   "metadata": {},
   "outputs": [
    {
     "data": {
      "text/html": [
       "<style>div.output_area pre {white-space: pre;}</style>"
      ],
      "text/plain": [
       "<IPython.core.display.HTML object>"
      ]
     },
     "metadata": {},
     "output_type": "display_data"
    },
    {
     "name": "stdout",
     "output_type": "stream",
     "text": [
      "Check model: True\n",
      "\n",
      "CPT of pr:\n",
      "+----------------+-----------+\n",
      "| pr(4.0 to 4.5) | 0.0362812 |\n",
      "+----------------+-----------+\n",
      "| pr(4.5 to 5.0) | 0.0260771 |\n",
      "+----------------+-----------+\n",
      "| pr(5.0 to 5.5) | 0.0873016 |\n",
      "+----------------+-----------+\n",
      "| pr(5.5 to 6.0) | 0.148526  |\n",
      "+----------------+-----------+\n",
      "| pr(6 to 6.5)   | 0.270975  |\n",
      "+----------------+-----------+\n",
      "| pr(6.5 to 7.0) | 0.0668934 |\n",
      "+----------------+-----------+\n",
      "| pr(7.0 to 7.5) | 0.0770975 |\n",
      "+----------------+-----------+\n",
      "| pr(7.5 to 8.0) | 0.0260771 |\n",
      "+----------------+-----------+\n",
      "| pr(<=4)        | 0.260771  |\n",
      "+----------------+-----------+ \n",
      "\n",
      "CPT of wacr:\n",
      "+--------------------+----------------+-----+---------------------+-----------------------+\n",
      "| pr                 | pr(4.0 to 4.5) | ... | pr(7.5 to 8.0)      | pr(<=4)               |\n",
      "+--------------------+----------------+-----+---------------------+-----------------------+\n",
      "| wacr(5 to 5.30)    | 0.01953125     | ... | 0.02717391304347826 | 0.0027173913043478264 |\n",
      "+--------------------+----------------+-----+---------------------+-----------------------+\n",
      "| wacr(5.30 to 5.60) | 0.01953125     | ... | 0.02717391304347826 | 0.0027173913043478264 |\n",
      "+--------------------+----------------+-----+---------------------+-----------------------+\n",
      "| wacr(5.60 to 5.90) | 0.01953125     | ... | 0.02717391304347826 | 0.0027173913043478264 |\n",
      "+--------------------+----------------+-----+---------------------+-----------------------+\n",
      "| wacr(5.90 to 6.20) | 0.01953125     | ... | 0.02717391304347826 | 0.0027173913043478264 |\n",
      "+--------------------+----------------+-----+---------------------+-----------------------+\n",
      "| wacr(6.20 to 6.50) | 0.01953125     | ... | 0.02717391304347826 | 0.0027173913043478264 |\n",
      "+--------------------+----------------+-----+---------------------+-----------------------+\n",
      "| wacr(6.50 to 6.80) | 0.01953125     | ... | 0.02717391304347826 | 0.0027173913043478264 |\n",
      "+--------------------+----------------+-----+---------------------+-----------------------+\n",
      "| wacr(<5)           | 0.86328125     | ... | 0.02717391304347826 | 0.9809782608695652    |\n",
      "+--------------------+----------------+-----+---------------------+-----------------------+\n",
      "| wacr(>7.10)        | 0.01953125     | ... | 0.8097826086956522  | 0.0027173913043478264 |\n",
      "+--------------------+----------------+-----+---------------------+-----------------------+ \n",
      "\n",
      "CPT of invgr:\n",
      "+----------------+---------------------+-----+---------------------+----------------------+\n",
      "| wacr           | wacr(5 to 5.30)     | ... | wacr(<5)            | wacr(>7.10)          |\n",
      "+----------------+---------------------+-----+---------------------+----------------------+\n",
      "| invgr(5 to 10) | 0.4774774774774775  | ... | 0.25955204216073785 | 0.1039426523297491   |\n",
      "+----------------+---------------------+-----+---------------------+----------------------+\n",
      "| invgr(<=5)     | 0.04504504504504505 | ... | 0.16469038208168643 | 0.017921146953405017 |\n",
      "+----------------+---------------------+-----+---------------------+----------------------+\n",
      "| invgr(>10)     | 0.4774774774774775  | ... | 0.5757575757575757  | 0.878136200716846    |\n",
      "+----------------+---------------------+-----+---------------------+----------------------+ \n",
      "\n",
      "CPT of gdpgr:\n",
      "+-----------------+----------------------+----------------------+----------------------+\n",
      "| invgr           | invgr(5 to 10)       | invgr(<=5)           | invgr(>10)           |\n",
      "+-----------------+----------------------+----------------------+----------------------+\n",
      "| gdpgr(0 to 2)   | 0.004464285714285713 | 0.004638218923933209 | 0.024504692387904065 |\n",
      "+-----------------+----------------------+----------------------+----------------------+\n",
      "| gdpgr(2 to 4)   | 0.1169642857142857   | 0.12152133580705007  | 0.06830031282586027  |\n",
      "+-----------------+----------------------+----------------------+----------------------+\n",
      "| gdpgr(4 to 4.5) | 0.004464285714285713 | 0.16048237476808902  | 0.002606882168925964 |\n",
      "+-----------------+----------------------+----------------------+----------------------+\n",
      "| gdpgr(4.5 to 5) | 0.0794642857142857   | 0.2384044526901669   | 0.04640250260688217  |\n",
      "+-----------------+----------------------+----------------------+----------------------+\n",
      "| gdpgr(5 to 5.5) | 0.0794642857142857   | 0.08256029684601111  | 0.06830031282586027  |\n",
      "+-----------------+----------------------+----------------------+----------------------+\n",
      "| gdpgr(5.5 to 6) | 0.0794642857142857   | 0.004638218923933209 | 0.04640250260688217  |\n",
      "+-----------------+----------------------+----------------------+----------------------+\n",
      "| gdpgr(6 to 6.5) | 0.1169642857142857   | 0.04359925788497216  | 0.09019812304483836  |\n",
      "+-----------------+----------------------+----------------------+----------------------+\n",
      "| gdpgr(6.5 to 7) | 0.04196428571428571  | 0.004638218923933209 | 0.06830031282586027  |\n",
      "+-----------------+----------------------+----------------------+----------------------+\n",
      "| gdpgr(7 to 7.5) | 0.0794642857142857   | 0.16048237476808902  | 0.09019812304483836  |\n",
      "+-----------------+----------------------+----------------------+----------------------+\n",
      "| gdpgr(7.5 to 8) | 0.15446428571428567  | 0.004638218923933209 | 0.09019812304483836  |\n",
      "+-----------------+----------------------+----------------------+----------------------+\n",
      "| gdpgr(8 to 8.5) | 0.04196428571428571  | 0.04359925788497216  | 0.09019812304483836  |\n",
      "+-----------------+----------------------+----------------------+----------------------+\n",
      "| gdpgr(8.5 to 9) | 0.04196428571428571  | 0.08256029684601111  | 0.024504692387904065 |\n",
      "+-----------------+----------------------+----------------------+----------------------+\n",
      "| gdpgr(<=0)      | 0.004464285714285713 | 0.004638218923933209 | 0.15589155370177266  |\n",
      "+-----------------+----------------------+----------------------+----------------------+\n",
      "| gdpgr(>9)       | 0.15446428571428567  | 0.04359925788497216  | 0.13399374348279455  |\n",
      "+-----------------+----------------------+----------------------+----------------------+ \n",
      "\n",
      "CPT of cpi:\n",
      "+-------------+---------------------+-----+----------------------+----------------------+\n",
      "| gdpgr       | gdpgr(0 to 2)       | ... | gdpgr(<=0)           | gdpgr(>9)            |\n",
      "+-------------+---------------------+-----+----------------------+----------------------+\n",
      "| cpi(2 to 6) | 0.08771929824561403 | ... | 0.15210355987055016  | 0.5387840670859539   |\n",
      "+-------------+---------------------+-----+----------------------+----------------------+\n",
      "| cpi(<2)     | 0.08771929824561403 | ... | 0.016181229773462782 | 0.010482180293501049 |\n",
      "+-------------+---------------------+-----+----------------------+----------------------+\n",
      "| cpi(>6)     | 0.8245614035087719  | ... | 0.8317152103559871   | 0.4507337526205451   |\n",
      "+-------------+---------------------+-----+----------------------+----------------------+ \n",
      "\n"
     ]
    }
   ],
   "source": [
    "from pgmpy.estimators import BayesianEstimator, MaximumLikelihoodEstimator\n",
    "from IPython.core.display import display, HTML\n",
    "\n",
    "# disable text wrapping in output cell\n",
    "display(HTML(\"<style>div.output_area pre {white-space: pre;}</style>\"))\n",
    "\n",
    "model_int.cpds = []\n",
    "model_int.fit(data=df_int,\n",
    "          estimator=BayesianEstimator,\n",
    "          prior_type=\"BDeu\")\n",
    "\n",
    "print(f'Check model: {model_int.check_model()}\\n')\n",
    "for cpd in model_int.get_cpds():\n",
    "    print(f'CPT of {cpd.variable}:')\n",
    "    print(cpd, '\\n')"
   ]
  },
  {
   "cell_type": "code",
   "execution_count": 47,
   "id": "25f14143",
   "metadata": {},
   "outputs": [],
   "source": [
    "from pgmpy.inference import VariableElimination\n",
    "infer_int = VariableElimination(model_int)"
   ]
  },
  {
   "cell_type": "code",
   "execution_count": 48,
   "id": "0b73a8f2",
   "metadata": {},
   "outputs": [
    {
     "data": {
      "text/plain": [
       "NodeView(('pr', 'wacr', 'invgr', 'gdpgr', 'cpi'))"
      ]
     },
     "execution_count": 48,
     "metadata": {},
     "output_type": "execute_result"
    }
   ],
   "source": [
    "model_int.nodes"
   ]
  },
  {
   "cell_type": "code",
   "execution_count": 49,
   "id": "a6d3967a",
   "metadata": {},
   "outputs": [
    {
     "data": {
      "text/plain": [
       "6 to 6.5      26\n",
       "<=4           25\n",
       "5.5 to 6.0    14\n",
       "5.0 to 5.5     8\n",
       "7.0 to 7.5     7\n",
       "6.5 to 7.0     6\n",
       "4.0 to 4.5     3\n",
       "4.5 to 5.0     2\n",
       "7.5 to 8.0     2\n",
       "Name: pr, dtype: int64"
      ]
     },
     "execution_count": 49,
     "metadata": {},
     "output_type": "execute_result"
    }
   ],
   "source": [
    "df.pr.value_counts()"
   ]
  },
  {
   "cell_type": "code",
   "execution_count": 50,
   "id": "a94867ff",
   "metadata": {},
   "outputs": [
    {
     "name": "stdout",
     "output_type": "stream",
     "text": [
      "+--------------------+-------------+\n",
      "| wacr               |   phi(wacr) |\n",
      "+====================+=============+\n",
      "| wacr(5 to 5.30)    |      0.0026 |\n",
      "+--------------------+-------------+\n",
      "| wacr(5.30 to 5.60) |      0.0026 |\n",
      "+--------------------+-------------+\n",
      "| wacr(5.60 to 5.90) |      0.0026 |\n",
      "+--------------------+-------------+\n",
      "| wacr(5.90 to 6.20) |      0.4168 |\n",
      "+--------------------+-------------+\n",
      "| wacr(6.20 to 6.50) |      0.5675 |\n",
      "+--------------------+-------------+\n",
      "| wacr(6.50 to 6.80) |      0.0026 |\n",
      "+--------------------+-------------+\n",
      "| wacr(<5)           |      0.0026 |\n",
      "+--------------------+-------------+\n",
      "| wacr(>7.10)        |      0.0026 |\n",
      "+--------------------+-------------+\n"
     ]
    },
    {
     "name": "stderr",
     "output_type": "stream",
     "text": [
      "C:\\Users\\NIYAZ AHMED\\anaconda3\\lib\\site-packages\\pgmpy\\models\\BayesianModel.py:8: FutureWarning: BayesianModel has been renamed to BayesianNetwork. Please use BayesianNetwork class, BayesianModel will be removed in future.\n",
      "  warnings.warn(\n"
     ]
    }
   ],
   "source": [
    "print(infer_int.query(['wacr' ], evidence = {  'pr' : '6 to 6.5'}))"
   ]
  },
  {
   "cell_type": "code",
   "execution_count": 51,
   "id": "21514d1f",
   "metadata": {},
   "outputs": [
    {
     "name": "stdout",
     "output_type": "stream",
     "text": [
      "+----------------+--------------+\n",
      "| invgr          |   phi(invgr) |\n",
      "+================+==============+\n",
      "| invgr(5 to 10) |       0.3333 |\n",
      "+----------------+--------------+\n",
      "| invgr(<=5)     |       0.6533 |\n",
      "+----------------+--------------+\n",
      "| invgr(>10)     |       0.0133 |\n",
      "+----------------+--------------+\n"
     ]
    }
   ],
   "source": [
    "print(infer_int.query(['invgr' ], evidence = { 'pr' : '6 to 6.5', 'wacr' : '6.20 to 6.50'}))"
   ]
  },
  {
   "cell_type": "code",
   "execution_count": 52,
   "id": "d4885e70",
   "metadata": {},
   "outputs": [
    {
     "name": "stdout",
     "output_type": "stream",
     "text": [
      "+-----------------+--------------+\n",
      "| gdpgr           |   phi(gdpgr) |\n",
      "+=================+==============+\n",
      "| gdpgr(0 to 2)   |       0.0046 |\n",
      "+-----------------+--------------+\n",
      "| gdpgr(2 to 4)   |       0.1215 |\n",
      "+-----------------+--------------+\n",
      "| gdpgr(4 to 4.5) |       0.1605 |\n",
      "+-----------------+--------------+\n",
      "| gdpgr(4.5 to 5) |       0.2384 |\n",
      "+-----------------+--------------+\n",
      "| gdpgr(5 to 5.5) |       0.0826 |\n",
      "+-----------------+--------------+\n",
      "| gdpgr(5.5 to 6) |       0.0046 |\n",
      "+-----------------+--------------+\n",
      "| gdpgr(6 to 6.5) |       0.0436 |\n",
      "+-----------------+--------------+\n",
      "| gdpgr(6.5 to 7) |       0.0046 |\n",
      "+-----------------+--------------+\n",
      "| gdpgr(7 to 7.5) |       0.1605 |\n",
      "+-----------------+--------------+\n",
      "| gdpgr(7.5 to 8) |       0.0046 |\n",
      "+-----------------+--------------+\n",
      "| gdpgr(8 to 8.5) |       0.0436 |\n",
      "+-----------------+--------------+\n",
      "| gdpgr(8.5 to 9) |       0.0826 |\n",
      "+-----------------+--------------+\n",
      "| gdpgr(<=0)      |       0.0046 |\n",
      "+-----------------+--------------+\n",
      "| gdpgr(>9)       |       0.0436 |\n",
      "+-----------------+--------------+\n"
     ]
    }
   ],
   "source": [
    "print(infer_int.query(['gdpgr' ], evidence = { 'pr' : '6 to 6.5', 'wacr' : '6.20 to 6.50', 'invgr' : '<=5'}))"
   ]
  },
  {
   "cell_type": "code",
   "execution_count": 53,
   "id": "6f19295c",
   "metadata": {},
   "outputs": [
    {
     "name": "stdout",
     "output_type": "stream",
     "text": [
      "+-------------+------------+\n",
      "| cpi         |   phi(cpi) |\n",
      "+=============+============+\n",
      "| cpi(2 to 6) |     0.6874 |\n",
      "+-------------+------------+\n",
      "| cpi(<2)     |     0.1080 |\n",
      "+-------------+------------+\n",
      "| cpi(>6)     |     0.2046 |\n",
      "+-------------+------------+\n"
     ]
    }
   ],
   "source": [
    "print(infer_int.query(['cpi' ], evidence = { 'pr' : '6 to 6.5', 'wacr' : '6.20 to 6.50', 'invgr' : '<=5', 'gdpgr' : '4.5 to 5'}))"
   ]
  },
  {
   "cell_type": "code",
   "execution_count": 54,
   "id": "6071e955",
   "metadata": {},
   "outputs": [
    {
     "name": "stdout",
     "output_type": "stream",
     "text": [
      "+--------------------+-------------+\n",
      "| wacr               |   phi(wacr) |\n",
      "+====================+=============+\n",
      "| wacr(5 to 5.30)    |      0.0106 |\n",
      "+--------------------+-------------+\n",
      "| wacr(5.30 to 5.60) |      0.0106 |\n",
      "+--------------------+-------------+\n",
      "| wacr(5.60 to 5.90) |      0.0106 |\n",
      "+--------------------+-------------+\n",
      "| wacr(5.90 to 6.20) |      0.0106 |\n",
      "+--------------------+-------------+\n",
      "| wacr(6.20 to 6.50) |      0.0106 |\n",
      "+--------------------+-------------+\n",
      "| wacr(6.50 to 6.80) |      0.3157 |\n",
      "+--------------------+-------------+\n",
      "| wacr(<5)           |      0.0106 |\n",
      "+--------------------+-------------+\n",
      "| wacr(>7.10)        |      0.6208 |\n",
      "+--------------------+-------------+\n"
     ]
    }
   ],
   "source": [
    "print(infer_int.query(['wacr' ], evidence = {  'pr' : '6.5 to 7.0'}))"
   ]
  },
  {
   "cell_type": "code",
   "execution_count": 55,
   "id": "d03182db",
   "metadata": {},
   "outputs": [
    {
     "name": "stdout",
     "output_type": "stream",
     "text": [
      "+----------------+--------------+\n",
      "| invgr          |   phi(invgr) |\n",
      "+================+==============+\n",
      "| invgr(5 to 10) |       0.1039 |\n",
      "+----------------+--------------+\n",
      "| invgr(<=5)     |       0.0179 |\n",
      "+----------------+--------------+\n",
      "| invgr(>10)     |       0.8781 |\n",
      "+----------------+--------------+\n"
     ]
    }
   ],
   "source": [
    "print(infer_int.query(['invgr' ], evidence = { 'pr' : '6.5 to 7.0', 'wacr' : '>7.10'}))"
   ]
  },
  {
   "cell_type": "code",
   "execution_count": 56,
   "id": "6d94c2cb",
   "metadata": {},
   "outputs": [
    {
     "name": "stdout",
     "output_type": "stream",
     "text": [
      "+-----------------+--------------+\n",
      "| gdpgr           |   phi(gdpgr) |\n",
      "+=================+==============+\n",
      "| gdpgr(0 to 2)   |       0.0245 |\n",
      "+-----------------+--------------+\n",
      "| gdpgr(2 to 4)   |       0.0683 |\n",
      "+-----------------+--------------+\n",
      "| gdpgr(4 to 4.5) |       0.0026 |\n",
      "+-----------------+--------------+\n",
      "| gdpgr(4.5 to 5) |       0.0464 |\n",
      "+-----------------+--------------+\n",
      "| gdpgr(5 to 5.5) |       0.0683 |\n",
      "+-----------------+--------------+\n",
      "| gdpgr(5.5 to 6) |       0.0464 |\n",
      "+-----------------+--------------+\n",
      "| gdpgr(6 to 6.5) |       0.0902 |\n",
      "+-----------------+--------------+\n",
      "| gdpgr(6.5 to 7) |       0.0683 |\n",
      "+-----------------+--------------+\n",
      "| gdpgr(7 to 7.5) |       0.0902 |\n",
      "+-----------------+--------------+\n",
      "| gdpgr(7.5 to 8) |       0.0902 |\n",
      "+-----------------+--------------+\n",
      "| gdpgr(8 to 8.5) |       0.0902 |\n",
      "+-----------------+--------------+\n",
      "| gdpgr(8.5 to 9) |       0.0245 |\n",
      "+-----------------+--------------+\n",
      "| gdpgr(<=0)      |       0.1559 |\n",
      "+-----------------+--------------+\n",
      "| gdpgr(>9)       |       0.1340 |\n",
      "+-----------------+--------------+\n"
     ]
    }
   ],
   "source": [
    "print(infer_int.query(['gdpgr' ], evidence = { 'pr' : '6.5 to 7.0', 'wacr' : '>7.10', 'invgr' : '>10'}))"
   ]
  },
  {
   "cell_type": "code",
   "execution_count": 57,
   "id": "1f447cd6",
   "metadata": {},
   "outputs": [
    {
     "name": "stdout",
     "output_type": "stream",
     "text": [
      "+-------------+------------+\n",
      "| cpi         |   phi(cpi) |\n",
      "+=============+============+\n",
      "| cpi(2 to 6) |     0.1521 |\n",
      "+-------------+------------+\n",
      "| cpi(<2)     |     0.0162 |\n",
      "+-------------+------------+\n",
      "| cpi(>6)     |     0.8317 |\n",
      "+-------------+------------+\n"
     ]
    }
   ],
   "source": [
    "print(infer_int.query(['cpi' ], evidence = { 'pr' : '6.5 to 7.0', 'wacr' : '>7.10', 'invgr' : '>10', 'gdpgr' : '<=0'}))"
   ]
  },
  {
   "cell_type": "code",
   "execution_count": 58,
   "id": "336890ac",
   "metadata": {},
   "outputs": [
    {
     "name": "stdout",
     "output_type": "stream",
     "text": [
      "+--------------------+-------------+\n",
      "| wacr               |   phi(wacr) |\n",
      "+====================+=============+\n",
      "| wacr(5 to 5.30)    |      0.0092 |\n",
      "+--------------------+-------------+\n",
      "| wacr(5.30 to 5.60) |      0.0092 |\n",
      "+--------------------+-------------+\n",
      "| wacr(5.60 to 5.90) |      0.0092 |\n",
      "+--------------------+-------------+\n",
      "| wacr(5.90 to 6.20) |      0.0092 |\n",
      "+--------------------+-------------+\n",
      "| wacr(6.20 to 6.50) |      0.0092 |\n",
      "+--------------------+-------------+\n",
      "| wacr(6.50 to 6.80) |      0.2739 |\n",
      "+--------------------+-------------+\n",
      "| wacr(<5)           |      0.0092 |\n",
      "+--------------------+-------------+\n",
      "| wacr(>7.10)        |      0.6710 |\n",
      "+--------------------+-------------+\n"
     ]
    }
   ],
   "source": [
    "print(infer_int.query(['wacr' ], evidence = {'pr' : '7.0 to 7.5'}))"
   ]
  },
  {
   "cell_type": "code",
   "execution_count": 59,
   "id": "9fdd6352",
   "metadata": {},
   "outputs": [
    {
     "name": "stdout",
     "output_type": "stream",
     "text": [
      "+----------------+--------------+\n",
      "| invgr          |   phi(invgr) |\n",
      "+================+==============+\n",
      "| invgr(5 to 10) |       0.1039 |\n",
      "+----------------+--------------+\n",
      "| invgr(<=5)     |       0.0179 |\n",
      "+----------------+--------------+\n",
      "| invgr(>10)     |       0.8781 |\n",
      "+----------------+--------------+\n"
     ]
    }
   ],
   "source": [
    "print(infer_int.query(['invgr' ], evidence = {'pr' : '7.0 to 7.5', 'wacr' : '>7.10'}))"
   ]
  },
  {
   "cell_type": "code",
   "execution_count": 60,
   "id": "0f4048ac",
   "metadata": {},
   "outputs": [
    {
     "name": "stdout",
     "output_type": "stream",
     "text": [
      "+-----------------+--------------+\n",
      "| gdpgr           |   phi(gdpgr) |\n",
      "+=================+==============+\n",
      "| gdpgr(0 to 2)   |       0.0245 |\n",
      "+-----------------+--------------+\n",
      "| gdpgr(2 to 4)   |       0.0683 |\n",
      "+-----------------+--------------+\n",
      "| gdpgr(4 to 4.5) |       0.0026 |\n",
      "+-----------------+--------------+\n",
      "| gdpgr(4.5 to 5) |       0.0464 |\n",
      "+-----------------+--------------+\n",
      "| gdpgr(5 to 5.5) |       0.0683 |\n",
      "+-----------------+--------------+\n",
      "| gdpgr(5.5 to 6) |       0.0464 |\n",
      "+-----------------+--------------+\n",
      "| gdpgr(6 to 6.5) |       0.0902 |\n",
      "+-----------------+--------------+\n",
      "| gdpgr(6.5 to 7) |       0.0683 |\n",
      "+-----------------+--------------+\n",
      "| gdpgr(7 to 7.5) |       0.0902 |\n",
      "+-----------------+--------------+\n",
      "| gdpgr(7.5 to 8) |       0.0902 |\n",
      "+-----------------+--------------+\n",
      "| gdpgr(8 to 8.5) |       0.0902 |\n",
      "+-----------------+--------------+\n",
      "| gdpgr(8.5 to 9) |       0.0245 |\n",
      "+-----------------+--------------+\n",
      "| gdpgr(<=0)      |       0.1559 |\n",
      "+-----------------+--------------+\n",
      "| gdpgr(>9)       |       0.1340 |\n",
      "+-----------------+--------------+\n"
     ]
    }
   ],
   "source": [
    "print(infer_int.query(['gdpgr' ], evidence = {'pr' : '7.0 to 7.5', 'wacr' : '>7.10', 'invgr' : '>10'}))"
   ]
  },
  {
   "cell_type": "code",
   "execution_count": 61,
   "id": "7d4d0fa6",
   "metadata": {},
   "outputs": [
    {
     "data": {
      "application/vnd.jupyter.widget-view+json": {
       "model_id": "ce61018ab4bc4f67aa0a03d98fbe742e",
       "version_major": 2,
       "version_minor": 0
      },
      "text/plain": [
       "0it [00:00, ?it/s]"
      ]
     },
     "metadata": {},
     "output_type": "display_data"
    },
    {
     "data": {
      "application/vnd.jupyter.widget-view+json": {
       "model_id": "8c9bb9c294ae43228759ee76ab2c1a00",
       "version_major": 2,
       "version_minor": 0
      },
      "text/plain": [
       "0it [00:00, ?it/s]"
      ]
     },
     "metadata": {},
     "output_type": "display_data"
    },
    {
     "name": "stdout",
     "output_type": "stream",
     "text": [
      "{'gdpgr': '<=0'}\n"
     ]
    }
   ],
   "source": [
    "print(infer_int.map_query(['gdpgr' ], evidence = {'pr' : '7.0 to 7.5', 'wacr' : '>7.10', 'invgr' : '>10'}))"
   ]
  },
  {
   "cell_type": "code",
   "execution_count": 62,
   "id": "342a8fa1",
   "metadata": {},
   "outputs": [
    {
     "name": "stdout",
     "output_type": "stream",
     "text": [
      "+-------------+------------+\n",
      "| cpi         |   phi(cpi) |\n",
      "+=============+============+\n",
      "| cpi(2 to 6) |     0.1521 |\n",
      "+-------------+------------+\n",
      "| cpi(<2)     |     0.0162 |\n",
      "+-------------+------------+\n",
      "| cpi(>6)     |     0.8317 |\n",
      "+-------------+------------+\n"
     ]
    }
   ],
   "source": [
    "print(infer_int.query(['cpi' ], evidence = {'pr' : '7.0 to 7.5', 'wacr' : '>7.10', 'invgr' : '>10', 'gdpgr' : '<=0'}))"
   ]
  },
  {
   "cell_type": "code",
   "execution_count": 63,
   "id": "f6d49140",
   "metadata": {},
   "outputs": [
    {
     "data": {
      "text/plain": [
       "OutEdgeView([('pr', 'wacr'), ('wacr', 'invgr'), ('invgr', 'gdpgr'), ('gdpgr', 'cpi')])"
      ]
     },
     "execution_count": 63,
     "metadata": {},
     "output_type": "execute_result"
    }
   ],
   "source": [
    "model_int.edges"
   ]
  },
  {
   "cell_type": "code",
   "execution_count": null,
   "id": "c7098bcb",
   "metadata": {},
   "outputs": [],
   "source": []
  },
  {
   "cell_type": "code",
   "execution_count": null,
   "id": "de1d6ef3",
   "metadata": {},
   "outputs": [],
   "source": []
  },
  {
   "cell_type": "code",
   "execution_count": null,
   "id": "cc9fd762",
   "metadata": {},
   "outputs": [],
   "source": []
  },
  {
   "cell_type": "markdown",
   "id": "cc129f6c",
   "metadata": {},
   "source": [
    "# The Exchange Rate Channel"
   ]
  },
  {
   "cell_type": "code",
   "execution_count": 64,
   "id": "952b551e",
   "metadata": {},
   "outputs": [
    {
     "data": {
      "text/plain": [
       "OutEdgeView([('pr', 'wacr'), ('wacr', 'rer'), ('rer', 'nxpgr'), ('nxpgr', 'gdpgr'), ('gdpgr', 'cpi')])"
      ]
     },
     "execution_count": 64,
     "metadata": {},
     "output_type": "execute_result"
    }
   ],
   "source": [
    "model_ex.edges"
   ]
  },
  {
   "cell_type": "code",
   "execution_count": 65,
   "id": "ddaabfdd",
   "metadata": {},
   "outputs": [
    {
     "data": {
      "image/png": "[encoded data removed]",
      "text/plain": [
       "<Figure size 432x288 with 1 Axes>"
      ]
     },
     "metadata": {},
     "output_type": "display_data"
    },
    {
     "data": {
      "text/plain": [
       "<Figure size 6000x4000 with 0 Axes>"
      ]
     },
     "metadata": {},
     "output_type": "display_data"
    }
   ],
   "source": [
    "import networkx as nx\n",
    "import matplotlib.pyplot as plt\n",
    "\n",
    "# Create a directed graph object\n",
    "graph = nx.DiGraph()\n",
    "\n",
    "# Add nodes to the graph\n",
    "graph.add_nodes_from(['policy rate',  'call rate', 'real exch.rate',  'inflation', 'GDP', 'net export'])\n",
    "\n",
    "# Add edges to the graph\n",
    "graph.add_edges_from([('policy rate', 'call rate'),   ('call rate', 'real exch.rate'),   \n",
    "                       ('GDP', 'inflation'),  ('real exch.rate', 'net export'), ('net export', 'GDP')])\n",
    "# Set options for graph looks\n",
    "options = {\n",
    "    \"font_size\": 8,\n",
    "    \"node_size\": 2000,\n",
    "    \"node_color\": \"white\",\n",
    "    \"edgecolors\": \"red\",\n",
    "    \"linewidths\": 3,\n",
    "    \"width\": 3}\n",
    "\n",
    "\n",
    "# Draw the graph\n",
    "\n",
    "nx.draw(graph, with_labels=True, font_weight='bold', pos = pos,   **options)\n",
    "plt.title('Directed Acyclic Graph')\n",
    "plt.figure( dpi = 1000)\n",
    "plt.show()\n"
   ]
  },
  {
   "cell_type": "code",
   "execution_count": 66,
   "id": "c009d05a",
   "metadata": {},
   "outputs": [
    {
     "data": {
      "text/html": [
       "<style>div.output_area pre {white-space: pre;}</style>"
      ],
      "text/plain": [
       "<IPython.core.display.HTML object>"
      ]
     },
     "metadata": {},
     "output_type": "display_data"
    },
    {
     "name": "stdout",
     "output_type": "stream",
     "text": [
      "Check model: True\n",
      "\n",
      "CPT of pr:\n",
      "+----------------+-----------+\n",
      "| pr(4.0 to 4.5) | 0.0362812 |\n",
      "+----------------+-----------+\n",
      "| pr(4.5 to 5.0) | 0.0260771 |\n",
      "+----------------+-----------+\n",
      "| pr(5.0 to 5.5) | 0.0873016 |\n",
      "+----------------+-----------+\n",
      "| pr(5.5 to 6.0) | 0.148526  |\n",
      "+----------------+-----------+\n",
      "| pr(6 to 6.5)   | 0.270975  |\n",
      "+----------------+-----------+\n",
      "| pr(6.5 to 7.0) | 0.0668934 |\n",
      "+----------------+-----------+\n",
      "| pr(7.0 to 7.5) | 0.0770975 |\n",
      "+----------------+-----------+\n",
      "| pr(7.5 to 8.0) | 0.0260771 |\n",
      "+----------------+-----------+\n",
      "| pr(<=4)        | 0.260771  |\n",
      "+----------------+-----------+ \n",
      "\n",
      "CPT of wacr:\n",
      "+--------------------+----------------+-----+---------------------+-----------------------+\n",
      "| pr                 | pr(4.0 to 4.5) | ... | pr(7.5 to 8.0)      | pr(<=4)               |\n",
      "+--------------------+----------------+-----+---------------------+-----------------------+\n",
      "| wacr(5 to 5.30)    | 0.01953125     | ... | 0.02717391304347826 | 0.0027173913043478264 |\n",
      "+--------------------+----------------+-----+---------------------+-----------------------+\n",
      "| wacr(5.30 to 5.60) | 0.01953125     | ... | 0.02717391304347826 | 0.0027173913043478264 |\n",
      "+--------------------+----------------+-----+---------------------+-----------------------+\n",
      "| wacr(5.60 to 5.90) | 0.01953125     | ... | 0.02717391304347826 | 0.0027173913043478264 |\n",
      "+--------------------+----------------+-----+---------------------+-----------------------+\n",
      "| wacr(5.90 to 6.20) | 0.01953125     | ... | 0.02717391304347826 | 0.0027173913043478264 |\n",
      "+--------------------+----------------+-----+---------------------+-----------------------+\n",
      "| wacr(6.20 to 6.50) | 0.01953125     | ... | 0.02717391304347826 | 0.0027173913043478264 |\n",
      "+--------------------+----------------+-----+---------------------+-----------------------+\n",
      "| wacr(6.50 to 6.80) | 0.01953125     | ... | 0.02717391304347826 | 0.0027173913043478264 |\n",
      "+--------------------+----------------+-----+---------------------+-----------------------+\n",
      "| wacr(<5)           | 0.86328125     | ... | 0.02717391304347826 | 0.9809782608695652    |\n",
      "+--------------------+----------------+-----+---------------------+-----------------------+\n",
      "| wacr(>7.10)        | 0.01953125     | ... | 0.8097826086956522  | 0.0027173913043478264 |\n",
      "+--------------------+----------------+-----+---------------------+-----------------------+ \n",
      "\n",
      "CPT of rer:\n",
      "+-------------+----------------------+-----+---------------------+----------------------+\n",
      "| wacr        | wacr(5 to 5.30)      | ... | wacr(<5)            | wacr(>7.10)          |\n",
      "+-------------+----------------------+-----+---------------------+----------------------+\n",
      "| rer(0 to 2) | 0.46621621621621623  | ... | 0.44762845849802374 | 0.013440860215053764 |\n",
      "+-------------+----------------------+-----+---------------------+----------------------+\n",
      "| rer(2 to 4) | 0.033783783783783786 | ... | 0.13142292490118576 | 0.013440860215053764 |\n",
      "+-------------+----------------------+-----+---------------------+----------------------+\n",
      "| rer(<=0)    | 0.033783783783783786 | ... | 0.3211462450592885  | 0.09946236559139784  |\n",
      "+-------------+----------------------+-----+---------------------+----------------------+\n",
      "| rer(>4)     | 0.46621621621621623  | ... | 0.09980237154150198 | 0.8736559139784946   |\n",
      "+-------------+----------------------+-----+---------------------+----------------------+ \n",
      "\n",
      "CPT of nxpgr:\n",
      "+-----------------+----------------------+---------------------+---------------------+---------------------+\n",
      "| rer             | rer(0 to 2)          | rer(2 to 4)         | rer(<=0)            | rer(>4)             |\n",
      "+-----------------+----------------------+---------------------+---------------------+---------------------+\n",
      "| nxpgr(0 to 12)  | 0.011467889908256881 | 0.19202898550724637 | 0.15825688073394495 | 0.16428571428571428 |\n",
      "+-----------------+----------------------+---------------------+---------------------+---------------------+\n",
      "| nxpgr(12 to 40) | 0.231651376146789    | 0.36594202898550726 | 0.30504587155963303 | 0.1261904761904762  |\n",
      "+-----------------+----------------------+---------------------+---------------------+---------------------+\n",
      "| nxpgr(<=0)      | 0.4151376146788991   | 0.3079710144927536  | 0.30504587155963303 | 0.430952380952381   |\n",
      "+-----------------+----------------------+---------------------+---------------------+---------------------+\n",
      "| nxpgr(>40)      | 0.34174311926605505  | 0.13405797101449277 | 0.231651376146789   | 0.2785714285714286  |\n",
      "+-----------------+----------------------+---------------------+---------------------+---------------------+ \n",
      "\n",
      "CPT of gdpgr:\n",
      "+-----------------+----------------------+-----------------------+-----------------------+-----------------------+\n",
      "| nxpgr           | nxpgr(0 to 12)       | nxpgr(12 to 40)       | nxpgr(<=0)            | nxpgr(>40)            |\n",
      "+-----------------+----------------------+-----------------------+-----------------------+-----------------------+\n",
      "| gdpgr(0 to 2)   | 0.007288629737609331 | 0.0036818851251840938 | 0.03004926108374384   | 0.0035360678925035346 |\n",
      "+-----------------+----------------------+-----------------------+-----------------------+-----------------------+\n",
      "| gdpgr(2 to 4)   | 0.007288629737609331 | 0.044918998527245936  | 0.22315270935960588   | 0.0035360678925035346 |\n",
      "+-----------------+----------------------+-----------------------+-----------------------+-----------------------+\n",
      "| gdpgr(4 to 4.5) | 0.007288629737609331 | 0.044918998527245936  | 0.03004926108374384   | 0.08274398868458271   |\n",
      "+-----------------+----------------------+-----------------------+-----------------------+-----------------------+\n",
      "| gdpgr(4.5 to 5) | 0.08892128279883382  | 0.1686303387334315    | 0.05763546798029557   | 0.1223479490806223    |\n",
      "+-----------------+----------------------+-----------------------+-----------------------+-----------------------+\n",
      "| gdpgr(5 to 5.5) | 0.007288629737609331 | 0.044918998527245936  | 0.03004926108374384   | 0.20155586987270147   |\n",
      "+-----------------+----------------------+-----------------------+-----------------------+-----------------------+\n",
      "| gdpgr(5.5 to 6) | 0.007288629737609331 | 0.0036818851251840938 | 0.0024630541871921183 | 0.16195190947666188   |\n",
      "+-----------------+----------------------+-----------------------+-----------------------+-----------------------+\n",
      "| gdpgr(6 to 6.5) | 0.08892128279883382  | 0.1686303387334315    | 0.0024630541871921183 | 0.1223479490806223    |\n",
      "+-----------------+----------------------+-----------------------+-----------------------+-----------------------+\n",
      "| gdpgr(6.5 to 7) | 0.17055393586005835  | 0.0036818851251840938 | 0.05763546798029557   | 0.0035360678925035346 |\n",
      "+-----------------+----------------------+-----------------------+-----------------------+-----------------------+\n",
      "| gdpgr(7 to 7.5) | 0.08892128279883382  | 0.2511045655375552    | 0.05763546798029557   | 0.04314002828854312   |\n",
      "+-----------------+----------------------+-----------------------+-----------------------+-----------------------+\n",
      "| gdpgr(7.5 to 8) | 0.08892128279883382  | 0.0861561119293078    | 0.0852216748768473    | 0.08274398868458271   |\n",
      "+-----------------+----------------------+-----------------------+-----------------------+-----------------------+\n",
      "| gdpgr(8 to 8.5) | 0.08892128279883382  | 0.0036818851251840938 | 0.14039408866995073   | 0.0035360678925035346 |\n",
      "+-----------------+----------------------+-----------------------+-----------------------+-----------------------+\n",
      "| gdpgr(8.5 to 9) | 0.08892128279883382  | 0.044918998527245936  | 0.05763546798029557   | 0.0035360678925035346 |\n",
      "+-----------------+----------------------+-----------------------+-----------------------+-----------------------+\n",
      "| gdpgr(<=0)      | 0.17055393586005835  | 0.0036818851251840938 | 0.14039408866995073   | 0.0035360678925035346 |\n",
      "+-----------------+----------------------+-----------------------+-----------------------+-----------------------+\n",
      "| gdpgr(>9)       | 0.08892128279883382  | 0.12739322533136965   | 0.0852216748768473    | 0.16195190947666188   |\n",
      "+-----------------+----------------------+-----------------------+-----------------------+-----------------------+ \n",
      "\n",
      "CPT of cpi:\n",
      "+-------------+---------------------+-----+----------------------+----------------------+\n",
      "| gdpgr       | gdpgr(0 to 2)       | ... | gdpgr(<=0)           | gdpgr(>9)            |\n",
      "+-------------+---------------------+-----+----------------------+----------------------+\n",
      "| cpi(2 to 6) | 0.08771929824561403 | ... | 0.15210355987055016  | 0.5387840670859539   |\n",
      "+-------------+---------------------+-----+----------------------+----------------------+\n",
      "| cpi(<2)     | 0.08771929824561403 | ... | 0.016181229773462782 | 0.010482180293501049 |\n",
      "+-------------+---------------------+-----+----------------------+----------------------+\n",
      "| cpi(>6)     | 0.8245614035087719  | ... | 0.8317152103559871   | 0.4507337526205451   |\n",
      "+-------------+---------------------+-----+----------------------+----------------------+ \n",
      "\n"
     ]
    }
   ],
   "source": [
    "from pgmpy.estimators import BayesianEstimator, MaximumLikelihoodEstimator\n",
    "from IPython.core.display import display, HTML\n",
    "\n",
    "# disable text wrapping in output cell\n",
    "display(HTML(\"<style>div.output_area pre {white-space: pre;}</style>\"))\n",
    "\n",
    "model_ex.cpds = []\n",
    "model_ex.fit(data=df_ex,\n",
    "          estimator=BayesianEstimator,\n",
    "          prior_type=\"BDeu\")\n",
    "\n",
    "print(f'Check model: {model_ex.check_model()}\\n')\n",
    "for cpd in model_ex.get_cpds():\n",
    "    print(f'CPT of {cpd.variable}:')\n",
    "    print(cpd, '\\n')"
   ]
  },
  {
   "cell_type": "code",
   "execution_count": 67,
   "id": "d8957e5b",
   "metadata": {},
   "outputs": [],
   "source": [
    "infer_ex = VariableElimination(model_ex)"
   ]
  },
  {
   "cell_type": "code",
   "execution_count": 68,
   "id": "51d0fabf",
   "metadata": {},
   "outputs": [
    {
     "data": {
      "text/plain": [
       "NodeView(('pr', 'wacr', 'rer', 'nxpgr', 'gdpgr', 'cpi'))"
      ]
     },
     "execution_count": 68,
     "metadata": {},
     "output_type": "execute_result"
    }
   ],
   "source": [
    "model_ex.nodes"
   ]
  },
  {
   "cell_type": "code",
   "execution_count": 69,
   "id": "4f9102fa",
   "metadata": {},
   "outputs": [
    {
     "data": {
      "text/plain": [
       "OutEdgeView([('pr', 'wacr'), ('wacr', 'rer'), ('rer', 'nxpgr'), ('nxpgr', 'gdpgr'), ('gdpgr', 'cpi')])"
      ]
     },
     "execution_count": 69,
     "metadata": {},
     "output_type": "execute_result"
    }
   ],
   "source": [
    "model_ex.edges"
   ]
  },
  {
   "cell_type": "code",
   "execution_count": 70,
   "id": "e5cc60ab",
   "metadata": {},
   "outputs": [
    {
     "name": "stdout",
     "output_type": "stream",
     "text": [
      "+-------------+------------+\n",
      "| rer         |   phi(rer) |\n",
      "+=============+============+\n",
      "| rer(0 to 2) |     0.3300 |\n",
      "+-------------+------------+\n",
      "| rer(2 to 4) |     0.1380 |\n",
      "+-------------+------------+\n",
      "| rer(<=0)    |     0.5220 |\n",
      "+-------------+------------+\n",
      "| rer(>4)     |     0.0100 |\n",
      "+-------------+------------+\n"
     ]
    },
    {
     "name": "stderr",
     "output_type": "stream",
     "text": [
      "C:\\Users\\NIYAZ AHMED\\anaconda3\\lib\\site-packages\\pgmpy\\models\\BayesianModel.py:8: FutureWarning: BayesianModel has been renamed to BayesianNetwork. Please use BayesianNetwork class, BayesianModel will be removed in future.\n",
      "  warnings.warn(\n"
     ]
    }
   ],
   "source": [
    "print(infer_ex.query(['rer'], evidence = {'pr' : '6 to 6.5', 'wacr' : '6.20 to 6.50'}))"
   ]
  },
  {
   "cell_type": "code",
   "execution_count": 71,
   "id": "f8909299",
   "metadata": {},
   "outputs": [
    {
     "name": "stdout",
     "output_type": "stream",
     "text": [
      "+-----------------+--------------+\n",
      "| nxpgr           |   phi(nxpgr) |\n",
      "+=================+==============+\n",
      "| nxpgr(0 to 12)  |       0.1583 |\n",
      "+-----------------+--------------+\n",
      "| nxpgr(12 to 40) |       0.3050 |\n",
      "+-----------------+--------------+\n",
      "| nxpgr(<=0)      |       0.3050 |\n",
      "+-----------------+--------------+\n",
      "| nxpgr(>40)      |       0.2317 |\n",
      "+-----------------+--------------+\n"
     ]
    }
   ],
   "source": [
    "print(infer_ex.query(['nxpgr'], evidence = {'pr' : '6 to 6.5', 'wacr' : '6.20 to 6.50', 'rer' : '<=0'}))"
   ]
  },
  {
   "cell_type": "code",
   "execution_count": 72,
   "id": "08ad276c",
   "metadata": {},
   "outputs": [
    {
     "data": {
      "application/vnd.jupyter.widget-view+json": {
       "model_id": "9babbcb5c8fd4ebcb2e8a6f49e2f6de5",
       "version_major": 2,
       "version_minor": 0
      },
      "text/plain": [
       "0it [00:00, ?it/s]"
      ]
     },
     "metadata": {},
     "output_type": "display_data"
    },
    {
     "data": {
      "application/vnd.jupyter.widget-view+json": {
       "model_id": "38d3561f012e4ce9bc50f96f6fad4d68",
       "version_major": 2,
       "version_minor": 0
      },
      "text/plain": [
       "0it [00:00, ?it/s]"
      ]
     },
     "metadata": {},
     "output_type": "display_data"
    },
    {
     "name": "stdout",
     "output_type": "stream",
     "text": [
      "{'nxpgr': '12 to 40'}\n"
     ]
    }
   ],
   "source": [
    "print(infer_ex.map_query(['nxpgr'], evidence = {'pr' : '6 to 6.5', 'wacr' : '6.20 to 6.50', 'rer' : '<=0'}))"
   ]
  },
  {
   "cell_type": "code",
   "execution_count": 73,
   "id": "3eab64cb",
   "metadata": {},
   "outputs": [
    {
     "name": "stdout",
     "output_type": "stream",
     "text": [
      "+-----------------+--------------+\n",
      "| gdpgr           |   phi(gdpgr) |\n",
      "+=================+==============+\n",
      "| gdpgr(0 to 2)   |       0.0037 |\n",
      "+-----------------+--------------+\n",
      "| gdpgr(2 to 4)   |       0.0449 |\n",
      "+-----------------+--------------+\n",
      "| gdpgr(4 to 4.5) |       0.0449 |\n",
      "+-----------------+--------------+\n",
      "| gdpgr(4.5 to 5) |       0.1686 |\n",
      "+-----------------+--------------+\n",
      "| gdpgr(5 to 5.5) |       0.0449 |\n",
      "+-----------------+--------------+\n",
      "| gdpgr(5.5 to 6) |       0.0037 |\n",
      "+-----------------+--------------+\n",
      "| gdpgr(6 to 6.5) |       0.1686 |\n",
      "+-----------------+--------------+\n",
      "| gdpgr(6.5 to 7) |       0.0037 |\n",
      "+-----------------+--------------+\n",
      "| gdpgr(7 to 7.5) |       0.2511 |\n",
      "+-----------------+--------------+\n",
      "| gdpgr(7.5 to 8) |       0.0862 |\n",
      "+-----------------+--------------+\n",
      "| gdpgr(8 to 8.5) |       0.0037 |\n",
      "+-----------------+--------------+\n",
      "| gdpgr(8.5 to 9) |       0.0449 |\n",
      "+-----------------+--------------+\n",
      "| gdpgr(<=0)      |       0.0037 |\n",
      "+-----------------+--------------+\n",
      "| gdpgr(>9)       |       0.1274 |\n",
      "+-----------------+--------------+\n"
     ]
    }
   ],
   "source": [
    "print(infer_ex.query(['gdpgr'], evidence = {'pr' : '6 to 6.5', 'wacr' : '6.20 to 6.50', 'rer' : '<=0', 'nxpgr' : '12 to 40'}))"
   ]
  },
  {
   "cell_type": "code",
   "execution_count": 74,
   "id": "6292b693",
   "metadata": {},
   "outputs": [
    {
     "data": {
      "application/vnd.jupyter.widget-view+json": {
       "model_id": "05c03fa972de4c89b8e1017afde0886e",
       "version_major": 2,
       "version_minor": 0
      },
      "text/plain": [
       "0it [00:00, ?it/s]"
      ]
     },
     "metadata": {},
     "output_type": "display_data"
    },
    {
     "data": {
      "application/vnd.jupyter.widget-view+json": {
       "model_id": "8afa9ac210094136b563b1ae7dff2d5f",
       "version_major": 2,
       "version_minor": 0
      },
      "text/plain": [
       "0it [00:00, ?it/s]"
      ]
     },
     "metadata": {},
     "output_type": "display_data"
    },
    {
     "name": "stdout",
     "output_type": "stream",
     "text": [
      "{'gdpgr': '7 to 7.5'}\n"
     ]
    }
   ],
   "source": [
    "print(infer_ex.map_query(['gdpgr'], evidence = {'pr' : '6 to 6.5', 'wacr' : '6.20 to 6.50', 'rer' : '<=0', 'nxpgr' : '12 to 40'}))"
   ]
  },
  {
   "cell_type": "code",
   "execution_count": 75,
   "id": "8e828812",
   "metadata": {},
   "outputs": [
    {
     "name": "stdout",
     "output_type": "stream",
     "text": [
      "+-------------+------------+\n",
      "| cpi         |   phi(cpi) |\n",
      "+=============+============+\n",
      "| cpi(2 to 6) |     0.9770 |\n",
      "+-------------+------------+\n",
      "| cpi(<2)     |     0.0115 |\n",
      "+-------------+------------+\n",
      "| cpi(>6)     |     0.0115 |\n",
      "+-------------+------------+\n"
     ]
    }
   ],
   "source": [
    "print(infer_ex.query(['cpi'], evidence = {'pr' : '6 to 6.5', 'wacr' : '6.20 to 6.50', 'rer' : '<=0', 'nxpgr' : '12 to 40'\n",
    "                                          , 'gdpgr' : '7 to 7.5'}))"
   ]
  },
  {
   "cell_type": "code",
   "execution_count": 76,
   "id": "39f5584a",
   "metadata": {},
   "outputs": [
    {
     "name": "stdout",
     "output_type": "stream",
     "text": [
      "+-------------+------------+\n",
      "| rer         |   phi(rer) |\n",
      "+=============+============+\n",
      "| rer(0 to 2) |     0.0134 |\n",
      "+-------------+------------+\n",
      "| rer(2 to 4) |     0.0134 |\n",
      "+-------------+------------+\n",
      "| rer(<=0)    |     0.0995 |\n",
      "+-------------+------------+\n",
      "| rer(>4)     |     0.8737 |\n",
      "+-------------+------------+\n"
     ]
    }
   ],
   "source": [
    "print(infer_ex.query(['rer'], evidence = {'pr' : '6.5 to 7.0', 'wacr' : '>7.10'}))"
   ]
  },
  {
   "cell_type": "code",
   "execution_count": 77,
   "id": "63246b85",
   "metadata": {},
   "outputs": [
    {
     "name": "stdout",
     "output_type": "stream",
     "text": [
      "+-----------------+--------------+\n",
      "| nxpgr           |   phi(nxpgr) |\n",
      "+=================+==============+\n",
      "| nxpgr(0 to 12)  |       0.1643 |\n",
      "+-----------------+--------------+\n",
      "| nxpgr(12 to 40) |       0.1262 |\n",
      "+-----------------+--------------+\n",
      "| nxpgr(<=0)      |       0.4310 |\n",
      "+-----------------+--------------+\n",
      "| nxpgr(>40)      |       0.2786 |\n",
      "+-----------------+--------------+\n"
     ]
    }
   ],
   "source": [
    "print(infer_ex.query(['nxpgr'], evidence = {'pr' : '6.5 to 7.0', 'wacr' : '>7.10', 'rer' : '>4'}))"
   ]
  },
  {
   "cell_type": "code",
   "execution_count": 78,
   "id": "f176eb9e",
   "metadata": {},
   "outputs": [
    {
     "name": "stdout",
     "output_type": "stream",
     "text": [
      "+-----------------+--------------+\n",
      "| gdpgr           |   phi(gdpgr) |\n",
      "+=================+==============+\n",
      "| gdpgr(0 to 2)   |       0.0300 |\n",
      "+-----------------+--------------+\n",
      "| gdpgr(2 to 4)   |       0.2232 |\n",
      "+-----------------+--------------+\n",
      "| gdpgr(4 to 4.5) |       0.0300 |\n",
      "+-----------------+--------------+\n",
      "| gdpgr(4.5 to 5) |       0.0576 |\n",
      "+-----------------+--------------+\n",
      "| gdpgr(5 to 5.5) |       0.0300 |\n",
      "+-----------------+--------------+\n",
      "| gdpgr(5.5 to 6) |       0.0025 |\n",
      "+-----------------+--------------+\n",
      "| gdpgr(6 to 6.5) |       0.0025 |\n",
      "+-----------------+--------------+\n",
      "| gdpgr(6.5 to 7) |       0.0576 |\n",
      "+-----------------+--------------+\n",
      "| gdpgr(7 to 7.5) |       0.0576 |\n",
      "+-----------------+--------------+\n",
      "| gdpgr(7.5 to 8) |       0.0852 |\n",
      "+-----------------+--------------+\n",
      "| gdpgr(8 to 8.5) |       0.1404 |\n",
      "+-----------------+--------------+\n",
      "| gdpgr(8.5 to 9) |       0.0576 |\n",
      "+-----------------+--------------+\n",
      "| gdpgr(<=0)      |       0.1404 |\n",
      "+-----------------+--------------+\n",
      "| gdpgr(>9)       |       0.0852 |\n",
      "+-----------------+--------------+\n"
     ]
    }
   ],
   "source": [
    "print(infer_ex.query(['gdpgr'], evidence = {'pr' : '6.5 to 7.0', 'wacr' : '>7.10', 'rer' : '>4', 'nxpgr': '<=0'}))"
   ]
  },
  {
   "cell_type": "code",
   "execution_count": 79,
   "id": "98813f70",
   "metadata": {},
   "outputs": [
    {
     "data": {
      "application/vnd.jupyter.widget-view+json": {
       "model_id": "3a4b77bb7a494de0a9e35b30d46dd3d7",
       "version_major": 2,
       "version_minor": 0
      },
      "text/plain": [
       "0it [00:00, ?it/s]"
      ]
     },
     "metadata": {},
     "output_type": "display_data"
    },
    {
     "data": {
      "application/vnd.jupyter.widget-view+json": {
       "model_id": "037f34da43a64c588d03ac2aab9f904f",
       "version_major": 2,
       "version_minor": 0
      },
      "text/plain": [
       "0it [00:00, ?it/s]"
      ]
     },
     "metadata": {},
     "output_type": "display_data"
    },
    {
     "name": "stdout",
     "output_type": "stream",
     "text": [
      "{'gdpgr': '2 to 4'}\n"
     ]
    }
   ],
   "source": [
    "print(infer_ex.map_query(['gdpgr'], evidence = {'pr' : '6.5 to 7.0', 'wacr' : '>7.10', 'rer' : '>4', 'nxpgr': '<=0'}))"
   ]
  },
  {
   "cell_type": "code",
   "execution_count": 80,
   "id": "8dba8d7e",
   "metadata": {},
   "outputs": [
    {
     "name": "stdout",
     "output_type": "stream",
     "text": [
      "+-------------+------------+\n",
      "| cpi         |   phi(cpi) |\n",
      "+=============+============+\n",
      "| cpi(2 to 6) |     0.6539 |\n",
      "+-------------+------------+\n",
      "| cpi(<2)     |     0.0127 |\n",
      "+-------------+------------+\n",
      "| cpi(>6)     |     0.3333 |\n",
      "+-------------+------------+\n"
     ]
    }
   ],
   "source": [
    "print(infer_ex.query(['cpi'], evidence = {'pr' : '6.5 to 7.0', 'wacr' : '>7.10', 'rer' : '>4', 'nxpgr': '<=0'\n",
    "                                          , 'gdpgr' : '2 to 4'}))"
   ]
  },
  {
   "cell_type": "code",
   "execution_count": 81,
   "id": "43598754",
   "metadata": {},
   "outputs": [
    {
     "name": "stdout",
     "output_type": "stream",
     "text": [
      "+--------------------+-------------+\n",
      "| wacr               |   phi(wacr) |\n",
      "+====================+=============+\n",
      "| wacr(5 to 5.30)    |      0.0092 |\n",
      "+--------------------+-------------+\n",
      "| wacr(5.30 to 5.60) |      0.0092 |\n",
      "+--------------------+-------------+\n",
      "| wacr(5.60 to 5.90) |      0.0092 |\n",
      "+--------------------+-------------+\n",
      "| wacr(5.90 to 6.20) |      0.0092 |\n",
      "+--------------------+-------------+\n",
      "| wacr(6.20 to 6.50) |      0.0092 |\n",
      "+--------------------+-------------+\n",
      "| wacr(6.50 to 6.80) |      0.2739 |\n",
      "+--------------------+-------------+\n",
      "| wacr(<5)           |      0.0092 |\n",
      "+--------------------+-------------+\n",
      "| wacr(>7.10)        |      0.6710 |\n",
      "+--------------------+-------------+\n"
     ]
    }
   ],
   "source": [
    "print(infer_ex.query(['wacr'], evidence = {'pr' : '7.0 to 7.5'}))"
   ]
  },
  {
   "cell_type": "code",
   "execution_count": 82,
   "id": "f849380e",
   "metadata": {},
   "outputs": [
    {
     "name": "stdout",
     "output_type": "stream",
     "text": [
      "+-------------+------------+\n",
      "| rer         |   phi(rer) |\n",
      "+=============+============+\n",
      "| rer(0 to 2) |     0.0134 |\n",
      "+-------------+------------+\n",
      "| rer(2 to 4) |     0.0134 |\n",
      "+-------------+------------+\n",
      "| rer(<=0)    |     0.0995 |\n",
      "+-------------+------------+\n",
      "| rer(>4)     |     0.8737 |\n",
      "+-------------+------------+\n"
     ]
    }
   ],
   "source": [
    "print(infer_ex.query(['rer'], evidence = {'pr' : '7.0 to 7.5', 'wacr' : '>7.10'}))"
   ]
  },
  {
   "cell_type": "code",
   "execution_count": 83,
   "id": "53e0aad6",
   "metadata": {},
   "outputs": [
    {
     "name": "stdout",
     "output_type": "stream",
     "text": [
      "+-----------------+--------------+\n",
      "| nxpgr           |   phi(nxpgr) |\n",
      "+=================+==============+\n",
      "| nxpgr(0 to 12)  |       0.1643 |\n",
      "+-----------------+--------------+\n",
      "| nxpgr(12 to 40) |       0.1262 |\n",
      "+-----------------+--------------+\n",
      "| nxpgr(<=0)      |       0.4310 |\n",
      "+-----------------+--------------+\n",
      "| nxpgr(>40)      |       0.2786 |\n",
      "+-----------------+--------------+\n"
     ]
    }
   ],
   "source": [
    "print(infer_ex.query(['nxpgr'], evidence = {'pr' : '7.0 to 7.5', 'wacr' : '>7.10', 'rer' : '>4'}))"
   ]
  },
  {
   "cell_type": "code",
   "execution_count": 84,
   "id": "8d0dbd25",
   "metadata": {},
   "outputs": [
    {
     "name": "stdout",
     "output_type": "stream",
     "text": [
      "+-----------------+--------------+\n",
      "| gdpgr           |   phi(gdpgr) |\n",
      "+=================+==============+\n",
      "| gdpgr(0 to 2)   |       0.0300 |\n",
      "+-----------------+--------------+\n",
      "| gdpgr(2 to 4)   |       0.2232 |\n",
      "+-----------------+--------------+\n",
      "| gdpgr(4 to 4.5) |       0.0300 |\n",
      "+-----------------+--------------+\n",
      "| gdpgr(4.5 to 5) |       0.0576 |\n",
      "+-----------------+--------------+\n",
      "| gdpgr(5 to 5.5) |       0.0300 |\n",
      "+-----------------+--------------+\n",
      "| gdpgr(5.5 to 6) |       0.0025 |\n",
      "+-----------------+--------------+\n",
      "| gdpgr(6 to 6.5) |       0.0025 |\n",
      "+-----------------+--------------+\n",
      "| gdpgr(6.5 to 7) |       0.0576 |\n",
      "+-----------------+--------------+\n",
      "| gdpgr(7 to 7.5) |       0.0576 |\n",
      "+-----------------+--------------+\n",
      "| gdpgr(7.5 to 8) |       0.0852 |\n",
      "+-----------------+--------------+\n",
      "| gdpgr(8 to 8.5) |       0.1404 |\n",
      "+-----------------+--------------+\n",
      "| gdpgr(8.5 to 9) |       0.0576 |\n",
      "+-----------------+--------------+\n",
      "| gdpgr(<=0)      |       0.1404 |\n",
      "+-----------------+--------------+\n",
      "| gdpgr(>9)       |       0.0852 |\n",
      "+-----------------+--------------+\n"
     ]
    }
   ],
   "source": [
    "print(infer_ex.query(['gdpgr'], evidence = {'pr' : '7.0 to 7.5', 'wacr' : '>7.10', 'rer' : '>4', 'nxpgr' : '<=0' }))"
   ]
  },
  {
   "cell_type": "code",
   "execution_count": 85,
   "id": "96f9d8bf",
   "metadata": {},
   "outputs": [
    {
     "data": {
      "application/vnd.jupyter.widget-view+json": {
       "model_id": "c475b083dafb43f0842527aad50e7f28",
       "version_major": 2,
       "version_minor": 0
      },
      "text/plain": [
       "0it [00:00, ?it/s]"
      ]
     },
     "metadata": {},
     "output_type": "display_data"
    },
    {
     "data": {
      "application/vnd.jupyter.widget-view+json": {
       "model_id": "0a857ea4b4164f3285f5561c2e926e52",
       "version_major": 2,
       "version_minor": 0
      },
      "text/plain": [
       "0it [00:00, ?it/s]"
      ]
     },
     "metadata": {},
     "output_type": "display_data"
    },
    {
     "name": "stdout",
     "output_type": "stream",
     "text": [
      "{'gdpgr': '2 to 4'}\n"
     ]
    }
   ],
   "source": [
    "print(infer_ex.map_query(['gdpgr'], evidence = {'pr' : '7.0 to 7.5', 'wacr' : '>7.10', 'rer' : '>4', 'nxpgr' : '<=0' }))"
   ]
  },
  {
   "cell_type": "code",
   "execution_count": 86,
   "id": "0a68ebc9",
   "metadata": {},
   "outputs": [
    {
     "name": "stdout",
     "output_type": "stream",
     "text": [
      "+-------------+------------+\n",
      "| cpi         |   phi(cpi) |\n",
      "+=============+============+\n",
      "| cpi(2 to 6) |     0.6539 |\n",
      "+-------------+------------+\n",
      "| cpi(<2)     |     0.0127 |\n",
      "+-------------+------------+\n",
      "| cpi(>6)     |     0.3333 |\n",
      "+-------------+------------+\n"
     ]
    }
   ],
   "source": [
    "print(infer_ex.query(['cpi'], evidence = {'pr' : '7.0 to 7.5', 'wacr' : '>7.10', 'rer' : '>4', 'nxpgr' : '<=0'\n",
    "                                          , 'gdpgr' : '2 to 4' }))"
   ]
  },
  {
   "cell_type": "markdown",
   "id": "9a011091",
   "metadata": {},
   "source": [
    "# Credit Channel"
   ]
  },
  {
   "cell_type": "code",
   "execution_count": 87,
   "id": "b09cafb0",
   "metadata": {},
   "outputs": [
    {
     "data": {
      "text/plain": [
       "OutEdgeView([('pr', 'wacr'), ('wacr', 'cgr'), ('cgr', 'gdpgr'), ('gdpgr', 'cpi')])"
      ]
     },
     "execution_count": 87,
     "metadata": {},
     "output_type": "execute_result"
    }
   ],
   "source": [
    "model_crdt.edges"
   ]
  },
  {
   "cell_type": "code",
   "execution_count": 88,
   "id": "e6bbd015",
   "metadata": {},
   "outputs": [
    {
     "data": {
      "image/png": "[encoded data removed]",
      "text/plain": [
       "<Figure size 432x288 with 1 Axes>"
      ]
     },
     "metadata": {},
     "output_type": "display_data"
    },
    {
     "data": {
      "text/plain": [
       "<Figure size 6000x4000 with 0 Axes>"
      ]
     },
     "metadata": {},
     "output_type": "display_data"
    }
   ],
   "source": [
    "import networkx as nx\n",
    "import matplotlib.pyplot as plt\n",
    "\n",
    "# Create a directed graph object\n",
    "graph = nx.DiGraph()\n",
    "\n",
    "# Add nodes to the graph\n",
    "graph.add_nodes_from(['policy rate',  'call rate', \n",
    "                       'inflation', 'GDP', 'credit growth'])\n",
    "\n",
    "# Add edges to the graph\n",
    "graph.add_edges_from([('policy rate', 'call rate'),\n",
    "                       ('call rate', 'credit growth'),  ('credit growth', 'GDP'),\n",
    "                       ('GDP', 'inflation')])\n",
    "\n",
    "# Set options for graph looks\n",
    "options = {\n",
    "    \"font_size\": 8,\n",
    "    \"node_size\": 2000,\n",
    "    \"node_color\": \"white\",\n",
    "    \"edgecolors\": \"red\",\n",
    "    \"linewidths\": 3,\n",
    "    \"width\": 3}\n",
    "\n",
    "\n",
    "# Draw the graph\n",
    "\n",
    "nx.draw(graph, with_labels=True, font_weight='bold', pos = pos,   **options)\n",
    "plt.title('Directed Acyclic Graph')\n",
    "plt.figure( dpi = 1000)\n",
    "plt.show()\n",
    "\n"
   ]
  },
  {
   "cell_type": "code",
   "execution_count": 89,
   "id": "94b7c0d6",
   "metadata": {},
   "outputs": [
    {
     "data": {
      "text/html": [
       "<style>div.output_area pre {white-space: pre;}</style>"
      ],
      "text/plain": [
       "<IPython.core.display.HTML object>"
      ]
     },
     "metadata": {},
     "output_type": "display_data"
    },
    {
     "name": "stdout",
     "output_type": "stream",
     "text": [
      "Check model: True\n",
      "\n",
      "CPT of pr:\n",
      "+----------------+-----------+\n",
      "| pr(4.0 to 4.5) | 0.0362812 |\n",
      "+----------------+-----------+\n",
      "| pr(4.5 to 5.0) | 0.0260771 |\n",
      "+----------------+-----------+\n",
      "| pr(5.0 to 5.5) | 0.0873016 |\n",
      "+----------------+-----------+\n",
      "| pr(5.5 to 6.0) | 0.148526  |\n",
      "+----------------+-----------+\n",
      "| pr(6 to 6.5)   | 0.270975  |\n",
      "+----------------+-----------+\n",
      "| pr(6.5 to 7.0) | 0.0668934 |\n",
      "+----------------+-----------+\n",
      "| pr(7.0 to 7.5) | 0.0770975 |\n",
      "+----------------+-----------+\n",
      "| pr(7.5 to 8.0) | 0.0260771 |\n",
      "+----------------+-----------+\n",
      "| pr(<=4)        | 0.260771  |\n",
      "+----------------+-----------+ \n",
      "\n",
      "CPT of wacr:\n",
      "+--------------------+----------------+-----+---------------------+-----------------------+\n",
      "| pr                 | pr(4.0 to 4.5) | ... | pr(7.5 to 8.0)      | pr(<=4)               |\n",
      "+--------------------+----------------+-----+---------------------+-----------------------+\n",
      "| wacr(5 to 5.30)    | 0.01953125     | ... | 0.02717391304347826 | 0.0027173913043478264 |\n",
      "+--------------------+----------------+-----+---------------------+-----------------------+\n",
      "| wacr(5.30 to 5.60) | 0.01953125     | ... | 0.02717391304347826 | 0.0027173913043478264 |\n",
      "+--------------------+----------------+-----+---------------------+-----------------------+\n",
      "| wacr(5.60 to 5.90) | 0.01953125     | ... | 0.02717391304347826 | 0.0027173913043478264 |\n",
      "+--------------------+----------------+-----+---------------------+-----------------------+\n",
      "| wacr(5.90 to 6.20) | 0.01953125     | ... | 0.02717391304347826 | 0.0027173913043478264 |\n",
      "+--------------------+----------------+-----+---------------------+-----------------------+\n",
      "| wacr(6.20 to 6.50) | 0.01953125     | ... | 0.02717391304347826 | 0.0027173913043478264 |\n",
      "+--------------------+----------------+-----+---------------------+-----------------------+\n",
      "| wacr(6.50 to 6.80) | 0.01953125     | ... | 0.02717391304347826 | 0.0027173913043478264 |\n",
      "+--------------------+----------------+-----+---------------------+-----------------------+\n",
      "| wacr(<5)           | 0.86328125     | ... | 0.02717391304347826 | 0.9809782608695652    |\n",
      "+--------------------+----------------+-----+---------------------+-----------------------+\n",
      "| wacr(>7.10)        | 0.01953125     | ... | 0.8097826086956522  | 0.0027173913043478264 |\n",
      "+--------------------+----------------+-----+---------------------+-----------------------+ \n",
      "\n",
      "CPT of cgr:\n",
      "+---------------+---------------------+-----+---------------------+----------------------+\n",
      "| wacr          | wacr(5 to 5.30)     | ... | wacr(<5)            | wacr(>7.10)          |\n",
      "+---------------+---------------------+-----+---------------------+----------------------+\n",
      "| cgr(6.5 to 9) | 0.4774774774774775  | ... | 0.386034255599473   | 0.36200716845878134  |\n",
      "+---------------+---------------------+-----+---------------------+----------------------+\n",
      "| cgr(<6.5)     | 0.04504504504504505 | ... | 0.4808959156785244  | 0.017921146953405017 |\n",
      "+---------------+---------------------+-----+---------------------+----------------------+\n",
      "| cgr(>9)       | 0.4774774774774775  | ... | 0.13306982872200263 | 0.6200716845878136   |\n",
      "+---------------+---------------------+-----+---------------------+----------------------+ \n",
      "\n",
      "CPT of gdpgr:\n",
      "+-----------------+---------------------+----------------------+-----------------------+\n",
      "| cgr             | cgr(6.5 to 9)       | cgr(<6.5)            | cgr(>9)               |\n",
      "+-----------------+---------------------+----------------------+-----------------------+\n",
      "| gdpgr(0 to 2)   | 0.00415282392026578 | 0.04536679536679537  | 0.0026652452025586345 |\n",
      "+-----------------+---------------------+----------------------+-----------------------+\n",
      "| gdpgr(2 to 4)   | 0.14368770764119598 | 0.08590733590733592  | 0.06982942430703623   |\n",
      "+-----------------+---------------------+----------------------+-----------------------+\n",
      "| gdpgr(4 to 4.5) | 0.07392026578073088 | 0.004826254826254826 | 0.0474413646055437    |\n",
      "+-----------------+---------------------+----------------------+-----------------------+\n",
      "| gdpgr(4.5 to 5) | 0.07392026578073088 | 0.004826254826254826 | 0.18176972281449888   |\n",
      "+-----------------+---------------------+----------------------+-----------------------+\n",
      "| gdpgr(5 to 5.5) | 0.00415282392026578 | 0.12644787644787647  | 0.09221748400852875   |\n",
      "+-----------------+---------------------+----------------------+-----------------------+\n",
      "| gdpgr(5.5 to 6) | 0.03903654485049833 | 0.04536679536679537  | 0.0474413646055437    |\n",
      "+-----------------+---------------------+----------------------+-----------------------+\n",
      "| gdpgr(6 to 6.5) | 0.07392026578073088 | 0.166988416988417    | 0.0474413646055437    |\n",
      "+-----------------+---------------------+----------------------+-----------------------+\n",
      "| gdpgr(6.5 to 7) | 0.03903654485049833 | 0.04536679536679537  | 0.0474413646055437    |\n",
      "+-----------------+---------------------+----------------------+-----------------------+\n",
      "| gdpgr(7 to 7.5) | 0.14368770764119598 | 0.04536679536679537  | 0.11460554371002128   |\n",
      "+-----------------+---------------------+----------------------+-----------------------+\n",
      "| gdpgr(7.5 to 8) | 0.10880398671096343 | 0.04536679536679537  | 0.09221748400852875   |\n",
      "+-----------------+---------------------+----------------------+-----------------------+\n",
      "| gdpgr(8 to 8.5) | 0.07392026578073088 | 0.004826254826254826 | 0.09221748400852875   |\n",
      "+-----------------+---------------------+----------------------+-----------------------+\n",
      "| gdpgr(8.5 to 9) | 0.00415282392026578 | 0.004826254826254826 | 0.09221748400852875   |\n",
      "+-----------------+---------------------+----------------------+-----------------------+\n",
      "| gdpgr(<=0)      | 0.10880398671096343 | 0.166988416988417    | 0.0026652452025586345 |\n",
      "+-----------------+---------------------+----------------------+-----------------------+\n",
      "| gdpgr(>9)       | 0.10880398671096343 | 0.20752895752895753  | 0.06982942430703623   |\n",
      "+-----------------+---------------------+----------------------+-----------------------+ \n",
      "\n",
      "CPT of cpi:\n",
      "+-------------+---------------------+-----+----------------------+----------------------+\n",
      "| gdpgr       | gdpgr(0 to 2)       | ... | gdpgr(<=0)           | gdpgr(>9)            |\n",
      "+-------------+---------------------+-----+----------------------+----------------------+\n",
      "| cpi(2 to 6) | 0.08771929824561403 | ... | 0.15210355987055016  | 0.5387840670859539   |\n",
      "+-------------+---------------------+-----+----------------------+----------------------+\n",
      "| cpi(<2)     | 0.08771929824561403 | ... | 0.016181229773462782 | 0.010482180293501049 |\n",
      "+-------------+---------------------+-----+----------------------+----------------------+\n",
      "| cpi(>6)     | 0.8245614035087719  | ... | 0.8317152103559871   | 0.4507337526205451   |\n",
      "+-------------+---------------------+-----+----------------------+----------------------+ \n",
      "\n"
     ]
    }
   ],
   "source": [
    "from pgmpy.estimators import BayesianEstimator, MaximumLikelihoodEstimator\n",
    "from IPython.core.display import display, HTML\n",
    "\n",
    "# disable text wrapping in output cell\n",
    "display(HTML(\"<style>div.output_area pre {white-space: pre;}</style>\"))\n",
    "\n",
    "model_crdt.cpds = []\n",
    "model_crdt.fit(data=df_crdt,\n",
    "          estimator=BayesianEstimator,\n",
    "          prior_type=\"BDeu\")\n",
    "\n",
    "print(f'Check model: {model_crdt.check_model()}\\n')\n",
    "for cpd in model_crdt.get_cpds():\n",
    "    print(f'CPT of {cpd.variable}:')\n",
    "    print(cpd, '\\n')"
   ]
  },
  {
   "cell_type": "code",
   "execution_count": 90,
   "id": "535ce43f",
   "metadata": {},
   "outputs": [],
   "source": [
    "infer_crdt = VariableElimination(model_crdt)"
   ]
  },
  {
   "cell_type": "code",
   "execution_count": 91,
   "id": "388795b0",
   "metadata": {},
   "outputs": [
    {
     "name": "stdout",
     "output_type": "stream",
     "text": [
      "+---------------+------------+\n",
      "| cgr           |   phi(cgr) |\n",
      "+===============+============+\n",
      "| cgr(6.5 to 9) |     0.2053 |\n",
      "+---------------+------------+\n",
      "| cgr(<6.5)     |     0.0133 |\n",
      "+---------------+------------+\n",
      "| cgr(>9)       |     0.7813 |\n",
      "+---------------+------------+\n"
     ]
    },
    {
     "name": "stderr",
     "output_type": "stream",
     "text": [
      "C:\\Users\\NIYAZ AHMED\\anaconda3\\lib\\site-packages\\pgmpy\\models\\BayesianModel.py:8: FutureWarning: BayesianModel has been renamed to BayesianNetwork. Please use BayesianNetwork class, BayesianModel will be removed in future.\n",
      "  warnings.warn(\n"
     ]
    }
   ],
   "source": [
    "print(infer_crdt.query(['cgr'], evidence = {'pr' : '6 to 6.5', 'wacr' : '6.20 to 6.50'}))"
   ]
  },
  {
   "cell_type": "code",
   "execution_count": 92,
   "id": "b39e928a",
   "metadata": {},
   "outputs": [
    {
     "name": "stdout",
     "output_type": "stream",
     "text": [
      "+-----------------+--------------+\n",
      "| gdpgr           |   phi(gdpgr) |\n",
      "+=================+==============+\n",
      "| gdpgr(0 to 2)   |       0.0027 |\n",
      "+-----------------+--------------+\n",
      "| gdpgr(2 to 4)   |       0.0698 |\n",
      "+-----------------+--------------+\n",
      "| gdpgr(4 to 4.5) |       0.0474 |\n",
      "+-----------------+--------------+\n",
      "| gdpgr(4.5 to 5) |       0.1818 |\n",
      "+-----------------+--------------+\n",
      "| gdpgr(5 to 5.5) |       0.0922 |\n",
      "+-----------------+--------------+\n",
      "| gdpgr(5.5 to 6) |       0.0474 |\n",
      "+-----------------+--------------+\n",
      "| gdpgr(6 to 6.5) |       0.0474 |\n",
      "+-----------------+--------------+\n",
      "| gdpgr(6.5 to 7) |       0.0474 |\n",
      "+-----------------+--------------+\n",
      "| gdpgr(7 to 7.5) |       0.1146 |\n",
      "+-----------------+--------------+\n",
      "| gdpgr(7.5 to 8) |       0.0922 |\n",
      "+-----------------+--------------+\n",
      "| gdpgr(8 to 8.5) |       0.0922 |\n",
      "+-----------------+--------------+\n",
      "| gdpgr(8.5 to 9) |       0.0922 |\n",
      "+-----------------+--------------+\n",
      "| gdpgr(<=0)      |       0.0027 |\n",
      "+-----------------+--------------+\n",
      "| gdpgr(>9)       |       0.0698 |\n",
      "+-----------------+--------------+\n"
     ]
    }
   ],
   "source": [
    "print(infer_crdt.query(['gdpgr'], evidence = {'pr' : '6 to 6.5', 'wacr' : '6.20 to 6.50', 'cgr' : '>9'}))"
   ]
  },
  {
   "cell_type": "code",
   "execution_count": 93,
   "id": "fa73e5b7",
   "metadata": {},
   "outputs": [
    {
     "data": {
      "application/vnd.jupyter.widget-view+json": {
       "model_id": "1a9e84c4c7284bb68591ce4567816aa8",
       "version_major": 2,
       "version_minor": 0
      },
      "text/plain": [
       "0it [00:00, ?it/s]"
      ]
     },
     "metadata": {},
     "output_type": "display_data"
    },
    {
     "data": {
      "application/vnd.jupyter.widget-view+json": {
       "model_id": "dc1bd1327b5046cb9a535c0b56dec62c",
       "version_major": 2,
       "version_minor": 0
      },
      "text/plain": [
       "0it [00:00, ?it/s]"
      ]
     },
     "metadata": {},
     "output_type": "display_data"
    },
    {
     "name": "stdout",
     "output_type": "stream",
     "text": [
      "{'gdpgr': '4.5 to 5'}\n"
     ]
    }
   ],
   "source": [
    "print(infer_crdt.map_query(['gdpgr'], evidence = {'pr' : '6 to 6.5', 'wacr' : '6.20 to 6.50', 'cgr' : '>9'}))"
   ]
  },
  {
   "cell_type": "code",
   "execution_count": 94,
   "id": "83b0d14b",
   "metadata": {},
   "outputs": [
    {
     "name": "stdout",
     "output_type": "stream",
     "text": [
      "+-------------+------------+\n",
      "| cpi         |   phi(cpi) |\n",
      "+=============+============+\n",
      "| cpi(2 to 6) |     0.6874 |\n",
      "+-------------+------------+\n",
      "| cpi(<2)     |     0.1080 |\n",
      "+-------------+------------+\n",
      "| cpi(>6)     |     0.2046 |\n",
      "+-------------+------------+\n"
     ]
    }
   ],
   "source": [
    "print(infer_crdt.query(['cpi'], evidence = {'pr' : '6 to 6.5', 'wacr' : '6.20 to 6.50', 'cgr' : '>9', 'gdpgr' : '4.5 to 5'}))"
   ]
  },
  {
   "cell_type": "code",
   "execution_count": 95,
   "id": "ca9e504c",
   "metadata": {},
   "outputs": [
    {
     "name": "stdout",
     "output_type": "stream",
     "text": [
      "+---------------+------------+\n",
      "| cgr           |   phi(cgr) |\n",
      "+===============+============+\n",
      "| cgr(6.5 to 9) |     0.3620 |\n",
      "+---------------+------------+\n",
      "| cgr(<6.5)     |     0.0179 |\n",
      "+---------------+------------+\n",
      "| cgr(>9)       |     0.6201 |\n",
      "+---------------+------------+\n"
     ]
    }
   ],
   "source": [
    "print(infer_crdt.query(['cgr'], evidence = {'pr' : '6.5 to 7.0', 'wacr' : '>7.10'}))"
   ]
  },
  {
   "cell_type": "code",
   "execution_count": 96,
   "id": "d5d04b4d",
   "metadata": {},
   "outputs": [
    {
     "name": "stdout",
     "output_type": "stream",
     "text": [
      "+-----------------+--------------+\n",
      "| gdpgr           |   phi(gdpgr) |\n",
      "+=================+==============+\n",
      "| gdpgr(0 to 2)   |       0.0027 |\n",
      "+-----------------+--------------+\n",
      "| gdpgr(2 to 4)   |       0.0698 |\n",
      "+-----------------+--------------+\n",
      "| gdpgr(4 to 4.5) |       0.0474 |\n",
      "+-----------------+--------------+\n",
      "| gdpgr(4.5 to 5) |       0.1818 |\n",
      "+-----------------+--------------+\n",
      "| gdpgr(5 to 5.5) |       0.0922 |\n",
      "+-----------------+--------------+\n",
      "| gdpgr(5.5 to 6) |       0.0474 |\n",
      "+-----------------+--------------+\n",
      "| gdpgr(6 to 6.5) |       0.0474 |\n",
      "+-----------------+--------------+\n",
      "| gdpgr(6.5 to 7) |       0.0474 |\n",
      "+-----------------+--------------+\n",
      "| gdpgr(7 to 7.5) |       0.1146 |\n",
      "+-----------------+--------------+\n",
      "| gdpgr(7.5 to 8) |       0.0922 |\n",
      "+-----------------+--------------+\n",
      "| gdpgr(8 to 8.5) |       0.0922 |\n",
      "+-----------------+--------------+\n",
      "| gdpgr(8.5 to 9) |       0.0922 |\n",
      "+-----------------+--------------+\n",
      "| gdpgr(<=0)      |       0.0027 |\n",
      "+-----------------+--------------+\n",
      "| gdpgr(>9)       |       0.0698 |\n",
      "+-----------------+--------------+\n"
     ]
    }
   ],
   "source": [
    "print(infer_crdt.query(['gdpgr'], evidence = {'pr' : '6.5 to 7.0', 'wacr' : '>7.10', 'cgr' : '>9'}))"
   ]
  },
  {
   "cell_type": "code",
   "execution_count": 97,
   "id": "1014c27d",
   "metadata": {},
   "outputs": [
    {
     "data": {
      "application/vnd.jupyter.widget-view+json": {
       "model_id": "e6f8a5effba54bc4b21ae143573441f5",
       "version_major": 2,
       "version_minor": 0
      },
      "text/plain": [
       "0it [00:00, ?it/s]"
      ]
     },
     "metadata": {},
     "output_type": "display_data"
    },
    {
     "data": {
      "application/vnd.jupyter.widget-view+json": {
       "model_id": "945681aa1cb545e6aad02f92697797a7",
       "version_major": 2,
       "version_minor": 0
      },
      "text/plain": [
       "0it [00:00, ?it/s]"
      ]
     },
     "metadata": {},
     "output_type": "display_data"
    },
    {
     "name": "stdout",
     "output_type": "stream",
     "text": [
      "{'gdpgr': '4.5 to 5'}\n"
     ]
    }
   ],
   "source": [
    "print(infer_crdt.map_query(['gdpgr'], evidence = {'pr' : '6.5 to 7.0', 'wacr' : '>7.10', 'cgr' : '>9'}))"
   ]
  },
  {
   "cell_type": "code",
   "execution_count": 98,
   "id": "e2a9bf26",
   "metadata": {},
   "outputs": [
    {
     "name": "stdout",
     "output_type": "stream",
     "text": [
      "+-------------+------------+\n",
      "| cpi         |   phi(cpi) |\n",
      "+=============+============+\n",
      "| cpi(2 to 6) |     0.6874 |\n",
      "+-------------+------------+\n",
      "| cpi(<2)     |     0.1080 |\n",
      "+-------------+------------+\n",
      "| cpi(>6)     |     0.2046 |\n",
      "+-------------+------------+\n"
     ]
    }
   ],
   "source": [
    "print(infer_crdt.query(['cpi'], evidence = {'pr' : '6.5 to 7.0', 'wacr' : '>7.10', 'cgr' : '>9', 'gdpgr': '4.5 to 5'}))"
   ]
  },
  {
   "cell_type": "code",
   "execution_count": 99,
   "id": "d74e409b",
   "metadata": {},
   "outputs": [
    {
     "name": "stdout",
     "output_type": "stream",
     "text": [
      "+---------------+------------+\n",
      "| cgr           |   phi(cgr) |\n",
      "+===============+============+\n",
      "| cgr(6.5 to 9) |     0.3620 |\n",
      "+---------------+------------+\n",
      "| cgr(<6.5)     |     0.0179 |\n",
      "+---------------+------------+\n",
      "| cgr(>9)       |     0.6201 |\n",
      "+---------------+------------+\n"
     ]
    }
   ],
   "source": [
    "print(infer_crdt.query(['cgr'], evidence = {'pr' : '7.0 to 7.5', 'wacr' : '>7.10'}))"
   ]
  },
  {
   "cell_type": "code",
   "execution_count": 100,
   "id": "26fd3b61",
   "metadata": {},
   "outputs": [
    {
     "name": "stdout",
     "output_type": "stream",
     "text": [
      "+-----------------+--------------+\n",
      "| gdpgr           |   phi(gdpgr) |\n",
      "+=================+==============+\n",
      "| gdpgr(0 to 2)   |       0.0027 |\n",
      "+-----------------+--------------+\n",
      "| gdpgr(2 to 4)   |       0.0698 |\n",
      "+-----------------+--------------+\n",
      "| gdpgr(4 to 4.5) |       0.0474 |\n",
      "+-----------------+--------------+\n",
      "| gdpgr(4.5 to 5) |       0.1818 |\n",
      "+-----------------+--------------+\n",
      "| gdpgr(5 to 5.5) |       0.0922 |\n",
      "+-----------------+--------------+\n",
      "| gdpgr(5.5 to 6) |       0.0474 |\n",
      "+-----------------+--------------+\n",
      "| gdpgr(6 to 6.5) |       0.0474 |\n",
      "+-----------------+--------------+\n",
      "| gdpgr(6.5 to 7) |       0.0474 |\n",
      "+-----------------+--------------+\n",
      "| gdpgr(7 to 7.5) |       0.1146 |\n",
      "+-----------------+--------------+\n",
      "| gdpgr(7.5 to 8) |       0.0922 |\n",
      "+-----------------+--------------+\n",
      "| gdpgr(8 to 8.5) |       0.0922 |\n",
      "+-----------------+--------------+\n",
      "| gdpgr(8.5 to 9) |       0.0922 |\n",
      "+-----------------+--------------+\n",
      "| gdpgr(<=0)      |       0.0027 |\n",
      "+-----------------+--------------+\n",
      "| gdpgr(>9)       |       0.0698 |\n",
      "+-----------------+--------------+\n"
     ]
    }
   ],
   "source": [
    "print(infer_crdt.query(['gdpgr'], evidence = {'pr' : '7.0 to 7.5', 'wacr' : '>7.10', 'cgr' : '>9'}))"
   ]
  },
  {
   "cell_type": "code",
   "execution_count": 101,
   "id": "20d6e5fc",
   "metadata": {},
   "outputs": [
    {
     "name": "stdout",
     "output_type": "stream",
     "text": [
      "+-------------+------------+\n",
      "| cpi         |   phi(cpi) |\n",
      "+=============+============+\n",
      "| cpi(2 to 6) |     0.6874 |\n",
      "+-------------+------------+\n",
      "| cpi(<2)     |     0.1080 |\n",
      "+-------------+------------+\n",
      "| cpi(>6)     |     0.2046 |\n",
      "+-------------+------------+\n"
     ]
    }
   ],
   "source": [
    "print(infer_crdt.query(['cpi'], evidence = {'pr' : '7.0 to 7.5', 'wacr' : '>7.10', 'cgr' : '>9', 'gdpgr' : '4.5 to 5'}))"
   ]
  },
  {
   "cell_type": "code",
   "execution_count": 102,
   "id": "8602c724",
   "metadata": {},
   "outputs": [
    {
     "data": {
      "text/plain": [
       "OutEdgeView([('pr', 'wacr'), ('wacr', 'cgr'), ('cgr', 'gdpgr'), ('gdpgr', 'cpi')])"
      ]
     },
     "execution_count": 102,
     "metadata": {},
     "output_type": "execute_result"
    }
   ],
   "source": [
    "model_crdt.edges"
   ]
  },
  {
   "cell_type": "markdown",
   "id": "f44f781d",
   "metadata": {},
   "source": [
    "# Asset Channel"
   ]
  },
  {
   "cell_type": "code",
   "execution_count": 103,
   "id": "89ad7a4f",
   "metadata": {},
   "outputs": [
    {
     "data": {
      "text/plain": [
       "OutEdgeView([('pr', 'wacr'), ('wacr', 'astgr'), ('astgr', 'gdpgr'), ('gdpgr', 'cpi')])"
      ]
     },
     "execution_count": 103,
     "metadata": {},
     "output_type": "execute_result"
    }
   ],
   "source": [
    "model_astgr.edges"
   ]
  },
  {
   "cell_type": "code",
   "execution_count": 104,
   "id": "1d74bea8",
   "metadata": {},
   "outputs": [
    {
     "data": {
      "image/png": "[encoded data removed]",
      "text/plain": [
       "<Figure size 432x288 with 1 Axes>"
      ]
     },
     "metadata": {},
     "output_type": "display_data"
    },
    {
     "data": {
      "text/plain": [
       "<Figure size 6000x4000 with 0 Axes>"
      ]
     },
     "metadata": {},
     "output_type": "display_data"
    }
   ],
   "source": [
    "import networkx as nx\n",
    "import matplotlib.pyplot as plt\n",
    "\n",
    "# Create a directed graph object\n",
    "graph = nx.DiGraph()\n",
    "\n",
    "# Add nodes to the graph\n",
    "graph.add_nodes_from(['policy rate', 'call rate', 'asset growth', 'inflation', 'GDP'])\n",
    "\n",
    "# Add edges to the graph\n",
    "graph.add_edges_from([('policy rate', 'call rate'), ('call rate', 'asset growth'), ('asset growth', 'GDP'), ('GDP', 'inflation')])\n",
    "\n",
    "# Set options for graph looks\n",
    "options = {\n",
    "    \"font_size\": 8,\n",
    "    \"node_size\": 2000,\n",
    "    \"node_color\": \"white\",\n",
    "    \"edgecolors\": \"red\",\n",
    "    \"linewidths\": 3,\n",
    "    \"width\": 3}\n",
    "\n",
    "\n",
    "# Draw the graph\n",
    "\n",
    "nx.draw(graph, with_labels=True, font_weight='bold', pos = pos,   **options)\n",
    "plt.title('Directed Acyclic Graph')\n",
    "plt.figure( dpi = 1000)\n",
    "plt.show()\n",
    "\n"
   ]
  },
  {
   "cell_type": "code",
   "execution_count": 105,
   "id": "5e75b8ca",
   "metadata": {},
   "outputs": [
    {
     "data": {
      "text/html": [
       "<style>div.output_area pre {white-space: pre;}</style>"
      ],
      "text/plain": [
       "<IPython.core.display.HTML object>"
      ]
     },
     "metadata": {},
     "output_type": "display_data"
    },
    {
     "name": "stdout",
     "output_type": "stream",
     "text": [
      "Check model: True\n",
      "\n",
      "CPT of pr:\n",
      "+----------------+-----------+\n",
      "| pr(4.0 to 4.5) | 0.0362812 |\n",
      "+----------------+-----------+\n",
      "| pr(4.5 to 5.0) | 0.0260771 |\n",
      "+----------------+-----------+\n",
      "| pr(5.0 to 5.5) | 0.0873016 |\n",
      "+----------------+-----------+\n",
      "| pr(5.5 to 6.0) | 0.148526  |\n",
      "+----------------+-----------+\n",
      "| pr(6 to 6.5)   | 0.270975  |\n",
      "+----------------+-----------+\n",
      "| pr(6.5 to 7.0) | 0.0668934 |\n",
      "+----------------+-----------+\n",
      "| pr(7.0 to 7.5) | 0.0770975 |\n",
      "+----------------+-----------+\n",
      "| pr(7.5 to 8.0) | 0.0260771 |\n",
      "+----------------+-----------+\n",
      "| pr(<=4)        | 0.260771  |\n",
      "+----------------+-----------+ \n",
      "\n",
      "CPT of wacr:\n",
      "+--------------------+----------------+-----+---------------------+-----------------------+\n",
      "| pr                 | pr(4.0 to 4.5) | ... | pr(7.5 to 8.0)      | pr(<=4)               |\n",
      "+--------------------+----------------+-----+---------------------+-----------------------+\n",
      "| wacr(5 to 5.30)    | 0.01953125     | ... | 0.02717391304347826 | 0.0027173913043478264 |\n",
      "+--------------------+----------------+-----+---------------------+-----------------------+\n",
      "| wacr(5.30 to 5.60) | 0.01953125     | ... | 0.02717391304347826 | 0.0027173913043478264 |\n",
      "+--------------------+----------------+-----+---------------------+-----------------------+\n",
      "| wacr(5.60 to 5.90) | 0.01953125     | ... | 0.02717391304347826 | 0.0027173913043478264 |\n",
      "+--------------------+----------------+-----+---------------------+-----------------------+\n",
      "| wacr(5.90 to 6.20) | 0.01953125     | ... | 0.02717391304347826 | 0.0027173913043478264 |\n",
      "+--------------------+----------------+-----+---------------------+-----------------------+\n",
      "| wacr(6.20 to 6.50) | 0.01953125     | ... | 0.02717391304347826 | 0.0027173913043478264 |\n",
      "+--------------------+----------------+-----+---------------------+-----------------------+\n",
      "| wacr(6.50 to 6.80) | 0.01953125     | ... | 0.02717391304347826 | 0.0027173913043478264 |\n",
      "+--------------------+----------------+-----+---------------------+-----------------------+\n",
      "| wacr(<5)           | 0.86328125     | ... | 0.02717391304347826 | 0.9809782608695652    |\n",
      "+--------------------+----------------+-----+---------------------+-----------------------+\n",
      "| wacr(>7.10)        | 0.01953125     | ... | 0.8097826086956522  | 0.0027173913043478264 |\n",
      "+--------------------+----------------+-----+---------------------+-----------------------+ \n",
      "\n",
      "CPT of astgr:\n",
      "+----------------+---------------------+-----+---------------------+--------------------+\n",
      "| wacr           | wacr(5 to 5.30)     | ... | wacr(<5)            | wacr(>7.10)        |\n",
      "+----------------+---------------------+-----+---------------------+--------------------+\n",
      "| astgr(2 to 10) | 0.4774774774774775  | ... | 0.1963109354413702  | 0.1039426523297491 |\n",
      "+----------------+---------------------+-----+---------------------+--------------------+\n",
      "| astgr(<2)      | 0.04504504504504505 | ... | 0.16469038208168643 | 0.4480286738351254 |\n",
      "+----------------+---------------------+-----+---------------------+--------------------+\n",
      "| astgr(>10)     | 0.4774774774774775  | ... | 0.6389986824769434  | 0.4480286738351254 |\n",
      "+----------------+---------------------+-----+---------------------+--------------------+ \n",
      "\n",
      "CPT of gdpgr:\n",
      "+-----------------+----------------------+---------------------+----------------------+\n",
      "| astgr           | astgr(2 to 10)       | astgr(<2)           | astgr(>10)           |\n",
      "+-----------------+----------------------+---------------------+----------------------+\n",
      "| gdpgr(0 to 2)   | 0.04536679536679535  | 0.00576036866359447 | 0.002260397830018083 |\n",
      "+-----------------+----------------------+---------------------+----------------------+\n",
      "| gdpgr(2 to 4)   | 0.12644787644787642  | 0.10253456221198158 | 0.07820976491862566  |\n",
      "+-----------------+----------------------+---------------------+----------------------+\n",
      "| gdpgr(4 to 4.5) | 0.04536679536679535  | 0.00576036866359447 | 0.059222423146473774 |\n",
      "+-----------------+----------------------+---------------------+----------------------+\n",
      "| gdpgr(4.5 to 5) | 0.20752895752895745  | 0.05414746543778803 | 0.07820976491862566  |\n",
      "+-----------------+----------------------+---------------------+----------------------+\n",
      "| gdpgr(5 to 5.5) | 0.1669884169884169   | 0.00576036866359447 | 0.059222423146473774 |\n",
      "+-----------------+----------------------+---------------------+----------------------+\n",
      "| gdpgr(5.5 to 6) | 0.004826254826254824 | 0.00576036866359447 | 0.07820976491862566  |\n",
      "+-----------------+----------------------+---------------------+----------------------+\n",
      "| gdpgr(6 to 6.5) | 0.04536679536679535  | 0.00576036866359447 | 0.13517179023508136  |\n",
      "+-----------------+----------------------+---------------------+----------------------+\n",
      "| gdpgr(6.5 to 7) | 0.04536679536679535  | 0.00576036866359447 | 0.059222423146473774 |\n",
      "+-----------------+----------------------+---------------------+----------------------+\n",
      "| gdpgr(7 to 7.5) | 0.08590733590733587  | 0.05414746543778803 | 0.13517179023508136  |\n",
      "+-----------------+----------------------+---------------------+----------------------+\n",
      "| gdpgr(7.5 to 8) | 0.12644787644787642  | 0.05414746543778803 | 0.07820976491862566  |\n",
      "+-----------------+----------------------+---------------------+----------------------+\n",
      "| gdpgr(8 to 8.5) | 0.08590733590733587  | 0.15092165898617513 | 0.02124773960216998  |\n",
      "+-----------------+----------------------+---------------------+----------------------+\n",
      "| gdpgr(8.5 to 9) | 0.004826254826254824 | 0.19930875576036866 | 0.002260397830018083 |\n",
      "+-----------------+----------------------+---------------------+----------------------+\n",
      "| gdpgr(<=0)      | 0.004826254826254824 | 0.24769585253456222 | 0.04023508137432188  |\n",
      "+-----------------+----------------------+---------------------+----------------------+\n",
      "| gdpgr(>9)       | 0.004826254826254824 | 0.10253456221198158 | 0.17314647377938513  |\n",
      "+-----------------+----------------------+---------------------+----------------------+ \n",
      "\n",
      "CPT of cpi:\n",
      "+-------------+---------------------+-----+----------------------+----------------------+\n",
      "| gdpgr       | gdpgr(0 to 2)       | ... | gdpgr(<=0)           | gdpgr(>9)            |\n",
      "+-------------+---------------------+-----+----------------------+----------------------+\n",
      "| cpi(2 to 6) | 0.08771929824561403 | ... | 0.15210355987055016  | 0.5387840670859539   |\n",
      "+-------------+---------------------+-----+----------------------+----------------------+\n",
      "| cpi(<2)     | 0.08771929824561403 | ... | 0.016181229773462782 | 0.010482180293501049 |\n",
      "+-------------+---------------------+-----+----------------------+----------------------+\n",
      "| cpi(>6)     | 0.8245614035087719  | ... | 0.8317152103559871   | 0.4507337526205451   |\n",
      "+-------------+---------------------+-----+----------------------+----------------------+ \n",
      "\n"
     ]
    }
   ],
   "source": [
    "from pgmpy.estimators import BayesianEstimator, MaximumLikelihoodEstimator\n",
    "from IPython.core.display import display, HTML\n",
    "\n",
    "# disable text wrapping in output cell\n",
    "display(HTML(\"<style>div.output_area pre {white-space: pre;}</style>\"))\n",
    "\n",
    "model_astgr.cpds = []\n",
    "model_astgr.fit(data=df_astgr,\n",
    "          estimator=BayesianEstimator,\n",
    "          prior_type=\"BDeu\")\n",
    "\n",
    "print(f'Check model: {model_astgr.check_model()}\\n')\n",
    "for cpd in model_astgr.get_cpds():\n",
    "    print(f'CPT of {cpd.variable}:')\n",
    "    print(cpd, '\\n')"
   ]
  },
  {
   "cell_type": "code",
   "execution_count": 106,
   "id": "ae043304",
   "metadata": {},
   "outputs": [],
   "source": [
    "infer_astgr = VariableElimination(model_astgr)"
   ]
  },
  {
   "cell_type": "code",
   "execution_count": 107,
   "id": "600ce09a",
   "metadata": {},
   "outputs": [
    {
     "data": {
      "text/plain": [
       "OutEdgeView([('pr', 'wacr'), ('wacr', 'astgr'), ('astgr', 'gdpgr'), ('gdpgr', 'cpi')])"
      ]
     },
     "execution_count": 107,
     "metadata": {},
     "output_type": "execute_result"
    }
   ],
   "source": [
    "model_astgr.edges"
   ]
  },
  {
   "cell_type": "code",
   "execution_count": 108,
   "id": "201d9c8f",
   "metadata": {},
   "outputs": [
    {
     "name": "stdout",
     "output_type": "stream",
     "text": [
      "+----------------+--------------+\n",
      "| astgr          |   phi(astgr) |\n",
      "+================+==============+\n",
      "| astgr(2 to 10) |       0.4613 |\n",
      "+----------------+--------------+\n",
      "| astgr(<2)      |       0.2693 |\n",
      "+----------------+--------------+\n",
      "| astgr(>10)     |       0.2693 |\n",
      "+----------------+--------------+\n"
     ]
    },
    {
     "name": "stderr",
     "output_type": "stream",
     "text": [
      "C:\\Users\\NIYAZ AHMED\\anaconda3\\lib\\site-packages\\pgmpy\\models\\BayesianModel.py:8: FutureWarning: BayesianModel has been renamed to BayesianNetwork. Please use BayesianNetwork class, BayesianModel will be removed in future.\n",
      "  warnings.warn(\n"
     ]
    }
   ],
   "source": [
    "print(infer_astgr.query(['astgr'], evidence = {'pr' : '6 to 6.5', 'wacr' : '6.20 to 6.50'}))"
   ]
  },
  {
   "cell_type": "code",
   "execution_count": 109,
   "id": "d8d5282f",
   "metadata": {},
   "outputs": [
    {
     "name": "stdout",
     "output_type": "stream",
     "text": [
      "+-----------------+--------------+\n",
      "| gdpgr           |   phi(gdpgr) |\n",
      "+=================+==============+\n",
      "| gdpgr(0 to 2)   |       0.0454 |\n",
      "+-----------------+--------------+\n",
      "| gdpgr(2 to 4)   |       0.1264 |\n",
      "+-----------------+--------------+\n",
      "| gdpgr(4 to 4.5) |       0.0454 |\n",
      "+-----------------+--------------+\n",
      "| gdpgr(4.5 to 5) |       0.2075 |\n",
      "+-----------------+--------------+\n",
      "| gdpgr(5 to 5.5) |       0.1670 |\n",
      "+-----------------+--------------+\n",
      "| gdpgr(5.5 to 6) |       0.0048 |\n",
      "+-----------------+--------------+\n",
      "| gdpgr(6 to 6.5) |       0.0454 |\n",
      "+-----------------+--------------+\n",
      "| gdpgr(6.5 to 7) |       0.0454 |\n",
      "+-----------------+--------------+\n",
      "| gdpgr(7 to 7.5) |       0.0859 |\n",
      "+-----------------+--------------+\n",
      "| gdpgr(7.5 to 8) |       0.1264 |\n",
      "+-----------------+--------------+\n",
      "| gdpgr(8 to 8.5) |       0.0859 |\n",
      "+-----------------+--------------+\n",
      "| gdpgr(8.5 to 9) |       0.0048 |\n",
      "+-----------------+--------------+\n",
      "| gdpgr(<=0)      |       0.0048 |\n",
      "+-----------------+--------------+\n",
      "| gdpgr(>9)       |       0.0048 |\n",
      "+-----------------+--------------+\n"
     ]
    }
   ],
   "source": [
    "print(infer_astgr.query(['gdpgr'], evidence = {'pr' : '6 to 6.5', 'wacr' : '6.20 to 6.50', 'astgr' : '2 to 10'}))"
   ]
  },
  {
   "cell_type": "code",
   "execution_count": 110,
   "id": "b8097300",
   "metadata": {},
   "outputs": [
    {
     "data": {
      "application/vnd.jupyter.widget-view+json": {
       "model_id": "f05fcfedbcbc46a99199336854a91c35",
       "version_major": 2,
       "version_minor": 0
      },
      "text/plain": [
       "0it [00:00, ?it/s]"
      ]
     },
     "metadata": {},
     "output_type": "display_data"
    },
    {
     "data": {
      "application/vnd.jupyter.widget-view+json": {
       "model_id": "e9ebaf6dcb7a409aae228bbd2adb4d58",
       "version_major": 2,
       "version_minor": 0
      },
      "text/plain": [
       "0it [00:00, ?it/s]"
      ]
     },
     "metadata": {},
     "output_type": "display_data"
    },
    {
     "name": "stdout",
     "output_type": "stream",
     "text": [
      "{'gdpgr': '4.5 to 5'}\n"
     ]
    }
   ],
   "source": [
    "print(infer_astgr.map_query(['gdpgr'], evidence = {'pr' : '6 to 6.5', 'wacr' : '6.20 to 6.50', 'astgr' : '2 to 10'}))"
   ]
  },
  {
   "cell_type": "code",
   "execution_count": 111,
   "id": "2933ac7e",
   "metadata": {},
   "outputs": [
    {
     "name": "stdout",
     "output_type": "stream",
     "text": [
      "+-------------+------------+\n",
      "| cpi         |   phi(cpi) |\n",
      "+=============+============+\n",
      "| cpi(2 to 6) |     0.6874 |\n",
      "+-------------+------------+\n",
      "| cpi(<2)     |     0.1080 |\n",
      "+-------------+------------+\n",
      "| cpi(>6)     |     0.2046 |\n",
      "+-------------+------------+\n"
     ]
    }
   ],
   "source": [
    "print(infer_astgr.query(['cpi'], evidence = {'pr' : '6 to 6.5', 'wacr' : '6.20 to 6.50', 'astgr' : '2 to 10', 'gdpgr' : '4.5 to 5'}))"
   ]
  },
  {
   "cell_type": "code",
   "execution_count": 112,
   "id": "bb36e093",
   "metadata": {},
   "outputs": [
    {
     "name": "stdout",
     "output_type": "stream",
     "text": [
      "+--------------------+-------------+\n",
      "| wacr               |   phi(wacr) |\n",
      "+====================+=============+\n",
      "| wacr(5 to 5.30)    |      0.0106 |\n",
      "+--------------------+-------------+\n",
      "| wacr(5.30 to 5.60) |      0.0106 |\n",
      "+--------------------+-------------+\n",
      "| wacr(5.60 to 5.90) |      0.0106 |\n",
      "+--------------------+-------------+\n",
      "| wacr(5.90 to 6.20) |      0.0106 |\n",
      "+--------------------+-------------+\n",
      "| wacr(6.20 to 6.50) |      0.0106 |\n",
      "+--------------------+-------------+\n",
      "| wacr(6.50 to 6.80) |      0.3157 |\n",
      "+--------------------+-------------+\n",
      "| wacr(<5)           |      0.0106 |\n",
      "+--------------------+-------------+\n",
      "| wacr(>7.10)        |      0.6208 |\n",
      "+--------------------+-------------+\n"
     ]
    }
   ],
   "source": [
    "print(infer_astgr.query(['wacr'], evidence = {'pr' : '6.5 to 7.0'}))"
   ]
  },
  {
   "cell_type": "code",
   "execution_count": 113,
   "id": "8f527961",
   "metadata": {},
   "outputs": [
    {
     "name": "stdout",
     "output_type": "stream",
     "text": [
      "+----------------+--------------+\n",
      "| astgr          |   phi(astgr) |\n",
      "+================+==============+\n",
      "| astgr(2 to 10) |       0.1039 |\n",
      "+----------------+--------------+\n",
      "| astgr(<2)      |       0.4480 |\n",
      "+----------------+--------------+\n",
      "| astgr(>10)     |       0.4480 |\n",
      "+----------------+--------------+\n"
     ]
    }
   ],
   "source": [
    "print(infer_astgr.query(['astgr'], evidence = {'pr' : '6.5 to 7.0', 'wacr' : '>7.10'}))"
   ]
  },
  {
   "cell_type": "code",
   "execution_count": 114,
   "id": "ec2cad2c",
   "metadata": {},
   "outputs": [
    {
     "data": {
      "application/vnd.jupyter.widget-view+json": {
       "model_id": "3fe4cb273f1044beafcef31ae270520b",
       "version_major": 2,
       "version_minor": 0
      },
      "text/plain": [
       "0it [00:00, ?it/s]"
      ]
     },
     "metadata": {},
     "output_type": "display_data"
    },
    {
     "data": {
      "application/vnd.jupyter.widget-view+json": {
       "model_id": "77dad068d7774c8abfec6ae02e932f23",
       "version_major": 2,
       "version_minor": 0
      },
      "text/plain": [
       "0it [00:00, ?it/s]"
      ]
     },
     "metadata": {},
     "output_type": "display_data"
    },
    {
     "name": "stdout",
     "output_type": "stream",
     "text": [
      "{'astgr': '<2'}\n"
     ]
    }
   ],
   "source": [
    "print(infer_astgr.map_query(['astgr'], evidence = {'pr' : '6.5 to 7.0', 'wacr' : '>7.10'}))"
   ]
  },
  {
   "cell_type": "code",
   "execution_count": 115,
   "id": "7288c5ae",
   "metadata": {},
   "outputs": [
    {
     "name": "stdout",
     "output_type": "stream",
     "text": [
      "+-----------------+--------------+\n",
      "| gdpgr           |   phi(gdpgr) |\n",
      "+=================+==============+\n",
      "| gdpgr(0 to 2)   |       0.0058 |\n",
      "+-----------------+--------------+\n",
      "| gdpgr(2 to 4)   |       0.1025 |\n",
      "+-----------------+--------------+\n",
      "| gdpgr(4 to 4.5) |       0.0058 |\n",
      "+-----------------+--------------+\n",
      "| gdpgr(4.5 to 5) |       0.0541 |\n",
      "+-----------------+--------------+\n",
      "| gdpgr(5 to 5.5) |       0.0058 |\n",
      "+-----------------+--------------+\n",
      "| gdpgr(5.5 to 6) |       0.0058 |\n",
      "+-----------------+--------------+\n",
      "| gdpgr(6 to 6.5) |       0.0058 |\n",
      "+-----------------+--------------+\n",
      "| gdpgr(6.5 to 7) |       0.0058 |\n",
      "+-----------------+--------------+\n",
      "| gdpgr(7 to 7.5) |       0.0541 |\n",
      "+-----------------+--------------+\n",
      "| gdpgr(7.5 to 8) |       0.0541 |\n",
      "+-----------------+--------------+\n",
      "| gdpgr(8 to 8.5) |       0.1509 |\n",
      "+-----------------+--------------+\n",
      "| gdpgr(8.5 to 9) |       0.1993 |\n",
      "+-----------------+--------------+\n",
      "| gdpgr(<=0)      |       0.2477 |\n",
      "+-----------------+--------------+\n",
      "| gdpgr(>9)       |       0.1025 |\n",
      "+-----------------+--------------+\n"
     ]
    }
   ],
   "source": [
    "print(infer_astgr.query(['gdpgr'], evidence = {'pr' : '6.5 to 7.0', 'wacr' : '>7.10', 'astgr' : '<2'}))"
   ]
  },
  {
   "cell_type": "code",
   "execution_count": 116,
   "id": "d471b898",
   "metadata": {},
   "outputs": [
    {
     "data": {
      "application/vnd.jupyter.widget-view+json": {
       "model_id": "bed4b7b0c5094a08b99f4a389f5ccfdc",
       "version_major": 2,
       "version_minor": 0
      },
      "text/plain": [
       "0it [00:00, ?it/s]"
      ]
     },
     "metadata": {},
     "output_type": "display_data"
    },
    {
     "data": {
      "application/vnd.jupyter.widget-view+json": {
       "model_id": "f4be458b542645c6b6570dfaabac76b3",
       "version_major": 2,
       "version_minor": 0
      },
      "text/plain": [
       "0it [00:00, ?it/s]"
      ]
     },
     "metadata": {},
     "output_type": "display_data"
    },
    {
     "name": "stdout",
     "output_type": "stream",
     "text": [
      "{'gdpgr': '<=0'}\n"
     ]
    }
   ],
   "source": [
    "print(infer_astgr.map_query(['gdpgr'], evidence = {'pr' : '6.5 to 7.0', 'wacr' : '>7.10', 'astgr' : '<2'}))"
   ]
  },
  {
   "cell_type": "code",
   "execution_count": 117,
   "id": "0942d68f",
   "metadata": {
    "scrolled": true
   },
   "outputs": [
    {
     "name": "stdout",
     "output_type": "stream",
     "text": [
      "+-------------+------------+\n",
      "| cpi         |   phi(cpi) |\n",
      "+=============+============+\n",
      "| cpi(2 to 6) |     0.1521 |\n",
      "+-------------+------------+\n",
      "| cpi(<2)     |     0.0162 |\n",
      "+-------------+------------+\n",
      "| cpi(>6)     |     0.8317 |\n",
      "+-------------+------------+\n"
     ]
    }
   ],
   "source": [
    "print(infer_astgr.query(['cpi'], evidence = {'pr' : '6.5 to 7.0', 'wacr' : '>7.10', 'astgr' : '<2', 'gdpgr' : '<=0'}))"
   ]
  },
  {
   "cell_type": "code",
   "execution_count": 118,
   "id": "7a1535ad",
   "metadata": {},
   "outputs": [
    {
     "name": "stdout",
     "output_type": "stream",
     "text": [
      "+----------------+--------------+\n",
      "| astgr          |   phi(astgr) |\n",
      "+================+==============+\n",
      "| astgr(2 to 10) |       0.1039 |\n",
      "+----------------+--------------+\n",
      "| astgr(<2)      |       0.4480 |\n",
      "+----------------+--------------+\n",
      "| astgr(>10)     |       0.4480 |\n",
      "+----------------+--------------+\n"
     ]
    }
   ],
   "source": [
    "print(infer_astgr.query(['astgr'], evidence = {'pr' : '7.0 to 7.5', 'wacr' : '>7.10'}))"
   ]
  },
  {
   "cell_type": "code",
   "execution_count": 119,
   "id": "5dda3aff",
   "metadata": {},
   "outputs": [
    {
     "name": "stdout",
     "output_type": "stream",
     "text": [
      "+-----------------+--------------+\n",
      "| gdpgr           |   phi(gdpgr) |\n",
      "+=================+==============+\n",
      "| gdpgr(0 to 2)   |       0.0058 |\n",
      "+-----------------+--------------+\n",
      "| gdpgr(2 to 4)   |       0.1025 |\n",
      "+-----------------+--------------+\n",
      "| gdpgr(4 to 4.5) |       0.0058 |\n",
      "+-----------------+--------------+\n",
      "| gdpgr(4.5 to 5) |       0.0541 |\n",
      "+-----------------+--------------+\n",
      "| gdpgr(5 to 5.5) |       0.0058 |\n",
      "+-----------------+--------------+\n",
      "| gdpgr(5.5 to 6) |       0.0058 |\n",
      "+-----------------+--------------+\n",
      "| gdpgr(6 to 6.5) |       0.0058 |\n",
      "+-----------------+--------------+\n",
      "| gdpgr(6.5 to 7) |       0.0058 |\n",
      "+-----------------+--------------+\n",
      "| gdpgr(7 to 7.5) |       0.0541 |\n",
      "+-----------------+--------------+\n",
      "| gdpgr(7.5 to 8) |       0.0541 |\n",
      "+-----------------+--------------+\n",
      "| gdpgr(8 to 8.5) |       0.1509 |\n",
      "+-----------------+--------------+\n",
      "| gdpgr(8.5 to 9) |       0.1993 |\n",
      "+-----------------+--------------+\n",
      "| gdpgr(<=0)      |       0.2477 |\n",
      "+-----------------+--------------+\n",
      "| gdpgr(>9)       |       0.1025 |\n",
      "+-----------------+--------------+\n"
     ]
    }
   ],
   "source": [
    "print(infer_astgr.query(['gdpgr'], evidence = {'pr' : '7.0 to 7.5', 'wacr' : '>7.10', 'astgr' : '<2'}))"
   ]
  },
  {
   "cell_type": "code",
   "execution_count": 120,
   "id": "917d51d5",
   "metadata": {},
   "outputs": [
    {
     "data": {
      "application/vnd.jupyter.widget-view+json": {
       "model_id": "d427d978a1d841c19ae8981fa5f5e8c9",
       "version_major": 2,
       "version_minor": 0
      },
      "text/plain": [
       "0it [00:00, ?it/s]"
      ]
     },
     "metadata": {},
     "output_type": "display_data"
    },
    {
     "data": {
      "application/vnd.jupyter.widget-view+json": {
       "model_id": "5f4948c0fc8344429efeb4038b107bc2",
       "version_major": 2,
       "version_minor": 0
      },
      "text/plain": [
       "0it [00:00, ?it/s]"
      ]
     },
     "metadata": {},
     "output_type": "display_data"
    },
    {
     "name": "stdout",
     "output_type": "stream",
     "text": [
      "{'astgr': '<2'}\n"
     ]
    }
   ],
   "source": [
    "print(infer_astgr.map_query(['astgr'], evidence = {'pr' : '7.0 to 7.5', 'wacr' : '>7.10'}))"
   ]
  },
  {
   "cell_type": "code",
   "execution_count": 121,
   "id": "a0cdd1aa",
   "metadata": {},
   "outputs": [
    {
     "name": "stdout",
     "output_type": "stream",
     "text": [
      "+-----------------+--------------+\n",
      "| gdpgr           |   phi(gdpgr) |\n",
      "+=================+==============+\n",
      "| gdpgr(0 to 2)   |       0.0058 |\n",
      "+-----------------+--------------+\n",
      "| gdpgr(2 to 4)   |       0.1025 |\n",
      "+-----------------+--------------+\n",
      "| gdpgr(4 to 4.5) |       0.0058 |\n",
      "+-----------------+--------------+\n",
      "| gdpgr(4.5 to 5) |       0.0541 |\n",
      "+-----------------+--------------+\n",
      "| gdpgr(5 to 5.5) |       0.0058 |\n",
      "+-----------------+--------------+\n",
      "| gdpgr(5.5 to 6) |       0.0058 |\n",
      "+-----------------+--------------+\n",
      "| gdpgr(6 to 6.5) |       0.0058 |\n",
      "+-----------------+--------------+\n",
      "| gdpgr(6.5 to 7) |       0.0058 |\n",
      "+-----------------+--------------+\n",
      "| gdpgr(7 to 7.5) |       0.0541 |\n",
      "+-----------------+--------------+\n",
      "| gdpgr(7.5 to 8) |       0.0541 |\n",
      "+-----------------+--------------+\n",
      "| gdpgr(8 to 8.5) |       0.1509 |\n",
      "+-----------------+--------------+\n",
      "| gdpgr(8.5 to 9) |       0.1993 |\n",
      "+-----------------+--------------+\n",
      "| gdpgr(<=0)      |       0.2477 |\n",
      "+-----------------+--------------+\n",
      "| gdpgr(>9)       |       0.1025 |\n",
      "+-----------------+--------------+\n"
     ]
    }
   ],
   "source": [
    "print(infer_astgr.query(['gdpgr'], evidence = {'pr' : '7.0 to 7.5', 'wacr' : '>7.10', 'astgr' : '<2'}))"
   ]
  },
  {
   "cell_type": "code",
   "execution_count": 122,
   "id": "bd16acfd",
   "metadata": {},
   "outputs": [
    {
     "data": {
      "application/vnd.jupyter.widget-view+json": {
       "model_id": "d01de9647f28416faf70f425376a2c87",
       "version_major": 2,
       "version_minor": 0
      },
      "text/plain": [
       "0it [00:00, ?it/s]"
      ]
     },
     "metadata": {},
     "output_type": "display_data"
    },
    {
     "data": {
      "application/vnd.jupyter.widget-view+json": {
       "model_id": "08fa02f456e14f0cbc709ad8a003ce2d",
       "version_major": 2,
       "version_minor": 0
      },
      "text/plain": [
       "0it [00:00, ?it/s]"
      ]
     },
     "metadata": {},
     "output_type": "display_data"
    },
    {
     "name": "stdout",
     "output_type": "stream",
     "text": [
      "{'gdpgr': '<=0'}\n"
     ]
    }
   ],
   "source": [
    "print(infer_astgr.map_query(['gdpgr'], evidence = {'pr' : '7.0 to 7.5', 'wacr' : '>7.10', 'astgr' : '<2'}))"
   ]
  },
  {
   "cell_type": "code",
   "execution_count": 123,
   "id": "99aa09e7",
   "metadata": {},
   "outputs": [
    {
     "name": "stdout",
     "output_type": "stream",
     "text": [
      "+-------------+------------+\n",
      "| cpi         |   phi(cpi) |\n",
      "+=============+============+\n",
      "| cpi(2 to 6) |     0.1521 |\n",
      "+-------------+------------+\n",
      "| cpi(<2)     |     0.0162 |\n",
      "+-------------+------------+\n",
      "| cpi(>6)     |     0.8317 |\n",
      "+-------------+------------+\n"
     ]
    }
   ],
   "source": [
    "print(infer_astgr.query(['cpi'], evidence = {'pr' : '7.0 to 7.5', 'wacr' : '>7.10', 'astgr' : '<2', 'gdpgr' : '<=0'}))"
   ]
  },
  {
   "cell_type": "code",
   "execution_count": null,
   "id": "b29204d0",
   "metadata": {},
   "outputs": [],
   "source": []
  },
  {
   "cell_type": "code",
   "execution_count": null,
   "id": "fee1927f",
   "metadata": {},
   "outputs": [],
   "source": []
  },
  {
   "cell_type": "code",
   "execution_count": null,
   "id": "e5add31e",
   "metadata": {},
   "outputs": [],
   "source": []
  },
  {
   "cell_type": "code",
   "execution_count": 124,
   "id": "0dc9cded",
   "metadata": {},
   "outputs": [
    {
     "name": "stdout",
     "output_type": "stream",
     "text": [
      "+-------------+------------+\n",
      "| cpi         |   phi(cpi) |\n",
      "+=============+============+\n",
      "| cpi(2 to 6) |     0.6539 |\n",
      "+-------------+------------+\n",
      "| cpi(<2)     |     0.0127 |\n",
      "+-------------+------------+\n",
      "| cpi(>6)     |     0.3333 |\n",
      "+-------------+------------+\n"
     ]
    }
   ],
   "source": [
    "print(infer_crdt.query(['cpi'], evidence = {'gdpgr' : '2 to 4'}))"
   ]
  },
  {
   "cell_type": "code",
   "execution_count": 125,
   "id": "1452d057",
   "metadata": {},
   "outputs": [
    {
     "name": "stdout",
     "output_type": "stream",
     "text": [
      "+-------------+------------+\n",
      "| cpi         |   phi(cpi) |\n",
      "+=============+============+\n",
      "| cpi(2 to 6) |     0.9454 |\n",
      "+-------------+------------+\n",
      "| cpi(<2)     |     0.0273 |\n",
      "+-------------+------------+\n",
      "| cpi(>6)     |     0.0273 |\n",
      "+-------------+------------+\n"
     ]
    }
   ],
   "source": [
    "print(infer_crdt.query(['cpi'], evidence = {'gdpgr' : '4 to 4.5'}))"
   ]
  },
  {
   "cell_type": "code",
   "execution_count": 126,
   "id": "8f75e676",
   "metadata": {},
   "outputs": [
    {
     "name": "stdout",
     "output_type": "stream",
     "text": [
      "+-------------+------------+\n",
      "| cpi         |   phi(cpi) |\n",
      "+=============+============+\n",
      "| cpi(2 to 6) |     0.6874 |\n",
      "+-------------+------------+\n",
      "| cpi(<2)     |     0.1080 |\n",
      "+-------------+------------+\n",
      "| cpi(>6)     |     0.2046 |\n",
      "+-------------+------------+\n"
     ]
    }
   ],
   "source": [
    "print(infer_crdt.query(['cpi'], evidence = {'gdpgr' : '4.5 to 5'}))"
   ]
  },
  {
   "cell_type": "code",
   "execution_count": 127,
   "id": "22af5424",
   "metadata": {},
   "outputs": [
    {
     "name": "stdout",
     "output_type": "stream",
     "text": [
      "+-------------+------------+\n",
      "| cpi         |   phi(cpi) |\n",
      "+=============+============+\n",
      "| cpi(2 to 6) |     0.5599 |\n",
      "+-------------+------------+\n",
      "| cpi(<2)     |     0.0162 |\n",
      "+-------------+------------+\n",
      "| cpi(>6)     |     0.4239 |\n",
      "+-------------+------------+\n"
     ]
    }
   ],
   "source": [
    "print(infer_crdt.query(['cpi'], evidence = {'gdpgr' : '5 to 5.5'}))"
   ]
  },
  {
   "cell_type": "code",
   "execution_count": 128,
   "id": "36eb06c6",
   "metadata": {},
   "outputs": [
    {
     "name": "stdout",
     "output_type": "stream",
     "text": [
      "+-------------+------------+\n",
      "| cpi         |   phi(cpi) |\n",
      "+=============+============+\n",
      "| cpi(2 to 6) |     0.7158 |\n",
      "+-------------+------------+\n",
      "| cpi(<2)     |     0.2568 |\n",
      "+-------------+------------+\n",
      "| cpi(>6)     |     0.0273 |\n",
      "+-------------+------------+\n"
     ]
    }
   ],
   "source": [
    "print(infer_crdt.query(['cpi'], evidence = {'gdpgr' : '5.5 to 6'}))"
   ]
  },
  {
   "cell_type": "code",
   "execution_count": 129,
   "id": "2bf42542",
   "metadata": {},
   "outputs": [
    {
     "name": "stdout",
     "output_type": "stream",
     "text": [
      "+-------------+------------+\n",
      "| cpi         |   phi(cpi) |\n",
      "+=============+============+\n",
      "| cpi(2 to 6) |     0.8519 |\n",
      "+-------------+------------+\n",
      "| cpi(<2)     |     0.0142 |\n",
      "+-------------+------------+\n",
      "| cpi(>6)     |     0.1339 |\n",
      "+-------------+------------+\n"
     ]
    }
   ],
   "source": [
    "print(infer_crdt.query(['cpi'], evidence = {'gdpgr' : '6 to 6.5'}))"
   ]
  },
  {
   "cell_type": "code",
   "execution_count": 130,
   "id": "872cf92c",
   "metadata": {},
   "outputs": [
    {
     "name": "stdout",
     "output_type": "stream",
     "text": [
      "+-------------+------------+\n",
      "| cpi         |   phi(cpi) |\n",
      "+=============+============+\n",
      "| cpi(2 to 6) |     0.9454 |\n",
      "+-------------+------------+\n",
      "| cpi(<2)     |     0.0273 |\n",
      "+-------------+------------+\n",
      "| cpi(>6)     |     0.0273 |\n",
      "+-------------+------------+\n"
     ]
    }
   ],
   "source": [
    "print(infer_crdt.query(['cpi'], evidence = {'gdpgr' : '6.5 to 7'}))"
   ]
  },
  {
   "cell_type": "code",
   "execution_count": 131,
   "id": "0c19265c",
   "metadata": {},
   "outputs": [
    {
     "name": "stdout",
     "output_type": "stream",
     "text": [
      "+-------------+------------+\n",
      "| cpi         |   phi(cpi) |\n",
      "+=============+============+\n",
      "| cpi(2 to 6) |     0.9770 |\n",
      "+-------------+------------+\n",
      "| cpi(<2)     |     0.0115 |\n",
      "+-------------+------------+\n",
      "| cpi(>6)     |     0.0115 |\n",
      "+-------------+------------+\n"
     ]
    }
   ],
   "source": [
    "print(infer_crdt.query(['cpi'], evidence = {'gdpgr' : '7 to 7.5'}))"
   ]
  },
  {
   "cell_type": "code",
   "execution_count": 132,
   "id": "4b1cf632",
   "metadata": {},
   "outputs": [
    {
     "name": "stdout",
     "output_type": "stream",
     "text": [
      "+-------------+------------+\n",
      "| cpi         |   phi(cpi) |\n",
      "+=============+============+\n",
      "| cpi(2 to 6) |     0.8519 |\n",
      "+-------------+------------+\n",
      "| cpi(<2)     |     0.0142 |\n",
      "+-------------+------------+\n",
      "| cpi(>6)     |     0.1339 |\n",
      "+-------------+------------+\n"
     ]
    }
   ],
   "source": [
    "print(infer_crdt.query(['cpi'], evidence = {'gdpgr' : '7.5 to 8'}))"
   ]
  },
  {
   "cell_type": "code",
   "execution_count": 133,
   "id": "b0f94eca",
   "metadata": {},
   "outputs": [
    {
     "name": "stdout",
     "output_type": "stream",
     "text": [
      "+-------------+------------+\n",
      "| cpi         |   phi(cpi) |\n",
      "+=============+============+\n",
      "| cpi(2 to 6) |     0.8052 |\n",
      "+-------------+------------+\n",
      "| cpi(<2)     |     0.0187 |\n",
      "+-------------+------------+\n",
      "| cpi(>6)     |     0.1760 |\n",
      "+-------------+------------+\n"
     ]
    }
   ],
   "source": [
    "print(infer_crdt.query(['cpi'], evidence = {'gdpgr' : '8 to 8.5'}))"
   ]
  },
  {
   "cell_type": "code",
   "execution_count": 134,
   "id": "1fa07abc",
   "metadata": {},
   "outputs": [
    {
     "name": "stdout",
     "output_type": "stream",
     "text": [
      "+-------------+------------+\n",
      "| cpi         |   phi(cpi) |\n",
      "+=============+============+\n",
      "| cpi(2 to 6) |     0.9454 |\n",
      "+-------------+------------+\n",
      "| cpi(<2)     |     0.0273 |\n",
      "+-------------+------------+\n",
      "| cpi(>6)     |     0.0273 |\n",
      "+-------------+------------+\n"
     ]
    }
   ],
   "source": [
    "print(infer_crdt.query(['cpi'], evidence = {'gdpgr' : '8.5 to 9'}))"
   ]
  },
  {
   "cell_type": "code",
   "execution_count": null,
   "id": "16d9ce68",
   "metadata": {},
   "outputs": [],
   "source": []
  },
  {
   "cell_type": "code",
   "execution_count": 135,
   "id": "bb93d059",
   "metadata": {},
   "outputs": [
    {
     "data": {
      "text/plain": [
       ">9          11\n",
       "4.5 to 5    10\n",
       "7 to 7.5    10\n",
       "2 to 4       9\n",
       "6 to 6.5     8\n",
       "7.5 to 8     8\n",
       "<=0          7\n",
       "5 to 5.5     7\n",
       "8 to 8.5     6\n",
       "5.5 to 6     4\n",
       "4 to 4.5     4\n",
       "8.5 to 9     4\n",
       "6.5 to 7     4\n",
       "0 to 2       1\n",
       "Name: gdpgr, dtype: int64"
      ]
     },
     "execution_count": 135,
     "metadata": {},
     "output_type": "execute_result"
    }
   ],
   "source": [
    "df.gdpgr.value_counts()"
   ]
  },
  {
   "cell_type": "code",
   "execution_count": null,
   "id": "f07d6017",
   "metadata": {},
   "outputs": [],
   "source": []
  },
  {
   "cell_type": "code",
   "execution_count": null,
   "id": "160c95c9",
   "metadata": {},
   "outputs": [],
   "source": []
  },
  {
   "cell_type": "code",
   "execution_count": null,
   "id": "7b5caa3d",
   "metadata": {},
   "outputs": [],
   "source": []
  },
  {
   "cell_type": "markdown",
   "id": "38f75621",
   "metadata": {},
   "source": [
    "### Impact of policy rate on CPI throgh different channels"
   ]
  },
  {
   "cell_type": "code",
   "execution_count": 136,
   "id": "4e94f59e",
   "metadata": {},
   "outputs": [
    {
     "name": "stdout",
     "output_type": "stream",
     "text": [
      "+-------------+------------+\n",
      "| cpi         |   phi(cpi) |\n",
      "+=============+============+\n",
      "| cpi(2 to 6) |     0.7412 |\n",
      "+-------------+------------+\n",
      "| cpi(<2)     |     0.0393 |\n",
      "+-------------+------------+\n",
      "| cpi(>6)     |     0.2195 |\n",
      "+-------------+------------+\n"
     ]
    }
   ],
   "source": [
    "print(infer_int.query(['cpi'], evidence = {'pr' : '6 to 6.5'}))"
   ]
  },
  {
   "cell_type": "code",
   "execution_count": 137,
   "id": "91fe2832",
   "metadata": {},
   "outputs": [
    {
     "name": "stdout",
     "output_type": "stream",
     "text": [
      "+-------------+------------+\n",
      "| cpi         |   phi(cpi) |\n",
      "+=============+============+\n",
      "| cpi(2 to 6) |     0.6787 |\n",
      "+-------------+------------+\n",
      "| cpi(<2)     |     0.0354 |\n",
      "+-------------+------------+\n",
      "| cpi(>6)     |     0.2859 |\n",
      "+-------------+------------+\n"
     ]
    }
   ],
   "source": [
    "print(infer_int.query(['cpi'], evidence = {'pr' : '6.5 to 7.0'}))"
   ]
  },
  {
   "cell_type": "code",
   "execution_count": 138,
   "id": "08e1f92c",
   "metadata": {},
   "outputs": [
    {
     "name": "stdout",
     "output_type": "stream",
     "text": [
      "+-------------+------------+\n",
      "| cpi         |   phi(cpi) |\n",
      "+=============+============+\n",
      "| cpi(2 to 6) |     0.6766 |\n",
      "+-------------+------------+\n",
      "| cpi(<2)     |     0.0352 |\n",
      "+-------------+------------+\n",
      "| cpi(>6)     |     0.2882 |\n",
      "+-------------+------------+\n"
     ]
    }
   ],
   "source": [
    "print(infer_int.query(['cpi'], evidence = {'pr' : '7.0 to 7.5'}))"
   ]
  },
  {
   "cell_type": "code",
   "execution_count": 139,
   "id": "f4a4e668",
   "metadata": {},
   "outputs": [
    {
     "name": "stdout",
     "output_type": "stream",
     "text": [
      "+-------------+------------+\n",
      "| cpi         |   phi(cpi) |\n",
      "+=============+============+\n",
      "| cpi(2 to 6) |     0.7134 |\n",
      "+-------------+------------+\n",
      "| cpi(<2)     |     0.0374 |\n",
      "+-------------+------------+\n",
      "| cpi(>6)     |     0.2492 |\n",
      "+-------------+------------+\n"
     ]
    }
   ],
   "source": [
    "print(infer_ex.query(['cpi'], evidence = {'pr' : '6 to 6.5'}))"
   ]
  },
  {
   "cell_type": "code",
   "execution_count": 140,
   "id": "5d654ca0",
   "metadata": {},
   "outputs": [
    {
     "name": "stdout",
     "output_type": "stream",
     "text": [
      "+-------------+------------+\n",
      "| cpi         |   phi(cpi) |\n",
      "+=============+============+\n",
      "| cpi(2 to 6) |     0.7038 |\n",
      "+-------------+------------+\n",
      "| cpi(<2)     |     0.0372 |\n",
      "+-------------+------------+\n",
      "| cpi(>6)     |     0.2591 |\n",
      "+-------------+------------+\n"
     ]
    }
   ],
   "source": [
    "print(infer_ex.query(['cpi'], evidence = {'pr' : '6.5 to 7.0'}))"
   ]
  },
  {
   "cell_type": "code",
   "execution_count": 141,
   "id": "278ba57f",
   "metadata": {},
   "outputs": [
    {
     "name": "stdout",
     "output_type": "stream",
     "text": [
      "+-------------+------------+\n",
      "| cpi         |   phi(cpi) |\n",
      "+=============+============+\n",
      "| cpi(2 to 6) |     0.7032 |\n",
      "+-------------+------------+\n",
      "| cpi(<2)     |     0.0372 |\n",
      "+-------------+------------+\n",
      "| cpi(>6)     |     0.2595 |\n",
      "+-------------+------------+\n"
     ]
    }
   ],
   "source": [
    "print(infer_ex.query(['cpi'], evidence = {'pr' : '7.0 to 7.5'}))"
   ]
  },
  {
   "cell_type": "code",
   "execution_count": 142,
   "id": "c6435ea0",
   "metadata": {},
   "outputs": [
    {
     "name": "stdout",
     "output_type": "stream",
     "text": [
      "+-------------+------------+\n",
      "| cpi         |   phi(cpi) |\n",
      "+=============+============+\n",
      "| cpi(2 to 6) |     0.7317 |\n",
      "+-------------+------------+\n",
      "| cpi(<2)     |     0.0401 |\n",
      "+-------------+------------+\n",
      "| cpi(>6)     |     0.2282 |\n",
      "+-------------+------------+\n"
     ]
    }
   ],
   "source": [
    "print(infer_crdt.query(['cpi'], evidence = {'pr' : '6 to 6.5'}))"
   ]
  },
  {
   "cell_type": "code",
   "execution_count": 143,
   "id": "3ff84c3a",
   "metadata": {},
   "outputs": [
    {
     "name": "stdout",
     "output_type": "stream",
     "text": [
      "+-------------+------------+\n",
      "| cpi         |   phi(cpi) |\n",
      "+=============+============+\n",
      "| cpi(2 to 6) |     0.7499 |\n",
      "+-------------+------------+\n",
      "| cpi(<2)     |     0.0404 |\n",
      "+-------------+------------+\n",
      "| cpi(>6)     |     0.2097 |\n",
      "+-------------+------------+\n"
     ]
    }
   ],
   "source": [
    "print(infer_crdt.query(['cpi'], evidence = {'pr' : '6.5 to 7.0'}))"
   ]
  },
  {
   "cell_type": "code",
   "execution_count": 144,
   "id": "2542fdf6",
   "metadata": {},
   "outputs": [
    {
     "name": "stdout",
     "output_type": "stream",
     "text": [
      "+-------------+------------+\n",
      "| cpi         |   phi(cpi) |\n",
      "+=============+============+\n",
      "| cpi(2 to 6) |     0.7501 |\n",
      "+-------------+------------+\n",
      "| cpi(<2)     |     0.0404 |\n",
      "+-------------+------------+\n",
      "| cpi(>6)     |     0.2095 |\n",
      "+-------------+------------+\n"
     ]
    }
   ],
   "source": [
    "print(infer_crdt.query(['cpi'], evidence = {'pr' : '7.0 to 7.5'}))"
   ]
  },
  {
   "cell_type": "code",
   "execution_count": 145,
   "id": "bffca40c",
   "metadata": {},
   "outputs": [
    {
     "name": "stdout",
     "output_type": "stream",
     "text": [
      "+-------------+------------+\n",
      "| cpi         |   phi(cpi) |\n",
      "+=============+============+\n",
      "| cpi(2 to 6) |     0.7139 |\n",
      "+-------------+------------+\n",
      "| cpi(<2)     |     0.0380 |\n",
      "+-------------+------------+\n",
      "| cpi(>6)     |     0.2481 |\n",
      "+-------------+------------+\n"
     ]
    }
   ],
   "source": [
    "print(infer_astgr.query(['cpi'], evidence = {'pr' : '6 to 6.5'}))"
   ]
  },
  {
   "cell_type": "code",
   "execution_count": 146,
   "id": "76447cd7",
   "metadata": {},
   "outputs": [
    {
     "name": "stdout",
     "output_type": "stream",
     "text": [
      "+-------------+------------+\n",
      "| cpi         |   phi(cpi) |\n",
      "+=============+============+\n",
      "| cpi(2 to 6) |     0.6859 |\n",
      "+-------------+------------+\n",
      "| cpi(<2)     |     0.0335 |\n",
      "+-------------+------------+\n",
      "| cpi(>6)     |     0.2806 |\n",
      "+-------------+------------+\n"
     ]
    }
   ],
   "source": [
    "print(infer_astgr.query(['cpi'], evidence = {'pr' : '6.5 to 7.0'}))"
   ]
  },
  {
   "cell_type": "code",
   "execution_count": 147,
   "id": "4760055e",
   "metadata": {},
   "outputs": [
    {
     "name": "stdout",
     "output_type": "stream",
     "text": [
      "+-------------+------------+\n",
      "| cpi         |   phi(cpi) |\n",
      "+=============+============+\n",
      "| cpi(2 to 6) |     0.6862 |\n",
      "+-------------+------------+\n",
      "| cpi(<2)     |     0.0335 |\n",
      "+-------------+------------+\n",
      "| cpi(>6)     |     0.2803 |\n",
      "+-------------+------------+\n"
     ]
    }
   ],
   "source": [
    "print(infer_astgr.query(['cpi'], evidence = {'pr' : '7.0 to 7.5'}))"
   ]
  },
  {
   "cell_type": "markdown",
   "id": "f5379c75",
   "metadata": {},
   "source": [
    "### The Complex Network"
   ]
  },
  {
   "cell_type": "code",
   "execution_count": 148,
   "id": "a40e2628",
   "metadata": {},
   "outputs": [
    {
     "data": {
      "text/html": [
       "<style>div.output_area pre {white-space: pre;}</style>"
      ],
      "text/plain": [
       "<IPython.core.display.HTML object>"
      ]
     },
     "metadata": {},
     "output_type": "display_data"
    },
    {
     "name": "stdout",
     "output_type": "stream",
     "text": [
      "Check model: True\n",
      "\n",
      "CPT of pr:\n",
      "+----------------+-----------+\n",
      "| pr(4.0 to 4.5) | 0.0362812 |\n",
      "+----------------+-----------+\n",
      "| pr(4.5 to 5.0) | 0.0260771 |\n",
      "+----------------+-----------+\n",
      "| pr(5.0 to 5.5) | 0.0873016 |\n",
      "+----------------+-----------+\n",
      "| pr(5.5 to 6.0) | 0.148526  |\n",
      "+----------------+-----------+\n",
      "| pr(6 to 6.5)   | 0.270975  |\n",
      "+----------------+-----------+\n",
      "| pr(6.5 to 7.0) | 0.0668934 |\n",
      "+----------------+-----------+\n",
      "| pr(7.0 to 7.5) | 0.0770975 |\n",
      "+----------------+-----------+\n",
      "| pr(7.5 to 8.0) | 0.0260771 |\n",
      "+----------------+-----------+\n",
      "| pr(<=4)        | 0.260771  |\n",
      "+----------------+-----------+ \n",
      "\n",
      "CPT of wacr:\n",
      "+--------------------+----------------+-----+---------------------+-----------------------+\n",
      "| pr                 | pr(4.0 to 4.5) | ... | pr(7.5 to 8.0)      | pr(<=4)               |\n",
      "+--------------------+----------------+-----+---------------------+-----------------------+\n",
      "| wacr(5 to 5.30)    | 0.01953125     | ... | 0.02717391304347826 | 0.0027173913043478264 |\n",
      "+--------------------+----------------+-----+---------------------+-----------------------+\n",
      "| wacr(5.30 to 5.60) | 0.01953125     | ... | 0.02717391304347826 | 0.0027173913043478264 |\n",
      "+--------------------+----------------+-----+---------------------+-----------------------+\n",
      "| wacr(5.60 to 5.90) | 0.01953125     | ... | 0.02717391304347826 | 0.0027173913043478264 |\n",
      "+--------------------+----------------+-----+---------------------+-----------------------+\n",
      "| wacr(5.90 to 6.20) | 0.01953125     | ... | 0.02717391304347826 | 0.0027173913043478264 |\n",
      "+--------------------+----------------+-----+---------------------+-----------------------+\n",
      "| wacr(6.20 to 6.50) | 0.01953125     | ... | 0.02717391304347826 | 0.0027173913043478264 |\n",
      "+--------------------+----------------+-----+---------------------+-----------------------+\n",
      "| wacr(6.50 to 6.80) | 0.01953125     | ... | 0.02717391304347826 | 0.0027173913043478264 |\n",
      "+--------------------+----------------+-----+---------------------+-----------------------+\n",
      "| wacr(<5)           | 0.86328125     | ... | 0.02717391304347826 | 0.9809782608695652    |\n",
      "+--------------------+----------------+-----+---------------------+-----------------------+\n",
      "| wacr(>7.10)        | 0.01953125     | ... | 0.8097826086956522  | 0.0027173913043478264 |\n",
      "+--------------------+----------------+-----+---------------------+-----------------------+ \n",
      "\n",
      "CPT of invgr:\n",
      "+----------------+---------------------+-----+---------------------+----------------------+\n",
      "| wacr           | wacr(5 to 5.30)     | ... | wacr(<5)            | wacr(>7.10)          |\n",
      "+----------------+---------------------+-----+---------------------+----------------------+\n",
      "| invgr(5 to 10) | 0.4774774774774775  | ... | 0.25955204216073785 | 0.1039426523297491   |\n",
      "+----------------+---------------------+-----+---------------------+----------------------+\n",
      "| invgr(<=5)     | 0.04504504504504505 | ... | 0.16469038208168643 | 0.017921146953405017 |\n",
      "+----------------+---------------------+-----+---------------------+----------------------+\n",
      "| invgr(>10)     | 0.4774774774774775  | ... | 0.5757575757575757  | 0.878136200716846    |\n",
      "+----------------+---------------------+-----+---------------------+----------------------+ \n",
      "\n",
      "CPT of gdpgr:\n",
      "+-----------------+---------------------+-----+----------------------+---------------------+\n",
      "| astgr           | astgr(2 to 10)      | ... | astgr(>10)           | astgr(>10)          |\n",
      "+-----------------+---------------------+-----+----------------------+---------------------+\n",
      "| cgr             | cgr(6.5 to 9)       | ... | cgr(>9)              | cgr(>9)             |\n",
      "+-----------------+---------------------+-----+----------------------+---------------------+\n",
      "| invgr           | invgr(5 to 10)      | ... | invgr(>10)           | invgr(>10)          |\n",
      "+-----------------+---------------------+-----+----------------------+---------------------+\n",
      "| nxpgr           | nxpgr(0 to 12)      | ... | nxpgr(<=0)           | nxpgr(>40)          |\n",
      "+-----------------+---------------------+-----+----------------------+---------------------+\n",
      "| gdpgr(0 to 2)   | 0.07142857142857142 | ... | 0.003160556257901389 | 0.07142857142857142 |\n",
      "+-----------------+---------------------+-----+----------------------+---------------------+\n",
      "| gdpgr(2 to 4)   | 0.07142857142857142 | ... | 0.003160556257901389 | 0.07142857142857142 |\n",
      "+-----------------+---------------------+-----+----------------------+---------------------+\n",
      "| gdpgr(4 to 4.5) | 0.07142857142857142 | ... | 0.003160556257901389 | 0.07142857142857142 |\n",
      "+-----------------+---------------------+-----+----------------------+---------------------+\n",
      "| gdpgr(4.5 to 5) | 0.07142857142857142 | ... | 0.003160556257901389 | 0.07142857142857142 |\n",
      "+-----------------+---------------------+-----+----------------------+---------------------+\n",
      "| gdpgr(5 to 5.5) | 0.07142857142857142 | ... | 0.003160556257901389 | 0.07142857142857142 |\n",
      "+-----------------+---------------------+-----+----------------------+---------------------+\n",
      "| gdpgr(5.5 to 6) | 0.07142857142857142 | ... | 0.003160556257901389 | 0.07142857142857142 |\n",
      "+-----------------+---------------------+-----+----------------------+---------------------+\n",
      "| gdpgr(6 to 6.5) | 0.07142857142857142 | ... | 0.003160556257901389 | 0.07142857142857142 |\n",
      "+-----------------+---------------------+-----+----------------------+---------------------+\n",
      "| gdpgr(6.5 to 7) | 0.07142857142857142 | ... | 0.9589127686472816   | 0.07142857142857142 |\n",
      "+-----------------+---------------------+-----+----------------------+---------------------+\n",
      "| gdpgr(7 to 7.5) | 0.07142857142857142 | ... | 0.003160556257901389 | 0.07142857142857142 |\n",
      "+-----------------+---------------------+-----+----------------------+---------------------+\n",
      "| gdpgr(7.5 to 8) | 0.07142857142857142 | ... | 0.003160556257901389 | 0.07142857142857142 |\n",
      "+-----------------+---------------------+-----+----------------------+---------------------+\n",
      "| gdpgr(8 to 8.5) | 0.07142857142857142 | ... | 0.003160556257901389 | 0.07142857142857142 |\n",
      "+-----------------+---------------------+-----+----------------------+---------------------+\n",
      "| gdpgr(8.5 to 9) | 0.07142857142857142 | ... | 0.003160556257901389 | 0.07142857142857142 |\n",
      "+-----------------+---------------------+-----+----------------------+---------------------+\n",
      "| gdpgr(<=0)      | 0.07142857142857142 | ... | 0.003160556257901389 | 0.07142857142857142 |\n",
      "+-----------------+---------------------+-----+----------------------+---------------------+\n",
      "| gdpgr(>9)       | 0.07142857142857142 | ... | 0.003160556257901389 | 0.07142857142857142 |\n",
      "+-----------------+---------------------+-----+----------------------+---------------------+ \n",
      "\n",
      "CPT of cpi:\n",
      "+-------------+---------------------+-----+----------------------+----------------------+\n",
      "| gdpgr       | gdpgr(0 to 2)       | ... | gdpgr(<=0)           | gdpgr(>9)            |\n",
      "+-------------+---------------------+-----+----------------------+----------------------+\n",
      "| cpi(2 to 6) | 0.08771929824561403 | ... | 0.15210355987055016  | 0.5387840670859539   |\n",
      "+-------------+---------------------+-----+----------------------+----------------------+\n",
      "| cpi(<2)     | 0.08771929824561403 | ... | 0.016181229773462782 | 0.010482180293501049 |\n",
      "+-------------+---------------------+-----+----------------------+----------------------+\n",
      "| cpi(>6)     | 0.8245614035087719  | ... | 0.8317152103559871   | 0.4507337526205451   |\n",
      "+-------------+---------------------+-----+----------------------+----------------------+ \n",
      "\n",
      "CPT of rer:\n",
      "+-------------+----------------------+-----+---------------------+----------------------+\n",
      "| wacr        | wacr(5 to 5.30)      | ... | wacr(<5)            | wacr(>7.10)          |\n",
      "+-------------+----------------------+-----+---------------------+----------------------+\n",
      "| rer(0 to 2) | 0.46621621621621623  | ... | 0.44762845849802374 | 0.013440860215053764 |\n",
      "+-------------+----------------------+-----+---------------------+----------------------+\n",
      "| rer(2 to 4) | 0.033783783783783786 | ... | 0.13142292490118576 | 0.013440860215053764 |\n",
      "+-------------+----------------------+-----+---------------------+----------------------+\n",
      "| rer(<=0)    | 0.033783783783783786 | ... | 0.3211462450592885  | 0.09946236559139784  |\n",
      "+-------------+----------------------+-----+---------------------+----------------------+\n",
      "| rer(>4)     | 0.46621621621621623  | ... | 0.09980237154150198 | 0.8736559139784946   |\n",
      "+-------------+----------------------+-----+---------------------+----------------------+ \n",
      "\n",
      "CPT of nxpgr:\n",
      "+-----------------+----------------------+---------------------+---------------------+---------------------+\n",
      "| rer             | rer(0 to 2)          | rer(2 to 4)         | rer(<=0)            | rer(>4)             |\n",
      "+-----------------+----------------------+---------------------+---------------------+---------------------+\n",
      "| nxpgr(0 to 12)  | 0.011467889908256881 | 0.19202898550724637 | 0.15825688073394495 | 0.16428571428571428 |\n",
      "+-----------------+----------------------+---------------------+---------------------+---------------------+\n",
      "| nxpgr(12 to 40) | 0.231651376146789    | 0.36594202898550726 | 0.30504587155963303 | 0.1261904761904762  |\n",
      "+-----------------+----------------------+---------------------+---------------------+---------------------+\n",
      "| nxpgr(<=0)      | 0.4151376146788991   | 0.3079710144927536  | 0.30504587155963303 | 0.430952380952381   |\n",
      "+-----------------+----------------------+---------------------+---------------------+---------------------+\n",
      "| nxpgr(>40)      | 0.34174311926605505  | 0.13405797101449277 | 0.231651376146789   | 0.2785714285714286  |\n",
      "+-----------------+----------------------+---------------------+---------------------+---------------------+ \n",
      "\n",
      "CPT of cgr:\n",
      "+---------------+---------------------+-----+---------------------+----------------------+\n",
      "| wacr          | wacr(5 to 5.30)     | ... | wacr(<5)            | wacr(>7.10)          |\n",
      "+---------------+---------------------+-----+---------------------+----------------------+\n",
      "| cgr(6.5 to 9) | 0.4774774774774775  | ... | 0.386034255599473   | 0.36200716845878134  |\n",
      "+---------------+---------------------+-----+---------------------+----------------------+\n",
      "| cgr(<6.5)     | 0.04504504504504505 | ... | 0.4808959156785244  | 0.017921146953405017 |\n",
      "+---------------+---------------------+-----+---------------------+----------------------+\n",
      "| cgr(>9)       | 0.4774774774774775  | ... | 0.13306982872200263 | 0.6200716845878136   |\n",
      "+---------------+---------------------+-----+---------------------+----------------------+ \n",
      "\n",
      "CPT of astgr:\n",
      "+----------------+---------------------+-----+---------------------+--------------------+\n",
      "| wacr           | wacr(5 to 5.30)     | ... | wacr(<5)            | wacr(>7.10)        |\n",
      "+----------------+---------------------+-----+---------------------+--------------------+\n",
      "| astgr(2 to 10) | 0.4774774774774775  | ... | 0.1963109354413702  | 0.1039426523297491 |\n",
      "+----------------+---------------------+-----+---------------------+--------------------+\n",
      "| astgr(<2)      | 0.04504504504504505 | ... | 0.16469038208168643 | 0.4480286738351254 |\n",
      "+----------------+---------------------+-----+---------------------+--------------------+\n",
      "| astgr(>10)     | 0.4774774774774775  | ... | 0.6389986824769434  | 0.4480286738351254 |\n",
      "+----------------+---------------------+-----+---------------------+--------------------+ \n",
      "\n"
     ]
    }
   ],
   "source": [
    "from pgmpy.estimators import BayesianEstimator, MaximumLikelihoodEstimator\n",
    "from IPython.core.display import display, HTML\n",
    "\n",
    "# disable text wrapping in output cell\n",
    "display(HTML(\"<style>div.output_area pre {white-space: pre;}</style>\"))\n",
    "\n",
    "model_complex.cpds = []\n",
    "model_complex.fit(data=df,\n",
    "          estimator=BayesianEstimator,\n",
    "          prior_type=\"BDeu\")\n",
    "\n",
    "print(f'Check model: {model_complex.check_model()}\\n')\n",
    "for cpd in model_complex.get_cpds():\n",
    "    print(f'CPT of {cpd.variable}:')\n",
    "    print(cpd, '\\n')"
   ]
  },
  {
   "cell_type": "code",
   "execution_count": 149,
   "id": "472382b6",
   "metadata": {},
   "outputs": [],
   "source": [
    "infer_complex = VariableElimination(model_complex)"
   ]
  },
  {
   "cell_type": "code",
   "execution_count": 180,
   "id": "5b83b14f",
   "metadata": {},
   "outputs": [
    {
     "data": {
      "text/plain": [
       "OutEdgeView([('pr', 'wacr'), ('wacr', 'invgr'), ('wacr', 'rer'), ('wacr', 'cgr'), ('wacr', 'astgr'), ('invgr', 'gdpgr'), ('gdpgr', 'cpi'), ('rer', 'nxpgr'), ('nxpgr', 'gdpgr'), ('cgr', 'gdpgr'), ('astgr', 'gdpgr')])"
      ]
     },
     "execution_count": 180,
     "metadata": {},
     "output_type": "execute_result"
    }
   ],
   "source": [
    "model_complex.edges"
   ]
  },
  {
   "cell_type": "raw",
   "id": "070f2747",
   "metadata": {},
   "source": [
    "import networkx as nx\n",
    "import matplotlib.pyplot as plt\n",
    "\n",
    "# Create a directed graph object\n",
    "graph = nx.DiGraph()\n",
    "\n",
    "# Add nodes to the graph\n",
    "graph.add_nodes_from(['policy rate', 'credit growth', 'call rate', 'real exch.rate', 'asset growth',\n",
    "                      'Pol.uncertainty', 'inflation', 'GDP', 'investment', 'net export'])\n",
    "\n",
    "# Add edges to the graph\n",
    "graph.add_edges_from([('policy rate', 'call rate'),   ('call rate', 'investment'),   ('investment', 'GDP'),\n",
    "                       ('GDP', 'inflation'), ('policy rate', 'real exch.rate'), ('real exch.rate', 'net export')\n",
    "                      ,('net export', 'GDP') ,('policy rate', 'credit growth'), ('credit growth', 'GDP'),\n",
    "                       ('credit growth', 'inflation'),('call rate', 'asset growth'), ('asset growth', 'GDP')\n",
    "                      , ('credit growth', 'asset growth'), ('real exch.rate', 'inflation'), ('real exch.rate', 'asset growth'),\n",
    "                       ('real exch.rate', 'credit growth'),  ('call rate', 'real exch.rate'), ('call rate', 'inflation')\n",
    "                      ,('Pol.uncertainty', 'inflation'), ('asset growth', 'inflation')])\n",
    "\n",
    "# Set options for graph looks\n",
    "options = {\n",
    "    \"font_size\": 8,\n",
    "    \"node_size\": 2000,\n",
    "    \"node_color\": \"white\",\n",
    "    \"edgecolors\": \"red\",\n",
    "    \"linewidths\": 3,\n",
    "    \"width\": 3}\n",
    "\n",
    "\n",
    "# Draw the graph\n",
    "pos = {'policy rate': (0, 10), 'credit growth' : (5, 3), 'call rate': (0, 3), 'real exch.rate': (8, 7), 'asset growth':(10,-3)\n",
    "       , 'Pol.uncertainty':(-4,4), 'inflation':(2,-12), 'investment':(2.5,-1.8), 'net export':(8,-9), 'GDP':(-3,-5)}\n",
    "nx.draw(graph, with_labels=True, font_weight='bold', pos = pos,   **options)\n",
    "plt.title('Directed Acyclic Graph')\n",
    "plt.figure( dpi = 1000)\n",
    "plt.show()\n"
   ]
  },
  {
   "cell_type": "code",
   "execution_count": 150,
   "id": "88e56e4d",
   "metadata": {},
   "outputs": [
    {
     "name": "stdout",
     "output_type": "stream",
     "text": [
      "+-------------+------------+\n",
      "| cpi         |   phi(cpi) |\n",
      "+=============+============+\n",
      "| cpi(2 to 6) |     0.7358 |\n",
      "+-------------+------------+\n",
      "| cpi(<2)     |     0.0443 |\n",
      "+-------------+------------+\n",
      "| cpi(>6)     |     0.2199 |\n",
      "+-------------+------------+\n"
     ]
    },
    {
     "name": "stderr",
     "output_type": "stream",
     "text": [
      "C:\\Users\\NIYAZ AHMED\\anaconda3\\lib\\site-packages\\pgmpy\\models\\BayesianModel.py:8: FutureWarning: BayesianModel has been renamed to BayesianNetwork. Please use BayesianNetwork class, BayesianModel will be removed in future.\n",
      "  warnings.warn(\n"
     ]
    }
   ],
   "source": [
    "print(infer_complex.query(['cpi'], evidence = {'pr' : '6 to 6.5'}))"
   ]
  },
  {
   "cell_type": "code",
   "execution_count": 151,
   "id": "11c1aab0",
   "metadata": {},
   "outputs": [
    {
     "name": "stdout",
     "output_type": "stream",
     "text": [
      "+-------------+------------+\n",
      "| cpi         |   phi(cpi) |\n",
      "+=============+============+\n",
      "| cpi(2 to 6) |     0.7453 |\n",
      "+-------------+------------+\n",
      "| cpi(<2)     |     0.0390 |\n",
      "+-------------+------------+\n",
      "| cpi(>6)     |     0.2157 |\n",
      "+-------------+------------+\n"
     ]
    }
   ],
   "source": [
    "print(infer_complex.query(['cpi'], evidence = {'pr' : '6.5 to 7.0'}))"
   ]
  },
  {
   "cell_type": "code",
   "execution_count": 152,
   "id": "eea7af39",
   "metadata": {},
   "outputs": [
    {
     "name": "stdout",
     "output_type": "stream",
     "text": [
      "+-------------+------------+\n",
      "| cpi         |   phi(cpi) |\n",
      "+=============+============+\n",
      "| cpi(2 to 6) |     0.7467 |\n",
      "+-------------+------------+\n",
      "| cpi(<2)     |     0.0389 |\n",
      "+-------------+------------+\n",
      "| cpi(>6)     |     0.2144 |\n",
      "+-------------+------------+\n"
     ]
    }
   ],
   "source": [
    "print(infer_complex.query(['cpi'], evidence = {'pr' : '7.0 to 7.5'}))"
   ]
  },
  {
   "cell_type": "code",
   "execution_count": 153,
   "id": "1ddb74ac",
   "metadata": {},
   "outputs": [
    {
     "data": {
      "text/plain": [
       "<AxesSubplot:xlabel='Date'>"
      ]
     },
     "execution_count": 153,
     "metadata": {},
     "output_type": "execute_result"
    },
    {
     "data": {
      "image/png": "[encoded data removed]",
      "text/plain": [
       "<Figure size 432x288 with 1 Axes>"
      ]
     },
     "metadata": {
      "needs_background": "light"
     },
     "output_type": "display_data"
    }
   ],
   "source": [
    "df1.creditgrowth.plot()"
   ]
  },
  {
   "cell_type": "code",
   "execution_count": 154,
   "id": "4692e689",
   "metadata": {},
   "outputs": [],
   "source": [
    "df1.plot??"
   ]
  },
  {
   "cell_type": "code",
   "execution_count": 155,
   "id": "89b30ed4",
   "metadata": {},
   "outputs": [
    {
     "data": {
      "text/plain": [
       "<AxesSubplot:xlabel='Date'>"
      ]
     },
     "execution_count": 155,
     "metadata": {},
     "output_type": "execute_result"
    },
    {
     "data": {
      "image/png": "[encoded data removed]",
      "text/plain": [
       "<Figure size 432x288 with 1 Axes>"
      ]
     },
     "metadata": {
      "needs_background": "light"
     },
     "output_type": "display_data"
    }
   ],
   "source": [
    "df1[['creditgrowth', 'Weighted average call rate', 'gdpRate']].plot()"
   ]
  },
  {
   "cell_type": "code",
   "execution_count": 156,
   "id": "641a9025",
   "metadata": {},
   "outputs": [
    {
     "data": {
      "text/plain": [
       "Index(['Weighted average call rate', 'Bank credit', 'policy rate', 'real ER',\n",
       "       'asset price', 'GPR', 'CPI', 'gdp', 'investment', 'net export',\n",
       "       'creditgrowth', 'assetgrowth', 'gdpRate', 'investmentRate',\n",
       "       'netexportRate', 'real ER growth', 'GPrRate'],\n",
       "      dtype='object')"
      ]
     },
     "execution_count": 156,
     "metadata": {},
     "output_type": "execute_result"
    }
   ],
   "source": [
    "df1.columns"
   ]
  },
  {
   "cell_type": "code",
   "execution_count": 157,
   "id": "5e00d218",
   "metadata": {},
   "outputs": [
    {
     "name": "stdout",
     "output_type": "stream",
     "text": [
      "+----------------+--------------+\n",
      "| astgr          |   phi(astgr) |\n",
      "+================+==============+\n",
      "| astgr(2 to 10) |       0.2517 |\n",
      "+----------------+--------------+\n",
      "| astgr(<2)      |       0.2109 |\n",
      "+----------------+--------------+\n",
      "| astgr(>10)     |       0.5374 |\n",
      "+----------------+--------------+\n"
     ]
    },
    {
     "name": "stderr",
     "output_type": "stream",
     "text": [
      "C:\\Users\\NIYAZ AHMED\\anaconda3\\lib\\site-packages\\pgmpy\\models\\BayesianModel.py:8: FutureWarning: BayesianModel has been renamed to BayesianNetwork. Please use BayesianNetwork class, BayesianModel will be removed in future.\n",
      "  warnings.warn(\n"
     ]
    }
   ],
   "source": [
    "print(infer_complex.query(['astgr'], evidence = {}))"
   ]
  },
  {
   "cell_type": "code",
   "execution_count": 158,
   "id": "4b5d5b48",
   "metadata": {},
   "outputs": [
    {
     "name": "stdout",
     "output_type": "stream",
     "text": [
      "+----------------+--------------+\n",
      "| astgr          |   phi(astgr) |\n",
      "+================+==============+\n",
      "| astgr(2 to 10) |       0.2410 |\n",
      "+----------------+--------------+\n",
      "| astgr(<2)      |       0.2138 |\n",
      "+----------------+--------------+\n",
      "| astgr(>10)     |       0.5451 |\n",
      "+----------------+--------------+\n"
     ]
    }
   ],
   "source": [
    "print(infer.query(['astgr'], evidence = {}))"
   ]
  },
  {
   "cell_type": "code",
   "execution_count": 159,
   "id": "97e86efe",
   "metadata": {},
   "outputs": [
    {
     "name": "stdout",
     "output_type": "stream",
     "text": [
      "+----------------+--------------+\n",
      "| astgr          |   phi(astgr) |\n",
      "+================+==============+\n",
      "| astgr(2 to 10) |       0.2517 |\n",
      "+----------------+--------------+\n",
      "| astgr(<2)      |       0.2109 |\n",
      "+----------------+--------------+\n",
      "| astgr(>10)     |       0.5374 |\n",
      "+----------------+--------------+\n"
     ]
    }
   ],
   "source": [
    "print(infer_astgr.query(['astgr'], evidence = {}))"
   ]
  },
  {
   "cell_type": "code",
   "execution_count": 160,
   "id": "f3bc69f2",
   "metadata": {},
   "outputs": [],
   "source": [
    "np.random.seed(42)"
   ]
  },
  {
   "cell_type": "code",
   "execution_count": 161,
   "id": "9c0edcb8",
   "metadata": {},
   "outputs": [],
   "source": [
    "from sklearn.model_selection import train_test_split"
   ]
  },
  {
   "cell_type": "code",
   "execution_count": 162,
   "id": "83e8e555",
   "metadata": {},
   "outputs": [],
   "source": [
    "train_set , test_set = train_test_split(df_int, test_size = 0.4, random_state = 42)"
   ]
  },
  {
   "cell_type": "code",
   "execution_count": 163,
   "id": "ee363950",
   "metadata": {},
   "outputs": [],
   "source": [
    "model_int.fit(train_set,estimator=BayesianEstimator,\n",
    "          prior_type=\"BDeu\")"
   ]
  },
  {
   "cell_type": "code",
   "execution_count": 164,
   "id": "11c5a639",
   "metadata": {},
   "outputs": [
    {
     "data": {
      "text/html": [
       "<div>\n",
       "<style scoped>\n",
       "    .dataframe tbody tr th:only-of-type {\n",
       "        vertical-align: middle;\n",
       "    }\n",
       "\n",
       "    .dataframe tbody tr th {\n",
       "        vertical-align: top;\n",
       "    }\n",
       "\n",
       "    .dataframe thead th {\n",
       "        text-align: right;\n",
       "    }\n",
       "</style>\n",
       "<table border=\"1\" class=\"dataframe\">\n",
       "  <thead>\n",
       "    <tr style=\"text-align: right;\">\n",
       "      <th></th>\n",
       "      <th>pr</th>\n",
       "      <th>wacr</th>\n",
       "      <th>invgr</th>\n",
       "      <th>gdpgr</th>\n",
       "      <th>cpi</th>\n",
       "    </tr>\n",
       "    <tr>\n",
       "      <th>Date</th>\n",
       "      <th></th>\n",
       "      <th></th>\n",
       "      <th></th>\n",
       "      <th></th>\n",
       "      <th></th>\n",
       "    </tr>\n",
       "  </thead>\n",
       "  <tbody>\n",
       "    <tr>\n",
       "      <th>2015-01-01</th>\n",
       "      <td>7.5 to 8.0</td>\n",
       "      <td>&gt;7.10</td>\n",
       "      <td>&gt;10</td>\n",
       "      <td>6.5 to 7</td>\n",
       "      <td>2 to 6</td>\n",
       "    </tr>\n",
       "    <tr>\n",
       "      <th>2015-02-01</th>\n",
       "      <td>7.5 to 8.0</td>\n",
       "      <td>&gt;7.10</td>\n",
       "      <td>&gt;10</td>\n",
       "      <td>7 to 7.5</td>\n",
       "      <td>2 to 6</td>\n",
       "    </tr>\n",
       "    <tr>\n",
       "      <th>2015-03-01</th>\n",
       "      <td>7.0 to 7.5</td>\n",
       "      <td>&gt;7.10</td>\n",
       "      <td>&gt;10</td>\n",
       "      <td>7.5 to 8</td>\n",
       "      <td>2 to 6</td>\n",
       "    </tr>\n",
       "    <tr>\n",
       "      <th>2015-04-01</th>\n",
       "      <td>7.0 to 7.5</td>\n",
       "      <td>&gt;7.10</td>\n",
       "      <td>&gt;10</td>\n",
       "      <td>7.5 to 8</td>\n",
       "      <td>2 to 6</td>\n",
       "    </tr>\n",
       "    <tr>\n",
       "      <th>2015-05-01</th>\n",
       "      <td>7.0 to 7.5</td>\n",
       "      <td>&gt;7.10</td>\n",
       "      <td>&gt;10</td>\n",
       "      <td>8 to 8.5</td>\n",
       "      <td>2 to 6</td>\n",
       "    </tr>\n",
       "    <tr>\n",
       "      <th>...</th>\n",
       "      <td>...</td>\n",
       "      <td>...</td>\n",
       "      <td>...</td>\n",
       "      <td>...</td>\n",
       "      <td>...</td>\n",
       "    </tr>\n",
       "    <tr>\n",
       "      <th>2022-05-01</th>\n",
       "      <td>&lt;=4</td>\n",
       "      <td>&lt;5</td>\n",
       "      <td>5 to 10</td>\n",
       "      <td>7.5 to 8</td>\n",
       "      <td>&gt;6</td>\n",
       "    </tr>\n",
       "    <tr>\n",
       "      <th>2022-06-01</th>\n",
       "      <td>4.0 to 4.5</td>\n",
       "      <td>&lt;5</td>\n",
       "      <td>5 to 10</td>\n",
       "      <td>5 to 5.5</td>\n",
       "      <td>&gt;6</td>\n",
       "    </tr>\n",
       "    <tr>\n",
       "      <th>2022-07-01</th>\n",
       "      <td>4.5 to 5.0</td>\n",
       "      <td>5 to 5.30</td>\n",
       "      <td>5 to 10</td>\n",
       "      <td>5 to 5.5</td>\n",
       "      <td>&gt;6</td>\n",
       "    </tr>\n",
       "    <tr>\n",
       "      <th>2022-08-01</th>\n",
       "      <td>4.5 to 5.0</td>\n",
       "      <td>5 to 5.30</td>\n",
       "      <td>&gt;10</td>\n",
       "      <td>4.5 to 5</td>\n",
       "      <td>&gt;6</td>\n",
       "    </tr>\n",
       "    <tr>\n",
       "      <th>2022-09-01</th>\n",
       "      <td>5.0 to 5.5</td>\n",
       "      <td>5.30 to 5.60</td>\n",
       "      <td>5 to 10</td>\n",
       "      <td>4.5 to 5</td>\n",
       "      <td>&gt;6</td>\n",
       "    </tr>\n",
       "  </tbody>\n",
       "</table>\n",
       "<p>93 rows × 5 columns</p>\n",
       "</div>"
      ],
      "text/plain": [
       "                    pr          wacr    invgr     gdpgr     cpi\n",
       "Date                                                           \n",
       "2015-01-01  7.5 to 8.0         >7.10      >10  6.5 to 7  2 to 6\n",
       "2015-02-01  7.5 to 8.0         >7.10      >10  7 to 7.5  2 to 6\n",
       "2015-03-01  7.0 to 7.5         >7.10      >10  7.5 to 8  2 to 6\n",
       "2015-04-01  7.0 to 7.5         >7.10      >10  7.5 to 8  2 to 6\n",
       "2015-05-01  7.0 to 7.5         >7.10      >10  8 to 8.5  2 to 6\n",
       "...                ...           ...      ...       ...     ...\n",
       "2022-05-01         <=4            <5  5 to 10  7.5 to 8      >6\n",
       "2022-06-01  4.0 to 4.5            <5  5 to 10  5 to 5.5      >6\n",
       "2022-07-01  4.5 to 5.0     5 to 5.30  5 to 10  5 to 5.5      >6\n",
       "2022-08-01  4.5 to 5.0     5 to 5.30      >10  4.5 to 5      >6\n",
       "2022-09-01  5.0 to 5.5  5.30 to 5.60  5 to 10  4.5 to 5      >6\n",
       "\n",
       "[93 rows x 5 columns]"
      ]
     },
     "execution_count": 164,
     "metadata": {},
     "output_type": "execute_result"
    }
   ],
   "source": [
    "df_int"
   ]
  },
  {
   "cell_type": "code",
   "execution_count": 165,
   "id": "44b2c146",
   "metadata": {},
   "outputs": [
    {
     "data": {
      "text/plain": [
       "Date\n",
       "2015-08-01    2 to 6\n",
       "2021-09-01    2 to 6\n",
       "2017-04-01    2 to 6\n",
       "2016-08-01    2 to 6\n",
       "2021-05-01        >6\n",
       "2017-02-01    2 to 6\n",
       "2019-06-01    2 to 6\n",
       "2016-02-01    2 to 6\n",
       "2017-01-01    2 to 6\n",
       "2015-04-01    2 to 6\n",
       "2016-06-01    2 to 6\n",
       "2018-03-01    2 to 6\n",
       "2015-09-01    2 to 6\n",
       "2021-02-01    2 to 6\n",
       "2015-07-01    2 to 6\n",
       "2022-06-01        >6\n",
       "2018-01-01    2 to 6\n",
       "2022-04-01        >6\n",
       "2019-09-01    2 to 6\n",
       "2022-09-01        >6\n",
       "2019-07-01    2 to 6\n",
       "2018-08-01    2 to 6\n",
       "2019-03-01    2 to 6\n",
       "2021-04-01    2 to 6\n",
       "2018-11-01    2 to 6\n",
       "2020-05-01        >6\n",
       "2020-02-01        >6\n",
       "2022-08-01        >6\n",
       "2022-01-01        >6\n",
       "2018-06-01    2 to 6\n",
       "2019-11-01    2 to 6\n",
       "2019-01-01        <2\n",
       "2021-10-01    2 to 6\n",
       "2019-10-01    2 to 6\n",
       "2017-09-01    2 to 6\n",
       "2022-05-01        >6\n",
       "2019-12-01        >6\n",
       "2020-04-01        >6\n",
       "2021-08-01    2 to 6\n",
       "2018-02-01    2 to 6\n",
       "2017-06-01        <2\n",
       "2015-02-01    2 to 6\n",
       "2019-05-01    2 to 6\n",
       "2016-10-01    2 to 6\n",
       "2015-03-01    2 to 6\n",
       "2016-12-01    2 to 6\n",
       "2022-02-01        >6\n",
       "2021-03-01    2 to 6\n",
       "2022-03-01        >6\n",
       "2021-11-01    2 to 6\n",
       "2016-09-01    2 to 6\n",
       "2020-01-01        >6\n",
       "2020-12-01    2 to 6\n",
       "2016-03-01    2 to 6\n",
       "2019-04-01    2 to 6\n",
       "Name: cpi, dtype: object"
      ]
     },
     "execution_count": 165,
     "metadata": {},
     "output_type": "execute_result"
    }
   ],
   "source": [
    "train_label = train_set['cpi']\n",
    "train_label"
   ]
  },
  {
   "cell_type": "code",
   "execution_count": 166,
   "id": "821308ed",
   "metadata": {},
   "outputs": [
    {
     "name": "stderr",
     "output_type": "stream",
     "text": [
      "C:\\Users\\NIYAZ AHMED\\anaconda3\\lib\\site-packages\\pandas\\core\\frame.py:4308: SettingWithCopyWarning: \n",
      "A value is trying to be set on a copy of a slice from a DataFrame\n",
      "\n",
      "See the caveats in the documentation: https://pandas.pydata.org/pandas-docs/stable/user_guide/indexing.html#returning-a-view-versus-a-copy\n",
      "  return super().drop(\n"
     ]
    }
   ],
   "source": [
    "train_set.drop('cpi', axis = 1, inplace = True)"
   ]
  },
  {
   "cell_type": "code",
   "execution_count": 167,
   "id": "c342518a",
   "metadata": {},
   "outputs": [
    {
     "data": {
      "text/html": [
       "<div>\n",
       "<style scoped>\n",
       "    .dataframe tbody tr th:only-of-type {\n",
       "        vertical-align: middle;\n",
       "    }\n",
       "\n",
       "    .dataframe tbody tr th {\n",
       "        vertical-align: top;\n",
       "    }\n",
       "\n",
       "    .dataframe thead th {\n",
       "        text-align: right;\n",
       "    }\n",
       "</style>\n",
       "<table border=\"1\" class=\"dataframe\">\n",
       "  <thead>\n",
       "    <tr style=\"text-align: right;\">\n",
       "      <th></th>\n",
       "      <th>pr</th>\n",
       "      <th>wacr</th>\n",
       "      <th>invgr</th>\n",
       "      <th>gdpgr</th>\n",
       "    </tr>\n",
       "    <tr>\n",
       "      <th>Date</th>\n",
       "      <th></th>\n",
       "      <th></th>\n",
       "      <th></th>\n",
       "      <th></th>\n",
       "    </tr>\n",
       "  </thead>\n",
       "  <tbody>\n",
       "    <tr>\n",
       "      <th>2015-08-01</th>\n",
       "      <td>7.0 to 7.5</td>\n",
       "      <td>6.50 to 6.80</td>\n",
       "      <td>&gt;10</td>\n",
       "      <td>7.5 to 8</td>\n",
       "    </tr>\n",
       "    <tr>\n",
       "      <th>2021-09-01</th>\n",
       "      <td>&lt;=4</td>\n",
       "      <td>&lt;5</td>\n",
       "      <td>5 to 10</td>\n",
       "      <td>4.5 to 5</td>\n",
       "    </tr>\n",
       "    <tr>\n",
       "      <th>2017-04-01</th>\n",
       "      <td>6 to 6.5</td>\n",
       "      <td>5.90 to 6.20</td>\n",
       "      <td>&gt;10</td>\n",
       "      <td>5 to 5.5</td>\n",
       "    </tr>\n",
       "    <tr>\n",
       "      <th>2016-08-01</th>\n",
       "      <td>6 to 6.5</td>\n",
       "      <td>6.20 to 6.50</td>\n",
       "      <td>5 to 10</td>\n",
       "      <td>7.5 to 8</td>\n",
       "    </tr>\n",
       "    <tr>\n",
       "      <th>2021-05-01</th>\n",
       "      <td>&lt;=4</td>\n",
       "      <td>&lt;5</td>\n",
       "      <td>&gt;10</td>\n",
       "      <td>&gt;9</td>\n",
       "    </tr>\n",
       "    <tr>\n",
       "      <th>2017-02-01</th>\n",
       "      <td>6 to 6.5</td>\n",
       "      <td>5.90 to 6.20</td>\n",
       "      <td>&gt;10</td>\n",
       "      <td>5.5 to 6</td>\n",
       "    </tr>\n",
       "    <tr>\n",
       "      <th>2019-06-01</th>\n",
       "      <td>5.5 to 6.0</td>\n",
       "      <td>5.60 to 5.90</td>\n",
       "      <td>&lt;=5</td>\n",
       "      <td>4 to 4.5</td>\n",
       "    </tr>\n",
       "    <tr>\n",
       "      <th>2016-02-01</th>\n",
       "      <td>6.5 to 7.0</td>\n",
       "      <td>&gt;7.10</td>\n",
       "      <td>5 to 10</td>\n",
       "      <td>&gt;9</td>\n",
       "    </tr>\n",
       "    <tr>\n",
       "      <th>2017-01-01</th>\n",
       "      <td>6 to 6.5</td>\n",
       "      <td>5.90 to 6.20</td>\n",
       "      <td>&gt;10</td>\n",
       "      <td>6 to 6.5</td>\n",
       "    </tr>\n",
       "    <tr>\n",
       "      <th>2015-04-01</th>\n",
       "      <td>7.0 to 7.5</td>\n",
       "      <td>&gt;7.10</td>\n",
       "      <td>&gt;10</td>\n",
       "      <td>7.5 to 8</td>\n",
       "    </tr>\n",
       "    <tr>\n",
       "      <th>2016-06-01</th>\n",
       "      <td>6 to 6.5</td>\n",
       "      <td>6.20 to 6.50</td>\n",
       "      <td>5 to 10</td>\n",
       "      <td>8 to 8.5</td>\n",
       "    </tr>\n",
       "    <tr>\n",
       "      <th>2018-03-01</th>\n",
       "      <td>5.5 to 6.0</td>\n",
       "      <td>5.90 to 6.20</td>\n",
       "      <td>5 to 10</td>\n",
       "      <td>7 to 7.5</td>\n",
       "    </tr>\n",
       "    <tr>\n",
       "      <th>2015-09-01</th>\n",
       "      <td>7.0 to 7.5</td>\n",
       "      <td>&gt;7.10</td>\n",
       "      <td>&gt;10</td>\n",
       "      <td>7 to 7.5</td>\n",
       "    </tr>\n",
       "    <tr>\n",
       "      <th>2021-02-01</th>\n",
       "      <td>&lt;=4</td>\n",
       "      <td>&lt;5</td>\n",
       "      <td>&gt;10</td>\n",
       "      <td>&gt;9</td>\n",
       "    </tr>\n",
       "    <tr>\n",
       "      <th>2015-07-01</th>\n",
       "      <td>7.0 to 7.5</td>\n",
       "      <td>6.50 to 6.80</td>\n",
       "      <td>&gt;10</td>\n",
       "      <td>8 to 8.5</td>\n",
       "    </tr>\n",
       "    <tr>\n",
       "      <th>2022-06-01</th>\n",
       "      <td>4.0 to 4.5</td>\n",
       "      <td>&lt;5</td>\n",
       "      <td>5 to 10</td>\n",
       "      <td>5 to 5.5</td>\n",
       "    </tr>\n",
       "    <tr>\n",
       "      <th>2018-01-01</th>\n",
       "      <td>5.5 to 6.0</td>\n",
       "      <td>5.60 to 5.90</td>\n",
       "      <td>&lt;=5</td>\n",
       "      <td>7 to 7.5</td>\n",
       "    </tr>\n",
       "    <tr>\n",
       "      <th>2022-04-01</th>\n",
       "      <td>&lt;=4</td>\n",
       "      <td>&lt;5</td>\n",
       "      <td>5 to 10</td>\n",
       "      <td>&gt;9</td>\n",
       "    </tr>\n",
       "    <tr>\n",
       "      <th>2019-09-01</th>\n",
       "      <td>5.0 to 5.5</td>\n",
       "      <td>5.30 to 5.60</td>\n",
       "      <td>5 to 10</td>\n",
       "      <td>2 to 4</td>\n",
       "    </tr>\n",
       "    <tr>\n",
       "      <th>2022-09-01</th>\n",
       "      <td>5.0 to 5.5</td>\n",
       "      <td>5.30 to 5.60</td>\n",
       "      <td>5 to 10</td>\n",
       "      <td>4.5 to 5</td>\n",
       "    </tr>\n",
       "    <tr>\n",
       "      <th>2019-07-01</th>\n",
       "      <td>5.5 to 6.0</td>\n",
       "      <td>5.60 to 5.90</td>\n",
       "      <td>&lt;=5</td>\n",
       "      <td>2 to 4</td>\n",
       "    </tr>\n",
       "    <tr>\n",
       "      <th>2018-08-01</th>\n",
       "      <td>6 to 6.5</td>\n",
       "      <td>6.20 to 6.50</td>\n",
       "      <td>5 to 10</td>\n",
       "      <td>5.5 to 6</td>\n",
       "    </tr>\n",
       "    <tr>\n",
       "      <th>2019-03-01</th>\n",
       "      <td>6 to 6.5</td>\n",
       "      <td>6.20 to 6.50</td>\n",
       "      <td>&lt;=5</td>\n",
       "      <td>4.5 to 5</td>\n",
       "    </tr>\n",
       "    <tr>\n",
       "      <th>2021-04-01</th>\n",
       "      <td>&lt;=4</td>\n",
       "      <td>&lt;5</td>\n",
       "      <td>&gt;10</td>\n",
       "      <td>&gt;9</td>\n",
       "    </tr>\n",
       "    <tr>\n",
       "      <th>2018-11-01</th>\n",
       "      <td>6 to 6.5</td>\n",
       "      <td>6.20 to 6.50</td>\n",
       "      <td>&lt;=5</td>\n",
       "      <td>4.5 to 5</td>\n",
       "    </tr>\n",
       "    <tr>\n",
       "      <th>2020-05-01</th>\n",
       "      <td>&lt;=4</td>\n",
       "      <td>&lt;5</td>\n",
       "      <td>&gt;10</td>\n",
       "      <td>&lt;=0</td>\n",
       "    </tr>\n",
       "    <tr>\n",
       "      <th>2020-02-01</th>\n",
       "      <td>5.0 to 5.5</td>\n",
       "      <td>&lt;5</td>\n",
       "      <td>&gt;10</td>\n",
       "      <td>&lt;=0</td>\n",
       "    </tr>\n",
       "    <tr>\n",
       "      <th>2022-08-01</th>\n",
       "      <td>4.5 to 5.0</td>\n",
       "      <td>5 to 5.30</td>\n",
       "      <td>&gt;10</td>\n",
       "      <td>4.5 to 5</td>\n",
       "    </tr>\n",
       "    <tr>\n",
       "      <th>2022-01-01</th>\n",
       "      <td>&lt;=4</td>\n",
       "      <td>&lt;5</td>\n",
       "      <td>&lt;=5</td>\n",
       "      <td>6 to 6.5</td>\n",
       "    </tr>\n",
       "    <tr>\n",
       "      <th>2018-06-01</th>\n",
       "      <td>6 to 6.5</td>\n",
       "      <td>5.90 to 6.20</td>\n",
       "      <td>5 to 10</td>\n",
       "      <td>6 to 6.5</td>\n",
       "    </tr>\n",
       "    <tr>\n",
       "      <th>2019-11-01</th>\n",
       "      <td>5.0 to 5.5</td>\n",
       "      <td>&lt;5</td>\n",
       "      <td>5 to 10</td>\n",
       "      <td>2 to 4</td>\n",
       "    </tr>\n",
       "    <tr>\n",
       "      <th>2019-01-01</th>\n",
       "      <td>6 to 6.5</td>\n",
       "      <td>6.20 to 6.50</td>\n",
       "      <td>&lt;=5</td>\n",
       "      <td>4.5 to 5</td>\n",
       "    </tr>\n",
       "    <tr>\n",
       "      <th>2021-10-01</th>\n",
       "      <td>&lt;=4</td>\n",
       "      <td>&lt;5</td>\n",
       "      <td>&lt;=5</td>\n",
       "      <td>4 to 4.5</td>\n",
       "    </tr>\n",
       "    <tr>\n",
       "      <th>2019-10-01</th>\n",
       "      <td>5.0 to 5.5</td>\n",
       "      <td>5 to 5.30</td>\n",
       "      <td>5 to 10</td>\n",
       "      <td>2 to 4</td>\n",
       "    </tr>\n",
       "    <tr>\n",
       "      <th>2017-09-01</th>\n",
       "      <td>5.5 to 6.0</td>\n",
       "      <td>5.60 to 5.90</td>\n",
       "      <td>&gt;10</td>\n",
       "      <td>6.5 to 7</td>\n",
       "    </tr>\n",
       "    <tr>\n",
       "      <th>2022-05-01</th>\n",
       "      <td>&lt;=4</td>\n",
       "      <td>&lt;5</td>\n",
       "      <td>5 to 10</td>\n",
       "      <td>7.5 to 8</td>\n",
       "    </tr>\n",
       "    <tr>\n",
       "      <th>2019-12-01</th>\n",
       "      <td>5.0 to 5.5</td>\n",
       "      <td>5 to 5.30</td>\n",
       "      <td>&gt;10</td>\n",
       "      <td>2 to 4</td>\n",
       "    </tr>\n",
       "    <tr>\n",
       "      <th>2020-04-01</th>\n",
       "      <td>4.0 to 4.5</td>\n",
       "      <td>&lt;5</td>\n",
       "      <td>&gt;10</td>\n",
       "      <td>&lt;=0</td>\n",
       "    </tr>\n",
       "    <tr>\n",
       "      <th>2021-08-01</th>\n",
       "      <td>&lt;=4</td>\n",
       "      <td>&lt;5</td>\n",
       "      <td>5 to 10</td>\n",
       "      <td>6 to 6.5</td>\n",
       "    </tr>\n",
       "    <tr>\n",
       "      <th>2018-02-01</th>\n",
       "      <td>5.5 to 6.0</td>\n",
       "      <td>5.90 to 6.20</td>\n",
       "      <td>&lt;=5</td>\n",
       "      <td>7 to 7.5</td>\n",
       "    </tr>\n",
       "    <tr>\n",
       "      <th>2017-06-01</th>\n",
       "      <td>6 to 6.5</td>\n",
       "      <td>5.90 to 6.20</td>\n",
       "      <td>&gt;10</td>\n",
       "      <td>5.5 to 6</td>\n",
       "    </tr>\n",
       "    <tr>\n",
       "      <th>2015-02-01</th>\n",
       "      <td>7.5 to 8.0</td>\n",
       "      <td>&gt;7.10</td>\n",
       "      <td>&gt;10</td>\n",
       "      <td>7 to 7.5</td>\n",
       "    </tr>\n",
       "    <tr>\n",
       "      <th>2019-05-01</th>\n",
       "      <td>5.5 to 6.0</td>\n",
       "      <td>5.90 to 6.20</td>\n",
       "      <td>&lt;=5</td>\n",
       "      <td>4 to 4.5</td>\n",
       "    </tr>\n",
       "    <tr>\n",
       "      <th>2016-10-01</th>\n",
       "      <td>6 to 6.5</td>\n",
       "      <td>6.20 to 6.50</td>\n",
       "      <td>5 to 10</td>\n",
       "      <td>7 to 7.5</td>\n",
       "    </tr>\n",
       "    <tr>\n",
       "      <th>2015-03-01</th>\n",
       "      <td>7.0 to 7.5</td>\n",
       "      <td>&gt;7.10</td>\n",
       "      <td>&gt;10</td>\n",
       "      <td>7.5 to 8</td>\n",
       "    </tr>\n",
       "    <tr>\n",
       "      <th>2016-12-01</th>\n",
       "      <td>6 to 6.5</td>\n",
       "      <td>5.90 to 6.20</td>\n",
       "      <td>&gt;10</td>\n",
       "      <td>6.5 to 7</td>\n",
       "    </tr>\n",
       "    <tr>\n",
       "      <th>2022-02-01</th>\n",
       "      <td>&lt;=4</td>\n",
       "      <td>&lt;5</td>\n",
       "      <td>&lt;=5</td>\n",
       "      <td>&gt;9</td>\n",
       "    </tr>\n",
       "    <tr>\n",
       "      <th>2021-03-01</th>\n",
       "      <td>&lt;=4</td>\n",
       "      <td>&lt;5</td>\n",
       "      <td>&gt;10</td>\n",
       "      <td>&gt;9</td>\n",
       "    </tr>\n",
       "    <tr>\n",
       "      <th>2022-03-01</th>\n",
       "      <td>&lt;=4</td>\n",
       "      <td>&lt;5</td>\n",
       "      <td>5 to 10</td>\n",
       "      <td>&gt;9</td>\n",
       "    </tr>\n",
       "    <tr>\n",
       "      <th>2021-11-01</th>\n",
       "      <td>&lt;=4</td>\n",
       "      <td>&lt;5</td>\n",
       "      <td>&lt;=5</td>\n",
       "      <td>4 to 4.5</td>\n",
       "    </tr>\n",
       "    <tr>\n",
       "      <th>2016-09-01</th>\n",
       "      <td>6 to 6.5</td>\n",
       "      <td>6.20 to 6.50</td>\n",
       "      <td>5 to 10</td>\n",
       "      <td>7.5 to 8</td>\n",
       "    </tr>\n",
       "    <tr>\n",
       "      <th>2020-01-01</th>\n",
       "      <td>5.0 to 5.5</td>\n",
       "      <td>&lt;5</td>\n",
       "      <td>&gt;10</td>\n",
       "      <td>&lt;=0</td>\n",
       "    </tr>\n",
       "    <tr>\n",
       "      <th>2020-12-01</th>\n",
       "      <td>&lt;=4</td>\n",
       "      <td>&lt;5</td>\n",
       "      <td>&gt;10</td>\n",
       "      <td>6 to 6.5</td>\n",
       "    </tr>\n",
       "    <tr>\n",
       "      <th>2016-03-01</th>\n",
       "      <td>6.5 to 7.0</td>\n",
       "      <td>6.50 to 6.80</td>\n",
       "      <td>5 to 10</td>\n",
       "      <td>&gt;9</td>\n",
       "    </tr>\n",
       "    <tr>\n",
       "      <th>2019-04-01</th>\n",
       "      <td>5.5 to 6.0</td>\n",
       "      <td>5.90 to 6.20</td>\n",
       "      <td>&lt;=5</td>\n",
       "      <td>4.5 to 5</td>\n",
       "    </tr>\n",
       "  </tbody>\n",
       "</table>\n",
       "</div>"
      ],
      "text/plain": [
       "                    pr          wacr    invgr     gdpgr\n",
       "Date                                                   \n",
       "2015-08-01  7.0 to 7.5  6.50 to 6.80      >10  7.5 to 8\n",
       "2021-09-01         <=4            <5  5 to 10  4.5 to 5\n",
       "2017-04-01    6 to 6.5  5.90 to 6.20      >10  5 to 5.5\n",
       "2016-08-01    6 to 6.5  6.20 to 6.50  5 to 10  7.5 to 8\n",
       "2021-05-01         <=4            <5      >10        >9\n",
       "2017-02-01    6 to 6.5  5.90 to 6.20      >10  5.5 to 6\n",
       "2019-06-01  5.5 to 6.0  5.60 to 5.90      <=5  4 to 4.5\n",
       "2016-02-01  6.5 to 7.0         >7.10  5 to 10        >9\n",
       "2017-01-01    6 to 6.5  5.90 to 6.20      >10  6 to 6.5\n",
       "2015-04-01  7.0 to 7.5         >7.10      >10  7.5 to 8\n",
       "2016-06-01    6 to 6.5  6.20 to 6.50  5 to 10  8 to 8.5\n",
       "2018-03-01  5.5 to 6.0  5.90 to 6.20  5 to 10  7 to 7.5\n",
       "2015-09-01  7.0 to 7.5         >7.10      >10  7 to 7.5\n",
       "2021-02-01         <=4            <5      >10        >9\n",
       "2015-07-01  7.0 to 7.5  6.50 to 6.80      >10  8 to 8.5\n",
       "2022-06-01  4.0 to 4.5            <5  5 to 10  5 to 5.5\n",
       "2018-01-01  5.5 to 6.0  5.60 to 5.90      <=5  7 to 7.5\n",
       "2022-04-01         <=4            <5  5 to 10        >9\n",
       "2019-09-01  5.0 to 5.5  5.30 to 5.60  5 to 10    2 to 4\n",
       "2022-09-01  5.0 to 5.5  5.30 to 5.60  5 to 10  4.5 to 5\n",
       "2019-07-01  5.5 to 6.0  5.60 to 5.90      <=5    2 to 4\n",
       "2018-08-01    6 to 6.5  6.20 to 6.50  5 to 10  5.5 to 6\n",
       "2019-03-01    6 to 6.5  6.20 to 6.50      <=5  4.5 to 5\n",
       "2021-04-01         <=4            <5      >10        >9\n",
       "2018-11-01    6 to 6.5  6.20 to 6.50      <=5  4.5 to 5\n",
       "2020-05-01         <=4            <5      >10       <=0\n",
       "2020-02-01  5.0 to 5.5            <5      >10       <=0\n",
       "2022-08-01  4.5 to 5.0     5 to 5.30      >10  4.5 to 5\n",
       "2022-01-01         <=4            <5      <=5  6 to 6.5\n",
       "2018-06-01    6 to 6.5  5.90 to 6.20  5 to 10  6 to 6.5\n",
       "2019-11-01  5.0 to 5.5            <5  5 to 10    2 to 4\n",
       "2019-01-01    6 to 6.5  6.20 to 6.50      <=5  4.5 to 5\n",
       "2021-10-01         <=4            <5      <=5  4 to 4.5\n",
       "2019-10-01  5.0 to 5.5     5 to 5.30  5 to 10    2 to 4\n",
       "2017-09-01  5.5 to 6.0  5.60 to 5.90      >10  6.5 to 7\n",
       "2022-05-01         <=4            <5  5 to 10  7.5 to 8\n",
       "2019-12-01  5.0 to 5.5     5 to 5.30      >10    2 to 4\n",
       "2020-04-01  4.0 to 4.5            <5      >10       <=0\n",
       "2021-08-01         <=4            <5  5 to 10  6 to 6.5\n",
       "2018-02-01  5.5 to 6.0  5.90 to 6.20      <=5  7 to 7.5\n",
       "2017-06-01    6 to 6.5  5.90 to 6.20      >10  5.5 to 6\n",
       "2015-02-01  7.5 to 8.0         >7.10      >10  7 to 7.5\n",
       "2019-05-01  5.5 to 6.0  5.90 to 6.20      <=5  4 to 4.5\n",
       "2016-10-01    6 to 6.5  6.20 to 6.50  5 to 10  7 to 7.5\n",
       "2015-03-01  7.0 to 7.5         >7.10      >10  7.5 to 8\n",
       "2016-12-01    6 to 6.5  5.90 to 6.20      >10  6.5 to 7\n",
       "2022-02-01         <=4            <5      <=5        >9\n",
       "2021-03-01         <=4            <5      >10        >9\n",
       "2022-03-01         <=4            <5  5 to 10        >9\n",
       "2021-11-01         <=4            <5      <=5  4 to 4.5\n",
       "2016-09-01    6 to 6.5  6.20 to 6.50  5 to 10  7.5 to 8\n",
       "2020-01-01  5.0 to 5.5            <5      >10       <=0\n",
       "2020-12-01         <=4            <5      >10  6 to 6.5\n",
       "2016-03-01  6.5 to 7.0  6.50 to 6.80  5 to 10        >9\n",
       "2019-04-01  5.5 to 6.0  5.90 to 6.20      <=5  4.5 to 5"
      ]
     },
     "execution_count": 167,
     "metadata": {},
     "output_type": "execute_result"
    }
   ],
   "source": [
    "train_set"
   ]
  },
  {
   "cell_type": "code",
   "execution_count": 168,
   "id": "8dd74549",
   "metadata": {},
   "outputs": [
    {
     "data": {
      "text/plain": [
       "Date\n",
       "2018-05-01    2 to 6\n",
       "2016-11-01    2 to 6\n",
       "2019-08-01    2 to 6\n",
       "2021-01-01    2 to 6\n",
       "2015-01-01    2 to 6\n",
       "2017-03-01    2 to 6\n",
       "2018-04-01    2 to 6\n",
       "2020-08-01        >6\n",
       "2015-11-01    2 to 6\n",
       "2018-09-01    2 to 6\n",
       "2021-12-01    2 to 6\n",
       "2017-12-01    2 to 6\n",
       "2022-07-01        >6\n",
       "2020-03-01    2 to 6\n",
       "2016-01-01    2 to 6\n",
       "2015-05-01    2 to 6\n",
       "2016-07-01        >6\n",
       "2017-05-01    2 to 6\n",
       "2019-02-01    2 to 6\n",
       "2020-06-01        >6\n",
       "2016-04-01    2 to 6\n",
       "2020-09-01        >6\n",
       "2021-07-01    2 to 6\n",
       "2017-07-01    2 to 6\n",
       "2017-10-01    2 to 6\n",
       "2015-12-01    2 to 6\n",
       "2020-07-01        >6\n",
       "2020-10-01        >6\n",
       "2017-08-01    2 to 6\n",
       "2021-06-01        >6\n",
       "2015-10-01    2 to 6\n",
       "2020-11-01        >6\n",
       "2015-06-01    2 to 6\n",
       "2018-07-01    2 to 6\n",
       "2018-12-01    2 to 6\n",
       "2016-05-01    2 to 6\n",
       "2018-10-01    2 to 6\n",
       "2017-11-01    2 to 6\n",
       "Name: cpi, dtype: object"
      ]
     },
     "execution_count": 168,
     "metadata": {},
     "output_type": "execute_result"
    }
   ],
   "source": [
    "test_label = test_set['cpi']\n",
    "test_label"
   ]
  },
  {
   "cell_type": "code",
   "execution_count": 169,
   "id": "29bef74a",
   "metadata": {},
   "outputs": [
    {
     "name": "stderr",
     "output_type": "stream",
     "text": [
      "C:\\Users\\NIYAZ AHMED\\anaconda3\\lib\\site-packages\\pandas\\core\\frame.py:4308: SettingWithCopyWarning: \n",
      "A value is trying to be set on a copy of a slice from a DataFrame\n",
      "\n",
      "See the caveats in the documentation: https://pandas.pydata.org/pandas-docs/stable/user_guide/indexing.html#returning-a-view-versus-a-copy\n",
      "  return super().drop(\n"
     ]
    }
   ],
   "source": [
    "test_set.drop('cpi', axis = 1, inplace = True)"
   ]
  },
  {
   "cell_type": "code",
   "execution_count": 170,
   "id": "e528a51f",
   "metadata": {},
   "outputs": [
    {
     "data": {
      "text/html": [
       "<div>\n",
       "<style scoped>\n",
       "    .dataframe tbody tr th:only-of-type {\n",
       "        vertical-align: middle;\n",
       "    }\n",
       "\n",
       "    .dataframe tbody tr th {\n",
       "        vertical-align: top;\n",
       "    }\n",
       "\n",
       "    .dataframe thead th {\n",
       "        text-align: right;\n",
       "    }\n",
       "</style>\n",
       "<table border=\"1\" class=\"dataframe\">\n",
       "  <thead>\n",
       "    <tr style=\"text-align: right;\">\n",
       "      <th></th>\n",
       "      <th>pr</th>\n",
       "      <th>wacr</th>\n",
       "      <th>invgr</th>\n",
       "      <th>gdpgr</th>\n",
       "    </tr>\n",
       "    <tr>\n",
       "      <th>Date</th>\n",
       "      <th></th>\n",
       "      <th></th>\n",
       "      <th></th>\n",
       "      <th></th>\n",
       "    </tr>\n",
       "  </thead>\n",
       "  <tbody>\n",
       "    <tr>\n",
       "      <th>2018-05-01</th>\n",
       "      <td>5.5 to 6.0</td>\n",
       "      <td>5.90 to 6.20</td>\n",
       "      <td>5 to 10</td>\n",
       "      <td>6 to 6.5</td>\n",
       "    </tr>\n",
       "    <tr>\n",
       "      <th>2016-11-01</th>\n",
       "      <td>6 to 6.5</td>\n",
       "      <td>5.90 to 6.20</td>\n",
       "      <td>&gt;10</td>\n",
       "      <td>7 to 7.5</td>\n",
       "    </tr>\n",
       "    <tr>\n",
       "      <th>2019-08-01</th>\n",
       "      <td>5.0 to 5.5</td>\n",
       "      <td>5.30 to 5.60</td>\n",
       "      <td>&lt;=5</td>\n",
       "      <td>2 to 4</td>\n",
       "    </tr>\n",
       "    <tr>\n",
       "      <th>2021-01-01</th>\n",
       "      <td>&lt;=4</td>\n",
       "      <td>&lt;5</td>\n",
       "      <td>&gt;10</td>\n",
       "      <td>&gt;9</td>\n",
       "    </tr>\n",
       "    <tr>\n",
       "      <th>2015-01-01</th>\n",
       "      <td>7.5 to 8.0</td>\n",
       "      <td>&gt;7.10</td>\n",
       "      <td>&gt;10</td>\n",
       "      <td>6.5 to 7</td>\n",
       "    </tr>\n",
       "    <tr>\n",
       "      <th>2017-03-01</th>\n",
       "      <td>6 to 6.5</td>\n",
       "      <td>5.90 to 6.20</td>\n",
       "      <td>&gt;10</td>\n",
       "      <td>4.5 to 5</td>\n",
       "    </tr>\n",
       "    <tr>\n",
       "      <th>2018-04-01</th>\n",
       "      <td>5.5 to 6.0</td>\n",
       "      <td>5.60 to 5.90</td>\n",
       "      <td>5 to 10</td>\n",
       "      <td>6.5 to 7</td>\n",
       "    </tr>\n",
       "    <tr>\n",
       "      <th>2020-08-01</th>\n",
       "      <td>&lt;=4</td>\n",
       "      <td>&lt;5</td>\n",
       "      <td>&gt;10</td>\n",
       "      <td>0 to 2</td>\n",
       "    </tr>\n",
       "    <tr>\n",
       "      <th>2015-11-01</th>\n",
       "      <td>6.5 to 7.0</td>\n",
       "      <td>&gt;7.10</td>\n",
       "      <td>&gt;10</td>\n",
       "      <td>8 to 8.5</td>\n",
       "    </tr>\n",
       "    <tr>\n",
       "      <th>2018-09-01</th>\n",
       "      <td>6 to 6.5</td>\n",
       "      <td>6.20 to 6.50</td>\n",
       "      <td>&lt;=5</td>\n",
       "      <td>5 to 5.5</td>\n",
       "    </tr>\n",
       "    <tr>\n",
       "      <th>2021-12-01</th>\n",
       "      <td>&lt;=4</td>\n",
       "      <td>&lt;5</td>\n",
       "      <td>&lt;=5</td>\n",
       "      <td>2 to 4</td>\n",
       "    </tr>\n",
       "    <tr>\n",
       "      <th>2017-12-01</th>\n",
       "      <td>5.5 to 6.0</td>\n",
       "      <td>5.90 to 6.20</td>\n",
       "      <td>&lt;=5</td>\n",
       "      <td>7 to 7.5</td>\n",
       "    </tr>\n",
       "    <tr>\n",
       "      <th>2022-07-01</th>\n",
       "      <td>4.5 to 5.0</td>\n",
       "      <td>5 to 5.30</td>\n",
       "      <td>5 to 10</td>\n",
       "      <td>5 to 5.5</td>\n",
       "    </tr>\n",
       "    <tr>\n",
       "      <th>2020-03-01</th>\n",
       "      <td>4.0 to 4.5</td>\n",
       "      <td>&lt;5</td>\n",
       "      <td>&gt;10</td>\n",
       "      <td>&lt;=0</td>\n",
       "    </tr>\n",
       "    <tr>\n",
       "      <th>2016-01-01</th>\n",
       "      <td>6.5 to 7.0</td>\n",
       "      <td>6.50 to 6.80</td>\n",
       "      <td>5 to 10</td>\n",
       "      <td>8.5 to 9</td>\n",
       "    </tr>\n",
       "    <tr>\n",
       "      <th>2015-05-01</th>\n",
       "      <td>7.0 to 7.5</td>\n",
       "      <td>&gt;7.10</td>\n",
       "      <td>&gt;10</td>\n",
       "      <td>8 to 8.5</td>\n",
       "    </tr>\n",
       "    <tr>\n",
       "      <th>2016-07-01</th>\n",
       "      <td>6 to 6.5</td>\n",
       "      <td>6.20 to 6.50</td>\n",
       "      <td>&lt;=5</td>\n",
       "      <td>8 to 8.5</td>\n",
       "    </tr>\n",
       "    <tr>\n",
       "      <th>2017-05-01</th>\n",
       "      <td>6 to 6.5</td>\n",
       "      <td>5.90 to 6.20</td>\n",
       "      <td>&gt;10</td>\n",
       "      <td>5 to 5.5</td>\n",
       "    </tr>\n",
       "    <tr>\n",
       "      <th>2019-02-01</th>\n",
       "      <td>6 to 6.5</td>\n",
       "      <td>6.20 to 6.50</td>\n",
       "      <td>&lt;=5</td>\n",
       "      <td>4.5 to 5</td>\n",
       "    </tr>\n",
       "    <tr>\n",
       "      <th>2020-06-01</th>\n",
       "      <td>&lt;=4</td>\n",
       "      <td>&lt;5</td>\n",
       "      <td>&gt;10</td>\n",
       "      <td>&lt;=0</td>\n",
       "    </tr>\n",
       "    <tr>\n",
       "      <th>2016-04-01</th>\n",
       "      <td>6 to 6.5</td>\n",
       "      <td>6.20 to 6.50</td>\n",
       "      <td>&lt;=5</td>\n",
       "      <td>8.5 to 9</td>\n",
       "    </tr>\n",
       "    <tr>\n",
       "      <th>2020-09-01</th>\n",
       "      <td>&lt;=4</td>\n",
       "      <td>&lt;5</td>\n",
       "      <td>&gt;10</td>\n",
       "      <td>2 to 4</td>\n",
       "    </tr>\n",
       "    <tr>\n",
       "      <th>2021-07-01</th>\n",
       "      <td>&lt;=4</td>\n",
       "      <td>&lt;5</td>\n",
       "      <td>5 to 10</td>\n",
       "      <td>7.5 to 8</td>\n",
       "    </tr>\n",
       "    <tr>\n",
       "      <th>2017-07-01</th>\n",
       "      <td>6 to 6.5</td>\n",
       "      <td>5.90 to 6.20</td>\n",
       "      <td>&gt;10</td>\n",
       "      <td>6 to 6.5</td>\n",
       "    </tr>\n",
       "    <tr>\n",
       "      <th>2017-10-01</th>\n",
       "      <td>5.5 to 6.0</td>\n",
       "      <td>5.60 to 5.90</td>\n",
       "      <td>&gt;10</td>\n",
       "      <td>7 to 7.5</td>\n",
       "    </tr>\n",
       "    <tr>\n",
       "      <th>2015-12-01</th>\n",
       "      <td>6.5 to 7.0</td>\n",
       "      <td>&gt;7.10</td>\n",
       "      <td>&gt;10</td>\n",
       "      <td>8.5 to 9</td>\n",
       "    </tr>\n",
       "    <tr>\n",
       "      <th>2020-07-01</th>\n",
       "      <td>&lt;=4</td>\n",
       "      <td>&lt;5</td>\n",
       "      <td>&gt;10</td>\n",
       "      <td>&lt;=0</td>\n",
       "    </tr>\n",
       "    <tr>\n",
       "      <th>2020-10-01</th>\n",
       "      <td>&lt;=4</td>\n",
       "      <td>&lt;5</td>\n",
       "      <td>&gt;10</td>\n",
       "      <td>2 to 4</td>\n",
       "    </tr>\n",
       "    <tr>\n",
       "      <th>2017-08-01</th>\n",
       "      <td>5.5 to 6.0</td>\n",
       "      <td>5.60 to 5.90</td>\n",
       "      <td>&gt;10</td>\n",
       "      <td>6 to 6.5</td>\n",
       "    </tr>\n",
       "    <tr>\n",
       "      <th>2021-06-01</th>\n",
       "      <td>&lt;=4</td>\n",
       "      <td>&lt;5</td>\n",
       "      <td>&gt;10</td>\n",
       "      <td>&gt;9</td>\n",
       "    </tr>\n",
       "    <tr>\n",
       "      <th>2015-10-01</th>\n",
       "      <td>6.5 to 7.0</td>\n",
       "      <td>&gt;7.10</td>\n",
       "      <td>&gt;10</td>\n",
       "      <td>7.5 to 8</td>\n",
       "    </tr>\n",
       "    <tr>\n",
       "      <th>2020-11-01</th>\n",
       "      <td>&lt;=4</td>\n",
       "      <td>&lt;5</td>\n",
       "      <td>&gt;10</td>\n",
       "      <td>5 to 5.5</td>\n",
       "    </tr>\n",
       "    <tr>\n",
       "      <th>2015-06-01</th>\n",
       "      <td>7.0 to 7.5</td>\n",
       "      <td>&gt;7.10</td>\n",
       "      <td>&gt;10</td>\n",
       "      <td>8 to 8.5</td>\n",
       "    </tr>\n",
       "    <tr>\n",
       "      <th>2018-07-01</th>\n",
       "      <td>6 to 6.5</td>\n",
       "      <td>5.90 to 6.20</td>\n",
       "      <td>5 to 10</td>\n",
       "      <td>5.5 to 6</td>\n",
       "    </tr>\n",
       "    <tr>\n",
       "      <th>2018-12-01</th>\n",
       "      <td>6 to 6.5</td>\n",
       "      <td>6.20 to 6.50</td>\n",
       "      <td>&lt;=5</td>\n",
       "      <td>4.5 to 5</td>\n",
       "    </tr>\n",
       "    <tr>\n",
       "      <th>2016-05-01</th>\n",
       "      <td>6 to 6.5</td>\n",
       "      <td>6.20 to 6.50</td>\n",
       "      <td>&lt;=5</td>\n",
       "      <td>8.5 to 9</td>\n",
       "    </tr>\n",
       "    <tr>\n",
       "      <th>2018-10-01</th>\n",
       "      <td>6 to 6.5</td>\n",
       "      <td>6.20 to 6.50</td>\n",
       "      <td>&lt;=5</td>\n",
       "      <td>5 to 5.5</td>\n",
       "    </tr>\n",
       "    <tr>\n",
       "      <th>2017-11-01</th>\n",
       "      <td>5.5 to 6.0</td>\n",
       "      <td>5.60 to 5.90</td>\n",
       "      <td>&lt;=5</td>\n",
       "      <td>7 to 7.5</td>\n",
       "    </tr>\n",
       "  </tbody>\n",
       "</table>\n",
       "</div>"
      ],
      "text/plain": [
       "                    pr          wacr    invgr     gdpgr\n",
       "Date                                                   \n",
       "2018-05-01  5.5 to 6.0  5.90 to 6.20  5 to 10  6 to 6.5\n",
       "2016-11-01    6 to 6.5  5.90 to 6.20      >10  7 to 7.5\n",
       "2019-08-01  5.0 to 5.5  5.30 to 5.60      <=5    2 to 4\n",
       "2021-01-01         <=4            <5      >10        >9\n",
       "2015-01-01  7.5 to 8.0         >7.10      >10  6.5 to 7\n",
       "2017-03-01    6 to 6.5  5.90 to 6.20      >10  4.5 to 5\n",
       "2018-04-01  5.5 to 6.0  5.60 to 5.90  5 to 10  6.5 to 7\n",
       "2020-08-01         <=4            <5      >10    0 to 2\n",
       "2015-11-01  6.5 to 7.0         >7.10      >10  8 to 8.5\n",
       "2018-09-01    6 to 6.5  6.20 to 6.50      <=5  5 to 5.5\n",
       "2021-12-01         <=4            <5      <=5    2 to 4\n",
       "2017-12-01  5.5 to 6.0  5.90 to 6.20      <=5  7 to 7.5\n",
       "2022-07-01  4.5 to 5.0     5 to 5.30  5 to 10  5 to 5.5\n",
       "2020-03-01  4.0 to 4.5            <5      >10       <=0\n",
       "2016-01-01  6.5 to 7.0  6.50 to 6.80  5 to 10  8.5 to 9\n",
       "2015-05-01  7.0 to 7.5         >7.10      >10  8 to 8.5\n",
       "2016-07-01    6 to 6.5  6.20 to 6.50      <=5  8 to 8.5\n",
       "2017-05-01    6 to 6.5  5.90 to 6.20      >10  5 to 5.5\n",
       "2019-02-01    6 to 6.5  6.20 to 6.50      <=5  4.5 to 5\n",
       "2020-06-01         <=4            <5      >10       <=0\n",
       "2016-04-01    6 to 6.5  6.20 to 6.50      <=5  8.5 to 9\n",
       "2020-09-01         <=4            <5      >10    2 to 4\n",
       "2021-07-01         <=4            <5  5 to 10  7.5 to 8\n",
       "2017-07-01    6 to 6.5  5.90 to 6.20      >10  6 to 6.5\n",
       "2017-10-01  5.5 to 6.0  5.60 to 5.90      >10  7 to 7.5\n",
       "2015-12-01  6.5 to 7.0         >7.10      >10  8.5 to 9\n",
       "2020-07-01         <=4            <5      >10       <=0\n",
       "2020-10-01         <=4            <5      >10    2 to 4\n",
       "2017-08-01  5.5 to 6.0  5.60 to 5.90      >10  6 to 6.5\n",
       "2021-06-01         <=4            <5      >10        >9\n",
       "2015-10-01  6.5 to 7.0         >7.10      >10  7.5 to 8\n",
       "2020-11-01         <=4            <5      >10  5 to 5.5\n",
       "2015-06-01  7.0 to 7.5         >7.10      >10  8 to 8.5\n",
       "2018-07-01    6 to 6.5  5.90 to 6.20  5 to 10  5.5 to 6\n",
       "2018-12-01    6 to 6.5  6.20 to 6.50      <=5  4.5 to 5\n",
       "2016-05-01    6 to 6.5  6.20 to 6.50      <=5  8.5 to 9\n",
       "2018-10-01    6 to 6.5  6.20 to 6.50      <=5  5 to 5.5\n",
       "2017-11-01  5.5 to 6.0  5.60 to 5.90      <=5  7 to 7.5"
      ]
     },
     "execution_count": 170,
     "metadata": {},
     "output_type": "execute_result"
    }
   ],
   "source": [
    "test_set"
   ]
  },
  {
   "cell_type": "code",
   "execution_count": 171,
   "id": "5e0a8533",
   "metadata": {},
   "outputs": [
    {
     "data": {
      "application/vnd.jupyter.widget-view+json": {
       "model_id": "f230184c02dd4b5092cba62863c1224d",
       "version_major": 2,
       "version_minor": 0
      },
      "text/plain": [
       "  0%|          | 0/44 [00:00<?, ?it/s]"
      ]
     },
     "metadata": {},
     "output_type": "display_data"
    }
   ],
   "source": [
    "y_predd = model_int.predict(train_set)"
   ]
  },
  {
   "cell_type": "code",
   "execution_count": 172,
   "id": "c1cf97c2",
   "metadata": {},
   "outputs": [],
   "source": [
    "arr_pred = np.array(list(y_predd.cpi))"
   ]
  },
  {
   "cell_type": "code",
   "execution_count": 173,
   "id": "45b567aa",
   "metadata": {},
   "outputs": [],
   "source": [
    "arr_train_label = np.array(list(train_label))"
   ]
  },
  {
   "cell_type": "code",
   "execution_count": 174,
   "id": "3ee0b7c4",
   "metadata": {},
   "outputs": [],
   "source": [
    "from sklearn.metrics import confusion_matrix\n"
   ]
  },
  {
   "cell_type": "code",
   "execution_count": 175,
   "id": "7eada37b",
   "metadata": {},
   "outputs": [
    {
     "data": {
      "text/plain": [
       "cpi   \n",
       "2 to 6    51\n",
       ">6         4\n",
       "dtype: int64"
      ]
     },
     "execution_count": 175,
     "metadata": {},
     "output_type": "execute_result"
    }
   ],
   "source": [
    "y_predd.value_counts()"
   ]
  },
  {
   "cell_type": "code",
   "execution_count": 176,
   "id": "8c23f2d7",
   "metadata": {},
   "outputs": [
    {
     "data": {
      "text/plain": [
       "2 to 6    39\n",
       ">6        14\n",
       "<2         2\n",
       "Name: cpi, dtype: int64"
      ]
     },
     "execution_count": 176,
     "metadata": {},
     "output_type": "execute_result"
    }
   ],
   "source": [
    "train_label.value_counts()"
   ]
  },
  {
   "cell_type": "code",
   "execution_count": 177,
   "id": "b642686b",
   "metadata": {},
   "outputs": [
    {
     "data": {
      "text/plain": [
       "array([[39,  2, 10],\n",
       "       [ 0,  0,  0],\n",
       "       [ 0,  0,  4]], dtype=int64)"
      ]
     },
     "execution_count": 177,
     "metadata": {},
     "output_type": "execute_result"
    }
   ],
   "source": [
    "confusion_matrix(arr_pred, arr_train_label)"
   ]
  },
  {
   "cell_type": "code",
   "execution_count": 178,
   "id": "5ad61503",
   "metadata": {},
   "outputs": [
    {
     "data": {
      "text/plain": [
       "<AxesSubplot:xlabel='Date'>"
      ]
     },
     "execution_count": 178,
     "metadata": {},
     "output_type": "execute_result"
    },
    {
     "data": {
      "image/png": "[encoded data removed]",
      "text/plain": [
       "<Figure size 432x288 with 1 Axes>"
      ]
     },
     "metadata": {
      "needs_background": "light"
     },
     "output_type": "display_data"
    }
   ],
   "source": [
    "df1[['CPI', 'gdpRate']].plot()"
   ]
  },
  {
   "cell_type": "code",
   "execution_count": 179,
   "id": "81c9afb4",
   "metadata": {},
   "outputs": [
    {
     "data": {
      "image/png": "[encoded data removed]",
      "text/plain": [
       "<Figure size 432x288 with 1 Axes>"
      ]
     },
     "metadata": {
      "needs_background": "light"
     },
     "output_type": "display_data"
    }
   ],
   "source": [
    "plt.scatter(df1.CPI, df1.gdpRate)\n",
    "plt.show()"
   ]
  },
  {
   "cell_type": "markdown",
   "id": "972f9c0f",
   "metadata": {},
   "source": [
    "# The Model"
   ]
  },
  {
   "cell_type": "code",
   "execution_count": null,
   "id": "48d8dae7",
   "metadata": {},
   "outputs": [],
   "source": [
    "infer = VariableElimination(model)"
   ]
  },
  {
   "cell_type": "code",
   "execution_count": 183,
   "id": "65b26289",
   "metadata": {},
   "outputs": [
    {
     "name": "stdout",
     "output_type": "stream",
     "text": [
      "+-------------+------------+\n",
      "| cpi         |   phi(cpi) |\n",
      "+=============+============+\n",
      "| cpi(2 to 6) |     0.3980 |\n",
      "+-------------+------------+\n",
      "| cpi(<2)     |     0.3082 |\n",
      "+-------------+------------+\n",
      "| cpi(>6)     |     0.2938 |\n",
      "+-------------+------------+\n"
     ]
    }
   ],
   "source": [
    "print(infer.query(['cpi'], evidence = {'pr' : '6 to 6.5'}))"
   ]
  },
  {
   "cell_type": "code",
   "execution_count": 184,
   "id": "38f60b38",
   "metadata": {},
   "outputs": [
    {
     "name": "stdout",
     "output_type": "stream",
     "text": [
      "+-------------+------------+\n",
      "| cpi         |   phi(cpi) |\n",
      "+=============+============+\n",
      "| cpi(2 to 6) |     0.4127 |\n",
      "+-------------+------------+\n",
      "| cpi(<2)     |     0.2934 |\n",
      "+-------------+------------+\n",
      "| cpi(>6)     |     0.2939 |\n",
      "+-------------+------------+\n"
     ]
    }
   ],
   "source": [
    "print(infer.query(['cpi'], evidence = {'pr' : '6.5 to 7.0'}))"
   ]
  },
  {
   "cell_type": "code",
   "execution_count": 185,
   "id": "f201bf95",
   "metadata": {},
   "outputs": [
    {
     "name": "stdout",
     "output_type": "stream",
     "text": [
      "+-------------+------------+\n",
      "| cpi         |   phi(cpi) |\n",
      "+=============+============+\n",
      "| cpi(2 to 6) |     0.4471 |\n",
      "+-------------+------------+\n",
      "| cpi(<2)     |     0.2762 |\n",
      "+-------------+------------+\n",
      "| cpi(>6)     |     0.2767 |\n",
      "+-------------+------------+\n"
     ]
    }
   ],
   "source": [
    "print(infer.query(['cpi'], evidence = {'pr' : '7.0 to 7.5'}))"
   ]
  },
  {
   "cell_type": "code",
   "execution_count": 186,
   "id": "914c3966",
   "metadata": {},
   "outputs": [
    {
     "name": "stdout",
     "output_type": "stream",
     "text": [
      "+-------------+------------+\n",
      "| cpi         |   phi(cpi) |\n",
      "+=============+============+\n",
      "| cpi(2 to 6) |     0.4183 |\n",
      "+-------------+------------+\n",
      "| cpi(<2)     |     0.3034 |\n",
      "+-------------+------------+\n",
      "| cpi(>6)     |     0.2784 |\n",
      "+-------------+------------+\n"
     ]
    },
    {
     "name": "stderr",
     "output_type": "stream",
     "text": [
      "C:\\Users\\NIYAZ AHMED\\anaconda3\\lib\\site-packages\\pgmpy\\models\\BayesianModel.py:8: FutureWarning: BayesianModel has been renamed to BayesianNetwork. Please use BayesianNetwork class, BayesianModel will be removed in future.\n",
      "  warnings.warn(\n"
     ]
    }
   ],
   "source": [
    "print(infer.query(['cpi'], evidence = {'pr' : '6 to 6.5', 'invgr' : '<=5'}))"
   ]
  },
  {
   "cell_type": "raw",
   "id": "308080b9",
   "metadata": {},
   "source": [
    "FutureWarning: BayesianModel has been renamed to BayesianNetwork"
   ]
  },
  {
   "cell_type": "code",
   "execution_count": null,
   "id": "58d4c54c",
   "metadata": {},
   "outputs": [],
   "source": []
  },
  {
   "cell_type": "code",
   "execution_count": null,
   "id": "7ed01dfc",
   "metadata": {},
   "outputs": [],
   "source": []
  },
  {
   "cell_type": "code",
   "execution_count": null,
   "id": "1864c171",
   "metadata": {},
   "outputs": [],
   "source": []
  },
  {
   "cell_type": "code",
   "execution_count": null,
   "id": "785685d8",
   "metadata": {},
   "outputs": [],
   "source": []
  },
  {
   "cell_type": "code",
   "execution_count": 189,
   "id": "f3632081",
   "metadata": {},
   "outputs": [
    {
     "name": "stdout",
     "output_type": "stream",
     "text": [
      "+--------------------+-------------+\n",
      "| wacr               |   phi(wacr) |\n",
      "+====================+=============+\n",
      "| wacr(5 to 5.30)    |      0.0026 |\n",
      "+--------------------+-------------+\n",
      "| wacr(5.30 to 5.60) |      0.0026 |\n",
      "+--------------------+-------------+\n",
      "| wacr(5.60 to 5.90) |      0.0026 |\n",
      "+--------------------+-------------+\n",
      "| wacr(5.90 to 6.20) |      0.4168 |\n",
      "+--------------------+-------------+\n",
      "| wacr(6.20 to 6.50) |      0.5675 |\n",
      "+--------------------+-------------+\n",
      "| wacr(6.50 to 6.80) |      0.0026 |\n",
      "+--------------------+-------------+\n",
      "| wacr(<5)           |      0.0026 |\n",
      "+--------------------+-------------+\n",
      "| wacr(>7.10)        |      0.0026 |\n",
      "+--------------------+-------------+\n"
     ]
    }
   ],
   "source": [
    "print(infer.query(['wacr'], evidence = {'pr' : '6 to 6.5'}))"
   ]
  },
  {
   "cell_type": "code",
   "execution_count": 192,
   "id": "96279ae8",
   "metadata": {},
   "outputs": [
    {
     "name": "stdout",
     "output_type": "stream",
     "text": [
      "+----------------+--------------+\n",
      "| invgr          |   phi(invgr) |\n",
      "+================+==============+\n",
      "| invgr(5 to 10) |       0.3333 |\n",
      "+----------------+--------------+\n",
      "| invgr(<=5)     |       0.6533 |\n",
      "+----------------+--------------+\n",
      "| invgr(>10)     |       0.0133 |\n",
      "+----------------+--------------+\n"
     ]
    }
   ],
   "source": [
    "print(infer.query(['invgr'], evidence = {'pr' : '6 to 6.5', 'wacr' : '6.20 to 6.50'}))"
   ]
  },
  {
   "cell_type": "code",
   "execution_count": 193,
   "id": "cda01190",
   "metadata": {},
   "outputs": [
    {
     "name": "stdout",
     "output_type": "stream",
     "text": [
      "+-----------------+--------------+\n",
      "| gdpgr           |   phi(gdpgr) |\n",
      "+=================+==============+\n",
      "| gdpgr(0 to 2)   |       0.0330 |\n",
      "+-----------------+--------------+\n",
      "| gdpgr(2 to 4)   |       0.1163 |\n",
      "+-----------------+--------------+\n",
      "| gdpgr(4 to 4.5) |       0.0940 |\n",
      "+-----------------+--------------+\n",
      "| gdpgr(4.5 to 5) |       0.2342 |\n",
      "+-----------------+--------------+\n",
      "| gdpgr(5 to 5.5) |       0.0835 |\n",
      "+-----------------+--------------+\n",
      "| gdpgr(5.5 to 6) |       0.0330 |\n",
      "+-----------------+--------------+\n",
      "| gdpgr(6 to 6.5) |       0.0336 |\n",
      "+-----------------+--------------+\n",
      "| gdpgr(6.5 to 7) |       0.0330 |\n",
      "+-----------------+--------------+\n",
      "| gdpgr(7 to 7.5) |       0.1202 |\n",
      "+-----------------+--------------+\n",
      "| gdpgr(7.5 to 8) |       0.0330 |\n",
      "+-----------------+--------------+\n",
      "| gdpgr(8 to 8.5) |       0.0522 |\n",
      "+-----------------+--------------+\n",
      "| gdpgr(8.5 to 9) |       0.0679 |\n",
      "+-----------------+--------------+\n",
      "| gdpgr(<=0)      |       0.0330 |\n",
      "+-----------------+--------------+\n",
      "| gdpgr(>9)       |       0.0332 |\n",
      "+-----------------+--------------+\n"
     ]
    }
   ],
   "source": [
    "print(infer.query(['gdpgr'], evidence = {'pr' : '6 to 6.5', 'wacr' : '6.20 to 6.50', 'invgr' : '<=5'}))"
   ]
  },
  {
   "cell_type": "code",
   "execution_count": 195,
   "id": "4b8b432a",
   "metadata": {},
   "outputs": [
    {
     "name": "stdout",
     "output_type": "stream",
     "text": [
      "+-------------+------------+\n",
      "| cpi         |   phi(cpi) |\n",
      "+=============+============+\n",
      "| cpi(2 to 6) |     0.6349 |\n",
      "+-------------+------------+\n",
      "| cpi(<2)     |     0.2592 |\n",
      "+-------------+------------+\n",
      "| cpi(>6)     |     0.1059 |\n",
      "+-------------+------------+\n"
     ]
    }
   ],
   "source": [
    "print(infer.query(['cpi'], evidence = {'pr' : '6 to 6.5', 'wacr' : '6.20 to 6.50', 'invgr' : '<=5', 'gdpgr' : 4.5 to 5'}))"
   ]
  },
  {
   "cell_type": "code",
   "execution_count": 198,
   "id": "0bd7ca31",
   "metadata": {},
   "outputs": [
    {
     "name": "stdout",
     "output_type": "stream",
     "text": [
      "+----------------+--------------+\n",
      "| invgr          |   phi(invgr) |\n",
      "+================+==============+\n",
      "| invgr(5 to 10) |       0.1039 |\n",
      "+----------------+--------------+\n",
      "| invgr(<=5)     |       0.0179 |\n",
      "+----------------+--------------+\n",
      "| invgr(>10)     |       0.8781 |\n",
      "+----------------+--------------+\n"
     ]
    }
   ],
   "source": [
    "print(infer.query(['invgr'], evidence = {'pr' : '6.5 to 7.0', 'wacr' : '>7.10'}))"
   ]
  },
  {
   "cell_type": "code",
   "execution_count": 199,
   "id": "de69bedf",
   "metadata": {},
   "outputs": [
    {
     "name": "stdout",
     "output_type": "stream",
     "text": [
      "+-----------------+--------------+\n",
      "| gdpgr           |   phi(gdpgr) |\n",
      "+=================+==============+\n",
      "| gdpgr(0 to 2)   |       0.0281 |\n",
      "+-----------------+--------------+\n",
      "| gdpgr(2 to 4)   |       0.0420 |\n",
      "+-----------------+--------------+\n",
      "| gdpgr(4 to 4.5) |       0.0276 |\n",
      "+-----------------+--------------+\n",
      "| gdpgr(4.5 to 5) |       0.0379 |\n",
      "+-----------------+--------------+\n",
      "| gdpgr(5 to 5.5) |       0.0285 |\n",
      "+-----------------+--------------+\n",
      "| gdpgr(5.5 to 6) |       0.0366 |\n",
      "+-----------------+--------------+\n",
      "| gdpgr(6 to 6.5) |       0.0292 |\n",
      "+-----------------+--------------+\n",
      "| gdpgr(6.5 to 7) |       0.1654 |\n",
      "+-----------------+--------------+\n",
      "| gdpgr(7 to 7.5) |       0.0634 |\n",
      "+-----------------+--------------+\n",
      "| gdpgr(7.5 to 8) |       0.1200 |\n",
      "+-----------------+--------------+\n",
      "| gdpgr(8 to 8.5) |       0.2168 |\n",
      "+-----------------+--------------+\n",
      "| gdpgr(8.5 to 9) |       0.1150 |\n",
      "+-----------------+--------------+\n",
      "| gdpgr(<=0)      |       0.0545 |\n",
      "+-----------------+--------------+\n",
      "| gdpgr(>9)       |       0.0351 |\n",
      "+-----------------+--------------+\n"
     ]
    }
   ],
   "source": [
    "print(infer.query(['gdpgr'], evidence = {'pr' : '6.5 to 7.0', 'wacr' : '>7.10', 'invgr' : '>10'}))"
   ]
  },
  {
   "cell_type": "code",
   "execution_count": 201,
   "id": "75244694",
   "metadata": {},
   "outputs": [
    {
     "data": {
      "application/vnd.jupyter.widget-view+json": {
       "model_id": "a9cd496a002d4014be309727b9ffeda0",
       "version_major": 2,
       "version_minor": 0
      },
      "text/plain": [
       "  0%|          | 0/4 [00:00<?, ?it/s]"
      ]
     },
     "metadata": {},
     "output_type": "display_data"
    },
    {
     "data": {
      "application/vnd.jupyter.widget-view+json": {
       "model_id": "b63c96d1464041b393d7f6ebad11f8de",
       "version_major": 2,
       "version_minor": 0
      },
      "text/plain": [
       "  0%|          | 0/4 [00:00<?, ?it/s]"
      ]
     },
     "metadata": {},
     "output_type": "display_data"
    },
    {
     "name": "stdout",
     "output_type": "stream",
     "text": [
      "{'gdpgr': '8 to 8.5'}\n"
     ]
    }
   ],
   "source": [
    "print(infer.map_query(['gdpgr'], evidence = {'pr' : '6.5 to 7.0', 'wacr' : '>7.10', 'invgr' : '>10'}))"
   ]
  },
  {
   "cell_type": "code",
   "execution_count": 202,
   "id": "492cf3c8",
   "metadata": {},
   "outputs": [
    {
     "name": "stdout",
     "output_type": "stream",
     "text": [
      "+-------------+------------+\n",
      "| cpi         |   phi(cpi) |\n",
      "+=============+============+\n",
      "| cpi(2 to 6) |     0.4889 |\n",
      "+-------------+------------+\n",
      "| cpi(<2)     |     0.2555 |\n",
      "+-------------+------------+\n",
      "| cpi(>6)     |     0.2555 |\n",
      "+-------------+------------+\n"
     ]
    }
   ],
   "source": [
    "print(infer.query(['cpi'], evidence = {'pr' : '6.5 to 7.0', 'wacr' : '>7.10', 'invgr' : '>10', 'gdpgr' : '8 to 8.5'}))"
   ]
  },
  {
   "cell_type": "code",
   "execution_count": 203,
   "id": "167cf6fe",
   "metadata": {},
   "outputs": [
    {
     "name": "stdout",
     "output_type": "stream",
     "text": [
      "+-------------+------------+\n",
      "| cpi         |   phi(cpi) |\n",
      "+=============+============+\n",
      "| cpi(2 to 6) |     0.5772 |\n",
      "+-------------+------------+\n",
      "| cpi(<2)     |     0.2114 |\n",
      "+-------------+------------+\n",
      "| cpi(>6)     |     0.2114 |\n",
      "+-------------+------------+\n"
     ]
    }
   ],
   "source": [
    "print(infer.query(['cpi'], evidence = {'pr' : '7.0 to 7.5', 'wacr' : '>7.10', 'invgr' : '>10', 'gdpgr' : '8 to 8.5'}))"
   ]
  },
  {
   "cell_type": "code",
   "execution_count": 210,
   "id": "f623db67",
   "metadata": {},
   "outputs": [
    {
     "data": {
      "text/plain": [
       "7.215"
      ]
     },
     "execution_count": 210,
     "metadata": {},
     "output_type": "execute_result"
    }
   ],
   "source": [
    "intt = np.array([63,48.57])\n",
    "intt.std()"
   ]
  },
  {
   "cell_type": "code",
   "execution_count": 227,
   "id": "21fb35de",
   "metadata": {},
   "outputs": [
    {
     "data": {
      "text/plain": [
       "6.342099196813483"
      ]
     },
     "execution_count": 227,
     "metadata": {},
     "output_type": "execute_result"
    }
   ],
   "source": [
    "np.array([21,25,10]).std()"
   ]
  },
  {
   "cell_type": "code",
   "execution_count": 211,
   "id": "d3efc945",
   "metadata": {},
   "outputs": [
    {
     "name": "stdout",
     "output_type": "stream",
     "text": [
      "+---------------+------------+\n",
      "| cgr           |   phi(cgr) |\n",
      "+===============+============+\n",
      "| cgr(6.5 to 9) |     0.1953 |\n",
      "+---------------+------------+\n",
      "| cgr(<6.5)     |     0.2706 |\n",
      "+---------------+------------+\n",
      "| cgr(>9)       |     0.5342 |\n",
      "+---------------+------------+\n"
     ]
    }
   ],
   "source": [
    "print(infer.query(['cgr'], evidence = {'pr' : '6 to 6.5'}))"
   ]
  },
  {
   "cell_type": "code",
   "execution_count": 213,
   "id": "57191ae5",
   "metadata": {},
   "outputs": [
    {
     "name": "stdout",
     "output_type": "stream",
     "text": [
      "+-----------------+--------------+\n",
      "| gdpgr           |   phi(gdpgr) |\n",
      "+=================+==============+\n",
      "| gdpgr(0 to 2)   |       0.0211 |\n",
      "+-----------------+--------------+\n",
      "| gdpgr(2 to 4)   |       0.0837 |\n",
      "+-----------------+--------------+\n",
      "| gdpgr(4 to 4.5) |       0.0717 |\n",
      "+-----------------+--------------+\n",
      "| gdpgr(4.5 to 5) |       0.1957 |\n",
      "+-----------------+--------------+\n",
      "| gdpgr(5 to 5.5) |       0.0812 |\n",
      "+-----------------+--------------+\n",
      "| gdpgr(5.5 to 6) |       0.0510 |\n",
      "+-----------------+--------------+\n",
      "| gdpgr(6 to 6.5) |       0.0422 |\n",
      "+-----------------+--------------+\n",
      "| gdpgr(6.5 to 7) |       0.0644 |\n",
      "+-----------------+--------------+\n",
      "| gdpgr(7 to 7.5) |       0.1140 |\n",
      "+-----------------+--------------+\n",
      "| gdpgr(7.5 to 8) |       0.1098 |\n",
      "+-----------------+--------------+\n",
      "| gdpgr(8 to 8.5) |       0.0461 |\n",
      "+-----------------+--------------+\n",
      "| gdpgr(8.5 to 9) |       0.0510 |\n",
      "+-----------------+--------------+\n",
      "| gdpgr(<=0)      |       0.0211 |\n",
      "+-----------------+--------------+\n",
      "| gdpgr(>9)       |       0.0470 |\n",
      "+-----------------+--------------+\n"
     ]
    }
   ],
   "source": [
    "print(infer.query(['gdpgr'], evidence = {'pr' : '6 to 6.5', 'cgr' : '>9'}))"
   ]
  },
  {
   "cell_type": "code",
   "execution_count": 214,
   "id": "75012b78",
   "metadata": {},
   "outputs": [
    {
     "data": {
      "application/vnd.jupyter.widget-view+json": {
       "model_id": "7abfe0b8ea1249f9b2a96a4507f0ad83",
       "version_major": 2,
       "version_minor": 0
      },
      "text/plain": [
       "  0%|          | 0/5 [00:00<?, ?it/s]"
      ]
     },
     "metadata": {},
     "output_type": "display_data"
    },
    {
     "data": {
      "application/vnd.jupyter.widget-view+json": {
       "model_id": "1f775ca3e4da4cd187016e3777c5dd45",
       "version_major": 2,
       "version_minor": 0
      },
      "text/plain": [
       "  0%|          | 0/5 [00:00<?, ?it/s]"
      ]
     },
     "metadata": {},
     "output_type": "display_data"
    },
    {
     "name": "stdout",
     "output_type": "stream",
     "text": [
      "{'gdpgr': '4.5 to 5'}\n"
     ]
    }
   ],
   "source": [
    "print(infer.map_query(['gdpgr'], evidence = {'pr' : '6 to 6.5', 'cgr' : '>9'}))"
   ]
  },
  {
   "cell_type": "code",
   "execution_count": 215,
   "id": "3d824e27",
   "metadata": {},
   "outputs": [
    {
     "name": "stdout",
     "output_type": "stream",
     "text": [
      "+-------------+------------+\n",
      "| cpi         |   phi(cpi) |\n",
      "+=============+============+\n",
      "| cpi(2 to 6) |     0.6054 |\n",
      "+-------------+------------+\n",
      "| cpi(<2)     |     0.2653 |\n",
      "+-------------+------------+\n",
      "| cpi(>6)     |     0.1293 |\n",
      "+-------------+------------+\n"
     ]
    }
   ],
   "source": [
    "print(infer.query(['cpi'], evidence = {'pr' : '6 to 6.5', 'cgr' : '>9', 'gdpgr' : '4.5 to 5'}))"
   ]
  },
  {
   "cell_type": "code",
   "execution_count": 216,
   "id": "c977ea69",
   "metadata": {},
   "outputs": [
    {
     "name": "stdout",
     "output_type": "stream",
     "text": [
      "+---------------+------------+\n",
      "| cgr           |   phi(cgr) |\n",
      "+===============+============+\n",
      "| cgr(6.5 to 9) |     0.1808 |\n",
      "+---------------+------------+\n",
      "| cgr(<6.5)     |     0.0282 |\n",
      "+---------------+------------+\n",
      "| cgr(>9)       |     0.7910 |\n",
      "+---------------+------------+\n"
     ]
    }
   ],
   "source": [
    "print(infer.query(['cgr'], evidence = {'pr' : '6.5 to 7.0'}))"
   ]
  },
  {
   "cell_type": "code",
   "execution_count": 219,
   "id": "5adbd643",
   "metadata": {},
   "outputs": [
    {
     "data": {
      "application/vnd.jupyter.widget-view+json": {
       "model_id": "2abaee83320e47a2b47b3b5fab76e395",
       "version_major": 2,
       "version_minor": 0
      },
      "text/plain": [
       "  0%|          | 0/5 [00:00<?, ?it/s]"
      ]
     },
     "metadata": {},
     "output_type": "display_data"
    },
    {
     "data": {
      "application/vnd.jupyter.widget-view+json": {
       "model_id": "e3babc33567e43aba04b55a78513be2a",
       "version_major": 2,
       "version_minor": 0
      },
      "text/plain": [
       "  0%|          | 0/5 [00:00<?, ?it/s]"
      ]
     },
     "metadata": {},
     "output_type": "display_data"
    },
    {
     "name": "stdout",
     "output_type": "stream",
     "text": [
      "{'gdpgr': '8 to 8.5'}\n"
     ]
    }
   ],
   "source": [
    "print(infer.map_query(['gdpgr'], evidence = {'pr' : '6.5 to 7.0', 'cgr' : '>9'}))"
   ]
  },
  {
   "cell_type": "code",
   "execution_count": 220,
   "id": "f379109d",
   "metadata": {},
   "outputs": [
    {
     "name": "stdout",
     "output_type": "stream",
     "text": [
      "+-------------+------------+\n",
      "| cpi         |   phi(cpi) |\n",
      "+=============+============+\n",
      "| cpi(2 to 6) |     0.4144 |\n",
      "+-------------+------------+\n",
      "| cpi(<2)     |     0.2928 |\n",
      "+-------------+------------+\n",
      "| cpi(>6)     |     0.2928 |\n",
      "+-------------+------------+\n"
     ]
    }
   ],
   "source": [
    "print(infer.query(['cpi'], evidence = {'pr' : '6.5 to 7.0', 'cgr' : '>9', 'gdpgr': '8 to 8.5'}))"
   ]
  },
  {
   "cell_type": "code",
   "execution_count": 222,
   "id": "094a8e4d",
   "metadata": {},
   "outputs": [
    {
     "name": "stdout",
     "output_type": "stream",
     "text": [
      "+---------------+------------+\n",
      "| cgr           |   phi(cgr) |\n",
      "+===============+============+\n",
      "| cgr(6.5 to 9) |     0.4216 |\n",
      "+---------------+------------+\n",
      "| cgr(<6.5)     |     0.0245 |\n",
      "+---------------+------------+\n",
      "| cgr(>9)       |     0.5539 |\n",
      "+---------------+------------+\n"
     ]
    }
   ],
   "source": [
    "print(infer.query(['cgr'], evidence = {'pr' : '7.0 to 7.5'}))"
   ]
  },
  {
   "cell_type": "code",
   "execution_count": 223,
   "id": "e27bbc42",
   "metadata": {},
   "outputs": [
    {
     "data": {
      "application/vnd.jupyter.widget-view+json": {
       "model_id": "4dcd9cb46d9649968782de4b11a671dc",
       "version_major": 2,
       "version_minor": 0
      },
      "text/plain": [
       "  0%|          | 0/5 [00:00<?, ?it/s]"
      ]
     },
     "metadata": {},
     "output_type": "display_data"
    },
    {
     "data": {
      "application/vnd.jupyter.widget-view+json": {
       "model_id": "8f8ae9c2435248d2ad96a3a8d501f964",
       "version_major": 2,
       "version_minor": 0
      },
      "text/plain": [
       "  0%|          | 0/5 [00:00<?, ?it/s]"
      ]
     },
     "metadata": {},
     "output_type": "display_data"
    },
    {
     "name": "stdout",
     "output_type": "stream",
     "text": [
      "{'gdpgr': '8 to 8.5'}\n"
     ]
    }
   ],
   "source": [
    "print(infer.map_query(['gdpgr'], evidence = {'pr' : '7.0 to 7.5', 'cgr' : '>9'}))"
   ]
  },
  {
   "cell_type": "code",
   "execution_count": 224,
   "id": "67f60d4c",
   "metadata": {},
   "outputs": [
    {
     "name": "stdout",
     "output_type": "stream",
     "text": [
      "+-------------+------------+\n",
      "| cpi         |   phi(cpi) |\n",
      "+=============+============+\n",
      "| cpi(2 to 6) |     0.5832 |\n",
      "+-------------+------------+\n",
      "| cpi(<2)     |     0.2084 |\n",
      "+-------------+------------+\n",
      "| cpi(>6)     |     0.2084 |\n",
      "+-------------+------------+\n"
     ]
    }
   ],
   "source": [
    "print(infer.query(['cpi'], evidence = {'pr' : '7.0 to 7.5', 'cgr' : '>9', 'gdpgr': '8 to 8.5'}))"
   ]
  },
  {
   "cell_type": "code",
   "execution_count": 225,
   "id": "9b279993",
   "metadata": {},
   "outputs": [
    {
     "data": {
      "text/plain": [
       "8.524474568362947"
      ]
     },
     "execution_count": 225,
     "metadata": {},
     "output_type": "execute_result"
    }
   ],
   "source": [
    "crdtt = np.array([60,41,58])\n",
    "crdtt.std()"
   ]
  },
  {
   "cell_type": "code",
   "execution_count": 226,
   "id": "7ea774cf",
   "metadata": {},
   "outputs": [
    {
     "data": {
      "text/plain": [
       "6.944222218666553"
      ]
     },
     "execution_count": 226,
     "metadata": {},
     "output_type": "execute_result"
    }
   ],
   "source": [
    "np.array([12,29,20]).std()"
   ]
  },
  {
   "cell_type": "code",
   "execution_count": 228,
   "id": "aa61d00a",
   "metadata": {},
   "outputs": [
    {
     "name": "stdout",
     "output_type": "stream",
     "text": [
      "+----------------+--------------+\n",
      "| astgr          |   phi(astgr) |\n",
      "+================+==============+\n",
      "| astgr(2 to 10) |       0.3327 |\n",
      "+----------------+--------------+\n",
      "| astgr(<2)      |       0.1640 |\n",
      "+----------------+--------------+\n",
      "| astgr(>10)     |       0.5033 |\n",
      "+----------------+--------------+\n"
     ]
    }
   ],
   "source": [
    "print(infer.query(['astgr'], evidence = {'pr' : '6 to 6.5'}))"
   ]
  },
  {
   "cell_type": "code",
   "execution_count": 230,
   "id": "08c58fbd",
   "metadata": {},
   "outputs": [
    {
     "data": {
      "application/vnd.jupyter.widget-view+json": {
       "model_id": "520fe30f50fa45aaa8896d30c4671e77",
       "version_major": 2,
       "version_minor": 0
      },
      "text/plain": [
       "  0%|          | 0/5 [00:00<?, ?it/s]"
      ]
     },
     "metadata": {},
     "output_type": "display_data"
    },
    {
     "data": {
      "application/vnd.jupyter.widget-view+json": {
       "model_id": "549d045672c4491ab32169f48ed673f3",
       "version_major": 2,
       "version_minor": 0
      },
      "text/plain": [
       "  0%|          | 0/5 [00:00<?, ?it/s]"
      ]
     },
     "metadata": {},
     "output_type": "display_data"
    },
    {
     "name": "stdout",
     "output_type": "stream",
     "text": [
      "{'gdpgr': '7 to 7.5'}\n"
     ]
    }
   ],
   "source": [
    "print(infer.map_query(['gdpgr'], evidence = {'pr' : '6 to 6.5', 'astgr' : '>10'}))"
   ]
  },
  {
   "cell_type": "code",
   "execution_count": 231,
   "id": "a36a1415",
   "metadata": {},
   "outputs": [
    {
     "name": "stdout",
     "output_type": "stream",
     "text": [
      "+-------------+------------+\n",
      "| cpi         |   phi(cpi) |\n",
      "+=============+============+\n",
      "| cpi(2 to 6) |     0.4129 |\n",
      "+-------------+------------+\n",
      "| cpi(<2)     |     0.2935 |\n",
      "+-------------+------------+\n",
      "| cpi(>6)     |     0.2935 |\n",
      "+-------------+------------+\n"
     ]
    }
   ],
   "source": [
    "print(infer.query(['cpi'], evidence = {'pr' : '6 to 6.5', 'astgr' : '>10', 'gdpgr' : '7 to 7.5'}))"
   ]
  },
  {
   "cell_type": "code",
   "execution_count": 232,
   "id": "e15062a0",
   "metadata": {},
   "outputs": [
    {
     "name": "stdout",
     "output_type": "stream",
     "text": [
      "+----------------+--------------+\n",
      "| astgr          |   phi(astgr) |\n",
      "+================+==============+\n",
      "| astgr(2 to 10) |       0.0820 |\n",
      "+----------------+--------------+\n",
      "| astgr(<2)      |       0.6310 |\n",
      "+----------------+--------------+\n",
      "| astgr(>10)     |       0.2869 |\n",
      "+----------------+--------------+\n"
     ]
    }
   ],
   "source": [
    "print(infer.query(['astgr'], evidence = {'pr' : '6.5 to 7.0'}))"
   ]
  },
  {
   "cell_type": "code",
   "execution_count": 233,
   "id": "b93c5194",
   "metadata": {},
   "outputs": [
    {
     "name": "stdout",
     "output_type": "stream",
     "text": [
      "+-----------------+--------------+\n",
      "| gdpgr           |   phi(gdpgr) |\n",
      "+=================+==============+\n",
      "| gdpgr(0 to 2)   |       0.0288 |\n",
      "+-----------------+--------------+\n",
      "| gdpgr(2 to 4)   |       0.0392 |\n",
      "+-----------------+--------------+\n",
      "| gdpgr(4 to 4.5) |       0.0288 |\n",
      "+-----------------+--------------+\n",
      "| gdpgr(4.5 to 5) |       0.1077 |\n",
      "+-----------------+--------------+\n",
      "| gdpgr(5 to 5.5) |       0.0288 |\n",
      "+-----------------+--------------+\n",
      "| gdpgr(5.5 to 6) |       0.0288 |\n",
      "+-----------------+--------------+\n",
      "| gdpgr(6 to 6.5) |       0.0288 |\n",
      "+-----------------+--------------+\n",
      "| gdpgr(6.5 to 7) |       0.0288 |\n",
      "+-----------------+--------------+\n",
      "| gdpgr(7 to 7.5) |       0.0445 |\n",
      "+-----------------+--------------+\n",
      "| gdpgr(7.5 to 8) |       0.0445 |\n",
      "+-----------------+--------------+\n",
      "| gdpgr(8 to 8.5) |       0.2508 |\n",
      "+-----------------+--------------+\n",
      "| gdpgr(8.5 to 9) |       0.2024 |\n",
      "+-----------------+--------------+\n",
      "| gdpgr(<=0)      |       0.0476 |\n",
      "+-----------------+--------------+\n",
      "| gdpgr(>9)       |       0.0908 |\n",
      "+-----------------+--------------+\n"
     ]
    }
   ],
   "source": [
    "print(infer.query(['gdpgr'], evidence = {'pr' : '6.5 to 7.0', 'astgr' : '<2'}))"
   ]
  },
  {
   "cell_type": "code",
   "execution_count": 234,
   "id": "48d8cef6",
   "metadata": {},
   "outputs": [
    {
     "data": {
      "application/vnd.jupyter.widget-view+json": {
       "model_id": "ea66a08275c04506ae9d737f91cd1c71",
       "version_major": 2,
       "version_minor": 0
      },
      "text/plain": [
       "  0%|          | 0/5 [00:00<?, ?it/s]"
      ]
     },
     "metadata": {},
     "output_type": "display_data"
    },
    {
     "data": {
      "application/vnd.jupyter.widget-view+json": {
       "model_id": "b144db6f1cda4fb38a6597d6da79f52d",
       "version_major": 2,
       "version_minor": 0
      },
      "text/plain": [
       "  0%|          | 0/5 [00:00<?, ?it/s]"
      ]
     },
     "metadata": {},
     "output_type": "display_data"
    },
    {
     "name": "stdout",
     "output_type": "stream",
     "text": [
      "{'gdpgr': '8 to 8.5'}\n"
     ]
    }
   ],
   "source": [
    "print(infer.map_query(['gdpgr'], evidence = {'pr' : '6.5 to 7.0', 'astgr' : '<2'}))"
   ]
  },
  {
   "cell_type": "code",
   "execution_count": 235,
   "id": "13e36b39",
   "metadata": {},
   "outputs": [
    {
     "name": "stdout",
     "output_type": "stream",
     "text": [
      "+-------------+------------+\n",
      "| cpi         |   phi(cpi) |\n",
      "+=============+============+\n",
      "| cpi(2 to 6) |     0.3881 |\n",
      "+-------------+------------+\n",
      "| cpi(<2)     |     0.3059 |\n",
      "+-------------+------------+\n",
      "| cpi(>6)     |     0.3060 |\n",
      "+-------------+------------+\n"
     ]
    }
   ],
   "source": [
    "print(infer.query(['cpi'], evidence = {'pr' : '6.5 to 7.0', 'astgr' : '<2', 'gdpgr' : '8 to 8.5'}))"
   ]
  },
  {
   "cell_type": "code",
   "execution_count": 236,
   "id": "01b2c1cc",
   "metadata": {},
   "outputs": [
    {
     "name": "stdout",
     "output_type": "stream",
     "text": [
      "+----------------+--------------+\n",
      "| astgr          |   phi(astgr) |\n",
      "+================+==============+\n",
      "| astgr(2 to 10) |       0.3516 |\n",
      "+----------------+--------------+\n",
      "| astgr(<2)      |       0.2942 |\n",
      "+----------------+--------------+\n",
      "| astgr(>10)     |       0.3542 |\n",
      "+----------------+--------------+\n"
     ]
    }
   ],
   "source": [
    "print(infer.query(['astgr'], evidence = {'pr' : '7.0 to 7.5'}))"
   ]
  },
  {
   "cell_type": "code",
   "execution_count": 237,
   "id": "e211cef0",
   "metadata": {},
   "outputs": [
    {
     "data": {
      "application/vnd.jupyter.widget-view+json": {
       "model_id": "3b63894384004dc99a644a0dec66d2b0",
       "version_major": 2,
       "version_minor": 0
      },
      "text/plain": [
       "  0%|          | 0/3 [00:00<?, ?it/s]"
      ]
     },
     "metadata": {},
     "output_type": "display_data"
    },
    {
     "data": {
      "application/vnd.jupyter.widget-view+json": {
       "model_id": "eeae9d33fde8484bb68d057d0e0acd98",
       "version_major": 2,
       "version_minor": 0
      },
      "text/plain": [
       "  0%|          | 0/3 [00:00<?, ?it/s]"
      ]
     },
     "metadata": {},
     "output_type": "display_data"
    },
    {
     "name": "stdout",
     "output_type": "stream",
     "text": [
      "{'astgr': '>10'}\n"
     ]
    }
   ],
   "source": [
    "print(infer.map_query(['astgr'], evidence = {'pr' : '7.0 to 7.5'}))"
   ]
  },
  {
   "cell_type": "code",
   "execution_count": 238,
   "id": "910f79cb",
   "metadata": {},
   "outputs": [
    {
     "data": {
      "application/vnd.jupyter.widget-view+json": {
       "model_id": "b2646c49e92145c895fcc0f38282c968",
       "version_major": 2,
       "version_minor": 0
      },
      "text/plain": [
       "  0%|          | 0/5 [00:00<?, ?it/s]"
      ]
     },
     "metadata": {},
     "output_type": "display_data"
    },
    {
     "data": {
      "application/vnd.jupyter.widget-view+json": {
       "model_id": "8ed5d08d0844499b8285c6b884b27128",
       "version_major": 2,
       "version_minor": 0
      },
      "text/plain": [
       "  0%|          | 0/5 [00:00<?, ?it/s]"
      ]
     },
     "metadata": {},
     "output_type": "display_data"
    },
    {
     "name": "stdout",
     "output_type": "stream",
     "text": [
      "{'gdpgr': '6.5 to 7'}\n"
     ]
    }
   ],
   "source": [
    "print(infer.map_query(['gdpgr'], evidence = {'pr' : '7.0 to 7.5', 'astgr' : '>10'}))"
   ]
  },
  {
   "cell_type": "code",
   "execution_count": 239,
   "id": "9e52e310",
   "metadata": {},
   "outputs": [
    {
     "name": "stdout",
     "output_type": "stream",
     "text": [
      "+-------------+------------+\n",
      "| cpi         |   phi(cpi) |\n",
      "+=============+============+\n",
      "| cpi(2 to 6) |     0.5287 |\n",
      "+-------------+------------+\n",
      "| cpi(<2)     |     0.2357 |\n",
      "+-------------+------------+\n",
      "| cpi(>6)     |     0.2357 |\n",
      "+-------------+------------+\n"
     ]
    }
   ],
   "source": [
    "print(infer.query(['cpi'], evidence = {'pr' : '7.0 to 7.5', 'astgr' : '>10', 'gdpgr' : '6.5 to 7'}))"
   ]
  },
  {
   "cell_type": "code",
   "execution_count": 240,
   "id": "96761d1c",
   "metadata": {},
   "outputs": [
    {
     "data": {
      "text/plain": [
       "6.018490028422596"
      ]
     },
     "execution_count": 240,
     "metadata": {},
     "output_type": "execute_result"
    }
   ],
   "source": [
    "np.array([41, 38, 52]).std()"
   ]
  },
  {
   "cell_type": "code",
   "execution_count": 241,
   "id": "4de94679",
   "metadata": {},
   "outputs": [
    {
     "data": {
      "text/html": [
       "<div>\n",
       "<style scoped>\n",
       "    .dataframe tbody tr th:only-of-type {\n",
       "        vertical-align: middle;\n",
       "    }\n",
       "\n",
       "    .dataframe tbody tr th {\n",
       "        vertical-align: top;\n",
       "    }\n",
       "\n",
       "    .dataframe thead th {\n",
       "        text-align: right;\n",
       "    }\n",
       "</style>\n",
       "<table border=\"1\" class=\"dataframe\">\n",
       "  <thead>\n",
       "    <tr style=\"text-align: right;\">\n",
       "      <th></th>\n",
       "      <th>pr</th>\n",
       "      <th>wacr</th>\n",
       "      <th>rer</th>\n",
       "      <th>gpr</th>\n",
       "      <th>cpi</th>\n",
       "      <th>cgr</th>\n",
       "      <th>astgr</th>\n",
       "      <th>gdpgr</th>\n",
       "      <th>invgr</th>\n",
       "      <th>nxpgr</th>\n",
       "    </tr>\n",
       "    <tr>\n",
       "      <th>Date</th>\n",
       "      <th></th>\n",
       "      <th></th>\n",
       "      <th></th>\n",
       "      <th></th>\n",
       "      <th></th>\n",
       "      <th></th>\n",
       "      <th></th>\n",
       "      <th></th>\n",
       "      <th></th>\n",
       "      <th></th>\n",
       "    </tr>\n",
       "  </thead>\n",
       "  <tbody>\n",
       "    <tr>\n",
       "      <th>2015-01-01</th>\n",
       "      <td>7.5 to 8.0</td>\n",
       "      <td>&gt;7.10</td>\n",
       "      <td>&gt;4</td>\n",
       "      <td>&gt;15</td>\n",
       "      <td>2 to 6</td>\n",
       "      <td>&gt;9</td>\n",
       "      <td>&gt;10</td>\n",
       "      <td>6.5 to 7</td>\n",
       "      <td>&gt;10</td>\n",
       "      <td>&lt;=0</td>\n",
       "    </tr>\n",
       "    <tr>\n",
       "      <th>2015-02-01</th>\n",
       "      <td>7.5 to 8.0</td>\n",
       "      <td>&gt;7.10</td>\n",
       "      <td>&gt;4</td>\n",
       "      <td>&gt;15</td>\n",
       "      <td>2 to 6</td>\n",
       "      <td>6.5 to 9</td>\n",
       "      <td>&gt;10</td>\n",
       "      <td>7 to 7.5</td>\n",
       "      <td>&gt;10</td>\n",
       "      <td>&lt;=0</td>\n",
       "    </tr>\n",
       "    <tr>\n",
       "      <th>2015-03-01</th>\n",
       "      <td>7.0 to 7.5</td>\n",
       "      <td>&gt;7.10</td>\n",
       "      <td>&gt;4</td>\n",
       "      <td>&lt;0</td>\n",
       "      <td>2 to 6</td>\n",
       "      <td>&gt;9</td>\n",
       "      <td>&gt;10</td>\n",
       "      <td>7.5 to 8</td>\n",
       "      <td>&gt;10</td>\n",
       "      <td>0 to 12</td>\n",
       "    </tr>\n",
       "    <tr>\n",
       "      <th>2015-04-01</th>\n",
       "      <td>7.0 to 7.5</td>\n",
       "      <td>&gt;7.10</td>\n",
       "      <td>&gt;4</td>\n",
       "      <td>0 to 10</td>\n",
       "      <td>2 to 6</td>\n",
       "      <td>&gt;9</td>\n",
       "      <td>&gt;10</td>\n",
       "      <td>7.5 to 8</td>\n",
       "      <td>&gt;10</td>\n",
       "      <td>12 to 40</td>\n",
       "    </tr>\n",
       "    <tr>\n",
       "      <th>2015-05-01</th>\n",
       "      <td>7.0 to 7.5</td>\n",
       "      <td>&gt;7.10</td>\n",
       "      <td>&gt;4</td>\n",
       "      <td>&lt;0</td>\n",
       "      <td>2 to 6</td>\n",
       "      <td>&gt;9</td>\n",
       "      <td>&gt;10</td>\n",
       "      <td>8 to 8.5</td>\n",
       "      <td>&gt;10</td>\n",
       "      <td>0 to 12</td>\n",
       "    </tr>\n",
       "    <tr>\n",
       "      <th>...</th>\n",
       "      <td>...</td>\n",
       "      <td>...</td>\n",
       "      <td>...</td>\n",
       "      <td>...</td>\n",
       "      <td>...</td>\n",
       "      <td>...</td>\n",
       "      <td>...</td>\n",
       "      <td>...</td>\n",
       "      <td>...</td>\n",
       "      <td>...</td>\n",
       "    </tr>\n",
       "    <tr>\n",
       "      <th>2022-05-01</th>\n",
       "      <td>&lt;=4</td>\n",
       "      <td>&lt;5</td>\n",
       "      <td>2 to 4</td>\n",
       "      <td>&gt;15</td>\n",
       "      <td>&gt;6</td>\n",
       "      <td>&gt;9</td>\n",
       "      <td>2 to 10</td>\n",
       "      <td>7.5 to 8</td>\n",
       "      <td>5 to 10</td>\n",
       "      <td>&gt;40</td>\n",
       "    </tr>\n",
       "    <tr>\n",
       "      <th>2022-06-01</th>\n",
       "      <td>4.0 to 4.5</td>\n",
       "      <td>&lt;5</td>\n",
       "      <td>0 to 2</td>\n",
       "      <td>&gt;15</td>\n",
       "      <td>&gt;6</td>\n",
       "      <td>&gt;9</td>\n",
       "      <td>2 to 10</td>\n",
       "      <td>5 to 5.5</td>\n",
       "      <td>5 to 10</td>\n",
       "      <td>&gt;40</td>\n",
       "    </tr>\n",
       "    <tr>\n",
       "      <th>2022-07-01</th>\n",
       "      <td>4.5 to 5.0</td>\n",
       "      <td>5 to 5.30</td>\n",
       "      <td>0 to 2</td>\n",
       "      <td>&gt;15</td>\n",
       "      <td>&gt;6</td>\n",
       "      <td>&gt;9</td>\n",
       "      <td>2 to 10</td>\n",
       "      <td>5 to 5.5</td>\n",
       "      <td>5 to 10</td>\n",
       "      <td>&gt;40</td>\n",
       "    </tr>\n",
       "    <tr>\n",
       "      <th>2022-08-01</th>\n",
       "      <td>4.5 to 5.0</td>\n",
       "      <td>5 to 5.30</td>\n",
       "      <td>0 to 2</td>\n",
       "      <td>&gt;15</td>\n",
       "      <td>&gt;6</td>\n",
       "      <td>&gt;9</td>\n",
       "      <td>2 to 10</td>\n",
       "      <td>4.5 to 5</td>\n",
       "      <td>&gt;10</td>\n",
       "      <td>&gt;40</td>\n",
       "    </tr>\n",
       "    <tr>\n",
       "      <th>2022-09-01</th>\n",
       "      <td>5.0 to 5.5</td>\n",
       "      <td>5.30 to 5.60</td>\n",
       "      <td>0 to 2</td>\n",
       "      <td>&gt;15</td>\n",
       "      <td>&gt;6</td>\n",
       "      <td>&gt;9</td>\n",
       "      <td>&lt;2</td>\n",
       "      <td>4.5 to 5</td>\n",
       "      <td>5 to 10</td>\n",
       "      <td>12 to 40</td>\n",
       "    </tr>\n",
       "  </tbody>\n",
       "</table>\n",
       "<p>93 rows × 10 columns</p>\n",
       "</div>"
      ],
      "text/plain": [
       "                    pr          wacr     rer      gpr     cpi       cgr  \\\n",
       "Date                                                                      \n",
       "2015-01-01  7.5 to 8.0         >7.10      >4      >15  2 to 6        >9   \n",
       "2015-02-01  7.5 to 8.0         >7.10      >4      >15  2 to 6  6.5 to 9   \n",
       "2015-03-01  7.0 to 7.5         >7.10      >4       <0  2 to 6        >9   \n",
       "2015-04-01  7.0 to 7.5         >7.10      >4  0 to 10  2 to 6        >9   \n",
       "2015-05-01  7.0 to 7.5         >7.10      >4       <0  2 to 6        >9   \n",
       "...                ...           ...     ...      ...     ...       ...   \n",
       "2022-05-01         <=4            <5  2 to 4      >15      >6        >9   \n",
       "2022-06-01  4.0 to 4.5            <5  0 to 2      >15      >6        >9   \n",
       "2022-07-01  4.5 to 5.0     5 to 5.30  0 to 2      >15      >6        >9   \n",
       "2022-08-01  4.5 to 5.0     5 to 5.30  0 to 2      >15      >6        >9   \n",
       "2022-09-01  5.0 to 5.5  5.30 to 5.60  0 to 2      >15      >6        >9   \n",
       "\n",
       "              astgr     gdpgr    invgr     nxpgr  \n",
       "Date                                              \n",
       "2015-01-01      >10  6.5 to 7      >10       <=0  \n",
       "2015-02-01      >10  7 to 7.5      >10       <=0  \n",
       "2015-03-01      >10  7.5 to 8      >10   0 to 12  \n",
       "2015-04-01      >10  7.5 to 8      >10  12 to 40  \n",
       "2015-05-01      >10  8 to 8.5      >10   0 to 12  \n",
       "...             ...       ...      ...       ...  \n",
       "2022-05-01  2 to 10  7.5 to 8  5 to 10       >40  \n",
       "2022-06-01  2 to 10  5 to 5.5  5 to 10       >40  \n",
       "2022-07-01  2 to 10  5 to 5.5  5 to 10       >40  \n",
       "2022-08-01  2 to 10  4.5 to 5      >10       >40  \n",
       "2022-09-01       <2  4.5 to 5  5 to 10  12 to 40  \n",
       "\n",
       "[93 rows x 10 columns]"
      ]
     },
     "execution_count": 241,
     "metadata": {},
     "output_type": "execute_result"
    }
   ],
   "source": [
    "df"
   ]
  },
  {
   "cell_type": "code",
   "execution_count": null,
   "id": "54d9abf9",
   "metadata": {},
   "outputs": [],
   "source": []
  }
 ],
 "metadata": {
  "kernelspec": {
   "display_name": "Python 3",
   "language": "python",
   "name": "python3"
  },
  "language_info": {
   "codemirror_mode": {
    "name": "ipython",
    "version": 3
   },
   "file_extension": ".py",
   "mimetype": "text/x-python",
   "name": "python",
   "nbconvert_exporter": "python",
   "pygments_lexer": "ipython3",
   "version": "3.8.8"
  }
 },
 "nbformat": 4,
 "nbformat_minor": 5
}
